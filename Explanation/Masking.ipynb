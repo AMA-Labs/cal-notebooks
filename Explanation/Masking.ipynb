{
 "cells": [
  {
   "cell_type": "markdown",
   "id": "1939a52c-9d9a-431a-a29f-008e32cc84d4",
   "metadata": {},
   "source": [
    "Explain what masking is"
   ]
  },
  {
   "cell_type": "markdown",
   "id": "43cd1e0d-6710-417b-83be-20cfdce44779",
   "metadata": {},
   "source": [
    "Explain the purpose of masking"
   ]
  },
  {
   "cell_type": "markdown",
   "id": "14e286f9-56c1-4ba2-b016-7f687d8190ee",
   "metadata": {},
   "source": [
    "Provide a few examples of masking out land and water"
   ]
  },
  {
   "cell_type": "markdown",
   "id": "2f30fd62-8558-4810-a886-71c8fdabbb50",
   "metadata": {
    "tags": []
   },
   "source": [
    "Explain how it works"
   ]
  },
  {
   "cell_type": "markdown",
   "id": "0ce3d960-22b5-4484-af70-927b4fecc1df",
   "metadata": {},
   "source": [
    "Refer the reader to notebooks explaining the available masks for each product"
   ]
  },
  {
   "cell_type": "code",
   "execution_count": null,
   "id": "e21bcf57-4625-454b-83cf-33aed81c63b6",
   "metadata": {},
   "outputs": [],
   "source": []
  }
 ],
 "metadata": {
  "kernelspec": {
   "display_name": "Python 3 (ipykernel)",
   "language": "python",
   "name": "python3"
  },
  "language_info": {
   "codemirror_mode": {
    "name": "ipython",
    "version": 3
   },
   "file_extension": ".py",
   "mimetype": "text/x-python",
   "name": "python",
   "nbconvert_exporter": "python",
   "pygments_lexer": "ipython3",
   "version": "3.10.12"
  }
 },
 "nbformat": 4,
 "nbformat_minor": 5
}
