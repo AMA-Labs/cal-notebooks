{
 "cells": [
  {
   "cell_type": "markdown",
   "id": "c53c83dd-2aac-429a-b2d1-cd35cdaca6be",
   "metadata": {},
   "source": [
    "What is a spectral product?"
   ]
  },
  {
   "cell_type": "markdown",
   "id": "ed324478-d251-45db-85e0-bc93e344e3ae",
   "metadata": {},
   "source": [
    "List out different kinds of spectral products. For each one, define it, show the mathematical equation, show a function defining it."
   ]
  },
  {
   "cell_type": "code",
   "execution_count": null,
   "id": "286cc2ca-cf41-470e-bd38-92ce45a2bd22",
   "metadata": {},
   "outputs": [],
   "source": []
  }
 ],
 "metadata": {
  "kernelspec": {
   "display_name": "Python 3 (ipykernel)",
   "language": "python",
   "name": "python3"
  },
  "language_info": {
   "codemirror_mode": {
    "name": "ipython",
    "version": 3
   },
   "file_extension": ".py",
   "mimetype": "text/x-python",
   "name": "python",
   "nbconvert_exporter": "python",
   "pygments_lexer": "ipython3",
   "version": "3.10.12"
  }
 },
 "nbformat": 4,
 "nbformat_minor": 5
}
