{
 "cells": [
  {
   "cell_type": "markdown",
   "id": "eb1b1106",
   "metadata": {
    "tags": [
     "cal.header"
    ]
   },
   "source": [
    "<link rel=\"stylesheet\" href=\"https://use.typekit.net/dvn1law.css\">\n",
    "<style>        \n",
    "@font-face {\n",
    "font-family:\"futura-pt-bold\";\n",
    "src:url(\"https://use.typekit.net/af/053fc9/00000000000000003b9af1e4/27/l?primer=7cdcb44be4a7db8877ffa5c0007b8dd865b3bbc383831fe2ea177f62257a9191&fvd=n7&v=3\") format(\"woff2\"),url(\"https://use.typekit.net/af/053fc9/00000000000000003b9af1e4/27/d?primer=7cdcb44be4a7db8877ffa5c0007b8dd865b3bbc383831fe2ea177f62257a9191&fvd=n7&v=3\") format(\"woff\"),url(\"https://use.typekit.net/af/053fc9/00000000000000003b9af1e4/27/a?primer=7cdcb44be4a7db8877ffa5c0007b8dd865b3bbc383831fe2ea177f62257a9191&fvd=n7&v=3\") format(\"opentype\");\n",
    "font-display:auto;font-style:normal;font-weight:700;font-stretch:normal;\n",
    "}\n",
    "</style>\n",
    "<div style=\"display: flex; margin: 0px; padding-top: 1.5rem; padding-bottom: 1.5rem; font-family: futura-pt, 'Tahoma', 'Segoe UI', Geneva, Verdana, sans-serif;\">\n",
    "    <span style=\"margin-right: 15px; padding-right: 2rem; background-color: #3b6d48;\"></span>\n",
    "    <div style=\"margin-bottom: auto; margin-top: auto; margin-right: auto; padding-right: 15px;\">\n",
    "        <div style=\"margin: 0; padding-top: 0.2rem; padding-bottom: 3.3rem; letter-spacing: 0.15rem; color: #a6ce37; font-weight: bold; font-size: 3rem; font: futura-pt-bold\"> CEOS Analytics Lab</div>\n",
    "        <div style=\"margin: 0; color: #469ab9; font-weight: bold; font-size: 1.5rem;\">Welcome to the CEOS Analytics Lab!</div>\n",
    "        <div style=\"margin: 0; padding-bottom: 0.2rem; color: #474c38; font-size: 1.25rem;\"><span>Tutorial</span><span>| </span><span style=\"color: #3b6d48; font-weight: bold;\">Cleaning Data</span></div>\n",
    "        <hr style=\"border: 1px solid #474c38;\">\n",
    "    </div>\n",
    "    <div style=\"margin-top: auto; margin-bottom: auto; margin-left: auto; padding-left: 15px;\">\n",
    "        <div><img style=\"vertical-align: middle; padding: 0.5rem; width: 300px; height: auto;\" src=\"https://ceos.org/document_management/Communications/CEOS-Logos/CEOS_logo_colour_no_text-small.png\" /></div>\n",
    "    </div>\n",
    "</div>"
   ]
  },
  {
   "cell_type": "markdown",
   "id": "0edf4a0f-3a5f-4903-a842-d58835386979",
   "metadata": {},
   "source": [
    "# Introduction\n",
    "\n",
    "In this tutorial we will clean Landsat 8 data and display a median mosaic of the cleaned dataset. "
   ]
  },
  {
   "cell_type": "markdown",
   "id": "0846afa1-0257-457b-a441-c3db0798d542",
   "metadata": {},
   "source": [
    "# Tutorial"
   ]
  },
  {
   "cell_type": "markdown",
   "id": "de61f9f6-cabb-4b1f-ba15-169b713fd9c6",
   "metadata": {},
   "source": [
    "## Import Dependencies and Configure EASI\n",
    "\n",
    "Begin by initializing CAL. Initializing CAL provides access to large library of convenience utilities that greatly simplify data analysis. After running this cell the output will show \"Successfully found configuration for deployment 'eail'\"."
   ]
  },
  {
   "cell_type": "code",
   "execution_count": null,
   "id": "20b05270-3dde-4c41-bf2a-416bec9cddda",
   "metadata": {
    "tags": []
   },
   "outputs": [],
   "source": [
    "import sys, os\n",
    "sys.path.append(os.path.expanduser('~/cal-notebooks/scripts'))\n",
    "os.environ['USE_PYGEOS'] = '0'\n",
    "\n",
    "### EASI tools\n",
    "from easi_tools import EasiDefaults\n",
    "from easi_tools import notebook_utils\n",
    "easi = EasiDefaults() # Get the default parameters for this system"
   ]
  },
  {
   "cell_type": "markdown",
   "id": "291a90d3-8bb7-4eed-ab81-c84ee3a59ec2",
   "metadata": {},
   "source": [
    "## Select Area of Interest\n",
    "\n",
    "Next, define the area of interest and display it on a map. Showing a map is a good first step in any notebook as it helps both us (the writers) and the readers visualize the area of interest. Notice the use of CAL's default area of interest and the convenience utility for displaying the map."
   ]
  },
  {
   "cell_type": "code",
   "execution_count": null,
   "id": "399c6fa5-ce30-4b76-9222-dcb5f2ae6a9e",
   "metadata": {
    "tags": []
   },
   "outputs": [],
   "source": [
    "latitude = easi.latitude\n",
    "longitude = easi.longitude\n",
    "\n",
    "from dea_tools.plotting import display_map\n",
    "display_map(longitude, latitude)"
   ]
  },
  {
   "cell_type": "markdown",
   "id": "4d6d8e24-beae-403d-b476-9beb9914b4a8",
   "metadata": {},
   "source": [
    "## Load Data\n",
    "\n",
    "Now load the data. This may take some time. When the data is finished loading, you will see a summary of the dataset."
   ]
  },
  {
   "cell_type": "code",
   "execution_count": null,
   "id": "3392c2b0-7bae-4aba-a698-348aa7d1d65f",
   "metadata": {
    "tags": []
   },
   "outputs": [],
   "source": [
    "from datacube.utils.aws import configure_s3_access\n",
    "configure_s3_access(aws_unsigned=False, requester_pays=True)\n",
    "\n",
    "import datacube\n",
    "dc = datacube.Datacube()\n",
    "landsat_dataset = dc.load(latitude = latitude,\n",
    "                          longitude = longitude,\n",
    "                          time = ('2021-01-01', '2021-01-31'),\n",
    "                          product = 'landsat8_c2l2_sr',\n",
    "                          measurements = ['red', 'green', 'blue', 'nir', 'swir1', 'swir2', 'pixel_qa'],\n",
    "                          output_crs = 'EPSG:6933',\n",
    "                          resolution = (-30,30),\n",
    "                         ) \n",
    "landsat_dataset"
   ]
  },
  {
   "cell_type": "markdown",
   "id": "e1aec843-d769-45ed-be8f-6e855917a673",
   "metadata": {},
   "source": [
    "## Clean the data\n",
    "\n",
    "Next, clean the data. Here, we again see the use of a CAL convenience utility for cleaning data. Data must be cleaned prior to performing any analysis so that invalid or unneeded data doesn't impact the results."
   ]
  },
  {
   "cell_type": "code",
   "execution_count": null,
   "id": "d76c7059-06ff-4dd1-be8b-d045572bcb30",
   "metadata": {
    "tags": []
   },
   "outputs": [],
   "source": [
    "from datacube.utils import masking\n",
    "clean_mask = masking.make_mask(landsat_dataset['pixel_qa'], clear='clear')\n",
    "cleaned_landsat_dataset = landsat_dataset.where(clean_mask)\n",
    "cleaned_landsat_dataset"
   ]
  },
  {
   "cell_type": "markdown",
   "id": "459cff9e-c975-485a-9303-5e0d830e6e78",
   "metadata": {},
   "source": [
    "## Create mosaic\n",
    "\n",
    "After we have cleaned the data, we create a median mosaic."
   ]
  },
  {
   "cell_type": "code",
   "execution_count": null,
   "id": "5a1d56a5-f927-46f2-b88b-2e5cb3ad8a27",
   "metadata": {
    "tags": []
   },
   "outputs": [],
   "source": [
    "from odc.algo import to_f32\n",
    "from ceos_utils.data_cube_utilities.dc_mosaic import create_median_mosaic\n",
    "landsat_composite = to_f32(create_median_mosaic(cleaned_landsat_dataset, clean_mask), scale=0.0000275, offset=0.2)\n",
    "landsat_composite"
   ]
  },
  {
   "cell_type": "markdown",
   "id": "83308303-fc76-4544-b35e-41266af72ae8",
   "metadata": {},
   "source": [
    "## Display Results\n",
    "\n",
    "Finally, display the mosaic. We have chosen a Landsat 8 band combination commonly used to vizualize urban areas."
   ]
  },
  {
   "cell_type": "code",
   "execution_count": null,
   "id": "2fe85cac-170f-44f1-bc62-78e5faac04ab",
   "metadata": {
    "tags": []
   },
   "outputs": [],
   "source": [
    "from dea_tools.plotting import rgb\n",
    "rgb(landsat_composite, ['swir2', 'swir1', 'red'])"
   ]
  },
  {
   "cell_type": "markdown",
   "id": "d8066015-1b5b-4974-9312-33a3135cdb8f",
   "metadata": {},
   "source": [
    "## Conclusion\n",
    "\n",
    "You have successfully cleaned Landsat 8 data and used it to display a median mosaic"
   ]
  },
  {
   "cell_type": "markdown",
   "id": "7e4ee749-0827-4029-a52e-ecd7649f5069",
   "metadata": {},
   "source": [
    "# Learn More\n",
    "\n",
    "For more information, see the following\n",
    "\n",
    "- The CAL Environment\n",
    "- CAL Utilities\n",
    "- EASI\n",
    "- Loading data using ODC\n",
    "- Data Cleaning Explained\n",
    "- Pixel Compositors\n",
    "- Landsat 8 Band Combinations"
   ]
  },
  {
   "cell_type": "code",
   "execution_count": null,
   "id": "b8570ef1-9d98-4e22-95f5-5b1c094025a8",
   "metadata": {
    "tags": []
   },
   "outputs": [],
   "source": [
    "import odc.algo\n",
    "odc.algo.__file__"
   ]
  },
  {
   "cell_type": "code",
   "execution_count": null,
   "id": "7bb9e92d-bfb2-4e84-8f49-8a6492d99fe0",
   "metadata": {
    "tags": []
   },
   "outputs": [],
   "source": [
    "!ls /env/lib/python3.10/site-packages/odc"
   ]
  },
  {
   "cell_type": "code",
   "execution_count": null,
   "id": "3202b5a2-b68b-469d-9141-da14a3d617c2",
   "metadata": {},
   "outputs": [],
   "source": []
  }
 ],
 "metadata": {
  "cal": {
   "category": "Tutorial",
   "title": "Cleaning Data"
  },
  "kernelspec": {
   "display_name": "Python 3 (ipykernel)",
   "language": "python",
   "name": "python3"
  },
  "language_info": {
   "codemirror_mode": {
    "name": "ipython",
    "version": 3
   },
   "file_extension": ".py",
   "mimetype": "text/x-python",
   "name": "python",
   "nbconvert_exporter": "python",
   "pygments_lexer": "ipython3",
   "version": "3.10.12"
  }
 },
 "nbformat": 4,
 "nbformat_minor": 5
}
