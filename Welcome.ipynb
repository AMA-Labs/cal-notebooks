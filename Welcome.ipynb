{
 "cells": [
  {
   "cell_type": "markdown",
   "metadata": {
    "tags": []
   },
   "source": [
    "<link rel=\"stylesheet\" href=\"https://use.typekit.net/dvn1law.css\">\n",
    "<style>        \n",
    "@font-face {\n",
    "font-family:\"futura-pt-bold\";\n",
    "src:url(\"https://use.typekit.net/af/053fc9/00000000000000003b9af1e4/27/l?primer=7cdcb44be4a7db8877ffa5c0007b8dd865b3bbc383831fe2ea177f62257a9191&fvd=n7&v=3\") format(\"woff2\"),url(\"https://use.typekit.net/af/053fc9/00000000000000003b9af1e4/27/d?primer=7cdcb44be4a7db8877ffa5c0007b8dd865b3bbc383831fe2ea177f62257a9191&fvd=n7&v=3\") format(\"woff\"),url(\"https://use.typekit.net/af/053fc9/00000000000000003b9af1e4/27/a?primer=7cdcb44be4a7db8877ffa5c0007b8dd865b3bbc383831fe2ea177f62257a9191&fvd=n7&v=3\") format(\"opentype\");\n",
    "font-display:auto;font-style:normal;font-weight:700;font-stretch:normal;\n",
    "}\n",
    "</style>\n",
    "<div style=\"display: flex; margin: 0px; padding-top: 1.5rem; padding-bottom: 1.5rem; font-family: futura-pt, 'Tahoma', 'Segoe UI', Geneva, Verdana, sans-serif;\">\n",
    "    <span style=\"margin-right: 15px; padding-right: 2rem; background-color: #3b6d48;\"></span>\n",
    "    <div style=\"margin-bottom: auto; margin-top: auto; margin-right: auto; padding-right: 15px;\">\n",
    "        <div style=\"margin: 0; padding-top: 0.2rem; padding-bottom: 3.3rem; letter-spacing: 0.15rem; color: #a6ce37; font-weight: bold; font-size: 3rem; font: futura-pt-bold\"> CEOS Analytics Lab</div>\n",
    "        <div style=\"margin: 0; color: #469ab9; font-weight: bold; font-size: 1.5rem;\">Welcome to the CEOS Analytics Lab!</div>\n",
    "        <div style=\"margin: 0; padding-bottom: 0.2rem; color: #474c38; font-size: 1.25rem;\">Introduction and Overview| <span style=\"color: #3b6d48; font-weight: bold;\">The Open Data Cube and Available Products</span></div>\n",
    "        <hr style=\"border: 1px solid #474c38;\">\n",
    "    </div>\n",
    "    <div style=\"margin-top: auto; margin-bottom: auto; margin-left: auto; padding-left: 15px;\">\n",
    "        <div><img style=\"vertical-align: middle; padding: 0.5rem; width: 300px; height: auto;\" src=\"https://ceos.org/document_management/Communications/CEOS-Logos/CEOS-Logo-Version-1_Green-No-Text_2021.png\" /></div>\n",
    "    </div>\n",
    "</div>\n",
    "\n",
    "\n",
    "#### What is the CEOS Analytics Lab?\n",
    "The CEOS Analytics Lab (CAL) provides a scalable analysis environment built to analyze years of Earth observation (EO) data. CAL is powered by CSIRO's EASI platform and is built with the Open Data Cube.\n",
    "\n",
    "We aim to help CEOS initiatives by providing researchers with preconfigured enviroments and easily accessible EO data through the platform. To learn more, please visit our documentation - [COMING SOON]\n",
    "\n",
    "#### Before you start...\n",
    "\n",
    "It is recommended that you read through the next few sections. These will cover:\n",
    "\n",
    "1. What is a Datacube? \n",
    "2. Adding new example notebooks\n",
    "3. What datasets are availble through CAL? "
   ]
  },
  {
   "cell_type": "markdown",
   "metadata": {},
   "source": [
    "<div class=\"alert alert-block alert-info\" style=\"background-color:color-mix(in srgb, #a6ce37 30%, transparent); border-color: #a6ce37\"\">\n",
    "If you are already experienced with Earth observation research or analysis, feel free to skip these sections. "
   ]
  },
  {
   "cell_type": "markdown",
   "metadata": {},
   "source": [
    "#### What is a Data Cube?\n",
    "\n",
    "A *data cube* is a \"multi-dimensional array of values\" and in the case of EO commonly used to refer to a store of time series of imagery. (see: [Wikipedia](https://en.wikipedia.org/wiki/Data_cube)) Imagery is not the only type of data a data cube may contain, however. It is a convenient way to access many other types of rasterized data such as DEMs, land cover maps, and synthetic aperature radar. Since a data cube simplifies access to the timeseries data once constructed, some may refer to the *data cube* as a \"Data Management and Analysis Platform.\" In our context, the term *data cube* can be used synonymously with either definition. \n",
    "\n",
    "CAl is built with the Open Data Cube project to simplify access to the various datasets in the notebooks.(see: [Open Data Cube](https://www.opendatacube.org/)) \n",
    "\n",
    "<img width=\"300\" src=\"https://va-cube-images.s3.amazonaws.com/ODC_logo_hor.png\">\n",
    "\n",
    "In the Open Data Cube*Products* are large multivariate datasets containing containing collections of Earth observation satellite imagery. These are differentiated by time, location, and types of spectral band measurements. These images can either be raw images from satellite sensors, or they can be generated through image analysis. "
   ]
  },
  {
   "cell_type": "markdown",
   "metadata": {
    "tags": []
   },
   "source": [
    "#### Adding Example Notebooks\n",
    "Your file browser at the left may be looking a bit empty if this is your first time logging in. To populate your enviroment with example notebooks we recomend starting by using git to clone the the example notebooks into your home directory. \n",
    "\n",
    "If you are unfamiliar with git, it is a distrubuted version control system that records changes to a file or set of files over time so that specific versions of files can be recalled, distributed, or reverted. The native git documentation is well written https://git-scm.com/doc and many other training materials are available such as https://try.github.io/ or https://www.datacamp.com/courses/introduction-to-git-for-data-science.\n",
    "\n",
    "To clone the example notebooks into your home directory run the cell bellow.\n",
    "\n",
    "* Click on the cell below and press \"Shift + Enter\", or the triangle button in the toolbar above."
   ]
  },
  {
   "cell_type": "code",
   "execution_count": 1,
   "metadata": {
    "tags": []
   },
   "outputs": [
    {
     "name": "stdout",
     "output_type": "stream",
     "text": [
      "fatal: destination path 'cal-notebooks' already exists and is not an empty directory.\n"
     ]
    }
   ],
   "source": [
    "!git clone https://github.com/AMA-Labs/cal-notebooks"
   ]
  },
  {
   "cell_type": "markdown",
   "metadata": {},
   "source": [
    "<div class=\"alert alert-block alert-info\" style=\"background-color:color-mix(in srgb, #a6ce37 30%, transparent); border-color: #a6ce37\">\n",
    "If you have already cloned the example notebooks there will be an error that the directory already exists"
   ]
  },
  {
   "cell_type": "markdown",
   "metadata": {
    "tags": []
   },
   "source": [
    "#### What products are in the Data Cube?\n",
    "Use the online [Explorer](https://explorer.cal.ceos.org/products) to view what products are available in the data cube with in depth information.\n",
    "This section provides a simple guide on basic usage and details of products indexed within the CEOS Analytics Lab. \n",
    "Those who are experienced with Earth observation analysis and Jupyter notebooks are free to interact with any of the indexed products using their own scripts and notebooks.\n",
    "\n",
    "* Click on the cell below and press \"Shift + Enter\", or the triangle button in the toolbar above. "
   ]
  },
  {
   "cell_type": "code",
   "execution_count": 1,
   "metadata": {
    "tags": []
   },
   "outputs": [
    {
     "data": {
      "text/html": [
       "<div>\n",
       "<style scoped>\n",
       "    .dataframe tbody tr th:only-of-type {\n",
       "        vertical-align: middle;\n",
       "    }\n",
       "\n",
       "    .dataframe tbody tr th {\n",
       "        vertical-align: top;\n",
       "    }\n",
       "\n",
       "    .dataframe thead th {\n",
       "        text-align: right;\n",
       "    }\n",
       "</style>\n",
       "<table border=\"1\" class=\"dataframe\">\n",
       "  <thead>\n",
       "    <tr style=\"text-align: right;\">\n",
       "      <th></th>\n",
       "      <th>name</th>\n",
       "      <th>description</th>\n",
       "      <th>license</th>\n",
       "      <th>default_crs</th>\n",
       "      <th>default_resolution</th>\n",
       "    </tr>\n",
       "    <tr>\n",
       "      <th>name</th>\n",
       "      <th></th>\n",
       "      <th></th>\n",
       "      <th></th>\n",
       "      <th></th>\n",
       "      <th></th>\n",
       "    </tr>\n",
       "  </thead>\n",
       "  <tbody>\n",
       "    <tr>\n",
       "      <th>copernicus_dem_30</th>\n",
       "      <td>copernicus_dem_30</td>\n",
       "      <td>Copernicus 30m Digital Elevation Model (GLO-30)</td>\n",
       "      <td>None</td>\n",
       "      <td>None</td>\n",
       "      <td>None</td>\n",
       "    </tr>\n",
       "    <tr>\n",
       "      <th>copernicus_dem_90</th>\n",
       "      <td>copernicus_dem_90</td>\n",
       "      <td>Copernicus 90m Digital Elevation Model (GLO-90)</td>\n",
       "      <td>None</td>\n",
       "      <td>None</td>\n",
       "      <td>None</td>\n",
       "    </tr>\n",
       "    <tr>\n",
       "      <th>landsat5_c2l2_sr</th>\n",
       "      <td>landsat5_c2l2_sr</td>\n",
       "      <td>Landsat 5 Collection 2 Level-2 Surface Reflect...</td>\n",
       "      <td>None</td>\n",
       "      <td>None</td>\n",
       "      <td>None</td>\n",
       "    </tr>\n",
       "    <tr>\n",
       "      <th>landsat5_c2l2_st</th>\n",
       "      <td>landsat5_c2l2_st</td>\n",
       "      <td>Landsat 5 Collection 2 Level-2 UTM Surface Tem...</td>\n",
       "      <td>CC-BY-4.0</td>\n",
       "      <td>None</td>\n",
       "      <td>None</td>\n",
       "    </tr>\n",
       "    <tr>\n",
       "      <th>landsat7_c2l2_sr</th>\n",
       "      <td>landsat7_c2l2_sr</td>\n",
       "      <td>Landsat 7 Collection 2 Level-2 Surface Reflect...</td>\n",
       "      <td>CC-BY-4.0</td>\n",
       "      <td>None</td>\n",
       "      <td>None</td>\n",
       "    </tr>\n",
       "    <tr>\n",
       "      <th>landsat7_c2l2_st</th>\n",
       "      <td>landsat7_c2l2_st</td>\n",
       "      <td>Landsat 7 Collection 2 Level-2 UTM Surface Tem...</td>\n",
       "      <td>CC-BY-4.0</td>\n",
       "      <td>None</td>\n",
       "      <td>None</td>\n",
       "    </tr>\n",
       "    <tr>\n",
       "      <th>landsat8_c2l2_sr</th>\n",
       "      <td>landsat8_c2l2_sr</td>\n",
       "      <td>Landsat 8 Collection 2 Level-2 Surface Reflect...</td>\n",
       "      <td>CC-BY-4.0</td>\n",
       "      <td>None</td>\n",
       "      <td>None</td>\n",
       "    </tr>\n",
       "    <tr>\n",
       "      <th>landsat8_c2l2_st</th>\n",
       "      <td>landsat8_c2l2_st</td>\n",
       "      <td>Landsat 8 Collection 2 Level-2 UTM Surface Tem...</td>\n",
       "      <td>CC-BY-4.0</td>\n",
       "      <td>None</td>\n",
       "      <td>None</td>\n",
       "    </tr>\n",
       "    <tr>\n",
       "      <th>landsat9_c2l2_sr</th>\n",
       "      <td>landsat9_c2l2_sr</td>\n",
       "      <td>Landsat 9 Collection 2 Level-2 Surface Reflect...</td>\n",
       "      <td>CC-BY-4.0</td>\n",
       "      <td>None</td>\n",
       "      <td>None</td>\n",
       "    </tr>\n",
       "    <tr>\n",
       "      <th>landsat9_c2l2_st</th>\n",
       "      <td>landsat9_c2l2_st</td>\n",
       "      <td>Landsat 9 Collection 2 Level-2 UTM Surface Tem...</td>\n",
       "      <td>CC-BY-4.0</td>\n",
       "      <td>None</td>\n",
       "      <td>None</td>\n",
       "    </tr>\n",
       "    <tr>\n",
       "      <th>lpdaac_nasadem</th>\n",
       "      <td>lpdaac_nasadem</td>\n",
       "      <td>NASADEM Merged DEM Global 1 arc second V001</td>\n",
       "      <td>None</td>\n",
       "      <td>None</td>\n",
       "      <td>None</td>\n",
       "    </tr>\n",
       "    <tr>\n",
       "      <th>palsar2_scansar_gamma0</th>\n",
       "      <td>palsar2_scansar_gamma0</td>\n",
       "      <td>ALOS-2 PALSAR-2 Level 2.2 GRD radiometric/geom...</td>\n",
       "      <td>CC-BY-4.0</td>\n",
       "      <td>None</td>\n",
       "      <td>None</td>\n",
       "    </tr>\n",
       "    <tr>\n",
       "      <th>s1_rtc</th>\n",
       "      <td>s1_rtc</td>\n",
       "      <td>Sentinel 1 Gamma0 normalised radar backscatter</td>\n",
       "      <td>CC-BY-4.0</td>\n",
       "      <td>None</td>\n",
       "      <td>None</td>\n",
       "    </tr>\n",
       "    <tr>\n",
       "      <th>s2_l2a</th>\n",
       "      <td>s2_l2a</td>\n",
       "      <td>Sentinel-2a and Sentinel-2b imagery, processed...</td>\n",
       "      <td>None</td>\n",
       "      <td>None</td>\n",
       "      <td>None</td>\n",
       "    </tr>\n",
       "  </tbody>\n",
       "</table>\n",
       "</div>"
      ],
      "text/plain": [
       "                                          name  \\\n",
       "name                                             \n",
       "copernicus_dem_30            copernicus_dem_30   \n",
       "copernicus_dem_90            copernicus_dem_90   \n",
       "landsat5_c2l2_sr              landsat5_c2l2_sr   \n",
       "landsat5_c2l2_st              landsat5_c2l2_st   \n",
       "landsat7_c2l2_sr              landsat7_c2l2_sr   \n",
       "landsat7_c2l2_st              landsat7_c2l2_st   \n",
       "landsat8_c2l2_sr              landsat8_c2l2_sr   \n",
       "landsat8_c2l2_st              landsat8_c2l2_st   \n",
       "landsat9_c2l2_sr              landsat9_c2l2_sr   \n",
       "landsat9_c2l2_st              landsat9_c2l2_st   \n",
       "lpdaac_nasadem                  lpdaac_nasadem   \n",
       "palsar2_scansar_gamma0  palsar2_scansar_gamma0   \n",
       "s1_rtc                                  s1_rtc   \n",
       "s2_l2a                                  s2_l2a   \n",
       "\n",
       "                                                              description  \\\n",
       "name                                                                        \n",
       "copernicus_dem_30         Copernicus 30m Digital Elevation Model (GLO-30)   \n",
       "copernicus_dem_90         Copernicus 90m Digital Elevation Model (GLO-90)   \n",
       "landsat5_c2l2_sr        Landsat 5 Collection 2 Level-2 Surface Reflect...   \n",
       "landsat5_c2l2_st        Landsat 5 Collection 2 Level-2 UTM Surface Tem...   \n",
       "landsat7_c2l2_sr        Landsat 7 Collection 2 Level-2 Surface Reflect...   \n",
       "landsat7_c2l2_st        Landsat 7 Collection 2 Level-2 UTM Surface Tem...   \n",
       "landsat8_c2l2_sr        Landsat 8 Collection 2 Level-2 Surface Reflect...   \n",
       "landsat8_c2l2_st        Landsat 8 Collection 2 Level-2 UTM Surface Tem...   \n",
       "landsat9_c2l2_sr        Landsat 9 Collection 2 Level-2 Surface Reflect...   \n",
       "landsat9_c2l2_st        Landsat 9 Collection 2 Level-2 UTM Surface Tem...   \n",
       "lpdaac_nasadem                NASADEM Merged DEM Global 1 arc second V001   \n",
       "palsar2_scansar_gamma0  ALOS-2 PALSAR-2 Level 2.2 GRD radiometric/geom...   \n",
       "s1_rtc                     Sentinel 1 Gamma0 normalised radar backscatter   \n",
       "s2_l2a                  Sentinel-2a and Sentinel-2b imagery, processed...   \n",
       "\n",
       "                          license default_crs default_resolution  \n",
       "name                                                              \n",
       "copernicus_dem_30            None        None               None  \n",
       "copernicus_dem_90            None        None               None  \n",
       "landsat5_c2l2_sr             None        None               None  \n",
       "landsat5_c2l2_st        CC-BY-4.0        None               None  \n",
       "landsat7_c2l2_sr        CC-BY-4.0        None               None  \n",
       "landsat7_c2l2_st        CC-BY-4.0        None               None  \n",
       "landsat8_c2l2_sr        CC-BY-4.0        None               None  \n",
       "landsat8_c2l2_st        CC-BY-4.0        None               None  \n",
       "landsat9_c2l2_sr        CC-BY-4.0        None               None  \n",
       "landsat9_c2l2_st        CC-BY-4.0        None               None  \n",
       "lpdaac_nasadem               None        None               None  \n",
       "palsar2_scansar_gamma0  CC-BY-4.0        None               None  \n",
       "s1_rtc                  CC-BY-4.0        None               None  \n",
       "s2_l2a                       None        None               None  "
      ]
     },
     "execution_count": 1,
     "metadata": {},
     "output_type": "execute_result"
    }
   ],
   "source": [
    "from odc.ui import DcViewer\n",
    "from datacube import Datacube\n",
    "\n",
    "dc = Datacube()\n",
    "products = dc.list_products()['name'].tolist()\n",
    "\n",
    "dc.list_products()"
   ]
  },
  {
   "cell_type": "markdown",
   "metadata": {},
   "source": [
    "1. [Landsat 8](https://docs.opendata.aws/landsat-pds/readme.html)\n",
    "   - Landsat-8 is an Earth observation satellite launched into orbit on February 11th, 2013 by a joint collaboration effort by USGS and NASA. Datasets have been produced daily since its launch.\n",
    "   - The first sensor of Landsat-8, the Operational Land Imager (OLI) records measurements from nine bands. These span the visible, near infrared, and shortwave spectrums. \n",
    "   - The second sensor of Landsat-8, the Thermal Infrared Sensor (TIRS) records measurements from two long wavelength infrared bands. These measurements target land surface temperature. "
   ]
  },
  {
   "cell_type": "code",
   "execution_count": 2,
   "metadata": {
    "tags": []
   },
   "outputs": [
    {
     "data": {
      "application/vnd.jupyter.widget-view+json": {
       "model_id": "6b889455d4984a6e89a5fa01daa7965d",
       "version_major": 2,
       "version_minor": 0
      },
      "text/plain": [
       "VBox(children=(HBox(children=(Dropdown(layout=Layout(flex='0 1 auto', width='10em'), options=('landsat8_c2l2_s…"
      ]
     },
     "execution_count": 2,
     "metadata": {},
     "output_type": "execute_result"
    }
   ],
   "source": [
    "landsat = DcViewer(\n",
    "    dc, \n",
    "    time='2018-01',\n",
    "    zoom=2,\n",
    "    center=(0, 0),\n",
    "    height='720px', width='1280px',\n",
    "    products=['landsat8_c2l2_sr'],\n",
    "    style={'fillOpacity': 0.05,\n",
    "            'color': 'teal',\n",
    "            'weight': 0.7})\n",
    "landsat"
   ]
  },
  {
   "cell_type": "markdown",
   "metadata": {},
   "source": [
    "3. Sentinel-2 [Level-2a Surface Reflectance products](https://sentinel.esa.int/web/sentinel/user-guides/sentinel-2-msi/product-types/level-2a)\n",
    "   - Sentinel-2 is an Earth observation mission operated by the European Space Agency. Observation is currently conducted through two satellites, Sentinel-2a (s2a) and Sentinel-2b (s2b). The s2a satellite was launched on June 23rd, 2015, and the s2b satellite was launched on March 7th, 2017. \n",
    "   - Both satellites measure from the same Multi-Spectral Imager, which collects data from 12 bands. These bands are within the visible, near infrared, shortwave infrared wavelengths. "
   ]
  },
  {
   "cell_type": "code",
   "execution_count": 3,
   "metadata": {
    "tags": []
   },
   "outputs": [
    {
     "data": {
      "application/vnd.jupyter.widget-view+json": {
       "model_id": "27232b8da57f47f99ce4659b944b6d86",
       "version_major": 2,
       "version_minor": 0
      },
      "text/plain": [
       "VBox(children=(HBox(children=(Dropdown(layout=Layout(flex='0 1 auto', width='10em'), options=('s2_l2a',), valu…"
      ]
     },
     "execution_count": 3,
     "metadata": {},
     "output_type": "execute_result"
    }
   ],
   "source": [
    "sentinel_2 = DcViewer(\n",
    "    dc, \n",
    "    time='2017-01',\n",
    "    zoom=6,\n",
    "    center=(39,-89),\n",
    "    height='720px', width='1280px',\n",
    "    products=['s2_l2a'],\n",
    "    style={'fillOpacity': 0.05,\n",
    "            'color': 'teal',\n",
    "            'weight': 0.7})\n",
    "sentinel_2"
   ]
  },
  {
   "cell_type": "markdown",
   "metadata": {},
   "source": [
    "2. [NASADEM](https://www.earthdata.nasa.gov/esds/competitive-programs/measures/nasadem)\n",
    "   - The NASA Digital Elevation Model, or NASADEM, are a collection of high spatial resolution topographic datasets derived by reprocessing Shuttle Radar Topography Mission (STRM) data with several other digital elevation models.\n",
    "   - The [STRM](https://en.wikipedia.org/wiki/Shuttle_Radar_Topography_Mission) was an eleven day global flyover that captured topographic data from Africa, Europe, North America, South America, Asia, and Australia. This mission took place around Februrary, 2000."
   ]
  },
  {
   "cell_type": "code",
   "execution_count": 5,
   "metadata": {
    "tags": []
   },
   "outputs": [
    {
     "data": {
      "application/vnd.jupyter.widget-view+json": {
       "model_id": "5838bc9d8f184c9f8f3e6725f041db39",
       "version_major": 2,
       "version_minor": 0
      },
      "text/plain": [
       "VBox(children=(HBox(children=(Dropdown(layout=Layout(flex='0 1 auto', width='10em'), options=('lpdaac_nasadem'…"
      ]
     },
     "execution_count": 5,
     "metadata": {},
     "output_type": "execute_result"
    }
   ],
   "source": [
    "nasadem = DcViewer(\n",
    "    dc, \n",
    "    time='2000',\n",
    "    zoom=4,\n",
    "    center=(39,-89),\n",
    "    height='720px', width='1280px',\n",
    "    products=['lpdaac_nasadem'],\n",
    "    style={'fillOpacity': 0.05,\n",
    "            'color': 'teal',\n",
    "            'weight': 0.7})\n",
    "nasadem"
   ]
  },
  {
   "cell_type": "markdown",
   "metadata": {},
   "source": [
    "4. [Copernicus DEM 30m](https://spacedata.copernicus.eu/collections/copernicus-digital-elevation-model)\n",
    "   - Explain\""
   ]
  },
  {
   "cell_type": "code",
   "execution_count": 15,
   "metadata": {
    "tags": []
   },
   "outputs": [
    {
     "data": {
      "application/vnd.jupyter.widget-view+json": {
       "model_id": "9155b1e0cbde4b4099c87108813848c0",
       "version_major": 2,
       "version_minor": 0
      },
      "text/plain": [
       "VBox(children=(HBox(children=(Dropdown(layout=Layout(flex='0 1 auto', width='10em'), options=('copernicus_dem_…"
      ]
     },
     "execution_count": 15,
     "metadata": {},
     "output_type": "execute_result"
    }
   ],
   "source": [
    "copernicus = DcViewer(\n",
    "    dc, \n",
    "    time='2015',\n",
    "    zoom=4,\n",
    "    center=(39,-89),\n",
    "    height='720px', width='1280px',\n",
    "    products=['copernicus_dem_30'],\n",
    "    style={'fillOpacity': 0.05,\n",
    "            'color': 'teal',\n",
    "            'weight': 0.7})\n",
    "copernicus"
   ]
  }
 ],
 "metadata": {
  "kernelspec": {
   "display_name": "Python 3 (ipykernel)",
   "language": "python",
   "name": "python3"
  },
  "language_info": {
   "codemirror_mode": {
    "name": "ipython",
    "version": 3
   },
   "file_extension": ".py",
   "mimetype": "text/x-python",
   "name": "python",
   "nbconvert_exporter": "python",
   "pygments_lexer": "ipython3",
   "version": "3.10.6"
  },
  "vscode": {
   "interpreter": {
    "hash": "916dbcbb3f70747c44a77c7bcd40155683ae19c65e1c03b4aa3499c5328201f1"
   }
  }
 },
 "nbformat": 4,
 "nbformat_minor": 4
}
