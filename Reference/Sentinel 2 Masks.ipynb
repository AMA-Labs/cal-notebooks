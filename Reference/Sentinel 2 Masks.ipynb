{
 "cells": [
  {
   "cell_type": "markdown",
   "id": "1d259515-d7a3-49af-b0b2-16b81e2656d4",
   "metadata": {},
   "source": [
    "Display the pixel qa band masking options for Sentinel 2"
   ]
  },
  {
   "cell_type": "markdown",
   "id": "45c57e26-9877-455a-8919-9bf5173821dc",
   "metadata": {},
   "source": [
    "Explain what each of the options means"
   ]
  },
  {
   "cell_type": "code",
   "execution_count": null,
   "id": "74b24233-1b45-47c3-ac3f-0532b18446a3",
   "metadata": {},
   "outputs": [],
   "source": []
  }
 ],
 "metadata": {
  "kernelspec": {
   "display_name": "Python 3 (ipykernel)",
   "language": "python",
   "name": "python3"
  },
  "language_info": {
   "codemirror_mode": {
    "name": "ipython",
    "version": 3
   },
   "file_extension": ".py",
   "mimetype": "text/x-python",
   "name": "python",
   "nbconvert_exporter": "python",
   "pygments_lexer": "ipython3",
   "version": "3.10.12"
  }
 },
 "nbformat": 4,
 "nbformat_minor": 5
}
