{
 "cells": [
  {
   "cell_type": "markdown",
   "metadata": {
    "id": "LKO58Imv4h8f"
   },
   "source": [
    "# Landsat-8 Cloud Statistics"
   ]
  },
  {
   "cell_type": "code",
   "execution_count": null,
   "metadata": {
    "id": "8sRzE8L34h8g",
    "tags": []
   },
   "outputs": [],
   "source": [
    "# Import Data Cube Utilities\n",
    "import datacube\n",
    "import sys, os\n",
    "os.environ['USE_PYGEOS'] = '0'\n",
    "from dea_tools.plotting import rgb, display_map\n",
    "from dea_tools.bandindices import calculate_indices\n",
    "\n",
    "### EASI tools\n",
    "sys.path.append(os.path.expanduser('../scripts'))\n",
    "from ceos_utils.data_cube_utilities.clean_mask import landsat_clean_mask_invalid, landsat_qa_clean_mask\n",
    "from easi_tools import EasiDefaults\n",
    "from easi_tools import notebook_utils\n",
    "easi = EasiDefaults() # Get the default parameters for this system\n",
    "\n",
    "# Import Common Utilities\n",
    "from functools import partial\n",
    "import matplotlib.pyplot as plt\n",
    "import numpy as np\n",
    "import xarray as xr\n",
    "import pandas as pd"
   ]
  },
  {
   "cell_type": "code",
   "execution_count": null,
   "metadata": {
    "tags": []
   },
   "outputs": [],
   "source": [
    "cluster, client = notebook_utils.initialize_dask(use_gateway=False)\n",
    "display(cluster if cluster else client)\n",
    "print(notebook_utils.localcluster_dashboard(client, server=easi.hub))"
   ]
  },
  {
   "cell_type": "code",
   "execution_count": null,
   "metadata": {
    "tags": []
   },
   "outputs": [],
   "source": [
    "from datacube.utils.aws import configure_s3_access\n",
    "configure_s3_access(aws_unsigned=False, requester_pays=True, client=client)"
   ]
  },
  {
   "cell_type": "code",
   "execution_count": null,
   "metadata": {
    "id": "YXnIKhVQ4h8g",
    "tags": []
   },
   "outputs": [],
   "source": [
    "# Define the Product\n",
    "product = \"landsat8_c2l2_sr\""
   ]
  },
  {
   "cell_type": "code",
   "execution_count": null,
   "metadata": {
    "id": "F2YFbpZ94h8g",
    "tags": []
   },
   "outputs": [],
   "source": [
    "# Select a Latitude-Longitude point for the center of the analysis region\n",
    "# Select the size of the box (in degrees) surrounding the center point\n",
    "\n",
    "# Mombasa, Kenya\n",
    "# lat_long = (-4.03, 39.62)\n",
    "# box_size_deg = 0.15\n",
    "\n",
    "# Calculates the latitude and longitude bounds of the analysis box\n",
    "# latitude = (lat_long[0]-box_size_deg/2, lat_long[0]+box_size_deg/2)\n",
    "# longitude = (lat_long[1]-box_size_deg/2, lat_long[1]+box_size_deg/2)\n",
    "\n",
    "# Sydney Cricket Ground\n",
    "# latitude = (-33.8951, -33.8902)\n",
    "# longitude = (151.2219, 151.2276)\n",
    "\n",
    "# Suva, Fiji\n",
    "# latitude = (-18.1725, -18.0492) \n",
    "# longitude = (178.3881, 178.5190) \n",
    "\n",
    "# Bua Bay, Fiji\n",
    "# latitude = (-17.0069, -16.7447) \n",
    "# longitude = (178.4270, 178.6750) \n",
    "\n",
    "latitude = easi.latitude\n",
    "longitude = easi.longitude"
   ]
  },
  {
   "cell_type": "code",
   "execution_count": null,
   "metadata": {
    "tags": []
   },
   "outputs": [],
   "source": [
    "# Select a time range\n",
    "# The inputs require a format (Min,Max) using this date format (YYYY-MM-DD)\n",
    "# The Landsat-8 allowable time range is: 2013-04-07 to current\n",
    "time_extents = ('2021-01-01', '2021-06-01')"
   ]
  },
  {
   "cell_type": "code",
   "execution_count": null,
   "metadata": {
    "colab": {
     "base_uri": "https://localhost:8080/",
     "height": 1000
    },
    "id": "PfbLB4Z94h8g",
    "outputId": "35ba9fda-d9a0-477d-bb19-e7c1f75852d9",
    "tags": []
   },
   "outputs": [],
   "source": [
    "# The code below renders a map that can be used to view the region.\n",
    "# It is possible to find new regions using the map below. \n",
    "# Use your mouse to zoom in/out to explore new regions\n",
    "# Click on the map to view Lat-Lon coordinates of any location that could define the region boundary\n",
    "\n",
    "display_map(longitude, latitude)"
   ]
  },
  {
   "cell_type": "markdown",
   "metadata": {
    "id": "DQ8tWONM4h8h"
   },
   "source": [
    "## Calculate cloud coverage percentage for each pixel "
   ]
  },
  {
   "cell_type": "code",
   "execution_count": null,
   "metadata": {},
   "outputs": [],
   "source": [
    "# Create a custom cloud coverage table here\n",
    "def build_cloud_coverage_table_landsat(product,platform,collection,level,\n",
    "                                       latitude,longitude,time=None,dc=None,\n",
    "                                       extra_band='green',extra_load_params={}):\n",
    "    \n",
    "    dc = dc if dc is not None else datacube.Datacube(app=\"\")\n",
    "\n",
    "    load_params = dict(product=product,\n",
    "                       latitude=latitude,\n",
    "                       longitude=longitude,\n",
    "                       measurements=[extra_band, 'pixel_qa'],\n",
    "                       **extra_load_params)\n",
    "\n",
    "    if time is not None:\n",
    "        load_params[\"time\"] = time\n",
    "\n",
    "    landsat_dataset = dc.load(**load_params).persist()\n",
    "    \n",
    "    dates = [dt.astype('datetime64[D]') for dt in landsat_dataset.time.values]\n",
    "        \n",
    "    clean_masks = landsat_qa_clean_mask(landsat_dataset, platform=platform,\n",
    "                                        collection=collection, level=level) & \\\n",
    "                  landsat_clean_mask_invalid(landsat_dataset, platform, collection, level)\n",
    "    clean_percent = [clean_mask.mean()*100 for clean_mask in clean_masks.values]\n",
    "    clean_count = list(map(np.sum, clean_masks.values))\n",
    "    \n",
    "    nodata_masks = xr.full_like(clean_masks, False)\n",
    "    band_nodata_values = dc.list_measurements().loc[product, 'nodata']\n",
    "    if band_nodata_values is not None:\n",
    "        for data_var in landsat_dataset.values():\n",
    "            band_nodata_masks = data_var == data_var.attrs['nodata']\n",
    "            nodata_masks = nodata_masks | band_nodata_masks\n",
    "    nodata_percent = [nodata_mask.mean()*100 for nodata_mask in nodata_masks.values]\n",
    "    \n",
    "    cloud_masks = (~clean_masks & ~nodata_masks)\n",
    "    cloud_percent = [cloud_mask.mean()*100 for cloud_mask in cloud_masks.values]\n",
    "            \n",
    "    total_count = list(map(np.sum, ~nodata_masks.values))\n",
    "\n",
    "    data = {\"Date\": dates,\"Clean_percent\": clean_percent,\"Cloud_percent\": cloud_percent,\n",
    "            \"NoData_percent\": nodata_percent,\"Clean_count\": clean_count,\"Total_count\": total_count}\n",
    "\n",
    "    return (landsat_dataset,\n",
    "            pd.DataFrame(data=data, columns=list(data.keys())),\n",
    "            cloud_masks, nodata_masks, clean_masks)"
   ]
  },
  {
   "cell_type": "code",
   "execution_count": null,
   "metadata": {
    "tags": []
   },
   "outputs": [],
   "source": [
    "dc = datacube.Datacube()"
   ]
  },
  {
   "cell_type": "code",
   "execution_count": null,
   "metadata": {
    "id": "SQ1bS8M04h8i"
   },
   "outputs": [],
   "source": [
    "# Load the metadata for the given region and time period\n",
    "landsat_dataset, coverage_table = build_cloud_coverage_table_landsat(dc=dc,\n",
    "                                                                     product=product,\n",
    "                                                                     platform='LANDSAT_8',\n",
    "                                                                     collection='c2',\n",
    "                                                                     level='l2',\n",
    "                                                                     latitude=latitude,\n",
    "                                                                     longitude=longitude,\n",
    "                                                                     time=time_extents,\n",
    "                                                                     extra_band='green',\n",
    "                                                                     extra_load_params={\n",
    "                                                                         'output_crs':'EPSG:6933',\n",
    "                                                                         'resolution': (-30,30),\n",
    "                                                                         'skip_broken_datasets': True,\n",
    "                                                                         'dask_chunks': {'time':1},\n",
    "                                                                         'group_by': 'solar_day'\n",
    "                                                                     }\n",
    "                                                                    )[0:2]"
   ]
  },
  {
   "cell_type": "markdown",
   "metadata": {
    "id": "k9yfsa_24h8j"
   },
   "source": [
    "## Create a table of cloud coverage percentage for each date\n",
    "This table displays data for each time slice in the cube (starting at an index=0). The \"clean percent\" is the percent of pixels WITHOUT clouds. So, low numbers are cloudy scenes and high numbers are clearer scenes. The \"Clean_count\" is the number of clear pixels in the scene and the \"Total_count\" is the total number of pixels in the scene.\n",
    "\n",
    "Typically, there is a separation of 16 days between Landsat-8 views for a single location. When there is significant cloud cover, scenes may be missing from time series due to issues with processing and geolocation."
   ]
  },
  {
   "cell_type": "code",
   "execution_count": null,
   "metadata": {
    "colab": {
     "base_uri": "https://localhost:8080/",
     "height": 317
    },
    "id": "i6fTTQXm4h8j",
    "outputId": "66364c11-081a-426b-a295-8fc6fd54e415"
   },
   "outputs": [],
   "source": [
    "pd.set_option('display.max_rows', len(coverage_table))\n",
    "coverage_table"
   ]
  },
  {
   "cell_type": "markdown",
   "metadata": {
    "id": "6tceZLc94h8j"
   },
   "source": [
    "## Create a plot of cloud coverage percentage for each date\n",
    "The y-axis is the \"clean percentage\" from the table above."
   ]
  },
  {
   "cell_type": "code",
   "execution_count": null,
   "metadata": {
    "colab": {
     "base_uri": "https://localhost:8080/",
     "height": 320
    },
    "id": "HpVnNyYX4h8k",
    "outputId": "016120b9-bf1f-48cf-fb66-cff6af321b0a"
   },
   "outputs": [],
   "source": [
    "plt.figure(figsize = (15,5))\n",
    "plt.plot(coverage_table[\"Date\"].values, coverage_table[\"Clean_percent\"].values, 'bo', markersize=8)\n",
    "plt.ylim([0, 105])\n",
    "plt.show()"
   ]
  },
  {
   "cell_type": "markdown",
   "metadata": {
    "id": "cYD9ue8M4h8k"
   },
   "source": [
    "## Review an RGB scene for a selected time slice"
   ]
  },
  {
   "cell_type": "code",
   "execution_count": null,
   "metadata": {
    "id": "zsLlzrDp4h8k"
   },
   "outputs": [],
   "source": [
    "# Load the data to create an RGB image\n",
    "landsat_dataset = dc.load(like=landsat_dataset,\n",
    "                          product=product,measurements=['red', 'green', 'blue', 'nir', 'swir1', 'swir2'],\n",
    "                          dask_chunks={'time':1}) "
   ]
  },
  {
   "cell_type": "code",
   "execution_count": null,
   "metadata": {
    "colab": {
     "base_uri": "https://localhost:8080/",
     "height": 484
    },
    "id": "RGFU03tN4h8k",
    "outputId": "9e01a138-8be0-4e3d-ee19-cd2020616d60"
   },
   "outputs": [],
   "source": [
    "# Select one of the time slices and create an output image. \n",
    "\n",
    "# Time slices are numbered from 0 to x and shown in the summary table above\n",
    "# Review the clean_percentage values to select scenes with few clouds\n",
    "# Clouds will be visible in WHITE for an output image\n",
    "\n",
    "slice = 4"
   ]
  },
  {
   "cell_type": "code",
   "execution_count": null,
   "metadata": {},
   "outputs": [],
   "source": [
    "# Collection 2 needs scale and offset applied for better color rendering\n",
    "scale = lambda da: (da*0.0000275)-0.2"
   ]
  },
  {
   "cell_type": "code",
   "execution_count": null,
   "metadata": {},
   "outputs": [],
   "source": [
    "# Define the RGB image parameters\n",
    "# True-Color = red, green, blue (this is the common true-color RGB image)\n",
    "# False Color = swir2, nir, green (this is commonly used for Landsat data viewing)\n",
    "\n",
    "true_rgb = landsat_dataset.isel(time=slice)[['red', 'green', 'blue']].map(scale).to_array()\n",
    "false_rgb = landsat_dataset.isel(time=slice)[['swir2', 'nir', 'green']].map(scale).to_array()\n",
    "\n",
    "# Define the plot settings and show the plots\n",
    "# Users may want to alter the figure sizes or plot titles\n",
    "# The \"vmax\" value controls the brightness of the images and can be adjusted \n",
    "\n",
    "fig, ax = plt.subplots(1, 2, figsize=(16, 8))\n",
    "true_rgb.plot.imshow(ax=ax[0], vmin=0, vmax=0.2)\n",
    "false_rgb.plot.imshow(ax=ax[1], vmin=0, vmax=0.5)\n",
    "ax[0].set_title('True Color'), ax[0].xaxis.set_visible(False), ax[0].yaxis.set_visible(False)\n",
    "ax[1].set_title('False Color'), ax[1].xaxis.set_visible(False), ax[1].yaxis.set_visible(False)\n",
    "plt.show()"
   ]
  },
  {
   "cell_type": "code",
   "execution_count": null,
   "metadata": {},
   "outputs": [],
   "source": []
  }
 ],
 "metadata": {
  "colab": {
   "collapsed_sections": [],
   "name": "02.01.Colab_Cloud_Statistics_L8.ipynb",
   "provenance": []
  },
  "kernelspec": {
   "display_name": "Python 3 (ipykernel)",
   "language": "python",
   "name": "python3"
  },
  "language_info": {
   "codemirror_mode": {
    "name": "ipython",
    "version": 3
   },
   "file_extension": ".py",
   "mimetype": "text/x-python",
   "name": "python",
   "nbconvert_exporter": "python",
   "pygments_lexer": "ipython3",
   "version": "3.10.6"
  }
 },
 "nbformat": 4,
 "nbformat_minor": 4
}
