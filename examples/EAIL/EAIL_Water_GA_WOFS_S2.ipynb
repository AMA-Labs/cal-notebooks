{
 "cells": [
  {
   "cell_type": "markdown",
   "id": "b274f547",
   "metadata": {
    "tags": [
     "cal.header"
    ]
   },
   "source": [
    "<link rel=\"stylesheet\" href=\"https://use.typekit.net/dvn1law.css\">\n",
    "<style>        \n",
    "@font-face {\n",
    "font-family:\"futura-pt-bold\";\n",
    "src:url(\"https://use.typekit.net/af/053fc9/00000000000000003b9af1e4/27/l?primer=7cdcb44be4a7db8877ffa5c0007b8dd865b3bbc383831fe2ea177f62257a9191&fvd=n7&v=3\") format(\"woff2\"),url(\"https://use.typekit.net/af/053fc9/00000000000000003b9af1e4/27/d?primer=7cdcb44be4a7db8877ffa5c0007b8dd865b3bbc383831fe2ea177f62257a9191&fvd=n7&v=3\") format(\"woff\"),url(\"https://use.typekit.net/af/053fc9/00000000000000003b9af1e4/27/a?primer=7cdcb44be4a7db8877ffa5c0007b8dd865b3bbc383831fe2ea177f62257a9191&fvd=n7&v=3\") format(\"opentype\");\n",
    "font-display:auto;font-style:normal;font-weight:700;font-stretch:normal;\n",
    "}\n",
    "</style>\n",
    "<div style=\"display: flex; margin: 0px; padding-top: 1.5rem; padding-bottom: 1.5rem; font-family: futura-pt, 'Tahoma', 'Segoe UI', Geneva, Verdana, sans-serif;\">\n",
    "    <span style=\"margin-right: 15px; padding-right: 2rem; background-color: #3b6d48;\"></span>\n",
    "    <div style=\"margin-bottom: auto; margin-top: auto; margin-right: auto; padding-right: 15px;\">\n",
    "        <div style=\"margin: 0; padding-top: 0.2rem; padding-bottom: 3.3rem; letter-spacing: 0.15rem; color: #a6ce37; font-weight: bold; font-size: 3rem; font: futura-pt-bold\"> CEOS Analytics Lab</div>\n",
    "        <div style=\"margin: 0; color: #469ab9; font-weight: bold; font-size: 1.5rem;\">Welcome to the CEOS Analytics Lab!</div>\n",
    "        <div style=\"margin: 0; padding-bottom: 0.2rem; color: #474c38; font-size: 1.25rem;\"><span>TBD</span><span>| </span><span style=\"color: #3b6d48; font-weight: bold;\">Water Observations from Space (WOFS)</span></div>\n",
    "        <hr style=\"border: 1px solid #474c38;\">\n",
    "    </div>\n",
    "    <div style=\"margin-top: auto; margin-bottom: auto; margin-left: auto; padding-left: 15px;\">\n",
    "        <div><img style=\"vertical-align: middle; padding: 0.5rem; width: 300px; height: auto;\" src=\"https://ceos.org/document_management/Communications/CEOS-Logos/CEOS_logo_colour_no_text-small.png\" /></div>\n",
    "    </div>\n",
    "</div>"
   ]
  },
  {
   "cell_type": "markdown",
   "metadata": {},
   "source": [
    "This notebook demonstrates the Australian Water Observations from Space (WOFS) algorithm but uses Sentinel-2 instead of Landsat. This water detection algorithm is an improvement over the Landsat QA water flag or the NDWI index for water identification. For more information, visit this website:\n",
    "\n",
    "http://www.ga.gov.au/scientific-topics/hazards/flood/wofs\n",
    "\n",
    "This notebook uses the GA WOFS algorithm directly from https://github.com/GeoscienceAustralia/wofs"
   ]
  },
  {
   "cell_type": "markdown",
   "metadata": {},
   "source": [
    "## Install WOFS package"
   ]
  },
  {
   "cell_type": "markdown",
   "metadata": {},
   "source": [
    "This should only need to be run once.\n",
    "Once it is finished, make sure that you __refresh your browser__ and select the new 'wofs' kernel from the kernel selector at the top right."
   ]
  },
  {
   "cell_type": "code",
   "execution_count": null,
   "metadata": {
    "tags": []
   },
   "outputs": [],
   "source": [
    "# !sh ../bin/install_wofs.sh"
   ]
  },
  {
   "cell_type": "markdown",
   "metadata": {},
   "source": [
    "## <span id=\"import\">Import Dependencies and Connect to the Data Cube [&#9652;](#top)</span>"
   ]
  },
  {
   "cell_type": "code",
   "execution_count": null,
   "metadata": {
    "tags": []
   },
   "outputs": [],
   "source": [
    "import datacube\n",
    "dc = datacube.Datacube(app='Water_Observations_from_Space')\n",
    "from datacube.utils import masking\n",
    "\n",
    "import sys, os\n",
    "os.environ['USE_PYGEOS'] = '0'\n",
    "from pathlib import Path\n",
    "\n",
    "import datetime\n",
    "import matplotlib.pyplot as plt\n",
    "import numpy as np  \n",
    "import xarray as xr\n",
    "import rioxarray\n",
    "import pandas as pd\n",
    "\n",
    "from dea_tools.plotting import rgb, display_map\n",
    "from dea_tools.bandindices import calculate_indices\n",
    "\n",
    "### EASI tools\n",
    "sys.path.append(os.path.expanduser('../scripts'))\n",
    "from ceos_utils.data_cube_utilities.clean_mask import landsat_clean_mask_invalid, landsat_qa_clean_mask\n",
    "from easi_tools import EasiDefaults\n",
    "from easi_tools import notebook_utils\n",
    "easi = EasiDefaults() # Get the default parameters for this system"
   ]
  },
  {
   "cell_type": "code",
   "execution_count": null,
   "metadata": {
    "tags": []
   },
   "outputs": [],
   "source": [
    "cluster, client = notebook_utils.initialize_dask(use_gateway=False)\n",
    "display(cluster if cluster else client)\n",
    "print(notebook_utils.localcluster_dashboard(client, server=easi.hub))"
   ]
  },
  {
   "cell_type": "code",
   "execution_count": null,
   "metadata": {
    "tags": []
   },
   "outputs": [],
   "source": [
    "from datacube.utils.aws import configure_s3_access\n",
    "configure_s3_access(aws_unsigned=False, requester_pays=True, client=client)"
   ]
  },
  {
   "cell_type": "markdown",
   "metadata": {},
   "source": [
    "## <span id=\"plat_prod\">Choose Platforms and Products [&#9652;](#top)</span>"
   ]
  },
  {
   "cell_type": "code",
   "execution_count": null,
   "metadata": {
    "tags": []
   },
   "outputs": [],
   "source": [
    "# Define the Product\n",
    "product = \"s2_l2a\""
   ]
  },
  {
   "cell_type": "markdown",
   "metadata": {},
   "source": [
    "## <span id=\"define_extents\">Define the Extents of the Analysis [&#9652;](#top)</span>"
   ]
  },
  {
   "cell_type": "code",
   "execution_count": null,
   "metadata": {
    "tags": []
   },
   "outputs": [],
   "source": [
    "# Select an analysis region (Latitude-Longitude) \n",
    "# Select a time period within the extents of the dataset (Year-Month-Day)\n",
    "\n",
    "# Mombasa, Kenya\n",
    "# latitude = (-4.05, -3.95) \n",
    "# longitude = (39.60, 39.68) \n",
    "\n",
    "# latitude=easi.latitude\n",
    "# longitude=easi.longitude\n",
    "# latitude = (36.3, 36.5)\n",
    "# longitude = (-114.3, -114.5)\n",
    "\n",
    "# For this, we will deliberately use UTM projected coordinates as it\n",
    "# appears that there might be a big in the wofs code when the area\n",
    "# of interest has different sizes in the x and y dimensions\n",
    "from pyproj import Proj, CRS, Transformer\n",
    "crs = CRS.from_epsg(32611)\n",
    "to_utm = Transformer.from_crs(crs.geodetic_crs, crs)\n",
    "to_latlong = Transformer.from_crs(crs, crs.geodetic_crs)\n",
    "utm = to_utm.transform(36.38,-114.4)\n",
    "buffer = 12000 # set the buffer size in m\n",
    "\n",
    "# Convert back to latitudes and longitudes to visualise the area\n",
    "topleft = to_latlong.transform(utm[0]+buffer,utm[1]-buffer)\n",
    "bottomright = to_latlong.transform(utm[0]-buffer,utm[1]+buffer)\n",
    "latitude = (topleft[0],bottomright[0])\n",
    "longitude = (topleft[1],bottomright[1])\n",
    "\n",
    "# Define Time Range\n",
    "# Landsat-8 time range: 07-Apr-2013 to current\n",
    "time_extents = ('2021-01-01', '2021-12-31')"
   ]
  },
  {
   "cell_type": "code",
   "execution_count": null,
   "metadata": {
    "tags": []
   },
   "outputs": [],
   "source": [
    "# The code below renders a map that can be used to view the analysis region.\n",
    "display_map(longitude,latitude)"
   ]
  },
  {
   "cell_type": "markdown",
   "metadata": {},
   "source": [
    "## <span id=\"load_data\">Load and Clean Data from the Data Cube [&#9652;](#top)</span>\n",
    "After loading, you will view the Xarray dataset. Notice the dimensions represent the number of pixels in your latitude and longitude dimension as well as the number of time slices (time) in your time series."
   ]
  },
  {
   "cell_type": "code",
   "execution_count": null,
   "metadata": {
    "tags": []
   },
   "outputs": [],
   "source": [
    "measurements = ['red', 'green', 'blue', 'nir', 'swir_1', 'swir_2', 'SCL']\n",
    "data_names = measurements.copy()\n",
    "data_names.remove('SCL')"
   ]
  },
  {
   "cell_type": "code",
   "execution_count": null,
   "metadata": {
    "tags": []
   },
   "outputs": [],
   "source": [
    "s2_dataset = dc.load(y = (utm[1]-buffer,utm[1]+buffer),\n",
    "                          x = (utm[0]-buffer,utm[0]+buffer),\n",
    "                          time = time_extents,\n",
    "                          product = product,\n",
    "                          crs = 'EPSG:32611',\n",
    "                          output_crs = 'EPSG:32611',\n",
    "                          resolution = (-10,10),\n",
    "                          measurements = measurements,\n",
    "                          dask_chunks = {'time':1},\n",
    "                          group_by = 'solar_day') "
   ]
  },
  {
   "cell_type": "code",
   "execution_count": null,
   "metadata": {},
   "outputs": [],
   "source": [
    "s2_dataset"
   ]
  },
  {
   "cell_type": "code",
   "execution_count": null,
   "metadata": {
    "tags": []
   },
   "outputs": [],
   "source": [
    "# Where to save the DEM fetched in ODC\n",
    "DEM_PATH = \"dem_for_wofs.tif\""
   ]
  },
  {
   "cell_type": "code",
   "execution_count": null,
   "metadata": {
    "tags": []
   },
   "outputs": [],
   "source": [
    "# Load the elevation data\n",
    "from os import environ\n",
    "from cartopy.crs import PlateCarree\n",
    "from datacube import Datacube\n",
    "from datashader import reductions\n",
    "import holoviews as hv\n",
    "import hvplot.xarray\n",
    "import matplotlib.pyplot as plt\n",
    "\n",
    "dem = dc.load(\n",
    "    product=\"copernicus_dem_30\", \n",
    "    y = (utm[1]-buffer,utm[1]+buffer),\n",
    "    x = (utm[0]-buffer,utm[0]+buffer),\n",
    "    crs = \"epsg:32611\",\n",
    "    output_crs=\"epsg:32611\", \n",
    "    resolution=(-10, 10) # This is above the resolution of the DEM, but setting it to match Sentinel 2\n",
    ")\n",
    "elevation = dem.elevation.squeeze()"
   ]
  },
  {
   "cell_type": "code",
   "execution_count": null,
   "metadata": {
    "tags": []
   },
   "outputs": [],
   "source": [
    "# Have a look at the DEM data\n",
    "options = {\n",
    "    'title': 'Elevation',\n",
    "    'frame_width': 400,\n",
    "    'frame_height': 400,\n",
    "    'aspect': 'equal',\n",
    "    'cmap': plt.cm.terrain,\n",
    "    'clim': (elevation.min().values.item(), elevation.max().values.item()),    # Limit the color range\n",
    "    'colorbar': True,\n",
    "    'tools': ['hover'],\n",
    "}\n",
    "plot_crs = 'epsg:32611'\n",
    "elevation.hvplot.image(\n",
    "     x = 'x', y = 'y',         # Dataset x,y dimension names \n",
    "     crs = plot_crs,\n",
    "     rasterize = True,                        # If False, data will not be reduced. This is slow to load but all data is loaded.\n",
    "     aggregator = reductions.mean(),          # Datashader calculates the mean value for reductions (also first, min, max, las, std, mode)\n",
    "     precompute = True,                       # Datashader precomputes what it can\n",
    "    ).opts(**options).hist(bin_range = options['clim'])"
   ]
  },
  {
   "cell_type": "code",
   "execution_count": null,
   "metadata": {
    "tags": []
   },
   "outputs": [],
   "source": [
    "dem_path = Path(DEM_PATH)\n",
    "dem_path.parent.mkdir(parents=True, exist_ok=True)\n",
    "elevation.rio.to_raster(dem_path)"
   ]
  },
  {
   "cell_type": "markdown",
   "metadata": {},
   "source": [
    "## <span id=\"time_series_water\">Time Series Water Detection Analysis [&#9652;](#top)</span>\n",
    "Time series output of the Australian Water Observations from Space (WOFS) results. The results show the percent of time that a pixel is classified as water over the entire time series. BLUE = frequent water, RED = infrequent water."
   ]
  },
  {
   "cell_type": "code",
   "execution_count": null,
   "metadata": {
    "tags": []
   },
   "outputs": [],
   "source": [
    "from wofs.virtualproduct import WOfSClassifier"
   ]
  },
  {
   "cell_type": "code",
   "execution_count": null,
   "metadata": {
    "tags": []
   },
   "outputs": [],
   "source": [
    "# Rename some variables so that the GA algorithm works\n",
    "s2_dataset = s2_dataset.rename_vars({\n",
    "    \"blue\": \"nbart_blue\",\n",
    "    \"green\": \"nbart_green\",\n",
    "    \"red\": \"nbart_red\",\n",
    "    \"nir\": \"nbart_nir\",\n",
    "    \"swir_1\": \"nbart_swir_1\",\n",
    "    \"swir_2\": \"nbart_swir_2\",\n",
    "    \"SCL\": \"fmask\",\n",
    "})\n",
    "s2_dataset"
   ]
  },
  {
   "cell_type": "code",
   "execution_count": null,
   "metadata": {},
   "outputs": [],
   "source": [
    "# Prepare the classifier\n",
    "ts_water_classification = WOfSClassifier(c2_scaling=False,dsm_path=DEM_PATH,dsm_no_data=-32767)"
   ]
  },
  {
   "cell_type": "code",
   "execution_count": null,
   "metadata": {
    "tags": []
   },
   "outputs": [],
   "source": [
    "# Run the classification. There might be some warnings about invalid values.\n",
    "wofl = ts_water_classification.compute(s2_dataset)"
   ]
  },
  {
   "cell_type": "code",
   "execution_count": null,
   "metadata": {
    "tags": []
   },
   "outputs": [],
   "source": [
    "# Rename dimensions as required\n",
    "wofl = wofl.rename({\"x\": \"longitude\", \"y\": \"latitude\"})"
   ]
  },
  {
   "cell_type": "code",
   "execution_count": null,
   "metadata": {
    "tags": []
   },
   "outputs": [],
   "source": [
    "# Now categorise the data based on the classifier output\n",
    "from odc.algo import safe_div, apply_numexpr, keep_good_only\n",
    "\n",
    "wofl[\"bad\"] = (wofl.water & 0b0111_1110) > 0\n",
    "wofl[\"some\"] = apply_numexpr(\"((water<<30)>>30)==0\", wofl, name=\"some\")\n",
    "wofl[\"dry\"] = wofl.water == 0\n",
    "wofl[\"wet\"] = wofl.water == 128\n",
    "wofl = wofl.drop_vars(\"water\")\n",
    "for dv in wofl.data_vars.values():\n",
    "    dv.attrs.pop(\"nodata\", None)"
   ]
  },
  {
   "cell_type": "code",
   "execution_count": null,
   "metadata": {
    "tags": []
   },
   "outputs": [],
   "source": [
    "# Run all the calculations and load into memory\n",
    "wofl = wofl.compute()"
   ]
  },
  {
   "cell_type": "markdown",
   "metadata": {
    "tags": []
   },
   "source": [
    "---\n",
    "<div class=\"alert alert-danger\">\n",
    "    <h4 class=\"alert-heading\">IMPORTANT NOTE:</h4>\n",
    "    <p>The images below are intended to be used to investigate issues of speckling in water bodies. See the Landsat notebook for a comparison.</p>\n",
    "</div>"
   ]
  },
  {
   "cell_type": "code",
   "execution_count": null,
   "metadata": {
    "tags": []
   },
   "outputs": [],
   "source": [
    "# Have a look at the data\n",
    "\n",
    "import matplotlib as mpl\n",
    "from matplotlib.colors import LinearSegmentedColormap\n",
    "\n",
    "water_cmap = LinearSegmentedColormap.from_list('water_class', ['#32373B', '#1789FC'], N=2)\n",
    "\n",
    "###########################################\n",
    "# This code is commented out to save time #\n",
    "###########################################\n",
    "\n",
    "# fig = wofl.wet.plot(col=\"time\", col_wrap=7, size=3, aspect=1,cmap=water_cmap)\n",
    "# for ax in fig.axs.flat:\n",
    "#     ax.xaxis.set_visible(False) # remove tile axes\n",
    "#     ax.yaxis.set_visible(False) # remove tile axes\n",
    "#     ax.set_title(ax.get_title().replace('time = ',''), fontsize=10)  # clean up tile titles\n",
    "# fig.cbar.ax.set_yticks(ticks=[0.25,0.75])\n",
    "# fig.cbar.ax.set_yticklabels(['0 - Not water', '1 - Water'],rotation='vertical',verticalalignment='center')\n",
    "# fig.cbar.ax.set_ylabel(None)\n",
    "# fig"
   ]
  },
  {
   "cell_type": "code",
   "execution_count": null,
   "metadata": {
    "tags": []
   },
   "outputs": [],
   "source": [
    "# Compare a couple of specific scenes to investigate further\n",
    "\n",
    "date_1 = '2021-05-30'\n",
    "date_2 = '2021-12-11'\n",
    "\n",
    "fig = plt.figure(figsize=(14, 14))\n",
    "ax1 = fig.add_subplot(2,2,1, aspect = \"equal\")\n",
    "ax2 = fig.add_subplot(2,2,2, aspect = \"equal\")\n",
    "ax3 = fig.add_subplot(2,2,3, aspect = \"equal\")\n",
    "ax4 = fig.add_subplot(2,2,4, aspect = \"equal\")\n",
    "\n",
    "true_1 = s2_dataset[['nbart_red','nbart_green','nbart_blue']].sel(time=date_1,method='nearest').to_array().plot.imshow(ax=ax1,robust=True)\n",
    "wet_1 = wofl.wet.sel(time=date_1,method='nearest').plot(ax=ax2,add_colorbar=False,cmap=water_cmap)\n",
    "true_2 = s2_dataset[['nbart_red','nbart_green','nbart_blue']].sel(time=date_2,method='nearest').to_array().plot.imshow(ax=ax3,robust=True)\n",
    "wet_2 = wofl.wet.sel(time=date_2,method='nearest').plot(ax=ax4,add_colorbar=False,cmap=water_cmap)\n",
    "ax1.set_title(f'True Color - good classification ({date_1})'), ax1.xaxis.set_visible(False), ax1.yaxis.set_visible(False)\n",
    "ax2.set_title(f'Water classification - good classification ({date_1})'), ax2.xaxis.set_visible(False), ax2.yaxis.set_visible(False)\n",
    "ax3.set_title(f'True Color - poor classification ({date_2})'), ax3.xaxis.set_visible(False), ax3.yaxis.set_visible(False)\n",
    "ax4.set_title(f'Water classification - poor classification ({date_2})'), ax4.xaxis.set_visible(False), ax4.yaxis.set_visible(False)\n",
    "# Forcing the colorbar to be added separately so that it doesn't change the figure sizes\n",
    "ax_cbar1 = fig.add_axes([1, 0.4875, 0.02, 0.4625])\n",
    "ax_cbar2 = fig.add_axes([1, 0, 0.02, 0.4625])\n",
    "cbar1 = fig.colorbar(wet_1,cax=ax_cbar1,ticks=[0.25,0.75])\n",
    "cbar1.ax.set_yticklabels(['0 - Not water', '1 - Water'],rotation='vertical',verticalalignment='center')\n",
    "cbar2 = fig.colorbar(wet_2,cax=ax_cbar2,ticks=[0.25,0.75])\n",
    "cbar2.ax.set_yticklabels(['0 - Not water', '1 - Water'],rotation='vertical',verticalalignment='center')\n",
    "\n",
    "plt.subplots_adjust(left=0,bottom=0,right=0.95,top=0.95,wspace=0.05,hspace=0.05) # tight_layout() doesn't work when using add_axes()\n",
    "plt.show()"
   ]
  },
  {
   "cell_type": "markdown",
   "metadata": {
    "tags": []
   },
   "source": [
    "<div class=\"alert alert-info\">\n",
    "    <h4 class=\"alert-heading\">More information:</h4>\n",
    "    <p>Compared to Landsat, the issue of speckling in the lake appears to be less pronounced, but this example still shows some issues.</p>\n",
    "</div>"
   ]
  },
  {
   "cell_type": "code",
   "execution_count": null,
   "metadata": {
    "tags": []
   },
   "outputs": [],
   "source": [
    "# Helper frunction from https://github.com/opendatacube/odc-stats/blob/develop/odc/stats/plugins/wofs.py\n",
    "def reduce(xx: xr.Dataset) -> xr.Dataset:\n",
    "    nodata = -999\n",
    "    count_some = xx.some.sum(axis=0, dtype=\"int16\")\n",
    "    count_wet = xx.wet.sum(axis=0, dtype=\"int16\")\n",
    "    count_dry = xx.dry.sum(axis=0, dtype=\"int16\")\n",
    "    count_clear = count_wet + count_dry\n",
    "    frequency = safe_div(count_wet, count_clear, dtype=\"float32\")\n",
    "\n",
    "    count_wet.attrs[\"nodata\"] = nodata\n",
    "    count_clear.attrs[\"nodata\"] = nodata\n",
    "\n",
    "    is_ok = count_some > 0\n",
    "    count_wet = keep_good_only(count_wet, is_ok)\n",
    "    count_clear = keep_good_only(count_clear, is_ok)\n",
    "\n",
    "    return xr.Dataset(\n",
    "        dict(\n",
    "            count_wet=count_wet,\n",
    "            count_clear=count_clear,\n",
    "            frequency=frequency,\n",
    "        )\n",
    "    )"
   ]
  },
  {
   "cell_type": "code",
   "execution_count": null,
   "metadata": {
    "tags": []
   },
   "outputs": [],
   "source": [
    "summary = reduce(wofl)\n",
    "summary"
   ]
  },
  {
   "cell_type": "code",
   "execution_count": null,
   "metadata": {
    "tags": []
   },
   "outputs": [],
   "source": [
    "from matplotlib.cm import jet_r\n",
    "jet_r.set_bad('black',1)"
   ]
  },
  {
   "cell_type": "code",
   "execution_count": null,
   "metadata": {
    "tags": []
   },
   "outputs": [],
   "source": [
    "# Plot of wet counts\n",
    "# Areas of RED have experienced little or no water over the time series\n",
    "# Areas of BLUE have experience significant or constant water over the time series\n",
    "summary.count_wet.plot(size=10,cmap = jet_r);\n",
    "plt.title(\"Count of Samples Classified as Water\")\n",
    "plt.axis('off')\n",
    "plt.show()"
   ]
  },
  {
   "cell_type": "code",
   "execution_count": null,
   "metadata": {
    "tags": []
   },
   "outputs": [],
   "source": [
    "# Plot of clear counts\n",
    "summary.count_clear.plot(size=10,cmap = jet_r);\n",
    "plt.title(\"Count of Samples Classified as Water\")\n",
    "plt.axis('off')\n",
    "plt.show()"
   ]
  },
  {
   "cell_type": "code",
   "execution_count": null,
   "metadata": {},
   "outputs": [],
   "source": [
    "# Plot of wet frequency\n",
    "(summary.frequency*100).plot(cmap = jet_r, size=10)\n",
    "plt.title(\"Percent of Samples Classified as Water\")\n",
    "plt.axis('off')\n",
    "plt.show()"
   ]
  },
  {
   "cell_type": "code",
   "execution_count": null,
   "metadata": {},
   "outputs": [],
   "source": []
  }
 ],
 "metadata": {
  "cal": {
   "category": "TBD",
   "title": "Water Observations from Space (WOFS)"
  },
  "kernelspec": {
   "display_name": "Python 3 (ipykernel)",
   "language": "python",
   "name": "python3"
  },
  "language_info": {
   "codemirror_mode": {
    "name": "ipython",
    "version": 3
   },
   "file_extension": ".py",
   "mimetype": "text/x-python",
   "name": "python",
   "nbconvert_exporter": "python",
   "pygments_lexer": "ipython3",
   "version": "3.10.12"
  }
 },
 "nbformat": 4,
 "nbformat_minor": 4
}
