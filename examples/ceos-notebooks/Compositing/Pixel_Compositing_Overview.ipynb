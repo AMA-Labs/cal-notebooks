{
 "cells": [
  {
   "cell_type": "markdown",
   "id": "246f16c8-2fb9-4004-aeb9-d138641476de",
   "metadata": {
    "tags": []
   },
   "source": [
    "# Compositing\n",
    "\n",
    "### Imagery Representation\n",
    "Imagery comes in the form of stacked uniform grids of pixels. Each layer representing an acquisition over a latitude longitude position at a different time.\n",
    "\n",
    "![](diagrams/image_no_error.png)"
   ]
  },
  {
   "cell_type": "markdown",
   "id": "6c7e82db-cd85-4eae-9a32-f4add2f57621",
   "metadata": {},
   "source": [
    "Imagery may not always be suitable for analysis. Malfunctioning instrumentation introduces errors, or clouds might impede an area from analysis.   \n",
    "\n",
    "![](diagrams/imagery_error.png)"
   ]
  },
  {
   "cell_type": "markdown",
   "id": "a39809c0-ddb4-40c1-a352-c59036e0d4c4",
   "metadata": {},
   "source": [
    "## Computing over a composite\n",
    "\n",
    "The goal of compositing(sometimes referred to as mosaicing) is to combine information from several acquisitions/observations over an area, to create a composite image. \n",
    "\n",
    "![](diagrams/composite_goal.png)  \n",
    "\n",
    "One can think of a composite as an uninterrupted/error free representation of an area over a time range. \n",
    "\n",
    "In application use cases like forestry, or water conservation it might suffice to compute a monthly inventory of water body mass or forest size over a composite generated for that month (rather than many small analysis/computations over statistically incoherent imagery)"
   ]
  },
  {
   "cell_type": "markdown",
   "id": "6c563e0c-8467-4340-a729-a6a2a0ced2c5",
   "metadata": {},
   "source": [
    "## Pixel Compositors\n",
    "\n",
    "Pixel compositing approaches compositing per latitude/longitude pixel. (Rather than utilizing surround information in the compositing step) \n",
    "\n",
    "![](diagrams/pixel_compositor.png)  \n"
   ]
  },
  {
   "cell_type": "markdown",
   "id": "63789ea1-58bc-4849-a4f1-1cd3d347329f",
   "metadata": {},
   "source": [
    "### List of Compositors\n",
    "To learn more about various types of pixel compositors and how to use them. Consider this inventory of compositors"
   ]
  },
  {
   "cell_type": "markdown",
   "id": "f72e3155-cea7-4db2-9b6d-841b234c4e92",
   "metadata": {},
   "source": [
    "- [Most Recent Pixel Composite](pixel_compositors/MostRecent.ipynb)  \n",
    "- [Least Recent Pixel Composite](pixel_compositors/LeastRecent.ipynb)  \n",
    "- [Median Composite](pixel_compositors/Median.ipynb)  \n",
    "- [Mean Composite](pixel_compositors/Mean.ipynb)  \n",
    "- [Geometric Median Composite](pixel_compositors/GeometricMedian.ipynb)  "
   ]
  },
  {
   "cell_type": "code",
   "execution_count": null,
   "id": "91b85e46-84c2-40a4-97b4-5bb45c422281",
   "metadata": {},
   "outputs": [],
   "source": []
  }
 ],
 "metadata": {
  "kernelspec": {
   "display_name": "Python 3 (ipykernel)",
   "language": "python",
   "name": "python3"
  },
  "language_info": {
   "codemirror_mode": {
    "name": "ipython",
    "version": 3
   },
   "file_extension": ".py",
   "mimetype": "text/x-python",
   "name": "python",
   "nbconvert_exporter": "python",
   "pygments_lexer": "ipython3",
   "version": "3.10.6"
  }
 },
 "nbformat": 4,
 "nbformat_minor": 5
}
