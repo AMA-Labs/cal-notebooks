{
 "cells": [
  {
   "cell_type": "markdown",
   "metadata": {
    "id": "cLkIcFHhL25E",
    "tags": []
   },
   "source": [
    "### **Table of Contents**\n",
    "<a name=\"top\"></a>\n",
    "\n",
    "1. [About this guide](#About-this-guide)\n",
    "\n",
    "2. [Briefly about Synthetic Aperture Radar](03.02.Briefly_About_Synthetic_Aperture_Radar.ipynb)\n",
    "\n",
    "    2.1. [The radar wavelength](03.02.Briefly_About_Synthetic_Aperture_Radar.ipynb#2_1_The_radar_wavelength)\n",
    "\n",
    "    2.2. [Polarisation](03.02.Briefly_About_Synthetic_Aperture_Radar.ipynb#2_2_Polarisation)\n",
    "  \n",
    "    2.3. [Radar backscatter](03.02.Briefly_About_Synthetic_Aperture_Radar.ipynb#2_3_Radar_backscatter)\n",
    "                           \n",
    "    2.4. [Backscatter mechanisms](03.02.Briefly_About_Synthetic_Aperture_Radar.ipynb#2_4_Backscatter_mechanisms)\n",
    "\n",
    "3. [Synthetic Aperture Radar data used in this guide](03.03.Synthetic_Aperture_Radar_Data_Used_In_This_Guide.ipynb)\n",
    "\n",
    "    3.1. [L-band SAR data](03.03.Synthetic_Aperture_Radar_Data_Used_In_This_Guide.ipynb#3_1_L-band_SAR_data)\n",
    "  \n",
    "    3.2. [C-band SAR data](03.03.Synthetic_Aperture_Radar_Data_Used_In_This_Guide.ipynb#3_2_C-band_SAR_data)\n",
    "\n",
    "4. [Simple SAR interpretation guide](03.04.Simple_SAR_interpretation_guide.ipynb)\n",
    "\n",
    "    4.1. [Cautions when using this guide](03.04.Simple_SAR_interpretation_guide.ipynb#4_1_Cautions_when_using_this_guide)\n",
    "\n",
    "    4.2. [Examples](03.04.Simple_SAR_interpretation_guide.ipynb#4_2_Examples)\n",
    "\n",
    "5. [Resources and references](03.05.Resources_And_References.ipynb)\n",
    "\n",
    "\n",
    "\n",
    "\n",
    "\n",
    "\n",
    "\n",
    "\n",
    "\n",
    "\n",
    "\n",
    "    \n",
    "\n",
    "   \n",
    "\n",
    " \n",
    "\n",
    "\n",
    "    \n",
    "\n",
    "    \n",
    "\n",
    "   \n",
    "\n",
    "\n",
    "\n"
   ]
  },
  {
   "cell_type": "markdown",
   "metadata": {
    "id": "_ENSkFo8NC4l"
   },
   "source": [
    "#### **About the Notebook Version of this Guide**\n",
    "\n",
    "This collection of notebooks is an adaptation of the \"CEOS Layman's Interpretation Guide to L-band and C-band Synthetic Aperture Radar data\". The Guide is <a href=\"https://www.researchgate.net/publication/339825765_A_Layman's_Interpretation_Guide_to_L-band_and_C-band_Synthetic_Aperture_Radar_data_v20\" target=\"_blank\">published here</a>, and is also available as a PDF <a href=\"https://ceos.org/document_management/SEO/DataCube/Laymans_SAR_Interpretation_Guide_2.0.pdf\" target=\"_blank\">here</a>.\n",
    "\n",
    "The intention of this adaptation is to provide a more interactive version of the guide, and also to include a set of examples which run on the CAL envrionement.\n",
    "\n"
   ]
  },
  {
   "cell_type": "markdown",
   "metadata": {
    "id": "ZrNp8RSheyRk"
   },
   "source": [
    "<a name=\"About-this-guide\"></a>\n",
    "### **1. About this guide**"
   ]
  },
  {
   "cell_type": "markdown",
   "metadata": {
    "id": "Z205xTSJe10U"
   },
   "source": [
    "This “layman’s” guide was developed to provide users who have little or no experience of spaceborne Synthetic Aperture Radar (SAR) data with a simple reference document that outlines some basic concepts of radar remote sensing, presents some commonly used SAR datasets, and provides some examples of how a few different land cover types may appear in SAR imagery."
   ]
  },
  {
   "cell_type": "markdown",
   "metadata": {
    "id": "sMXdMk7-e6dP"
   },
   "source": [
    "The guide does not go into the depths of microwave theory or radar processing (there is plenty of literature covering that) as expert knowledge today no longer should need to be a major concern for most users. Many space data providers are also now moving towards the provision of so called analysis-ready data also for SAR, which can be used and integrated with other data sources with little or no need for users to undertake their own processing."
   ]
  },
  {
   "cell_type": "markdown",
   "metadata": {
    "id": "V6trMbWse-UG"
   },
   "source": [
    "That said, some basic understanding of SAR technology and how radar signals interact with the ground is nevertheless required to properly utilise SAR data, as the concept of radar and microwaves is different from that of traditional optics. Different, but not necessarily difficult."
   ]
  },
  {
   "cell_type": "markdown",
   "metadata": {
    "id": "9yrWcjfemtpd"
   },
   "source": [
    "[Back to the top](#top)"
   ]
  }
 ],
 "metadata": {
  "cal": {
   "category": "Introduction and Overview",
   "title": "The Open Data Cube and Available Products"
  },
  "kernelspec": {
   "display_name": "Python 3 (ipykernel)",
   "language": "python",
   "name": "python3"
  },
  "language_info": {
   "codemirror_mode": {
    "name": "ipython",
    "version": 3
   },
   "file_extension": ".py",
   "mimetype": "text/x-python",
   "name": "python",
   "nbconvert_exporter": "python",
   "pygments_lexer": "ipython3",
   "version": "3.10.12"
  }
 },
 "nbformat": 4,
 "nbformat_minor": 4
}
