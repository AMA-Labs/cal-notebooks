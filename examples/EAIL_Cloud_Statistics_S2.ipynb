{
 "cells": [
  {
   "cell_type": "markdown",
   "metadata": {
    "id": "Sh6F9vqIRV55"
   },
   "source": [
    "# Sentinel-2 Cloud Statistics"
   ]
  },
  {
   "cell_type": "code",
   "execution_count": null,
   "metadata": {
    "id": "0CqVvZobRV58",
    "tags": []
   },
   "outputs": [],
   "source": [
    "# Load Data Cube Configuration\n",
    "# from odc_gee import earthengine\n",
    "# dc = earthengine.Datacube(app='Cloud_Statistics')\n",
    "\n",
    "# Import Data Cube API\n",
    "# import utils.data_cube_utilities.data_access_api as dc_api  \n",
    "# api = dc_api.DataAccessApi()\n",
    "\n",
    "# Import Data Cube Utilities\n",
    "import datacube\n",
    "import sys, os\n",
    "os.environ['USE_PYGEOS'] = '0'\n",
    "from dea_tools.plotting import rgb, display_map\n",
    "from dea_tools.bandindices import calculate_indices\n",
    "\n",
    "### EASI tools\n",
    "sys.path.append(os.path.expanduser('/home/jovyan/hub-notebooks/scripts'))\n",
    "from ceos_utils.data_cube_utilities.clean_mask import landsat_clean_mask_invalid, landsat_qa_clean_mask\n",
    "from easi_tools import EasiNotebooks\n",
    "import notebook_utils\n",
    "easi = EasiNotebooks()\n",
    "\n",
    "# Import Common Utilities\n",
    "import numpy as np\n",
    "import xarray as xr\n",
    "import pandas as pd\n",
    "import matplotlib.pyplot as plt"
   ]
  },
  {
   "cell_type": "code",
   "execution_count": null,
   "metadata": {},
   "outputs": [],
   "source": [
    "cluster, client = notebook_utils.initialize_dask(use_gateway=False)\n",
    "display(cluster if cluster else client)\n",
    "print(notebook_utils.localcluster_dashboard(client, server=easi.hub))"
   ]
  },
  {
   "cell_type": "code",
   "execution_count": null,
   "metadata": {},
   "outputs": [],
   "source": [
    "from datacube.utils.aws import configure_s3_access\n",
    "configure_s3_access(aws_unsigned=False, requester_pays=True, client=client)"
   ]
  },
  {
   "cell_type": "code",
   "execution_count": null,
   "metadata": {
    "id": "I3IZgQnORV59",
    "tags": []
   },
   "outputs": [],
   "source": [
    "# Select a Product and Platform\n",
    "product = \"s2_l2a\""
   ]
  },
  {
   "cell_type": "code",
   "execution_count": null,
   "metadata": {
    "id": "4rH7rMK8RV5-",
    "tags": []
   },
   "outputs": [],
   "source": [
    "# Select a Latitude-Longitude point for the center of the analysis region\n",
    "# Select the size of the box (in degrees) surrounding the center point\n",
    "\n",
    "# Mombasa, Kenya\n",
    "# lat_long = (-4.03, 39.62)\n",
    "# box_size_deg = 0.15\n",
    "\n",
    "# Calculate the latitude and longitude bounds of the analysis box\n",
    "# latitude = (lat_long[0]-box_size_deg/2, lat_long[0]+box_size_deg/2)\n",
    "# longitude = (lat_long[1]-box_size_deg/2, lat_long[1]+box_size_deg/2)\n",
    "\n",
    "# Sydney Cricket Ground\n",
    "# latitude = (-33.8951, -33.8902)\n",
    "# longitude = (151.2219, 151.2276)\n",
    "\n",
    "# Sydney, Australia\n",
    "# latitude = (-34.039, -33.668)\n",
    "# longitude = (150.867, 151.350)\n",
    "\n",
    "# Suva, Fiji\n",
    "# latitude = (-18.1725, -18.0492) \n",
    "# longitude = (178.3881, 178.5190) \n",
    "\n",
    "# An Giang Provence - Vietnam\n",
    "# Test Region for EY Data Challenge\n",
    "# SMALL RICE CROP AREA #23\n",
    "# lat_long = (10.404, 105.236)\n",
    "# box_size_deg = 0.005\n",
    "# Calculate the latitude and longitude bounds of the analysis box\n",
    "# latitude = (lat_long[0]-box_size_deg/2, lat_long[0]+box_size_deg/2)\n",
    "# longitude = (lat_long[1]-box_size_deg/2, lat_long[1]+box_size_deg/2)\n",
    "\n",
    "latitude = easi.latitude\n",
    "longitude = easi.longitude"
   ]
  },
  {
   "cell_type": "code",
   "execution_count": null,
   "metadata": {
    "tags": []
   },
   "outputs": [],
   "source": [
    "# Select a time range\n",
    "# The inputs require a format (Min,Max) using this date format (YYYY-MM-DD)\n",
    "# The Sentinel-2 allowable time range is: 2017-03-28 to current\n",
    "time_extents = ('2018-01-01', '2018-12-31')"
   ]
  },
  {
   "cell_type": "code",
   "execution_count": null,
   "metadata": {
    "colab": {
     "base_uri": "https://localhost:8080/",
     "height": 1000
    },
    "id": "2at18ZH5RV5-",
    "outputId": "464882f7-65f6-46bf-c006-d464c38f4554",
    "tags": []
   },
   "outputs": [],
   "source": [
    "# Display the analysis region\n",
    "# Click on the plot to get Lat-Lon coordinates to adjust the region\n",
    "# Zoom in/out on the plot to move around the globe for other regions\n",
    "\n",
    "display_map(longitude,latitude)"
   ]
  },
  {
   "cell_type": "markdown",
   "metadata": {
    "id": "SxqnmkOCRV5_"
   },
   "source": [
    "## Calculate cloud coverage percentage for each pixel "
   ]
  },
  {
   "cell_type": "code",
   "execution_count": null,
   "metadata": {
    "cellView": "form",
    "id": "tj06T-g-RV5_",
    "tags": []
   },
   "outputs": [],
   "source": [
    "# Create a custom cloud coverage table here\n",
    "\n",
    "def build_cloud_coverage_table_sentinel(product,platform,latitude,longitude,\n",
    "                                        time=None,dc=None,extra_band='green',extra_load_params={}):\n",
    "    \n",
    "    load_params = dict(product=product,latitude=latitude,\n",
    "                       longitude=longitude,group_by='solar_day',measurements=[extra_band,'SCL'],**extra_load_params)\n",
    "    \n",
    "    if time is not None: \n",
    "        load_params[\"time\"] = time\n",
    "        \n",
    "    geo_data = dc.load(**load_params)\n",
    "    \n",
    "    times = list(geo_data.time.values)\n",
    "    dates = [dt.astype('datetime64[D]') for dt in geo_data.time.values]\n",
    "    \n",
    "    scene_slice_list = list(map(lambda t: geo_data.sel(time = t), times))\n",
    "    \n",
    "    nodata_mask_list = (geo_data.SCL.values == 0)\n",
    "    \n",
    "    cloud_mask_list = (geo_data.SCL.values == 1) | (geo_data.SCL.values == 3) | (geo_data.SCL.values == 8) | \\\n",
    "                      (geo_data.SCL.values == 9) | (geo_data.SCL.values == 10)\n",
    "    \n",
    "    clean_mask_list = (~nodata_mask_list & ~cloud_mask_list)\n",
    "    \n",
    "    clean_percent = [clean_mask.mean()*100 for clean_mask in clean_mask_list]\n",
    "    cloud_percent = [cloud_mask.mean()*100 for cloud_mask in cloud_mask_list]\n",
    "    nodata_percent = [nodata_mask.mean()*100 for nodata_mask in nodata_mask_list]\n",
    "    \n",
    "    clean_count = list(map(np.sum, clean_mask_list))\n",
    "    total_count = list(map(np.sum, ~nodata_mask_list))\n",
    "    \n",
    "#     data = {\"Dates\": dates,\n",
    "#             \"clean_percentage\": percentage_list,\n",
    "#             \"clean_count\": clean_pixel_count_list }\n",
    "    data = {\"Date\": dates,\"Clean_percent\": clean_percent,\"Cloud_percent\": cloud_percent,\n",
    "            \"NoData_percent\": nodata_percent,\"Clean_count\": clean_count,\"Total_count\": total_count}\n",
    "    \n",
    "    return geo_data, pd.DataFrame(data=data, columns=list(data.keys()))"
   ]
  },
  {
   "cell_type": "code",
   "execution_count": null,
   "metadata": {
    "tags": []
   },
   "outputs": [],
   "source": [
    "dc = datacube.Datacube()"
   ]
  },
  {
   "cell_type": "code",
   "execution_count": null,
   "metadata": {
    "id": "ztq4ad8hRV6A",
    "tags": []
   },
   "outputs": [],
   "source": [
    "# Load the data and calculate the cloud coverage for each time slice\n",
    "sentinel_dataset, coverage_table = build_cloud_coverage_table_sentinel(product = product,\n",
    "                                                                       platform = \"SENTINEL-2\",\n",
    "                                                                       latitude = latitude,\n",
    "                                                                       longitude = longitude,\n",
    "                                                                       time = time_extents,\n",
    "                                                                       dc = dc,\n",
    "                                                                       extra_band = 'green',\n",
    "                                                                       extra_load_params={\n",
    "                                                                         'output_crs':'EPSG:6933',\n",
    "                                                                         'resolution': (-10,10),\n",
    "                                                                         'skip_broken_datasets': True,\n",
    "                                                                         'dask_chunks': {'time':1}\n",
    "                                                                       })"
   ]
  },
  {
   "cell_type": "markdown",
   "metadata": {
    "id": "K8fB96hDRV6B"
   },
   "source": [
    "## Create a table of cloud coverage percentage for each date\n",
    "\n",
    "This table displays data for each time slice in the cube (starting at an index=0). The \"clean percent\" is the percent of pixels WITHOUT clouds. So, low numbers are cloudy scenes and high numbers are clearer scenes. The \"Clean_count\" is the number of clear pixels in the scene and the \"Total_count\" is the total number of pixels in the scene.\n",
    "\n",
    "Typically, there is a separation of 5 days between Sentinel-2 scenes for a single location. This considers the availability of two missions (A and B) which is the case for most places in the world. When there is significant cloud cover, scenes may be missing from time series due to issues with processing and geolocation. "
   ]
  },
  {
   "cell_type": "code",
   "execution_count": null,
   "metadata": {
    "colab": {
     "base_uri": "https://localhost:8080/",
     "height": 407
    },
    "id": "asP7DXL2RV6B",
    "outputId": "361811da-e76c-473c-ad3c-91b3c0858a4f",
    "tags": []
   },
   "outputs": [],
   "source": [
    "pd.set_option('display.max_rows', len(coverage_table))\n",
    "coverage_table"
   ]
  },
  {
   "cell_type": "markdown",
   "metadata": {
    "id": "YImegAVbRV6C"
   },
   "source": [
    "## Create a plot of cloud coverage percentage for each date"
   ]
  },
  {
   "cell_type": "code",
   "execution_count": null,
   "metadata": {
    "colab": {
     "base_uri": "https://localhost:8080/",
     "height": 320
    },
    "id": "VjRr8WrORV6C",
    "outputId": "96ff27d3-d664-46b8-9aa1-5bb8140d5629",
    "scrolled": true,
    "tags": []
   },
   "outputs": [],
   "source": [
    "plt.figure(figsize = (15,5))\n",
    "plt.plot(coverage_table[\"Date\"].values, coverage_table[\"Clean_percent\"].values, 'bo', markersize=8)\n",
    "plt.ylim([0, 105])\n",
    "plt.show()"
   ]
  },
  {
   "cell_type": "markdown",
   "metadata": {
    "id": "IOoHBsr5RV6C"
   },
   "source": [
    "## Review an RGB scene for a selected time slice"
   ]
  },
  {
   "cell_type": "code",
   "execution_count": null,
   "metadata": {
    "id": "25oLPHdJRV6C",
    "tags": []
   },
   "outputs": [],
   "source": [
    "# Load the data to create an RGB image\n",
    "sentinel_dataset = dc.load(like=sentinel_dataset,\n",
    "                           product='s2_l2a',\n",
    "                           measurements = ['red', 'green', 'blue', 'nir', 'swir_1', 'swir_2'],\n",
    "                           dask_chunks={'time':1}) "
   ]
  },
  {
   "cell_type": "code",
   "execution_count": null,
   "metadata": {
    "colab": {
     "base_uri": "https://localhost:8080/",
     "height": 484
    },
    "id": "ZmW5PCf6RV6D",
    "outputId": "e425b172-cbd8-4ef6-a91e-256d12602817",
    "tags": []
   },
   "outputs": [],
   "source": [
    "# Select one of the time slices and create an RGB image. \n",
    "# Time slices are numbered from 0 to x and shown in the table above\n",
    "# Review the clean_percentage values above to select scenes with few clouds\n",
    "# Clouds will be visible in WHITE for an RGB image\n",
    "\n",
    "# RGB image options\n",
    "# True-Color RGB = Red, Green, Blue\n",
    "# False Color RGB (Mosaic) = SWIR2, NIR, Green\n",
    "\n",
    "slice = 0\n",
    "\n",
    "fig, ax = plt.subplots(1, 2, figsize=(16, 8))\n",
    "true_rgb = sentinel_dataset.isel(time=slice)[['red', 'green', 'blue']].to_array()\n",
    "false_rgb = sentinel_dataset.isel(time=slice)[['swir_2', 'nir', 'green']].to_array()\n",
    "true_rgb.plot.imshow(ax=ax[0], vmin=0, vmax=2000)\n",
    "false_rgb.plot.imshow(ax=ax[1], vmin=0, vmax=5000)\n",
    "ax[0].set_title('True Color'), ax[0].xaxis.set_visible(False), ax[0].yaxis.set_visible(False)\n",
    "ax[1].set_title('False Color'), ax[1].xaxis.set_visible(False), ax[1].yaxis.set_visible(False)\n",
    "plt.show()"
   ]
  },
  {
   "cell_type": "code",
   "execution_count": null,
   "metadata": {},
   "outputs": [],
   "source": []
  }
 ],
 "metadata": {
  "colab": {
   "collapsed_sections": [],
   "name": "02.02.Colab_Cloud_Statistics_S2.ipynb",
   "provenance": []
  },
  "kernelspec": {
   "display_name": "Python 3 (ipykernel)",
   "language": "python",
   "name": "python3"
  },
  "language_info": {
   "codemirror_mode": {
    "name": "ipython",
    "version": 3
   },
   "file_extension": ".py",
   "mimetype": "text/x-python",
   "name": "python",
   "nbconvert_exporter": "python",
   "pygments_lexer": "ipython3",
   "version": "3.10.6"
  }
 },
 "nbformat": 4,
 "nbformat_minor": 4
}
