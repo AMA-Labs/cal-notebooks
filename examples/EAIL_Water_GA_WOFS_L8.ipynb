{
 "cells": [
  {
   "cell_type": "markdown",
   "metadata": {},
   "source": [
    "<a id=\"top\"></a>\n",
    "# Water Observations from Space (WOFS)\n",
    "\n",
    "This notebook demonstrates the Australian Water Observations from Space (WOFS) algorithm. This water detection algorithm is an improvement over the Landsat QA water flag or the NDWI index for water identification. For more information, visit this website:\n",
    "\n",
    "http://www.ga.gov.au/scientific-topics/hazards/flood/wofs\n",
    "\n",
    "This notebook uses a downloaded copy of the GA WOFS algorithm from https://github.com/GeoscienceAustralia/wofs"
   ]
  },
  {
   "cell_type": "markdown",
   "metadata": {},
   "source": [
    "## Install WOFS package"
   ]
  },
  {
   "cell_type": "markdown",
   "metadata": {},
   "source": [
    "This should only need to be run once.\n",
    "Once it is finished, make sure that you __refresh your browser__ and select the new 'wofs' kernel from the kernel selector at the top right."
   ]
  },
  {
   "cell_type": "code",
   "execution_count": null,
   "metadata": {
    "tags": []
   },
   "outputs": [],
   "source": [
    "# !sh ../bin/install_wofs.sh"
   ]
  },
  {
   "cell_type": "markdown",
   "metadata": {},
   "source": [
    "## <span id=\"import\">Import Dependencies and Connect to the Data Cube [&#9652;](#top)</span>"
   ]
  },
  {
   "cell_type": "code",
   "execution_count": null,
   "metadata": {
    "tags": []
   },
   "outputs": [],
   "source": [
    "import datacube\n",
    "dc = datacube.Datacube(app='Water_Observations_from_Space')\n",
    "from datacube.utils import masking\n",
    "\n",
    "import sys, os\n",
    "os.environ['USE_PYGEOS'] = '0'\n",
    "from pathlib import Path\n",
    "\n",
    "import datetime\n",
    "import matplotlib.pyplot as plt\n",
    "import numpy as np  \n",
    "import xarray as xr\n",
    "import rioxarray\n",
    "import pandas as pd\n",
    "\n",
    "from dea_tools.plotting import rgb, display_map\n",
    "from dea_tools.bandindices import calculate_indices\n",
    "\n",
    "### EASI tools\n",
    "sys.path.append(os.path.expanduser('../scripts'))\n",
    "from ceos_utils.data_cube_utilities.clean_mask import landsat_clean_mask_invalid, landsat_qa_clean_mask\n",
    "from easi_tools import EasiDefaults\n",
    "from easi_tools import notebook_utils\n",
    "easi = EasiDefaults() # Get the default parameters for this system"
   ]
  },
  {
   "cell_type": "code",
   "execution_count": null,
   "metadata": {
    "tags": []
   },
   "outputs": [],
   "source": [
    "cluster, client = notebook_utils.initialize_dask(use_gateway=False)\n",
    "display(cluster if cluster else client)\n",
    "print(notebook_utils.localcluster_dashboard(client, server=easi.hub))"
   ]
  },
  {
   "cell_type": "code",
   "execution_count": null,
   "metadata": {
    "tags": []
   },
   "outputs": [],
   "source": [
    "from datacube.utils.aws import configure_s3_access\n",
    "configure_s3_access(aws_unsigned=False, requester_pays=True, client=client)"
   ]
  },
  {
   "cell_type": "markdown",
   "metadata": {},
   "source": [
    "## <span id=\"plat_prod\">Choose Platforms and Products [&#9652;](#top)</span>"
   ]
  },
  {
   "cell_type": "code",
   "execution_count": null,
   "metadata": {
    "tags": []
   },
   "outputs": [],
   "source": [
    "# Define the Product\n",
    "product = \"landsat8_c2l2_sr\""
   ]
  },
  {
   "cell_type": "markdown",
   "metadata": {},
   "source": [
    "## <span id=\"define_extents\">Define the Extents of the Analysis [&#9652;](#top)</span>"
   ]
  },
  {
   "cell_type": "code",
   "execution_count": null,
   "metadata": {
    "tags": []
   },
   "outputs": [],
   "source": [
    "# Select an analysis region (Latitude-Longitude) \n",
    "# Select a time period within the extents of the dataset (Year-Month-Day)\n",
    "\n",
    "# Mombasa, Kenya\n",
    "# latitude = (-4.05, -3.95) \n",
    "# longitude = (39.60, 39.68) \n",
    "\n",
    "# latitude=easi.latitude\n",
    "# longitude=easi.longitude\n",
    "# latitude = (36.3, 36.5)\n",
    "# longitude = (-114.3, -114.5)\n",
    "\n",
    "# For this, we will deliberately use UTM projected coordinates as it\n",
    "# appears that there might be a big in the wofs code when the area\n",
    "# of interest has different sizes in the x and y dimensions\n",
    "from pyproj import Proj, CRS, Transformer\n",
    "crs = CRS.from_epsg(32611)\n",
    "to_utm = Transformer.from_crs(crs.geodetic_crs, crs)\n",
    "to_latlong = Transformer.from_crs(crs, crs.geodetic_crs)\n",
    "utm = to_utm.transform(36.38,-114.4)\n",
    "buffer = 12000 # set the buffer size in m\n",
    "\n",
    "# Convert back to latitudes and longitudes to visualise the area\n",
    "topleft = to_latlong.transform(utm[0]+buffer,utm[1]-buffer)\n",
    "bottomright = to_latlong.transform(utm[0]-buffer,utm[1]+buffer)\n",
    "latitude = (topleft[0],bottomright[0])\n",
    "longitude = (topleft[1],bottomright[1])\n",
    "\n",
    "# Define Time Range\n",
    "# Landsat-8 time range: 07-Apr-2013 to current\n",
    "time_extents = ('2021-01-01', '2021-12-31')"
   ]
  },
  {
   "cell_type": "code",
   "execution_count": null,
   "metadata": {
    "tags": []
   },
   "outputs": [],
   "source": [
    "# The code below renders a map that can be used to view the analysis region.\n",
    "display_map(longitude,latitude)"
   ]
  },
  {
   "cell_type": "markdown",
   "metadata": {},
   "source": [
    "## <span id=\"load_data\">Load and Clean Data from the Data Cube [&#9652;](#top)</span>\n",
    "After loading, you will view the Xarray dataset. Notice the dimensions represent the number of pixels in your latitude and longitude dimension as well as the number of time slices (time) in your time series."
   ]
  },
  {
   "cell_type": "code",
   "execution_count": null,
   "metadata": {
    "tags": []
   },
   "outputs": [],
   "source": [
    "measurements = ['red', 'green', 'blue', 'nir', 'swir1', 'swir2', 'pixel_qa']\n",
    "data_names = measurements.copy()\n",
    "data_names.remove('pixel_qa')"
   ]
  },
  {
   "cell_type": "code",
   "execution_count": null,
   "metadata": {
    "tags": []
   },
   "outputs": [],
   "source": [
    "landsat_dataset = dc.load(y = (utm[1]-buffer,utm[1]+buffer),\n",
    "                          x = (utm[0]-buffer,utm[0]+buffer),\n",
    "                          time = time_extents,\n",
    "                          product = product,\n",
    "                          crs = 'EPSG:32611',\n",
    "                          output_crs = 'EPSG:32611',\n",
    "                          resolution = (-30,30),\n",
    "                          measurements = measurements,\n",
    "                          dask_chunks = {'time':1},\n",
    "                          group_by = 'solar_day') "
   ]
  },
  {
   "cell_type": "code",
   "execution_count": null,
   "metadata": {},
   "outputs": [],
   "source": [
    "landsat_dataset"
   ]
  },
  {
   "cell_type": "code",
   "execution_count": null,
   "metadata": {
    "tags": []
   },
   "outputs": [],
   "source": [
    "# Where to save the DEM fetched in ODC\n",
    "DEM_PATH = \"dem_for_wofs.tif\""
   ]
  },
  {
   "cell_type": "code",
   "execution_count": null,
   "metadata": {
    "tags": []
   },
   "outputs": [],
   "source": [
    "# Load the elevation data\n",
    "from os import environ\n",
    "from cartopy.crs import PlateCarree\n",
    "from datacube import Datacube\n",
    "from datashader import reductions\n",
    "import holoviews as hv\n",
    "import hvplot.xarray\n",
    "import matplotlib.pyplot as plt\n",
    "\n",
    "dem = dc.load(\n",
    "    product=\"copernicus_dem_30\", \n",
    "    y = (utm[1]-buffer,utm[1]+buffer),\n",
    "    x = (utm[0]-buffer,utm[0]+buffer),\n",
    "    crs = \"epsg:32611\",\n",
    "    output_crs=\"epsg:32611\", \n",
    "    resolution=(-30, 30)\n",
    ")\n",
    "elevation = dem.elevation.squeeze()"
   ]
  },
  {
   "cell_type": "code",
   "execution_count": null,
   "metadata": {
    "tags": []
   },
   "outputs": [],
   "source": [
    "# Have a look at the DEM data\n",
    "options = {\n",
    "    'title': 'Elevation',\n",
    "    'frame_width': 400,\n",
    "    'frame_height': 400,\n",
    "    'aspect': 'equal',\n",
    "    'cmap': plt.cm.terrain,\n",
    "    'clim': (elevation.min().values.item(), elevation.max().values.item()),    # Limit the color range\n",
    "    'colorbar': True,\n",
    "    'tools': ['hover'],\n",
    "}\n",
    "plot_crs = 'epsg:32611'\n",
    "elevation.hvplot.image(\n",
    "     x = 'x', y = 'y',         # Dataset x,y dimension names \n",
    "     crs = plot_crs,\n",
    "     rasterize = True,                        # If False, data will not be reduced. This is slow to load but all data is loaded.\n",
    "     aggregator = reductions.mean(),          # Datashader calculates the mean value for reductions (also first, min, max, las, std, mode)\n",
    "     precompute = True,                       # Datashader precomputes what it can\n",
    "    ).opts(**options).hist(bin_range = options['clim'])"
   ]
  },
  {
   "cell_type": "code",
   "execution_count": null,
   "metadata": {
    "tags": []
   },
   "outputs": [],
   "source": [
    "dem_path = Path(DEM_PATH)\n",
    "dem_path.parent.mkdir(parents=True, exist_ok=True)\n",
    "elevation.rio.to_raster(dem_path)"
   ]
  },
  {
   "cell_type": "code",
   "execution_count": null,
   "metadata": {
    "tags": []
   },
   "outputs": [],
   "source": [
    "# clear_mask = masking.make_mask(landsat_dataset['pixel_qa'], clear='clear')\n",
    "# water_mask = masking.make_mask(landsat_dataset['pixel_qa'], water='water')\n",
    "# cloud_mask = masking.make_mask(landsat_dataset['pixel_qa'], cloud='not_high_confidence', cloud_shadow='not_high_confidence')\n",
    "# clean_mask = (clear_mask | water_mask) & cloud_mask\n",
    "\n",
    "# good_data = landsat_dataset[data_names].where(clean_mask)\n",
    "# # good_data.red.plot(col='time',col_wrap=6)"
   ]
  },
  {
   "cell_type": "code",
   "execution_count": null,
   "metadata": {
    "tags": []
   },
   "outputs": [],
   "source": [
    "# from ceos_utils.data_cube_utilities.clean_mask import landsat_qa_clean_mask\n",
    "# cloud_mask_ceos = landsat_qa_clean_mask(landsat_dataset, platform=\"LANDSAT_8\", collection=\"c2\")"
   ]
  },
  {
   "cell_type": "code",
   "execution_count": null,
   "metadata": {
    "tags": []
   },
   "outputs": [],
   "source": [
    "# cloud_mask = np.bitwise_and(landsat_dataset.pixel_qa,64).astype(bool)\n",
    "# cleaned_dataset = landsat_dataset.drop('pixel_qa').where(cloud_mask)\n",
    "# cleaned_dataset.red.plot(col='time',col_wrap=4)"
   ]
  },
  {
   "cell_type": "markdown",
   "metadata": {},
   "source": [
    "## <span id=\"time_series_water\">Time Series Water Detection Analysis [&#9652;](#top)</span>\n",
    "Time series output of the Australian Water Observations from Space (WOFS) results. The results show the percent of time that a pixel is classified as water over the entire time series. BLUE = frequent water, RED = infrequent water."
   ]
  },
  {
   "cell_type": "code",
   "execution_count": null,
   "metadata": {
    "tags": []
   },
   "outputs": [],
   "source": [
    "from wofs.virtualproduct import WOfSClassifier"
   ]
  },
  {
   "cell_type": "code",
   "execution_count": null,
   "metadata": {
    "tags": []
   },
   "outputs": [],
   "source": [
    "# Rename some variables so that the GA algorithm works\n",
    "landsat_dataset = landsat_dataset.rename_vars({\n",
    "    \"blue\": \"nbart_blue\",\n",
    "    \"green\": \"nbart_green\",\n",
    "    \"red\": \"nbart_red\",\n",
    "    \"nir\": \"nbart_nir\",\n",
    "    \"swir1\": \"nbart_swir_1\",\n",
    "    \"swir2\": \"nbart_swir_2\",\n",
    "    \"pixel_qa\": \"fmask\",\n",
    "})\n",
    "landsat_dataset"
   ]
  },
  {
   "cell_type": "code",
   "execution_count": null,
   "metadata": {},
   "outputs": [],
   "source": [
    "# Prepare the classifier\n",
    "ts_water_classification = WOfSClassifier(c2_scaling=True,dsm_path=DEM_PATH,dsm_no_data=-32767)"
   ]
  },
  {
   "cell_type": "code",
   "execution_count": null,
   "metadata": {
    "tags": []
   },
   "outputs": [],
   "source": [
    "# Run the classification. There might be some warnings about invalid values.\n",
    "wofl = ts_water_classification.compute(landsat_dataset)"
   ]
  },
  {
   "cell_type": "code",
   "execution_count": null,
   "metadata": {
    "tags": []
   },
   "outputs": [],
   "source": [
    "# Rename dimensions as required\n",
    "wofl = wofl.rename({\"x\": \"longitude\", \"y\": \"latitude\"})"
   ]
  },
  {
   "cell_type": "code",
   "execution_count": null,
   "metadata": {
    "tags": []
   },
   "outputs": [],
   "source": [
    "# Now categorise the data based on the classifier output\n",
    "from odc.algo import safe_div, apply_numexpr, keep_good_only\n",
    "\n",
    "wofl[\"bad\"] = (wofl.water & 0b0111_1110) > 0\n",
    "wofl[\"some\"] = apply_numexpr(\"((water<<30)>>30)==0\", wofl, name=\"some\")\n",
    "wofl[\"dry\"] = wofl.water == 0\n",
    "wofl[\"wet\"] = wofl.water == 128\n",
    "wofl = wofl.drop_vars(\"water\")\n",
    "for dv in wofl.data_vars.values():\n",
    "    dv.attrs.pop(\"nodata\", None)"
   ]
  },
  {
   "cell_type": "code",
   "execution_count": null,
   "metadata": {
    "tags": []
   },
   "outputs": [],
   "source": [
    "# Run all the calculations and load into memory\n",
    "wofl = wofl.compute()"
   ]
  },
  {
   "cell_type": "markdown",
   "metadata": {
    "tags": []
   },
   "source": [
    "---\n",
    "<div class=\"alert alert-danger\">\n",
    "    <h4 class=\"alert-heading\">IMPORTANT NOTE:</h4>\n",
    "    <p>The images below show some prime examples of what happens when WOFS doesn't work properly. There are many images where there is an area of blue (water detected) around the edge of the lake, but the center of the lake is black (not water) or speckled with blue.</p>\n",
    "    <p>More commentary on this below.</p>\n",
    "</div>"
   ]
  },
  {
   "cell_type": "code",
   "execution_count": null,
   "metadata": {
    "tags": []
   },
   "outputs": [],
   "source": [
    "# Have a look at the data\n",
    "import matplotlib as mpl\n",
    "from matplotlib.colors import LinearSegmentedColormap\n",
    "\n",
    "water_cmap = LinearSegmentedColormap.from_list('water_class', ['#32373B', '#1789FC'], N=2)\n",
    "fig = wofl.wet.plot(col=\"time\", col_wrap=7, size=3, aspect=1,cmap=water_cmap)\n",
    "for ax in fig.axs.flat:\n",
    "    ax.xaxis.set_visible(False) # remove tile axes\n",
    "    ax.yaxis.set_visible(False) # remove tile axes\n",
    "    ax.set_title(ax.get_title().replace('time = ',''), fontsize=10)  # clean up tile titles\n",
    "fig.cbar.ax.set_yticks(ticks=[0.25,0.75])\n",
    "fig.cbar.ax.set_yticklabels(['0 - Not water', '1 - Water'],rotation='vertical',verticalalignment='center')\n",
    "fig.cbar.ax.set_ylabel(None)\n",
    "fig"
   ]
  },
  {
   "cell_type": "code",
   "execution_count": null,
   "metadata": {
    "tags": []
   },
   "outputs": [],
   "source": [
    "# Compare a couple of specific scenes to investigate further\n",
    "\n",
    "date_1 = '2021-01-13'\n",
    "date_2 = '2021-03-02'\n",
    "\n",
    "fig = plt.figure(figsize=(14, 14))\n",
    "ax1 = fig.add_subplot(2,2,1, aspect = \"equal\")\n",
    "ax2 = fig.add_subplot(2,2,2, aspect = \"equal\")\n",
    "ax3 = fig.add_subplot(2,2,3, aspect = \"equal\")\n",
    "ax4 = fig.add_subplot(2,2,4, aspect = \"equal\")\n",
    "\n",
    "true_1 = landsat_dataset[['nbart_red','nbart_green','nbart_blue']].sel(time=date_1,method='nearest').to_array().plot.imshow(ax=ax1,robust=True)\n",
    "wet_1 = wofl.wet.sel(time=date_1,method='nearest').plot(ax=ax2,add_colorbar=False,cmap=water_cmap)\n",
    "true_2 = landsat_dataset[['nbart_red','nbart_green','nbart_blue']].sel(time=date_2,method='nearest').to_array().plot.imshow(ax=ax3,robust=True)\n",
    "wet_2 = wofl.wet.sel(time=date_2,method='nearest').plot(ax=ax4,add_colorbar=False,cmap=water_cmap)\n",
    "ax1.set_title(f'True Color - good classification ({date_1})'), ax1.xaxis.set_visible(False), ax1.yaxis.set_visible(False)\n",
    "ax2.set_title(f'Water classification - good classification ({date_1})'), ax2.xaxis.set_visible(False), ax2.yaxis.set_visible(False)\n",
    "ax3.set_title(f'True Color - poor classification ({date_2})'), ax3.xaxis.set_visible(False), ax3.yaxis.set_visible(False)\n",
    "ax4.set_title(f'Water classification - poor classification ({date_2})'), ax4.xaxis.set_visible(False), ax4.yaxis.set_visible(False)\n",
    "# Forcing the colorbar to be added separately so that it doesn't change the figure sizes\n",
    "ax_cbar1 = fig.add_axes([1, 0.4875, 0.02, 0.4625])\n",
    "ax_cbar2 = fig.add_axes([1, 0, 0.02, 0.4625])\n",
    "cbar1 = fig.colorbar(wet_1,cax=ax_cbar1,ticks=[0.25,0.75])\n",
    "cbar1.ax.set_yticklabels(['0 - Not water', '1 - Water'],rotation='vertical',verticalalignment='center')\n",
    "cbar2 = fig.colorbar(wet_2,cax=ax_cbar2,ticks=[0.25,0.75])\n",
    "cbar2.ax.set_yticklabels(['0 - Not water', '1 - Water'],rotation='vertical',verticalalignment='center')\n",
    "\n",
    "plt.subplots_adjust(left=0,bottom=0,right=0.95,top=0.95,wspace=0.05,hspace=0.05) # tight_layout() doesn't work when using add_axes()\n",
    "plt.show()"
   ]
  },
  {
   "cell_type": "markdown",
   "metadata": {
    "tags": []
   },
   "source": [
    "<div class=\"alert alert-info\">\n",
    "    <h4 class=\"alert-heading\">More information:</h4>\n",
    "    <p>As can be seen above, both selected dates appear similar and are nice clear images, with no cloud or atmospheric interference, yet in the second set of images, the classification fails in the middle of the lake. In this scene, the classification in the lake should be completely blue as with the first scene. This appears to happen in deep, clear (dark) water bodies like this lake and it is common in Chile as well.</p>\n",
    "    <p>There is a comment in the original WOFS paper regarding excessive noise over large lakes, but there may also be issues with parameterisation in clear/dark water bodies when there is insufficient contrast between some bands.</p>\n",
    "    <p><em>Copied from <a href=\"https://doi.org/10.1016/j.rse.2015.11.003\">https://doi.org/10.1016/j.rse.2015.11.003</a>:</em></p>\n",
    "    <blockquote style=\"border-left: 5px solid #4dd0e1;\">A significant issue for large water bodies is signal noise for very clear water (Nichol and Vohora 2004). Data values in areas of very clear water are extremely low, often only 1 to 2 DN in the uncorrected Landsat data. This results in corresponding low values once the surface reflectance correction has been implemented, with additional issues from any error in the ancillary data used to produce the correction. As such it becomes possible for the noise to exceed the measurement by the Thematic Mapper sensor and hence the observed spectra to indicate that the target is not water. The observed values of NDI_43 and NDI_52 (see Table 2) can easily result in a water pixel in the centre of a lake being detected as not-water as the noise results in unusual values and the resulting index displays a strong positive value where it should physically be equally negative. Hence some issues arise in permanent water bodies (and ocean areas) occasionally being classified as not-water. This appears as speckle within large water bodies. A curious side effect of this behaviour is that shallow areas often display as having a higher water observation frequency than deep areas, apparently due to the improved signal to noise associated with the contribution of substrate reflectance. This is a subject for further investigation.\n",
    "    </blockquote>\n",
    "    <p>As a result, although this example results in an acceptable final image showing water frequencies of roughly 100% in the middle of the lake, this is primarily because the noise in many scenes results in a lower count of total observations rather than it being a \"true\" 100%</p>\n",
    "</div>"
   ]
  },
  {
   "cell_type": "code",
   "execution_count": null,
   "metadata": {
    "tags": []
   },
   "outputs": [],
   "source": [
    "# Compare a couple of specific scenes to investigate further\n",
    "# NEED TO USE THE MODIFIED WOFS CODE TO LOOK DEEPER\n",
    "\n",
    "NDI_43 = (landsat_dataset.nbart_red - landsat_dataset.nbart_green) / (landsat_dataset.nbart_red + landsat_dataset.nbart_green)\n",
    "NDI_52 = (landsat_dataset.nbart_nir - landsat_dataset.nbart_blue) / (landsat_dataset.nbart_nir + landsat_dataset.nbart_blue)\n",
    "NDI_72 = (landsat_dataset.nbart_swir_2 - landsat_dataset.nbart_blue) / (landsat_dataset.nbart_swir_2 + landsat_dataset.nbart_blue)\n",
    "\n",
    "fig, axs = plt.subplots(4, 5, figsize=(20,10), subplot_kw=dict(aspect=\"equal\"))\n",
    "\n",
    "# Force the colour ranges to show what we need\n",
    "data_band_min = 7000\n",
    "data_band_max = 9000\n",
    "\n",
    "NDI_43_min = -0.1\n",
    "NDI_43_max = 0.7\n",
    "\n",
    "NDI_52_min = -0.2\n",
    "NDI_52_max = 0.7\n",
    "\n",
    "NDI_72_min = -0.3\n",
    "NDI_72_max = 0.3\n",
    "\n",
    "NDI_43_1 = NDI_43.sel(time=date_1,method='nearest').plot(ax=axs[0][0],cmap='Spectral',vmin=NDI_43_min,vmax=NDI_43_max)\n",
    "NDI_52_1 = NDI_52.sel(time=date_1,method='nearest').plot(ax=axs[0][1],cmap='Spectral',vmin=NDI_52_min,vmax=NDI_52_max)\n",
    "NDI_72_1 = NDI_72.sel(time=date_1,method='nearest').plot(ax=axs[0][2],cmap='Spectral',vmin=NDI_72_min,vmax=NDI_72_max)\n",
    "BLUE_1 = landsat_dataset.nbart_blue.sel(time=date_1,method='nearest').plot(ax=axs[0][3],vmin=data_band_min,vmax=data_band_max)\n",
    "GREEN_1 = landsat_dataset.nbart_blue.sel(time=date_1,method='nearest').plot(ax=axs[0][4],vmin=data_band_min,vmax=data_band_max)\n",
    "RED_1 = landsat_dataset.nbart_blue.sel(time=date_1,method='nearest').plot(ax=axs[1][0],vmin=data_band_min,vmax=data_band_max)\n",
    "NIR_1 = landsat_dataset.nbart_nir.sel(time=date_1,method='nearest').plot(ax=axs[1][1],vmin=data_band_min,vmax=data_band_max)\n",
    "SWIR_1_1 = landsat_dataset.nbart_swir_1.sel(time=date_1,method='nearest').plot(ax=axs[1][2],vmin=data_band_min,vmax=data_band_max)\n",
    "SWIR_2_1 = landsat_dataset.nbart_swir_2.sel(time=date_1,method='nearest').plot(ax=axs[1][3],vmin=data_band_min,vmax=data_band_max)\n",
    "\n",
    "NDI_43_2 = NDI_43.sel(time=date_2,method='nearest').plot(ax=axs[2][0],cmap='Spectral',vmin=NDI_43_min,vmax=NDI_43_max)\n",
    "NDI_52_2 = NDI_52.sel(time=date_2,method='nearest').plot(ax=axs[2][1],cmap='Spectral',vmin=NDI_52_min,vmax=NDI_52_max)\n",
    "NDI_72_2 = NDI_72.sel(time=date_2,method='nearest').plot(ax=axs[2][2],cmap='Spectral',vmin=NDI_72_min,vmax=NDI_72_max)\n",
    "BLUE_2 = landsat_dataset.nbart_blue.sel(time=date_2,method='nearest').plot(ax=axs[2][3],vmin=data_band_min,vmax=data_band_max)\n",
    "GREEN_2 = landsat_dataset.nbart_blue.sel(time=date_2,method='nearest').plot(ax=axs[2][4],vmin=data_band_min,vmax=data_band_max)\n",
    "RED_2 = landsat_dataset.nbart_blue.sel(time=date_2,method='nearest').plot(ax=axs[3][0],vmin=data_band_min,vmax=data_band_max)\n",
    "NIR_2 = landsat_dataset.nbart_nir.sel(time=date_2,method='nearest').plot(ax=axs[3][1],vmin=data_band_min,vmax=data_band_max)\n",
    "SWIR_1_2 = landsat_dataset.nbart_swir_1.sel(time=date_2,method='nearest').plot(ax=axs[3][2],vmin=data_band_min,vmax=data_band_max)\n",
    "SWIR_2_2 = landsat_dataset.nbart_swir_2.sel(time=date_2,method='nearest').plot(ax=axs[3][3],vmin=data_band_min,vmax=data_band_max)\n",
    "\n",
    "title_fontsize = 10\n",
    "axs[0][0].set_title(f'NDI_43 - good ({date_1})',fontsize=title_fontsize)\n",
    "axs[0][1].set_title(f'NDI_52 - good ({date_1})',fontsize=title_fontsize)\n",
    "axs[0][2].set_title(f'NDI_72 - good ({date_1})',fontsize=title_fontsize)\n",
    "axs[0][3].set_title(f'Blue - good ({date_1})',fontsize=title_fontsize)\n",
    "axs[0][4].set_title(f'Green - good ({date_1})',fontsize=title_fontsize)\n",
    "axs[1][0].set_title(f'Red - good ({date_1})',fontsize=title_fontsize)\n",
    "axs[1][1].set_title(f'NIR - good ({date_1})',fontsize=title_fontsize)\n",
    "axs[1][2].set_title(f'SWIR_1 - good ({date_1})',fontsize=title_fontsize)\n",
    "axs[1][3].set_title(f'SWIR_2 - good ({date_1})',fontsize=title_fontsize)\n",
    "axs[2][0].set_title(f'NDI_43 - poor ({date_2})',fontsize=title_fontsize)\n",
    "axs[2][1].set_title(f'NDI_52 - poor ({date_2})',fontsize=title_fontsize)\n",
    "axs[2][2].set_title(f'NDI_72 - poor ({date_2})',fontsize=title_fontsize)\n",
    "axs[2][3].set_title(f'Blue - poor ({date_2})',fontsize=title_fontsize)\n",
    "axs[2][4].set_title(f'Green - poor ({date_2})',fontsize=title_fontsize)\n",
    "axs[3][0].set_title(f'Red - poor ({date_2})',fontsize=title_fontsize)\n",
    "axs[3][1].set_title(f'NIR - poor ({date_1})',fontsize=title_fontsize)\n",
    "axs[3][2].set_title(f'SWIR_1 - poor ({date_1})',fontsize=title_fontsize)\n",
    "axs[3][3].set_title(f'SWIR_2 - poor ({date_1})',fontsize=title_fontsize)\n",
    "\n",
    "for ax1 in axs:\n",
    "    for ax in ax1:\n",
    "        ax.xaxis.set_visible(False)\n",
    "        ax.yaxis.set_visible(False)\n",
    "plt.tight_layout()\n",
    "plt.show()"
   ]
  },
  {
   "cell_type": "code",
   "execution_count": null,
   "metadata": {
    "tags": []
   },
   "outputs": [],
   "source": [
    "# Helper frunction from https://github.com/opendatacube/odc-stats/blob/develop/odc/stats/plugins/wofs.py\n",
    "def reduce(xx: xr.Dataset) -> xr.Dataset:\n",
    "    nodata = -999\n",
    "    count_some = xx.some.sum(axis=0, dtype=\"int16\")\n",
    "    count_wet = xx.wet.sum(axis=0, dtype=\"int16\")\n",
    "    count_dry = xx.dry.sum(axis=0, dtype=\"int16\")\n",
    "    count_clear = count_wet + count_dry\n",
    "    frequency = safe_div(count_wet, count_clear, dtype=\"float32\")\n",
    "\n",
    "    count_wet.attrs[\"nodata\"] = nodata\n",
    "    count_clear.attrs[\"nodata\"] = nodata\n",
    "\n",
    "    is_ok = count_some > 0\n",
    "    count_wet = keep_good_only(count_wet, is_ok)\n",
    "    count_clear = keep_good_only(count_clear, is_ok)\n",
    "\n",
    "    return xr.Dataset(\n",
    "        dict(\n",
    "            count_wet=count_wet,\n",
    "            count_clear=count_clear,\n",
    "            frequency=frequency,\n",
    "        )\n",
    "    )"
   ]
  },
  {
   "cell_type": "code",
   "execution_count": null,
   "metadata": {
    "tags": []
   },
   "outputs": [],
   "source": [
    "summary = reduce(wofl)\n",
    "summary"
   ]
  },
  {
   "cell_type": "code",
   "execution_count": null,
   "metadata": {
    "tags": []
   },
   "outputs": [],
   "source": [
    "from matplotlib.cm import jet_r\n",
    "jet_r.set_bad('black',1)"
   ]
  },
  {
   "cell_type": "code",
   "execution_count": null,
   "metadata": {
    "tags": []
   },
   "outputs": [],
   "source": [
    "# Plot of wet counts\n",
    "# Areas of RED have experienced little or no water over the time series\n",
    "# Areas of BLUE have experience significant or constant water over the time series\n",
    "summary.count_wet.plot(size=10,cmap = jet_r);\n",
    "plt.title(\"Count of Samples Classified as Water\")\n",
    "plt.axis('off')\n",
    "plt.show()"
   ]
  },
  {
   "cell_type": "markdown",
   "metadata": {},
   "source": [
    "<div class=\"alert alert-info\">\n",
    "    <h4 class=\"alert-heading\">More information:</h4>\n",
    "    <p>The plot below helps to highlight the issue. The number of clear pixels is dramatically different over the water than over the land. This lake doesn't get significant lake fog or cloud, so it should be expected that the number of clear days over the water are similar to over the land areas.</p>\n",
    "</div>"
   ]
  },
  {
   "cell_type": "code",
   "execution_count": null,
   "metadata": {
    "tags": []
   },
   "outputs": [],
   "source": [
    "# Plot of clear counts\n",
    "summary.count_clear.plot(size=10,cmap = jet_r);\n",
    "plt.title(\"Count of Samples Classified as Water\")\n",
    "plt.axis('off')\n",
    "plt.show()"
   ]
  },
  {
   "cell_type": "markdown",
   "metadata": {},
   "source": [
    "<div class=\"alert alert-info\">\n",
    "    <h4 class=\"alert-heading\">More information:</h4>\n",
    "    <p>As a result of the lower wet and clear counts, the final percent map seems to be good, but it is hiding the reality that there are problems with the processing.</p>\n",
    "</div>"
   ]
  },
  {
   "cell_type": "code",
   "execution_count": null,
   "metadata": {},
   "outputs": [],
   "source": [
    "# Plot of wet frequency\n",
    "(summary.frequency*100).plot(cmap = jet_r, size=10)\n",
    "plt.title(\"Percent of Samples Classified as Water\")\n",
    "plt.axis('off')\n",
    "plt.show()"
   ]
  },
  {
   "cell_type": "code",
   "execution_count": null,
   "metadata": {},
   "outputs": [],
   "source": []
  }
 ],
 "metadata": {
  "kernelspec": {
   "display_name": "wofs",
   "language": "python",
   "name": "wofs"
  },
  "language_info": {
   "codemirror_mode": {
    "name": "ipython",
    "version": 3
   },
   "file_extension": ".py",
   "mimetype": "text/x-python",
   "name": "python",
   "nbconvert_exporter": "python",
   "pygments_lexer": "ipython3",
   "version": "3.10.6"
  }
 },
 "nbformat": 4,
 "nbformat_minor": 4
}
