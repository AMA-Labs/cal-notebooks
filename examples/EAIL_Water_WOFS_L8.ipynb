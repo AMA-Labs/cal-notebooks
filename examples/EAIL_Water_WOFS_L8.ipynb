{
 "cells": [
  {
   "cell_type": "markdown",
   "metadata": {
    "tags": [
     "cal.header"
    ]
   },
   "source": [
    "<link rel=\"stylesheet\" href=\"https://use.typekit.net/dvn1law.css\">\n",
    "<style>        \n",
    "@font-face {\n",
    "font-family:\"futura-pt-bold\";\n",
    "src:url(\"https://use.typekit.net/af/053fc9/00000000000000003b9af1e4/27/l?primer=7cdcb44be4a7db8877ffa5c0007b8dd865b3bbc383831fe2ea177f62257a9191&fvd=n7&v=3\") format(\"woff2\"),url(\"https://use.typekit.net/af/053fc9/00000000000000003b9af1e4/27/d?primer=7cdcb44be4a7db8877ffa5c0007b8dd865b3bbc383831fe2ea177f62257a9191&fvd=n7&v=3\") format(\"woff\"),url(\"https://use.typekit.net/af/053fc9/00000000000000003b9af1e4/27/a?primer=7cdcb44be4a7db8877ffa5c0007b8dd865b3bbc383831fe2ea177f62257a9191&fvd=n7&v=3\") format(\"opentype\");\n",
    "font-display:auto;font-style:normal;font-weight:700;font-stretch:normal;\n",
    "}\n",
    "</style>\n",
    "<div style=\"display: flex; margin: 0px; padding-top: 1.5rem; padding-bottom: 1.5rem; font-family: futura-pt, 'Tahoma', 'Segoe UI', Geneva, Verdana, sans-serif;\">\n",
    "    <span style=\"margin-right: 15px; padding-right: 2rem; background-color: #3b6d48;\"></span>\n",
    "    <div style=\"margin-bottom: auto; margin-top: auto; margin-right: auto; padding-right: 15px;\">\n",
    "        <div style=\"margin: 0; padding-top: 0.2rem; padding-bottom: 3.3rem; letter-spacing: 0.15rem; color: #a6ce37; font-weight: bold; font-size: 3rem; font: futura-pt-bold\"> CEOS Analytics Lab</div>\n",
    "        <div style=\"margin: 0; color: #469ab9; font-weight: bold; font-size: 1.5rem;\">Welcome to the CEOS Analytics Lab!</div>\n",
    "        <div style=\"margin: 0; padding-bottom: 0.2rem; color: #474c38; font-size: 1.25rem;\"><span>TBD</span><span>| </span><span style=\"color: #3b6d48; font-weight: bold;\">Water Observations from Space (WOFS)</span></div>\n",
    "        <hr style=\"border: 1px solid #474c38;\">\n",
    "    </div>\n",
    "    <div style=\"margin-top: auto; margin-bottom: auto; margin-left: auto; padding-left: 15px;\">\n",
    "        <div><img style=\"vertical-align: middle; padding: 0.5rem; width: 300px; height: auto;\" src=\"https://ceos.org/document_management/Communications/CEOS-Logos/CEOS_logo_colour_no_text-small.png\" /></div>\n",
    "    </div>\n",
    "</div>"
   ]
  },
  {
   "cell_type": "markdown",
   "metadata": {},
   "source": [
    "This notebook demonstrates the Australian Water Observations from Space (WOFS) algorithm. This water detection algorithm is an improvement over the Landsat QA water flag or the NDWI index for water identification. For more information, visit this website:\n",
    "\n",
    "http://www.ga.gov.au/scientific-topics/hazards/flood/wofs"
   ]
  },
  {
   "cell_type": "markdown",
   "metadata": {},
   "source": [
    "## <span id=\"import\">Import Dependencies and Connect to the Data Cube [&#9652;](#top)</span>"
   ]
  },
  {
   "cell_type": "code",
   "execution_count": null,
   "metadata": {
    "tags": []
   },
   "outputs": [],
   "source": [
    "import datacube\n",
    "dc = datacube.Datacube(app='Water_Observations_from_Space')\n",
    "\n",
    "import sys, os\n",
    "os.environ['USE_PYGEOS'] = '0'\n",
    "\n",
    "import datetime\n",
    "import matplotlib.pyplot as plt\n",
    "import numpy as np  \n",
    "import xarray as xr\n",
    "import pandas as pd\n",
    "\n",
    "from dea_tools.plotting import rgb, display_map\n",
    "from dea_tools.bandindices import calculate_indices\n",
    "\n",
    "### EASI tools\n",
    "sys.path.append(os.path.expanduser('../scripts'))\n",
    "from ceos_utils.data_cube_utilities.clean_mask import landsat_clean_mask_invalid, landsat_qa_clean_mask\n",
    "from easi_tools import EasiDefaults\n",
    "from easi_tools import notebook_utils\n",
    "easi = EasiDefaults() # Get the default parameters for this system"
   ]
  },
  {
   "cell_type": "code",
   "execution_count": 3,
   "metadata": {
    "tags": []
   },
   "outputs": [
    {
     "name": "stdout",
     "output_type": "stream",
     "text": [
      "Help on module datacube.utils.masking in datacube.utils:\n",
      "\n",
      "NAME\n",
      "    datacube.utils.masking - Tools for masking data based on a bit-mask variable with attached definition.\n",
      "\n",
      "DESCRIPTION\n",
      "    The main functions are `make_mask(variable)` `describe_flags(variable)`\n",
      "\n",
      "FUNCTIONS\n",
      "    create_mask_value(bits_def, **flags)\n",
      "    \n",
      "    describe_flags_def(flags_def)\n",
      "    \n",
      "    describe_variable_flags(variable, with_pandas=True)\n",
      "        Returns either a Pandas Dataframe (with_pandas=True - default) or a string\n",
      "        (with_pandas=False) describing the available flags for a masking variable\n",
      "        \n",
      "        Interprets the `flags_definition` attribute on the provided variable and\n",
      "        returns a Pandas Dataframe or string like::\n",
      "        \n",
      "            Bits are listed from the MSB (bit 13) to the LSB (bit 0)\n",
      "            Bit     Value   Flag Name            Description\n",
      "            13      0       cloud_shadow_fmask   Cloud Shadow (Fmask)\n",
      "            12      0       cloud_shadow_acca    Cloud Shadow (ACCA)\n",
      "            11      0       cloud_fmask          Cloud (Fmask)\n",
      "            10      0       cloud_acca           Cloud (ACCA)\n",
      "        \n",
      "        :param variable: Masking xarray.Dataset or xarray.DataArray\n",
      "        :return: Pandas Dataframe or str\n",
      "    \n",
      "    generate_table(rows)\n",
      "        Yield strings to print a table using the data in `rows`.\n",
      "        \n",
      "        TODO: Maybe replace with Pandas\n",
      "        \n",
      "        :param rows: A sequence of sequences with the 0th element being the table\n",
      "                     header\n",
      "    \n",
      "    get_flags_def(variable)\n",
      "    \n",
      "    list_flag_names(variable)\n",
      "        Returns the available masking flags for the variable\n",
      "        \n",
      "        :param variable: Masking xarray.Dataset or xarray.DataArray\n",
      "        :return: list\n",
      "    \n",
      "    make_mask(variable, **flags)\n",
      "        Returns a mask array, based on provided flags\n",
      "        \n",
      "        When multiple flags are provided, they will be combined in a logical AND fashion.\n",
      "        \n",
      "        For example:\n",
      "        \n",
      "        >>> make_mask(pqa, cloud_acca=False, cloud_fmask=False, land_obs=True) # doctest: +SKIP\n",
      "        \n",
      "        OR\n",
      "        \n",
      "        >>> make_mask(pqa, **GOOD_PIXEL_FLAGS) # doctest: +SKIP\n",
      "        \n",
      "        where `GOOD_PIXEL_FLAGS` is a dict of flag_name to True/False\n",
      "        \n",
      "        :param variable:\n",
      "        :type variable: xarray.Dataset or xarray.DataArray\n",
      "        :param flags: list of boolean flags\n",
      "        :return: boolean xarray.DataArray or xarray.Dataset\n",
      "    \n",
      "    mask_invalid_data(data, keep_attrs=True)\n",
      "        Sets all `nodata` values to ``nan``.\n",
      "        \n",
      "        This will convert numeric data to type `float`.\n",
      "        \n",
      "        :param Dataset or DataArray data:\n",
      "        :param bool keep_attrs: If the attributes of the data should be included in the returned .\n",
      "        :return: Dataset or DataArray\n",
      "    \n",
      "    mask_to_dict(bits_def, mask_value)\n",
      "        Describes which flags are set for a mask value\n",
      "        \n",
      "        :param bits_def:\n",
      "        :param mask_value:\n",
      "        :return: Mapping of flag_name -> set_value\n",
      "        :rtype: dict\n",
      "    \n",
      "    set_value_at_index(bitmask, index, value)\n",
      "        Set a bit value onto an integer bitmask\n",
      "        \n",
      "        eg. set bits 2 and 4 to True\n",
      "        >>> mask = 0\n",
      "        >>> mask = set_value_at_index(mask, 2, True)\n",
      "        >>> mask = set_value_at_index(mask, 4, True)\n",
      "        >>> print(bin(mask))\n",
      "        0b10100\n",
      "        >>> mask = set_value_at_index(mask, 2, False)\n",
      "        >>> print(bin(mask))\n",
      "        0b10000\n",
      "        \n",
      "        :param bitmask: existing int bitmask to alter\n",
      "        :type bitmask: int\n",
      "        :type index: int\n",
      "        :type value: bool\n",
      "    \n",
      "    valid_data_mask(data)\n",
      "        Returns bool arrays where the data is not `nodata`\n",
      "        \n",
      "        :param Dataset or DataArray data:\n",
      "        :return: Dataset or DataArray\n",
      "\n",
      "DATA\n",
      "    FLAGS_ATTR_NAME = 'flags_definition'\n",
      "\n",
      "FILE\n",
      "    /env/lib/python3.10/site-packages/datacube/utils/masking.py\n",
      "\n",
      "\n"
     ]
    }
   ],
   "source": [
    "from datacube.utils import masking\n",
    "help(masking)"
   ]
  },
  {
   "cell_type": "code",
   "execution_count": null,
   "metadata": {
    "tags": []
   },
   "outputs": [],
   "source": [
    "cluster, client = notebook_utils.initialize_dask(use_gateway=False)\n",
    "display(cluster if cluster else client)\n",
    "print(notebook_utils.localcluster_dashboard(client, server=easi.hub))"
   ]
  },
  {
   "cell_type": "code",
   "execution_count": null,
   "metadata": {
    "tags": []
   },
   "outputs": [],
   "source": [
    "from datacube.utils.aws import configure_s3_access\n",
    "configure_s3_access(aws_unsigned=False, requester_pays=True, client=client)"
   ]
  },
  {
   "cell_type": "markdown",
   "metadata": {},
   "source": [
    "## <span id=\"plat_prod\">Choose Platforms and Products [&#9652;](#top)</span>"
   ]
  },
  {
   "cell_type": "code",
   "execution_count": null,
   "metadata": {
    "tags": []
   },
   "outputs": [],
   "source": [
    "# Define the Product\n",
    "product = \"landsat8_c2l2_sr\""
   ]
  },
  {
   "cell_type": "markdown",
   "metadata": {},
   "source": [
    "## <span id=\"define_extents\">Define the Extents of the Analysis [&#9652;](#top)</span>"
   ]
  },
  {
   "cell_type": "code",
   "execution_count": null,
   "metadata": {
    "tags": []
   },
   "outputs": [],
   "source": [
    "# Select an analysis region (Latitude-Longitude) \n",
    "# Select a time period within the extents of the dataset (Year-Month-Day)\n",
    "\n",
    "# Mombasa, Kenya\n",
    "# latitude = (-4.05, -3.95) \n",
    "# longitude = (39.60, 39.68) \n",
    "\n",
    "# latitude=easi.latitude\n",
    "# longitude=easi.longitude\n",
    "latitude = (36.28, 36.48)\n",
    "longitude = (-114.325, -114.43)\n",
    "\n",
    "# Define Time Range\n",
    "# Landsat-8 time range: 07-Apr-2013 to current\n",
    "time_extents = ('2021-01-01', '2021-12-31')"
   ]
  },
  {
   "cell_type": "code",
   "execution_count": null,
   "metadata": {
    "tags": []
   },
   "outputs": [],
   "source": [
    "# The code below renders a map that can be used to view the analysis region.\n",
    "display_map(longitude,latitude)"
   ]
  },
  {
   "cell_type": "markdown",
   "metadata": {},
   "source": [
    "## <span id=\"load_data\">Load and Clean Data from the Data Cube [&#9652;](#top)</span>\n",
    "After loading, you will view the Xarray dataset. Notice the dimensions represent the number of pixels in your latitude and longitude dimension as well as the number of time slices (time) in your time series."
   ]
  },
  {
   "cell_type": "code",
   "execution_count": null,
   "metadata": {
    "tags": []
   },
   "outputs": [],
   "source": [
    "measurements = ['red', 'green', 'blue', 'nir', 'swir1', 'swir2', 'pixel_qa']\n",
    "data_names = measurements.copy()\n",
    "data_names.remove('pixel_qa')"
   ]
  },
  {
   "cell_type": "code",
   "execution_count": null,
   "metadata": {
    "tags": []
   },
   "outputs": [],
   "source": [
    "landsat_dataset = dc.load(latitude = latitude,\n",
    "                          longitude = longitude,\n",
    "                          time = time_extents,\n",
    "                          product = product,\n",
    "                          output_crs = 'epsg:6933',\n",
    "                          resolution = (-30,30),\n",
    "                          measurements = measurements,\n",
    "                          group_by = 'solar_day',\n",
    "                          dask_chunks = {'time':1}) "
   ]
  },
  {
   "cell_type": "code",
   "execution_count": null,
   "metadata": {},
   "outputs": [],
   "source": [
    "landsat_dataset"
   ]
  },
  {
   "cell_type": "code",
   "execution_count": null,
   "metadata": {
    "tags": []
   },
   "outputs": [],
   "source": [
    "clear_mask = masking.make_mask(landsat_dataset['pixel_qa'], clear='clear')\n",
    "water_mask = masking.make_mask(landsat_dataset['pixel_qa'], water='water')\n",
    "cloud_mask = masking.make_mask(landsat_dataset['pixel_qa'], cloud='not_high_confidence', cloud_shadow='not_high_confidence')\n",
    "clean_mask = (clear_mask | water_mask) & cloud_mask"
   ]
  },
  {
   "cell_type": "markdown",
   "metadata": {},
   "source": [
    "## <span id=\"time_series_water\">Time Series Water Detection Analysis [&#9652;](#top)</span>\n",
    "Time series output of the Australian Water Observations from Space (WOFS) results. The results show the percent of time that a pixel is classified as water over the entire time series. BLUE = frequent water, RED = infrequent water."
   ]
  },
  {
   "cell_type": "code",
   "execution_count": null,
   "metadata": {
    "tags": []
   },
   "outputs": [],
   "source": [
    "# WOFS is written for Landsat Collection 1, so we need to scale the Collection 2 data to look like collection 1\n",
    "# This is stolen from https://github.com/GeoscienceAustralia/wofs/blob/master/wofs/virtualproduct.py\n",
    "def scale_usgs_collection2(data):\n",
    "    \"\"\"These are taken from the Fractional Cover scaling values\"\"\"\n",
    "    attrs = data.attrs\n",
    "    data =  data.apply(scale_and_clip_dataarray, keep_attrs=False,\n",
    "                       scale_factor=0.275, add_offset=-2000,\n",
    "                       clip_range=None, valid_range=(0, 10000))\n",
    "    data.attrs = attrs\n",
    "    return data\n",
    "\n",
    "def scale_and_clip_dataarray(dataarray: xr.DataArray, *, scale_factor=1, add_offset=0, clip_range=None,\n",
    "                             valid_range=None, new_nodata=-999, new_dtype='int16'):\n",
    "    orig_attrs = dataarray.attrs\n",
    "    nodata = dataarray.attrs['nodata']\n",
    "\n",
    "    mask = dataarray.data == nodata\n",
    "\n",
    "    # add another mask here for if data > 10000 then also make that nodata\n",
    "    dataarray = dataarray * scale_factor + add_offset\n",
    "\n",
    "    if clip_range is not None:\n",
    "        dataarray = dataarray.clip(*clip_range)\n",
    "\n",
    "    dataarray = dataarray.astype(new_dtype)\n",
    "\n",
    "    dataarray.data[mask] = new_nodata\n",
    "    if valid_range is not None:\n",
    "        valid_min, valid_max = valid_range\n",
    "        dataarray = dataarray.where(dataarray >= valid_min, new_nodata)\n",
    "        dataarray = dataarray.where(dataarray <= valid_max, new_nodata)\n",
    "    dataarray.attrs = orig_attrs\n",
    "    dataarray.attrs['nodata'] = new_nodata\n",
    "\n",
    "    return dataarray\n",
    "\n",
    "landsat_dataset_scaled = scale_usgs_collection2(landsat_dataset)"
   ]
  },
  {
   "cell_type": "code",
   "execution_count": null,
   "metadata": {},
   "outputs": [],
   "source": [
    "from ceos_utils.data_cube_utilities.dc_water_classifier import wofs_classify\n",
    "ts_water_classification = wofs_classify(landsat_dataset_scaled,clean_mask = clean_mask.values, no_data=0, x_coord='x', y_coord='y')"
   ]
  },
  {
   "cell_type": "code",
   "execution_count": null,
   "metadata": {},
   "outputs": [],
   "source": [
    "# Apply nan to no_data values\n",
    "ts_water_classification = ts_water_classification.where(ts_water_classification != -9999).astype(np.float16)\n",
    "\n",
    "# Time series aggregation that ignores nan values.    \n",
    "water_classification_percentages = (ts_water_classification.mean(dim = ['time']) * 100).wofs.rename('water_classification_percentages')"
   ]
  },
  {
   "cell_type": "code",
   "execution_count": null,
   "metadata": {},
   "outputs": [],
   "source": [
    "# import color-scheme and set nans (no data) to black\n",
    "from matplotlib.cm import jet_r\n",
    "jet_r.set_bad('black',1)"
   ]
  },
  {
   "cell_type": "code",
   "execution_count": null,
   "metadata": {
    "tags": []
   },
   "outputs": [],
   "source": [
    "img_scale = water_classification_percentages.shape[0]/water_classification_percentages.shape[1]"
   ]
  },
  {
   "cell_type": "code",
   "execution_count": null,
   "metadata": {},
   "outputs": [],
   "source": [
    "# This is where the WOFS time series product is generated. \n",
    "# Areas of RED have experienced little or no water over the time series\n",
    "# Areas of BLUE have experience significant or constant water over the time series\n",
    "figsize=6\n",
    "water_classification_percentages.plot(cmap = jet_r, figsize=(figsize,figsize*img_scale), vmin=0, vmax=100)\n",
    "plt.title(\"Percent of Samples Classified as Water\")\n",
    "plt.axis('off')\n",
    "plt.show()"
   ]
  },
  {
   "cell_type": "code",
   "execution_count": null,
   "metadata": {},
   "outputs": [],
   "source": []
  }
 ],
 "metadata": {
  "cal": {
   "category": "TBD",
   "title": "Water Observations from Space (WOFS)"
  },
  "kernelspec": {
   "display_name": "Python 3 (ipykernel)",
   "language": "python",
   "name": "python3"
  },
  "language_info": {
   "codemirror_mode": {
    "name": "ipython",
    "version": 3
   },
   "file_extension": ".py",
   "mimetype": "text/x-python",
   "name": "python",
   "nbconvert_exporter": "python",
   "pygments_lexer": "ipython3",
   "version": "3.10.12"
  }
 },
 "nbformat": 4,
 "nbformat_minor": 4
}
