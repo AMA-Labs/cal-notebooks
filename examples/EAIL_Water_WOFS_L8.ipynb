{
 "cells": [
  {
   "cell_type": "markdown",
   "metadata": {},
   "source": [
    "<a id=\"top\"></a>\n",
    "# Water Observations from Space (WOFS)\n",
    "\n",
    "This notebook demonstrates the Australian Water Observations from Space (WOFS) algorithm. This water detection algorithm is an improvement over the Landsat QA water flag or the NDWI index for water identification. For more information, visit this website:\n",
    "\n",
    "http://www.ga.gov.au/scientific-topics/hazards/flood/wofs"
   ]
  },
  {
   "cell_type": "markdown",
   "metadata": {},
   "source": [
    "## <span id=\"import\">Import Dependencies and Connect to the Data Cube [&#9652;](#top)</span>"
   ]
  },
  {
   "cell_type": "code",
   "execution_count": null,
   "metadata": {
    "tags": []
   },
   "outputs": [],
   "source": [
    "import datacube\n",
    "dc = datacube.Datacube(app='Water_Observations_from_Space')\n",
    "from datacube.utils import masking\n",
    "\n",
    "import sys, os\n",
    "os.environ['USE_PYGEOS'] = '0'\n",
    "\n",
    "import datetime\n",
    "import matplotlib.pyplot as plt\n",
    "import numpy as np  \n",
    "import xarray as xr\n",
    "import pandas as pd\n",
    "\n",
    "from dea_tools.plotting import rgb, display_map\n",
    "from dea_tools.bandindices import calculate_indices\n",
    "\n",
    "### EASI tools\n",
    "sys.path.append(os.path.expanduser('../scripts'))\n",
    "from ceos_utils.data_cube_utilities.clean_mask import landsat_clean_mask_invalid, landsat_qa_clean_mask\n",
    "from easi_tools import EasiDefaults\n",
    "from easi_tools import notebook_utils\n",
    "easi = EasiDefaults() # Get the default parameters for this system"
   ]
  },
  {
   "cell_type": "code",
   "execution_count": null,
   "metadata": {
    "tags": []
   },
   "outputs": [],
   "source": [
    "cluster, client = notebook_utils.initialize_dask(use_gateway=False)\n",
    "display(cluster if cluster else client)\n",
    "print(notebook_utils.localcluster_dashboard(client, server=easi.hub))"
   ]
  },
  {
   "cell_type": "code",
   "execution_count": null,
   "metadata": {
    "tags": []
   },
   "outputs": [],
   "source": [
    "from datacube.utils.aws import configure_s3_access\n",
    "configure_s3_access(aws_unsigned=False, requester_pays=True, client=client)"
   ]
  },
  {
   "cell_type": "markdown",
   "metadata": {},
   "source": [
    "## <span id=\"plat_prod\">Choose Platforms and Products [&#9652;](#top)</span>"
   ]
  },
  {
   "cell_type": "code",
   "execution_count": null,
   "metadata": {
    "tags": []
   },
   "outputs": [],
   "source": [
    "# Define the Product\n",
    "product = \"landsat8_c2l2_sr\""
   ]
  },
  {
   "cell_type": "markdown",
   "metadata": {},
   "source": [
    "## <span id=\"define_extents\">Define the Extents of the Analysis [&#9652;](#top)</span>"
   ]
  },
  {
   "cell_type": "code",
   "execution_count": null,
   "metadata": {
    "tags": []
   },
   "outputs": [],
   "source": [
    "# Select an analysis region (Latitude-Longitude) \n",
    "# Select a time period within the extents of the dataset (Year-Month-Day)\n",
    "\n",
    "# Mombasa, Kenya\n",
    "# latitude = (-4.05, -3.95) \n",
    "# longitude = (39.60, 39.68) \n",
    "\n",
    "# latitude=easi.latitude\n",
    "# longitude=easi.longitude\n",
    "latitude = (36.28, 36.48)\n",
    "longitude = (-114.325, -114.43)\n",
    "\n",
    "# Define Time Range\n",
    "# Landsat-8 time range: 07-Apr-2013 to current\n",
    "time_extents = ('2021-01-01', '2021-12-31')"
   ]
  },
  {
   "cell_type": "code",
   "execution_count": null,
   "metadata": {
    "tags": []
   },
   "outputs": [],
   "source": [
    "# The code below renders a map that can be used to view the analysis region.\n",
    "display_map(longitude,latitude)"
   ]
  },
  {
   "cell_type": "markdown",
   "metadata": {},
   "source": [
    "## <span id=\"load_data\">Load and Clean Data from the Data Cube [&#9652;](#top)</span>\n",
    "After loading, you will view the Xarray dataset. Notice the dimensions represent the number of pixels in your latitude and longitude dimension as well as the number of time slices (time) in your time series."
   ]
  },
  {
   "cell_type": "code",
   "execution_count": null,
   "metadata": {
    "tags": []
   },
   "outputs": [],
   "source": [
    "measurements = ['red', 'green', 'blue', 'nir', 'swir1', 'swir2', 'pixel_qa']\n",
    "data_names = measurements.copy()\n",
    "data_names.remove('pixel_qa')"
   ]
  },
  {
   "cell_type": "code",
   "execution_count": null,
   "metadata": {
    "tags": []
   },
   "outputs": [],
   "source": [
    "landsat_dataset = dc.load(latitude = latitude,\n",
    "                          longitude = longitude,\n",
    "                          time = time_extents,\n",
    "                          product = product,\n",
    "                          output_crs = 'epsg:6933',\n",
    "                          resolution = (-30,30),\n",
    "                          measurements = measurements,\n",
    "                          dask_chunks = {'time':1}) "
   ]
  },
  {
   "cell_type": "code",
   "execution_count": null,
   "metadata": {},
   "outputs": [],
   "source": [
    "landsat_dataset"
   ]
  },
  {
   "cell_type": "code",
   "execution_count": null,
   "metadata": {
    "tags": []
   },
   "outputs": [],
   "source": [
    "clear_mask = masking.make_mask(landsat_dataset['pixel_qa'], clear='clear')\n",
    "water_mask = masking.make_mask(landsat_dataset['pixel_qa'], water='water')\n",
    "cloud_mask = masking.make_mask(landsat_dataset['pixel_qa'], cloud='not_high_confidence', cloud_shadow='not_high_confidence')\n",
    "clean_mask = (clear_mask | water_mask) & cloud_mask\n",
    "\n",
    "good_data = landsat_dataset[data_names].where(clean_mask)\n",
    "# good_data.red.plot(col='time',col_wrap=6)"
   ]
  },
  {
   "cell_type": "code",
   "execution_count": null,
   "metadata": {
    "tags": []
   },
   "outputs": [],
   "source": [
    "# from ceos_utils.data_cube_utilities.clean_mask import landsat_qa_clean_mask\n",
    "# cloud_mask_ceos = landsat_qa_clean_mask(landsat_dataset, platform=\"LANDSAT_8\", collection=\"c2\")"
   ]
  },
  {
   "cell_type": "code",
   "execution_count": null,
   "metadata": {
    "tags": []
   },
   "outputs": [],
   "source": [
    "# cloud_mask = np.bitwise_and(landsat_dataset.pixel_qa,64).astype(bool)\n",
    "# cleaned_dataset = landsat_dataset.drop('pixel_qa').where(cloud_mask)\n",
    "# cleaned_dataset.red.plot(col='time',col_wrap=4)"
   ]
  },
  {
   "cell_type": "markdown",
   "metadata": {},
   "source": [
    "## <span id=\"time_series_water\">Time Series Water Detection Analysis [&#9652;](#top)</span>\n",
    "Time series output of the Australian Water Observations from Space (WOFS) results. The results show the percent of time that a pixel is classified as water over the entire time series. BLUE = frequent water, RED = infrequent water."
   ]
  },
  {
   "cell_type": "code",
   "execution_count": null,
   "metadata": {
    "tags": []
   },
   "outputs": [],
   "source": [
    "# WOFS is written for Landsat Collection 1, so we need to scale the Collection 2 data to look like collection 1\n",
    "# This is stolen from https://github.com/GeoscienceAustralia/wofs/blob/master/wofs/virtualproduct.py\n",
    "def scale_usgs_collection2(data):\n",
    "    \"\"\"These are taken from the Fractional Cover scaling values\"\"\"\n",
    "    attrs = data.attrs\n",
    "    data =  data.apply(scale_and_clip_dataarray, keep_attrs=False,\n",
    "                       scale_factor=0.275, add_offset=-2000,\n",
    "                       clip_range=None, valid_range=(0, 10000))\n",
    "    data.attrs = attrs\n",
    "    return data\n",
    "\n",
    "def scale_and_clip_dataarray(dataarray: xr.DataArray, *, scale_factor=1, add_offset=0, clip_range=None,\n",
    "                             valid_range=None, new_nodata=-999, new_dtype='int16'):\n",
    "    orig_attrs = dataarray.attrs\n",
    "    nodata = dataarray.attrs['nodata']\n",
    "\n",
    "    mask = dataarray.data == nodata\n",
    "\n",
    "    # add another mask here for if data > 10000 then also make that nodata\n",
    "    dataarray = dataarray * scale_factor + add_offset\n",
    "\n",
    "    if clip_range is not None:\n",
    "        dataarray = dataarray.clip(*clip_range)\n",
    "\n",
    "    dataarray = dataarray.astype(new_dtype)\n",
    "\n",
    "    dataarray.data[mask] = new_nodata\n",
    "    if valid_range is not None:\n",
    "        valid_min, valid_max = valid_range\n",
    "        dataarray = dataarray.where(dataarray >= valid_min, new_nodata)\n",
    "        dataarray = dataarray.where(dataarray <= valid_max, new_nodata)\n",
    "    dataarray.attrs = orig_attrs\n",
    "    dataarray.attrs['nodata'] = new_nodata\n",
    "\n",
    "    return dataarray\n",
    "\n",
    "landsat_dataset_scaled = scale_usgs_collection2(landsat_dataset)"
   ]
  },
  {
   "cell_type": "code",
   "execution_count": null,
   "metadata": {},
   "outputs": [],
   "source": [
    "from ceos_utils.data_cube_utilities.dc_water_classifier import wofs_classify\n",
    "ts_water_classification = wofs_classify(landsat_dataset_scaled,clean_mask = clean_mask.values, no_data=0, x_coord='x', y_coord='y')"
   ]
  },
  {
   "cell_type": "code",
   "execution_count": null,
   "metadata": {},
   "outputs": [],
   "source": [
    "# Apply nan to no_data values\n",
    "ts_water_classification = ts_water_classification.where(ts_water_classification != -9999).astype(np.float16)\n",
    "\n",
    "# Time series aggregation that ignores nan values.    \n",
    "water_classification_percentages = (ts_water_classification.mean(dim = ['time']) * 100).wofs.rename('water_classification_percentages')"
   ]
  },
  {
   "cell_type": "code",
   "execution_count": null,
   "metadata": {},
   "outputs": [],
   "source": [
    "# import color-scheme and set nans (no data) to black\n",
    "from matplotlib.cm import jet_r\n",
    "jet_r.set_bad('black',1)"
   ]
  },
  {
   "cell_type": "code",
   "execution_count": null,
   "metadata": {
    "tags": []
   },
   "outputs": [],
   "source": [
    "img_scale = water_classification_percentages.shape[0]/water_classification_percentages.shape[1]"
   ]
  },
  {
   "cell_type": "code",
   "execution_count": null,
   "metadata": {},
   "outputs": [],
   "source": [
    "# This is where the WOFS time series product is generated. \n",
    "# Areas of RED have experienced little or no water over the time series\n",
    "# Areas of BLUE have experience significant or constant water over the time series\n",
    "figsize=6\n",
    "water_classification_percentages.plot(cmap = jet_r, figsize=(figsize,figsize*img_scale), vmin=0, vmax=100)\n",
    "plt.title(\"Percent of Samples Classified as Water\")\n",
    "plt.axis('off')\n",
    "plt.show()"
   ]
  },
  {
   "cell_type": "code",
   "execution_count": null,
   "metadata": {},
   "outputs": [],
   "source": []
  }
 ],
 "metadata": {
  "kernelspec": {
   "display_name": "Python 3 (ipykernel)",
   "language": "python",
   "name": "python3"
  },
  "language_info": {
   "codemirror_mode": {
    "name": "ipython",
    "version": 3
   },
   "file_extension": ".py",
   "mimetype": "text/x-python",
   "name": "python",
   "nbconvert_exporter": "python",
   "pygments_lexer": "ipython3",
   "version": "3.10.6"
  }
 },
 "nbformat": 4,
 "nbformat_minor": 4
}
