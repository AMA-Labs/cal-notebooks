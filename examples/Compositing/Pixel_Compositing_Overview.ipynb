{
 "cells": [
  {
   "cell_type": "markdown",
   "id": "92291d95",
   "metadata": {
    "tags": [
     "cal.header"
    ]
   },
   "source": [
    "<link rel=\"stylesheet\" href=\"https://use.typekit.net/dvn1law.css\">\n",
    "<style>        \n",
    "@font-face {\n",
    "font-family:\"futura-pt-bold\";\n",
    "src:url(\"https://use.typekit.net/af/053fc9/00000000000000003b9af1e4/27/l?primer=7cdcb44be4a7db8877ffa5c0007b8dd865b3bbc383831fe2ea177f62257a9191&fvd=n7&v=3\") format(\"woff2\"),url(\"https://use.typekit.net/af/053fc9/00000000000000003b9af1e4/27/d?primer=7cdcb44be4a7db8877ffa5c0007b8dd865b3bbc383831fe2ea177f62257a9191&fvd=n7&v=3\") format(\"woff\"),url(\"https://use.typekit.net/af/053fc9/00000000000000003b9af1e4/27/a?primer=7cdcb44be4a7db8877ffa5c0007b8dd865b3bbc383831fe2ea177f62257a9191&fvd=n7&v=3\") format(\"opentype\");\n",
    "font-display:auto;font-style:normal;font-weight:700;font-stretch:normal;\n",
    "}\n",
    "</style>\n",
    "<div style=\"display: flex; margin: 0px; padding-top: 1.5rem; padding-bottom: 1.5rem; font-family: futura-pt, 'Tahoma', 'Segoe UI', Geneva, Verdana, sans-serif;\">\n",
    "    <span style=\"margin-right: 15px; padding-right: 2rem; background-color: #3b6d48;\"></span>\n",
    "    <div style=\"margin-bottom: auto; margin-top: auto; margin-right: auto; padding-right: 15px;\">\n",
    "        <div style=\"margin: 0; padding-top: 0.2rem; padding-bottom: 3.3rem; letter-spacing: 0.15rem; color: #a6ce37; font-weight: bold; font-size: 3rem; font: futura-pt-bold\"> CEOS Analytics Lab</div>\n",
    "        <div style=\"margin: 0; color: #469ab9; font-weight: bold; font-size: 1.5rem;\">Welcome to the CEOS Analytics Lab!</div>\n",
    "        <div style=\"margin: 0; padding-bottom: 0.2rem; color: #474c38; font-size: 1.25rem;\"><span>TBD</span><span>| </span><span style=\"color: #3b6d48; font-weight: bold;\">Compositing</span></div>\n",
    "        <hr style=\"border: 1px solid #474c38;\">\n",
    "    </div>\n",
    "    <div style=\"margin-top: auto; margin-bottom: auto; margin-left: auto; padding-left: 15px;\">\n",
    "        <div><img style=\"vertical-align: middle; padding: 0.5rem; width: 300px; height: auto;\" src=\"https://ceos.org/document_management/Communications/CEOS-Logos/CEOS_logo_colour_no_text-small.png\" /></div>\n",
    "    </div>\n",
    "</div>"
   ]
  },
  {
   "cell_type": "markdown",
   "id": "246f16c8-2fb9-4004-aeb9-d138641476de",
   "metadata": {
    "tags": []
   },
   "source": [
    "### Imagery Representation\n",
    "Imagery comes in the form of stacked uniform grids of pixels. Each layer representing an acquisition over a latitude longitude position at a different time.\n",
    "\n",
    "![](diagrams/image_no_error.png)"
   ]
  },
  {
   "cell_type": "markdown",
   "id": "6c7e82db-cd85-4eae-9a32-f4add2f57621",
   "metadata": {},
   "source": [
    "Imagery may not always be suitable for analysis. Malfunctioning instrumentation introduces errors, or clouds might impede an area from analysis.   \n",
    "\n",
    "![](diagrams/imagery_error.png)"
   ]
  },
  {
   "cell_type": "markdown",
   "id": "a39809c0-ddb4-40c1-a352-c59036e0d4c4",
   "metadata": {},
   "source": [
    "## Computing over a composite\n",
    "\n",
    "The goal of compositing(sometimes referred to as mosaicing) is to combine information from several acquisitions/observations over an area, to create a composite image. \n",
    "\n",
    "![](diagrams/composite_goal.png)  \n",
    "\n",
    "One can think of a composite as an uninterrupted/error free representation of an area over a time range. \n",
    "\n",
    "In application use cases like forestry, or water conservation it might suffice to compute a monthly inventory of water body mass or forest size over a composite generated for that month (rather than many small analysis/computations over statistically incoherent imagery)"
   ]
  },
  {
   "cell_type": "markdown",
   "id": "6c563e0c-8467-4340-a729-a6a2a0ced2c5",
   "metadata": {},
   "source": [
    "## Pixel Compositors\n",
    "\n",
    "Pixel compositing approaches compositing per latitude/longitude pixel. (Rather than utilizing surround information in the compositing step) \n",
    "\n",
    "![](diagrams/pixel_compositor.png)  \n"
   ]
  },
  {
   "cell_type": "markdown",
   "id": "63789ea1-58bc-4849-a4f1-1cd3d347329f",
   "metadata": {},
   "source": [
    "### List of Compositors\n",
    "To learn more about various types of pixel compositors and how to use them. Consider this inventory of compositors"
   ]
  },
  {
   "cell_type": "markdown",
   "id": "f72e3155-cea7-4db2-9b6d-841b234c4e92",
   "metadata": {},
   "source": [
    "- [Most Recent Pixel Composite](pixel_compositors/MostRecent.ipynb)  \n",
    "- [Least Recent Pixel Composite](pixel_compositors/LeastRecent.ipynb)  \n",
    "- [Median Composite](pixel_compositors/Median.ipynb)  \n",
    "- [Mean Composite](pixel_compositors/Mean.ipynb)  \n",
    "- [Geometric Median Composite](pixel_compositors/GeometricMedian.ipynb)  "
   ]
  },
  {
   "cell_type": "code",
   "execution_count": null,
   "id": "91b85e46-84c2-40a4-97b4-5bb45c422281",
   "metadata": {},
   "outputs": [],
   "source": []
  }
 ],
 "metadata": {
  "cal": {
   "category": "TBD",
   "title": "Compositing"
  },
  "kernelspec": {
   "display_name": "Python 3 (ipykernel)",
   "language": "python",
   "name": "python3"
  },
  "language_info": {
   "codemirror_mode": {
    "name": "ipython",
    "version": 3
   },
   "file_extension": ".py",
   "mimetype": "text/x-python",
   "name": "python",
   "nbconvert_exporter": "python",
   "pygments_lexer": "ipython3",
   "version": "3.10.12"
  }
 },
 "nbformat": 4,
 "nbformat_minor": 5
}
