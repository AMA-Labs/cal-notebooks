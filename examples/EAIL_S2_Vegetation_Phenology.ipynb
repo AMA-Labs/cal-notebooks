{
 "cells": [
  {
   "cell_type": "markdown",
   "metadata": {},
   "source": [
    "# Sentinel-2 Vegetation Phenology\n",
    "This notebook calculates vegetation phenology changes using Sentinel-2 data. To detect changes, the algorithm uses Normalized Difference Vegetation Index (NDVI) which is a common proxy for vegetation growth and health. The outputs of this notebook can be used to assess differences in agriculture fields over time or space and also allow the assessment of growing states such as planting and harvesting.  "
   ]
  },
  {
   "cell_type": "markdown",
   "metadata": {},
   "source": [
    "## Load Data Cube Configuration and Import Utilities"
   ]
  },
  {
   "cell_type": "code",
   "execution_count": null,
   "metadata": {
    "tags": []
   },
   "outputs": [],
   "source": [
    "import xarray as xr\n",
    "import numpy as np  \n",
    "import matplotlib.pyplot as plt\n",
    "\n",
    "import datacube\n",
    "\n",
    "import sys, os\n",
    "os.environ['USE_PYGEOS'] = '0'\n",
    "\n",
    "from dea_tools.plotting import display_map\n",
    "\n",
    "### EASI tools\n",
    "sys.path.append(os.path.expanduser('../scripts'))\n",
    "from ceos_utils.data_cube_utilities.clean_mask import landsat_clean_mask_invalid, landsat_qa_clean_mask\n",
    "from easi_tools import EasiDefaults\n",
    "from easi_tools import notebook_utils\n",
    "easi = EasiDefaults() # Get the default parameters for this system"
   ]
  },
  {
   "cell_type": "code",
   "execution_count": null,
   "metadata": {
    "tags": []
   },
   "outputs": [],
   "source": [
    "cluster, client = notebook_utils.initialize_dask(use_gateway=False)\n",
    "display(cluster if cluster else client)\n",
    "print(notebook_utils.localcluster_dashboard(client, server=easi.hub))"
   ]
  },
  {
   "cell_type": "code",
   "execution_count": null,
   "metadata": {
    "tags": []
   },
   "outputs": [],
   "source": [
    "from datacube.utils.aws import configure_s3_access\n",
    "configure_s3_access(aws_unsigned=False, requester_pays=True, client=client)"
   ]
  },
  {
   "cell_type": "code",
   "execution_count": null,
   "metadata": {
    "tags": []
   },
   "outputs": [],
   "source": [
    "# Select a Product and Platform\n",
    "product = \"s2_l2a\"\n",
    "platform = \"Sentinel-2A\""
   ]
  },
  {
   "cell_type": "markdown",
   "metadata": {},
   "source": [
    "## <span id=\"define_extents\">Define the Extents of the Analysis [&#9652;](#top)</span>"
   ]
  },
  {
   "cell_type": "code",
   "execution_count": null,
   "metadata": {
    "tags": []
   },
   "outputs": [],
   "source": [
    "# NEW Yield Data from Vietnam (18-Nov-2022)\n",
    "\n",
    "# lat_long = (10.443492, 105.281103) # 17, Chau Thanh, Yield High\n",
    "# lat_long = (10.4172, 105.3635) # 28, Chau Thanh, Low High\n",
    "\n",
    "# lat_long = (10.454342, 105.322838) #6, Chau Thanh, High Yield\n",
    "# lat_long = (10.434116, 105.273150) #13, Chau Thanh, Low Yield\n",
    "# lat_long = (10.392899, 105.188514) #37, Chau Thanh, High Yield\n",
    "# lat_long = (10.394341, 105.126836) #47, Chau Thanh, Low Yield\n",
    "# lat_long = (10.356519, 105.309450) #146, Chau Thanh, High Yield\n",
    "# lat_long = (10.354744, 105.336739) #142, Chau Thanh, Low Yield\n",
    "\n",
    "# box_size_deg = 0.0004 # Typically yields 5x5 pixel region\n",
    "\n",
    "# Calculate the latitude and longitude bounds of the analysis box\n",
    "# latitude = (lat_long[0]-box_size_deg/2, lat_long[0]+box_size_deg/2)\n",
    "# longitude = (lat_long[1]-box_size_deg/2, lat_long[1]+box_size_deg/2)\n",
    "\n",
    "latitude = easi.latitude\n",
    "longitude = easi.longitude\n",
    "\n",
    "# Define Time Range \n",
    "# The format of the time date is YYYY-MM-DD\n",
    "start_date = '2022-04-01'\n",
    "end_date = '2022-09-01'\n",
    "time_extents = (start_date,end_date)"
   ]
  },
  {
   "cell_type": "code",
   "execution_count": null,
   "metadata": {
    "tags": []
   },
   "outputs": [],
   "source": [
    "# The code below renders a map that can be used to view the region.\n",
    "display_map(longitude,latitude)"
   ]
  },
  {
   "cell_type": "markdown",
   "metadata": {},
   "source": [
    "## Load bands needed for NDVI and remove clouds and water"
   ]
  },
  {
   "cell_type": "code",
   "execution_count": null,
   "metadata": {
    "tags": []
   },
   "outputs": [],
   "source": [
    "dc = datacube.Datacube()"
   ]
  },
  {
   "cell_type": "code",
   "execution_count": null,
   "metadata": {
    "tags": []
   },
   "outputs": [],
   "source": [
    "sentinel_dataset = dc.load(latitude = latitude,\n",
    "                           longitude = longitude,\n",
    "                           time = time_extents,\n",
    "                           product = product,\n",
    "                           group_by = 'solar_day',\n",
    "                           measurements = ['red', 'nir', 'SCL'],\n",
    "                           output_crs = 'EPSG:6933',\n",
    "                           resolution = (-10,10),\n",
    "                           dask_chunks = {'time':1})"
   ]
  },
  {
   "cell_type": "code",
   "execution_count": null,
   "metadata": {
    "tags": []
   },
   "outputs": [],
   "source": [
    "# Filter data using SCL band classification\n",
    "\n",
    "# scl=0 > No Data\n",
    "# scl=1 > Saturated\n",
    "# scl=3 > Cloud Shadows\n",
    "# scl=6 > Water\n",
    "# scl=8 > Cloud Medium Probability\n",
    "# scl=9 > Cloud High Probability\n",
    "# scl=10 > Thin Cirrus Cloud\n",
    "\n",
    "cloud_mask = (sentinel_dataset.SCL != 0) & (sentinel_dataset.SCL != 1) & \\\n",
    "             (sentinel_dataset.SCL != 3) & (sentinel_dataset.SCL != 8) & \\\n",
    "             (sentinel_dataset.SCL != 9) & (sentinel_dataset.SCL != 10)\n",
    "\n",
    "land_mask =  ((sentinel_dataset.SCL != 6) & cloud_mask)\n",
    "\n",
    "# Drop the SCL data as it is no longer needed\n",
    "sentinel_dataset = sentinel_dataset.drop('SCL')\n",
    "\n",
    "# Apply land mask ... NO Clouds, NO Cloud Shadows and NO Water pixels\n",
    "cleaned_dataset = sentinel_dataset.where(land_mask)"
   ]
  },
  {
   "cell_type": "markdown",
   "metadata": {},
   "source": [
    "## Define NDVI and add it to the dataset"
   ]
  },
  {
   "cell_type": "code",
   "execution_count": null,
   "metadata": {
    "tags": []
   },
   "outputs": [],
   "source": [
    "def NDVI(dataset):\n",
    "    return (dataset.nir - dataset.red)/(dataset.nir + dataset.red)"
   ]
  },
  {
   "cell_type": "code",
   "execution_count": null,
   "metadata": {
    "tags": []
   },
   "outputs": [],
   "source": [
    "sentinel_dataset['NDVI'] = NDVI(sentinel_dataset)"
   ]
  },
  {
   "cell_type": "code",
   "execution_count": null,
   "metadata": {
    "tags": []
   },
   "outputs": [],
   "source": [
    "cleaned_dataset['NDVI'] = NDVI(cleaned_dataset)"
   ]
  },
  {
   "cell_type": "code",
   "execution_count": null,
   "metadata": {
    "tags": []
   },
   "outputs": [],
   "source": [
    "cleaned_dataset"
   ]
  },
  {
   "cell_type": "code",
   "execution_count": null,
   "metadata": {
    "tags": []
   },
   "outputs": [],
   "source": [
    "# Plot the monthly time slice data in a table\n",
    "import pandas as pd\n",
    "pd.DataFrame({'time': cleaned_dataset.time.values})"
   ]
  },
  {
   "cell_type": "markdown",
   "metadata": {},
   "source": [
    "## Plot NDVI vs Time"
   ]
  },
  {
   "cell_type": "code",
   "execution_count": null,
   "metadata": {
    "tags": []
   },
   "outputs": [],
   "source": [
    "nanmask = np.any(np.isfinite(cleaned_dataset.NDVI), axis=(1,2))\n",
    " \n",
    "plt.figure(figsize=(12, 6))\n",
    "plt.plot(cleaned_dataset.time[nanmask],\n",
    "         cleaned_dataset['NDVI'][nanmask].median(dim=['x','y']),\n",
    "         color='red',marker='o')\n",
    "plt.xlabel(\"Index\")\n",
    "plt.ylabel(\"NDVI\")\n",
    "plt.title(\"NDVI = Vegetation Index\");"
   ]
  },
  {
   "cell_type": "code",
   "execution_count": null,
   "metadata": {
    "tags": []
   },
   "outputs": [],
   "source": [
    "# Output data to CSV\n",
    "filename = \"output.csv\"\n",
    "img3 = cleaned_dataset['NDVI']\n",
    "img5 = img3.median(dim=['y','x'])\n",
    "img5.to_dataframe().to_csv(filename)"
   ]
  },
  {
   "cell_type": "code",
   "execution_count": null,
   "metadata": {},
   "outputs": [],
   "source": []
  }
 ],
 "metadata": {
  "kernelspec": {
   "display_name": "Python 3 (ipykernel)",
   "language": "python",
   "name": "python3"
  },
  "language_info": {
   "codemirror_mode": {
    "name": "ipython",
    "version": 3
   },
   "file_extension": ".py",
   "mimetype": "text/x-python",
   "name": "python",
   "nbconvert_exporter": "python",
   "pygments_lexer": "ipython3",
   "version": "3.10.6"
  },
  "pycharm": {
   "stem_cell": {
    "cell_type": "raw",
    "metadata": {
     "collapsed": false
    },
    "source": []
   }
  }
 },
 "nbformat": 4,
 "nbformat_minor": 4
}
