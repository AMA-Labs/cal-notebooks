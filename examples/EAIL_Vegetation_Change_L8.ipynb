{
 "cells": [
  {
   "cell_type": "markdown",
   "metadata": {},
   "source": [
    "<a id=\"top\"></a>\n",
    "# Vegetation Change\n",
    "\n",
    "This notebook uses changes in the Normalized Difference Vegetation Index (NDVI) to identify vegetation change. The algorithm identifies a \"baseline\" and \"analysis\" time period and then compares the spectral index in each of those time periods. Significant changes in NDVI (vegetation greenness) are coincident with land change, as long as the comparisons are done between similar time periods (seasons or years). Users of this algorithm should not accept the accuracy of the results but should conduct ground validation testing to assess accuracy. It is expected that this algorithm can be used to identify clusters of pixels that have experienced change and allow targeted investigation of those areas by local or regional governments. In some cases the impacts may be negative (deforestation, mining, burning, drought) or positive (regrowth, improved soil moisture). \n",
    "\n",
    "It should also be noted that the selection of the baseline and analysis time period is critical. First, the two time periods should be similar (season, year) so that the vegetation state can be compared in similar weather conditions. Second, the time periods should be sufficiently clear (non-cloudy) data. If the baseline or analysis mosaic (composite of images) is contaminated with clouds, it will impact the results. "
   ]
  },
  {
   "cell_type": "markdown",
   "metadata": {},
   "source": [
    "## <span id=\"connect_dc\">Connect to the Data Cube [&#9652;](#top)</span>"
   ]
  },
  {
   "cell_type": "code",
   "execution_count": null,
   "metadata": {
    "tags": []
   },
   "outputs": [],
   "source": [
    "import datacube\n",
    "dc = datacube.Datacube(app='Vegetation_Change')\n",
    "\n",
    "import sys, os\n",
    "os.environ['USE_PYGEOS'] = '0'\n",
    "\n",
    "from datacube.utils import masking\n",
    "from dea_tools.plotting import rgb, display_map\n",
    "from odc.algo import to_f32\n",
    "\n",
    "### EASI tools\n",
    "sys.path.append(os.path.expanduser('../scripts'))\n",
    "from ceos_utils.data_cube_utilities.clean_mask import landsat_clean_mask_invalid, landsat_qa_clean_mask\n",
    "from easi_tools import EasiDefaults\n",
    "from easi_tools import notebook_utils\n",
    "easi = EasiDefaults() # Get the default parameters for this system"
   ]
  },
  {
   "cell_type": "code",
   "execution_count": null,
   "metadata": {},
   "outputs": [],
   "source": [
    "cluster, client = notebook_utils.initialize_dask(use_gateway=False)\n",
    "display(cluster if cluster else client)\n",
    "print(notebook_utils.localcluster_dashboard(client, server=easi.hub))"
   ]
  },
  {
   "cell_type": "code",
   "execution_count": null,
   "metadata": {
    "tags": []
   },
   "outputs": [],
   "source": [
    "from datacube.utils.aws import configure_s3_access\n",
    "configure_s3_access(aws_unsigned=False, requester_pays=True, client=client)"
   ]
  },
  {
   "cell_type": "markdown",
   "metadata": {},
   "source": [
    "## <span id=\"plat_prod\">Choose Platforms and Products [&#9652;](#top)</span>"
   ]
  },
  {
   "cell_type": "code",
   "execution_count": null,
   "metadata": {
    "tags": []
   },
   "outputs": [],
   "source": [
    "# Select a Product\n",
    "product = \"landsat8_c2l2_sr\""
   ]
  },
  {
   "cell_type": "markdown",
   "metadata": {},
   "source": [
    "## <span id=\"define_extents\">Define the Extents of the Analysis [&#9652;](#top)</span>"
   ]
  },
  {
   "cell_type": "code",
   "execution_count": null,
   "metadata": {
    "tags": []
   },
   "outputs": [],
   "source": [
    "# Select an analysis region (Latitude-Longitude) \n",
    "\n",
    "# Mining Region near Obuasi, Ghana \n",
    "# Baseline = 12/23/13, Analysis = 1/6/19 \n",
    "# NOTE: These are clear scenes at similar times of the year. \n",
    "# Use the Cloud Statistics notebook to evaluate cloud cover.\n",
    "\n",
    "latitude = (-23.5,-23.6)\n",
    "longitude = (-59.45,-59.35)"
   ]
  },
  {
   "cell_type": "code",
   "execution_count": null,
   "metadata": {
    "tags": []
   },
   "outputs": [],
   "source": [
    "## The code below renders a map that can be used to orient yourself with the region.\n",
    "display_map(longitude,latitude)"
   ]
  },
  {
   "cell_type": "markdown",
   "metadata": {},
   "source": [
    "## <span id=\"define_analysis_params\">Define Analysis Parameters [&#9652;](#top)</span>  "
   ]
  },
  {
   "cell_type": "code",
   "execution_count": null,
   "metadata": {
    "tags": []
   },
   "outputs": [],
   "source": [
    "from datetime import datetime\n",
    "\n",
    "# Select the start and end periods for your analysis products (Year,Month,Day).\n",
    "# These time windows will be used to make a median mosaic, so typically pick a year length (or more)\n",
    "# or select a small window surrounding a clear single date (use Cloud Statistics notebook).\n",
    "# Also, be sure to evaluate the RGB mosaics (below) to affirm they are not full of clouds.\n",
    "\n",
    "# Select the baseline time period (start and end)\n",
    "baseline_time_period = (datetime(2013,11,12), datetime(2013,11,13))\n",
    "\n",
    "# Select the analysis time period (start and end)\n",
    "analysis_time_period = (datetime(2022,12,23), datetime(2022,12,24))"
   ]
  },
  {
   "cell_type": "markdown",
   "metadata": {},
   "source": [
    "## <span id=\"load_data\">Load and Clean Data from the Data Cube [&#9652;](#top)</span>  "
   ]
  },
  {
   "cell_type": "code",
   "execution_count": null,
   "metadata": {
    "tags": []
   },
   "outputs": [],
   "source": [
    "output_crs = 'epsg:6933'\n",
    "resolution = (-30,30)\n",
    "scale = 0.0000275\n",
    "offset = 0.2"
   ]
  },
  {
   "cell_type": "code",
   "execution_count": null,
   "metadata": {
    "tags": []
   },
   "outputs": [],
   "source": [
    "baseline_ds = dc.load(latitude=latitude,longitude=longitude,product=product,\n",
    "                      measurements = ['red', 'green', 'blue', 'nir', 'swir1', 'swir2', 'pixel_qa'],\n",
    "                      time=baseline_time_period,output_crs=output_crs,resolution=resolution,group_by='solar_day',dask_chunks={'time':1}) "
   ]
  },
  {
   "cell_type": "code",
   "execution_count": null,
   "metadata": {
    "tags": []
   },
   "outputs": [],
   "source": [
    "analysis_ds = dc.load(latitude=latitude,longitude=longitude,product=product,\n",
    "                      measurements = ['red', 'green', 'blue', 'nir', 'swir1', 'swir2', 'pixel_qa'],\n",
    "                      time=analysis_time_period,output_crs=output_crs,resolution=resolution,group_by='solar_day',dask_chunks={'time':1}) "
   ]
  },
  {
   "cell_type": "code",
   "execution_count": null,
   "metadata": {
    "tags": []
   },
   "outputs": [],
   "source": [
    "cloud_mask_baseline = masking.make_mask(baseline_ds['pixel_qa'], clear='clear', cloud='not_high_confidence', cloud_shadow='not_high_confidence')\n",
    "baseline_ds = baseline_ds.where(cloud_mask_baseline)\n",
    "\n",
    "cloud_mask_analysis = masking.make_mask(analysis_ds['pixel_qa'], cloud='not_high_confidence', cloud_shadow='not_high_confidence')\n",
    "analysis_ds = analysis_ds.where(cloud_mask_analysis)"
   ]
  },
  {
   "cell_type": "markdown",
   "metadata": {},
   "source": [
    "## Create a Median Mosaic for the Baseline and Analysis Time Periods"
   ]
  },
  {
   "cell_type": "code",
   "execution_count": null,
   "metadata": {
    "tags": []
   },
   "outputs": [],
   "source": [
    "from ceos_utils.data_cube_utilities.dc_mosaic import create_median_mosaic\n",
    "baseline_composite = to_f32(create_median_mosaic(baseline_ds, cloud_mask_baseline), scale=scale, offset=offset)\n",
    "analysis_composite = to_f32(create_median_mosaic(analysis_ds, cloud_mask_analysis), scale=scale, offset=offset)"
   ]
  },
  {
   "cell_type": "markdown",
   "metadata": {},
   "source": [
    "## <span id=\"anomalies\">Calculate NDVI Anomaly Product [&#9652;](#top)</span>  "
   ]
  },
  {
   "cell_type": "code",
   "execution_count": null,
   "metadata": {
    "tags": []
   },
   "outputs": [],
   "source": [
    "def NDVI(dataset):\n",
    "    return (dataset.nir - dataset.red)/(dataset.nir + dataset.red)"
   ]
  },
  {
   "cell_type": "code",
   "execution_count": null,
   "metadata": {
    "tags": []
   },
   "outputs": [],
   "source": [
    "parameter_baseline_composite = NDVI(baseline_composite)\n",
    "parameter_analysis_composite = NDVI(analysis_composite)\n",
    "parameter_anomaly = parameter_analysis_composite - parameter_baseline_composite"
   ]
  },
  {
   "cell_type": "markdown",
   "metadata": {},
   "source": [
    "## Show Baseline RGB, Analysis RGB and Anomaly Products"
   ]
  },
  {
   "cell_type": "code",
   "execution_count": null,
   "metadata": {
    "tags": []
   },
   "outputs": [],
   "source": [
    "import matplotlib.pyplot as plt\n",
    "from ceos_utils.data_cube_utilities.dc_rgb import rgb\n",
    "from matplotlib.cm import RdYlGn\n",
    "RdYlGn.set_bad('black',1.)"
   ]
  },
  {
   "cell_type": "code",
   "execution_count": null,
   "metadata": {
    "tags": []
   },
   "outputs": [],
   "source": [
    "# Define the significant anomaly range for Plot #4\n",
    "# The typical loss range is <0. Choose < -0.1 or < -0.2.\n",
    "# The typical gain range is >0. Choose > 0.1 or > 0.2. \n",
    "\n",
    "loss_range  = parameter_anomaly < -0.05\n",
    "gain_range  = parameter_anomaly > 0.1"
   ]
  },
  {
   "cell_type": "code",
   "execution_count": null,
   "metadata": {
    "tags": []
   },
   "outputs": [],
   "source": [
    "import xarray as xr\n",
    "import numpy as np\n",
    "\n",
    "fig, ax = plt.subplots(2, 2, figsize=(12,12))\n",
    "\n",
    "for sub_ax in ax.flatten():\n",
    "    sub_ax.set_facecolor('black')\n",
    "\n",
    "baseline_rgb = baseline_composite[['red', 'green', 'blue']].to_array().compute()\n",
    "analysis_rgb = analysis_composite[['red', 'green', 'blue']].to_array().compute()\n",
    "\n",
    "# Use the middle values of the data (2% to 98%) to brighten the image\n",
    "lw_qtl, up_qtl = 0.02, 0.98\n",
    "rgb_vmin = min(baseline_rgb.quantile(lw_qtl).values,analysis_rgb.quantile(lw_qtl).values)\n",
    "rgb_vmax = max(baseline_rgb.quantile(up_qtl).values,analysis_rgb.quantile(up_qtl).values)\n",
    "\n",
    "# Plot the resulting 4 products ... Baseline RGB, Analysis RGB, Total Anomaly, Anomaly Threshold\n",
    "# NOTE: Clouds in either the baseline or analysis images will be removed from the anomaly product\n",
    "\n",
    "## Plot #1 = Baseline RGB (upper left)\n",
    "axes_image = baseline_rgb.plot.imshow(ax=ax[0,0], vmin=rgb_vmin, vmax=rgb_vmax)\n",
    "\n",
    "## Plot #2 = Analysis RGB (upper right)\n",
    "analysis_rgb.plot.imshow(ax=ax[0,1], vmin=rgb_vmin, vmax=rgb_vmax)\n",
    "\n",
    "## Plot #3 = Total Anomaly (lower left)\n",
    "parameter_anomaly.plot(ax=ax[1,0], vmin=-0.2, vmax=0.2, cmap = RdYlGn, add_colorbar=False)\n",
    "\n",
    "## Plot #4 = Anomaly Threshold (lower right)\n",
    "\n",
    "# Analysis composite grayscale background\n",
    "plt4_bkg_band = 'swir1' # The band to use as the background image.\n",
    "plt4_rgb = np.repeat(analysis_composite[plt4_bkg_band].where(cloud_mask_baseline.sum('time').astype(np.bool))\\\n",
    "                     .values[:,:,np.newaxis],3,axis=2)\n",
    "\n",
    "# Selected a range of SWIR1 values (0.001 to 0.600) to lighten image background \n",
    "# Users may also try values of 0.02 and 0.98\n",
    "min_bkg = np.nanquantile(analysis_composite[plt4_bkg_band].values, 0.001)\n",
    "max_bkg = np.nanquantile(analysis_composite[plt4_bkg_band].values, 0.95)\n",
    "plt4_rgb = np.interp(plt4_rgb, (min_bkg, max_bkg), [0,1])\n",
    "\n",
    "# Significant anomaly color overlays\n",
    "color_green = np.array([0,1,0]) # green\n",
    "color_red   = np.array([1,0,0]) # red\n",
    "plt4_rgb[loss_range] = color_red\n",
    "plt4_rgb[gain_range] = color_green\n",
    "\n",
    "# Plot\n",
    "plt4_coords = dict(analysis_composite.coords)\n",
    "rgb_coord_arr = np.array(['red', 'green', 'blue'])\n",
    "rgb_coord_da = xr.DataArray(rgb_coord_arr,name='rgb',dims=['rgb'],coords={'rgb': rgb_coord_arr})\n",
    "plt4_coords.update({'rgb': rgb_coord_da})\n",
    "plt4_rgb_da = xr.DataArray(plt4_rgb, coords=plt4_coords,dims=list(analysis_composite.dims) + ['rgb'])\n",
    "plt4_rgb_da.plot.imshow(ax=ax[1,1])\n",
    "\n",
    "# Titles for all plots\n",
    "ax[0,0].set_title('Baseline Composite'), ax[0,0].xaxis.set_visible(False), ax[0,0].yaxis.set_visible(False)\n",
    "ax[0,1].set_title('Analysis Composite'), ax[0,1].xaxis.set_visible(False), ax[0,1].yaxis.set_visible(False)\n",
    "ax[1,0].set_title('Vegetation Anomalies: Red=Loss, Green=Gain'), ax[1,0].xaxis.set_visible(False), ax[1,0].yaxis.set_visible(False)\n",
    "ax[1,1].set_title('Locations of Significant Anomalies: Red=Loss, Green=Gain'), ax[1,1].xaxis.set_visible(False), ax[1,1].yaxis.set_visible(False)\n",
    "\n",
    "plt.tight_layout()\n",
    "plt.show()"
   ]
  },
  {
   "cell_type": "code",
   "execution_count": null,
   "metadata": {},
   "outputs": [],
   "source": []
  }
 ],
 "metadata": {
  "kernelspec": {
   "display_name": "Python 3 (ipykernel)",
   "language": "python",
   "name": "python3"
  },
  "language_info": {
   "codemirror_mode": {
    "name": "ipython",
    "version": 3
   },
   "file_extension": ".py",
   "mimetype": "text/x-python",
   "name": "python",
   "nbconvert_exporter": "python",
   "pygments_lexer": "ipython3",
   "version": "3.10.6"
  }
 },
 "nbformat": 4,
 "nbformat_minor": 4
}
