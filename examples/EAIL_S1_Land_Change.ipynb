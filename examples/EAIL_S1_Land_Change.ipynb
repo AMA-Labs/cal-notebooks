{
 "cells": [
  {
   "cell_type": "markdown",
   "metadata": {},
   "source": [
    "# Sentinel-1 Land Change Notebook\n",
    "<br>\n",
    "This notebook uses Sentinel-1 data to detect land change. These changes could be related to agriculture, deforestation, flooding, urbanization, or other factors. This notebook includes several different data products including histograms, a single-date single-band threshold product, and a multi-date land change product.\n",
    "<br><br>\n",
    "The core data has been processed by Google Earth Engine using GRD scenes to create C-band backscatter (VV and VH bands) at 10-meters spatial resolution. The data is consistently available from early 2017 for the globe. It is important to note that this data does NOT include radiometric terrain correction (RTC) so there are issues using this data in mountaineous areas. In addition, users are recommended to only compare scenes from the same pass direction (ascending or descending) and orbit path to avoid viewing geometry issues. \n",
    "<br><br>\n",
    "For more information about how to interpret radar data, see the following document:<br> \"A Layman's Interpretation Guide to L-Band and C-Band Synthetic Aperture Radar Data\" found <a href=\"https://ceos.org/document_management/SEO/DataCube/Laymans_SAR_Interpretation_Guide_2.0.pdf\" target=\"_blank\"><b>HERE</b></a>."
   ]
  },
  {
   "cell_type": "markdown",
   "metadata": {},
   "source": [
    "## Instructions for Execution\n",
    "It is suggested that users first execute the notebook \"as is\" to successfully complete the Google authorizations and view sample results. Then, users should look for \"MODIFY HERE\" labels at the top of several code blocks to identify code that can be modified. For example, users can select a new analysis region, time extent, speckle filter size, the date used for the histogram plot, the date used for the single-band threshold water plot, and the dates used for the multi-date threshold flooding plot. Once the full notebook has been run, users can run individual code blocks using \"Shift-Return\" or run segments of the code using the Runtime menu. Users do not have to go thru the Google authorization steps for additional execution cycles. "
   ]
  },
  {
   "cell_type": "markdown",
   "metadata": {},
   "source": [
    "## Load the Data Cube Configuration and Import Utilities"
   ]
  },
  {
   "cell_type": "code",
   "execution_count": null,
   "metadata": {
    "tags": []
   },
   "outputs": [],
   "source": [
    "# Ignore warnings \n",
    "#import warnings\n",
    "#warnings.simplefilter('ignore')\n",
    "\n",
    "# Load Data Cube Configuration\n",
    "import datacube\n",
    "dc = datacube.Datacube()\n",
    "\n",
    "# Import Utilities\n",
    "from datacube.utils import masking\n",
    "from dea_tools.plotting import rgb, display_map\n",
    "import numpy as np\n",
    "import xarray as xr\n",
    "import pandas as pd\n",
    "import matplotlib.pyplot as plt\n",
    "\n",
    "### EASI tools\n",
    "import sys, os\n",
    "sys.path.append(os.path.expanduser('../scripts'))\n",
    "os.environ['USE_PYGEOS'] = '0'\n",
    "from easi_tools import EasiDefaults\n",
    "from easi_tools import notebook_utils\n",
    "easi = EasiDefaults() # Get the default parameters for this system"
   ]
  },
  {
   "cell_type": "code",
   "execution_count": null,
   "metadata": {
    "tags": []
   },
   "outputs": [],
   "source": [
    "# Select a Product and Platform\n",
    "product = \"s1_rtc\""
   ]
  },
  {
   "cell_type": "markdown",
   "metadata": {},
   "source": [
    "## Define the Extents of the Analysis and View\n",
    "Select the center of an analysis region (lat_long) below. The size of the region (in degrees) that surrounds this center point is defined using the \"box_size_deg\" parameter. Users can select one of the sample regions or add a new region. Use the map below to zoom in-or-out to find other regions. Click on the map to view a Lat-Lon position. After selecting an analysis region, you can also select a time window by defining the start date and end date for the \"time_extents\" parameter."
   ]
  },
  {
   "cell_type": "code",
   "execution_count": null,
   "metadata": {
    "tags": []
   },
   "outputs": [],
   "source": [
    "# MODIFY HERE\n",
    "\n",
    "# Select the center of an analysis region (lat_long) \n",
    "# Adjust the surrounding box size (box_size) around the center (in degrees)\n",
    "\n",
    "# Camp Fire, Paradise, CA\n",
    "# Time = 2018-10-01, 2018-11-30\n",
    "# Fire started 11-08, contained 11-25\n",
    "# Data Filter > Orbit=137\n",
    "\n",
    "# lat_long = (39.76, -121.550)\n",
    "# box_size_deg = 0.25\n",
    "# time_extents = ('2018-10-01', '2018-12-31')\n",
    "\n",
    "# Lake Berryessa, Napa, CA\n",
    "# Time = 2020-07-01, 2020-09-01\n",
    "# Fire started 08-16-20\n",
    "# Data Filter > Orbit=35\n",
    "\n",
    "# lat_long = (38.5, -122.228)\n",
    "# box_size_deg = 0.10\n",
    "# time_extents = ('2020-07-01', '2020-09-01')\n",
    "\n",
    "# Sample Fire Region from Jack\n",
    "# Time = 2020-02-04\n",
    "# Data Filter > Orbit=147\n",
    "\n",
    "# lat_long = (-35.625, 148.920)\n",
    "# box_size_deg = 0.40\n",
    "time_extents = ('2019-01-01', '2019-03-01')"
   ]
  },
  {
   "cell_type": "code",
   "execution_count": null,
   "metadata": {
    "tags": []
   },
   "outputs": [],
   "source": [
    "# Calculate the latitude and longitude bounds of the analysis box\n",
    "# latitude = (lat_long[0]-box_size_deg/2, lat_long[0]+box_size_deg/2)\n",
    "# longitude = (lat_long[1]-box_size_deg/2, lat_long[1]+box_size_deg/2)\n",
    "latitude = easi.latitude\n",
    "longitude = easi.longitude"
   ]
  },
  {
   "cell_type": "code",
   "execution_count": null,
   "metadata": {
    "tags": []
   },
   "outputs": [],
   "source": [
    "display_map(longitude,latitude)"
   ]
  },
  {
   "cell_type": "markdown",
   "metadata": {},
   "source": [
    "## Define Filtering, Load the Data and View the Available Dates\n",
    "This is where the Sentinel-1 data is loaded with specific filtering parameters. Due to the lack of Radiometric Terrain Correction (RTC), In addition, users are recommended to only compare scenes from the same pass direction (ascending or descending) and orbit path to avoid viewing geometry issues. \n",
    "\n",
    "\n",
    "it is advised that one consistent orbit pass direction is used (e.g. ASCENDING or DESCENDING). This will ensure the viewing angles are consistent for a given location and avoid false land change detection. By experimenting with the choice of either pass direction it may be possible to maximize the available dates for analyses."
   ]
  },
  {
   "cell_type": "code",
   "execution_count": null,
   "metadata": {
    "tags": []
   },
   "outputs": [],
   "source": [
    "parameters = dict(product=product, measurements=['vv','vh'],\n",
    "                  time=time_extents, lat=latitude, lon=longitude, group_by='time',\n",
    "                 )\n",
    "                  # query={'filter':'relativeOrbitNumber_start=147'})"
   ]
  },
  {
   "cell_type": "code",
   "execution_count": null,
   "metadata": {
    "tags": []
   },
   "outputs": [],
   "source": [
    "sar_dataset = dc.load(**parameters)\n",
    "sar_dataset"
   ]
  },
  {
   "cell_type": "code",
   "execution_count": null,
   "metadata": {
    "tags": []
   },
   "outputs": [],
   "source": [
    "from operator import itemgetter\n",
    "\n",
    "def get_metadata(group):\n",
    "    metadata = (set(), set(), set(), set())\n",
    "    for ds in group:\n",
    "        metadata[0].add(np.datetime64(ds.metadata_doc.get('properties').get('dtr:start_datetime'), 'D'))\n",
    "        metadata[1].add(ds.metadata_doc.get('properties').get('sentinel:orbit'))\n",
    "        metadata[2].add(ds.metadata_doc.get('properties').get('eo:platform'))\n",
    "        metadata[3].add(ds.metadata_doc.get('properties').get('sentinel:datatake_id'))\n",
    "    return tuple(map(lambda x: ', '.join([str(i) for i in x]), metadata))\n",
    "\n",
    "parameters.update(group_by='time' if not parameters.get('group_by') else parameters['group_by'])\n",
    "sar_metadata = sorted([get_metadata(groups)\n",
    "                       for groups in dc.group_datasets(dc.find_datasets(**parameters),\n",
    "                                                       parameters.get('group_by')).values],key=itemgetter(0))"
   ]
  },
  {
   "cell_type": "code",
   "execution_count": null,
   "metadata": {
    "tags": []
   },
   "outputs": [],
   "source": [
    "# Show acquisition indices and dates\n",
    "pd.set_option('display.max_rows', 250)\n",
    "pd.DataFrame(sar_metadata, columns=['Acquisition Date', 'Orbit', 'Platform', 'ID'])"
   ]
  },
  {
   "cell_type": "markdown",
   "metadata": {},
   "source": [
    "### Speckle Filtering using a Block Filter\n",
    "Radar data is often \"grainy\" in appearance and differences between water and land are not consistent. To improve the data, it is quite common to use speckle filtering. Below is an algorithm that uses a common \"block\" filter to average the pixels surrounding any given pixel. Users can select an odd number \"filter_size\" (e.g. 3,5,7, etc.) to filter both the VV and VH data. "
   ]
  },
  {
   "cell_type": "code",
   "execution_count": null,
   "metadata": {
    "tags": []
   },
   "outputs": [],
   "source": [
    "# Setup dB to power conversion functions so that filters work on power values\n",
    "\n",
    "def to_pwr(x):\n",
    "    return 10**(x/10)\n",
    "def to_db(x):\n",
    "    return 10*np.log10(x)"
   ]
  },
  {
   "cell_type": "code",
   "execution_count": null,
   "metadata": {
    "tags": []
   },
   "outputs": [],
   "source": [
    "# MODIFY HERE\n",
    "\n",
    "# Users can select the \"filter_size\" to define the level of speckle filtering. The baseline is 5.\n",
    "# The filter size must be an odd number, such as 3,5,7, etc. \n",
    "\n",
    "from ceos_utils.data_cube_utilities.raster_filter import stats_filter_2d\n",
    "\n",
    "# Set any null values to 0 before applying the filter to prevent issues\n",
    "sar_dataset_filled = sar_dataset.where(~sar_dataset.isnull(), 0)\n",
    "\n",
    "# Create a new entry in dataset corresponding to filtered VV and VH data\n",
    "sar_dataset[\"block_filter_vv\"] = sar_dataset_filled.vv.pipe(to_pwr).groupby(\"time\")\\\n",
    "                                 .apply(stats_filter_2d, statistic='mean', filter_size=5)\\\n",
    "                                 .pipe(to_db)\n",
    "sar_dataset[\"block_filter_vh\"] = sar_dataset_filled.vh.pipe(to_pwr).groupby(\"time\")\\\n",
    "                                 .apply(stats_filter_2d, statistic='mean', filter_size=5)\\\n",
    "                                 .pipe(to_db)"
   ]
  },
  {
   "cell_type": "markdown",
   "metadata": {},
   "source": [
    "## View Histogram Plots\n",
    "Histogram plots are good for viewing the statistics of the VV and VH data. In most cases it is easy to identify the difference between land pixels (higher values) and water pixels (lower values). The VH histogram below will typically show land at a peak of -15 dB and water at a peak of -27 dB. A reasonable threshold for water detection may be estimated from this histogram. For example, one may select a threshold of -20 dB for the water and land separation."
   ]
  },
  {
   "cell_type": "code",
   "execution_count": null,
   "metadata": {
    "tags": []
   },
   "outputs": [],
   "source": [
    "# MODIFY HERE\n",
    "\n",
    "# Choose a single time slice by its index (listed above)\n",
    "acq_ind_to_show = 2"
   ]
  },
  {
   "cell_type": "code",
   "execution_count": null,
   "metadata": {
    "tags": []
   },
   "outputs": [],
   "source": [
    "fig = plt.figure(figsize=(15, 5))\n",
    "sar_dataset.isel(time=acq_ind_to_show).block_filter_vv.plot.hist(bins=1000, range=(-5,0), \n",
    "                                                                 label=\"VV Block Filter\")\n",
    "sar_dataset.isel(time=acq_ind_to_show).block_filter_vh.plot.hist(bins=1000, range=(-5,0), \n",
    "                                                                 label=\"VH Block Filter\", alpha=0.5)\n",
    "plt.legend()\n",
    "plt.xlabel(\"Backscatter Intensity (dB)\")\n",
    "plt.ylabel(\"Number of Pixels\")\n",
    "plt.title(\"Histogram Comparison of Block-Filtered VV and VH Backscatter\")\n",
    "plt.show()"
   ]
  },
  {
   "cell_type": "markdown",
   "metadata": {},
   "source": [
    "## Scale the backscatter amplitude for better image outputs\n",
    "Backscatter amplitude for each band can be scaled to an 8-bit range of 0-255 to improve visual output and maximize contrast in VV and VH image products. This process is explained here. Gamma-nought backscatter amplitude (in dB units) is converted to raw (digital number) units using the conversion: DN (amplitude) = 10^(dB/20). Histograms are then used to view the range of dB values for the VV and VH bands. The range of expected values (across diverse land types) is then scaled to an 8-bit range using the formula: Scale = 256 / (range). Finally, an \"offset\" value is applied to allow the full range of values to be distributed across the 8-bit range. The final equation is: DN (amplitude, 8-bit) = ( DN(amplitude) - offset ) * scale. "
   ]
  },
  {
   "cell_type": "code",
   "execution_count": null,
   "metadata": {
    "tags": []
   },
   "outputs": [],
   "source": [
    "# This backscatter scaling is optimized for block-filtered data\n",
    "# VV band range is 0dB to -16dB which is DN=1.00 to DN=0.158\n",
    "# VH band range is -5dB to -27dB which is DN=0.562 to DN=0.045\n",
    "# VV/VH range is 0.0 to 1.0. This data is scaled by 20 for improved color contrast\n",
    "\n",
    "vv_convert = (10**(sar_dataset.block_filter_vv/20)-0.158)*303\n",
    "vh_convert = (10**(sar_dataset.block_filter_vh/20)-0.045)*493\n",
    "sar_dataset['vv_amp'] = vv_convert\n",
    "sar_dataset['vh_amp'] = vh_convert\n",
    "sar_dataset['vvvh_amp'] = (vv_convert / vh_convert) * 20\n",
    "sar_dataset['vvvh'] = (sar_dataset.vv / sar_dataset.vh) * 20"
   ]
  },
  {
   "cell_type": "markdown",
   "metadata": {},
   "source": [
    "## VV, VH and RGB images"
   ]
  },
  {
   "cell_type": "code",
   "execution_count": null,
   "metadata": {
    "tags": []
   },
   "outputs": [],
   "source": [
    "# Plots of VV and VH Backscatter Intensity\n",
    "fig, ax = plt.subplots(1, 2, figsize=(16, 8))\n",
    "sar_dataset['r1'] = sar_dataset.vv\n",
    "sar_dataset['b1'] = sar_dataset.vv\n",
    "sar_dataset['g1'] = sar_dataset.vv\n",
    "rgb(sar_dataset.isel(time=acq_ind_to_show), ax=ax[0], bands=['r1','g1','b1'])\n",
    "sar_dataset['r2'] = sar_dataset.vh\n",
    "sar_dataset['b2'] = sar_dataset.vh\n",
    "sar_dataset['g2'] = sar_dataset.vh\n",
    "rgb(sar_dataset.isel(time=acq_ind_to_show), ax=ax[1], bands=['r2','g2','b2'])\n",
    "ax[0].set_title('VV Backscatter'), ax[0].xaxis.set_visible(False), ax[0].yaxis.set_visible(False)\n",
    "ax[1].set_title('VH Backscatter'), ax[1].xaxis.set_visible(False), ax[1].yaxis.set_visible(False)\n",
    "plt.show()"
   ]
  },
  {
   "cell_type": "code",
   "execution_count": null,
   "metadata": {
    "tags": []
   },
   "outputs": [],
   "source": [
    "# RGB Plot of Backscatter Intensity (RGB= VV, VH, VV/VH)\n",
    "# High backscatter (both bands) due to vegetation and foliage will appear as YELLOW (mix of red and green)\n",
    "# New vegetation and urban areas are MAGENTA in color (due to high overall scattering and higher VV compared to VH)\n",
    "# Low vegetation areas are BLUE (due to low overall scattering and higher VV compared to VH)\n",
    "# Water is BLACK (low backscatter in both bands with similar VV and VH)\n",
    "\n",
    "rgb(sar_dataset.isel(time=acq_ind_to_show),bands=['vv_amp','vh_amp','vvvh_amp'], size=10, robust=True)\n",
    "plt.title('Backscatter RGB: VV, VH, VV/VH')\n",
    "plt.axis('off')\n",
    "plt.show()"
   ]
  },
  {
   "cell_type": "markdown",
   "metadata": {},
   "source": [
    "## Multi-Date RGB Land Change Product"
   ]
  },
  {
   "cell_type": "code",
   "execution_count": null,
   "metadata": {
    "tags": []
   },
   "outputs": [],
   "source": [
    "# Define a custom RGB - This custom RGB allows specific bands and time slices to be assigned to each color\n",
    "# This custom RGB can be valuable for viewing land changes between two time periods\n",
    "\n",
    "def custom_rgb(dataset, rgb_to_data_arr_ind_map, **rgb_kwargs):\n",
    "    rgb_data = {}\n",
    "    for channel, [data_var, time_ind] in zip(['nbart_red', 'nbart_green', 'nbart_blue'], rgb_to_data_arr_ind_map):\n",
    "        rgb_data[channel] = dataset[data_var].isel(time=time_ind)\n",
    "        rgb_data[channel] = rgb_data[channel].drop('time').to_array()\n",
    "    rgb_data = xr.Dataset(rgb_data).squeeze('variable')\n",
    "    rgb_kwargs['ds'] = rgb_data\n",
    "    rgb(**rgb_kwargs)\n",
    "    return fig, ax"
   ]
  },
  {
   "cell_type": "code",
   "execution_count": null,
   "metadata": {
    "tags": []
   },
   "outputs": [],
   "source": [
    "# MODIFY HERE\n",
    "\n",
    "# Define a custom RGB image using multiple dates and bands\n",
    "# This product can be useful to view land change between different time periods\n",
    "\n",
    "# Select the band: 'vv_amp' or 'vh_amp'\n",
    "band = ['vh_amp']\n",
    "\n",
    "# Selent the scene index for each color: Red, Green, Blue\n",
    "first_scene = 0   # This is the RED color\n",
    "second_scene = 2  # This is the GREEN color\n",
    "third_scene = 3   # This is the BLUE color\n",
    "\n",
    "# Color Interpretation for output results\n",
    "# Red areas have high vegetation (cropping) at the early date\n",
    "# Green areas have high vegetation (cropping) at the middle date\n",
    "# Blue areas have high vegetation (cropping) at the later date\n",
    "# Cyan (mix of green and blue) have higher vegetation in 2nd and 3rd dates compared to 1st date\n",
    "# Magenta (mix of red and blue) have higher vegetation in 1st and 3rd dates compared to 2nd date\n",
    "# Yellow (mix of red and green) have higher vegetation in 1st and 2nd dates compared to 3rd date\n",
    "# Grey regions are high scattering (all dates) due to tree foliage or grass vegetation\n",
    "# Black regions are low scattering (all dates) due to water or low vegetation (bare soils)\n",
    "\n",
    "rgb_to_data_arr_ind_map = [[band,first_scene],[band,second_scene],[band,third_scene]]\n",
    "custom_rgb(sar_dataset, rgb_to_data_arr_ind_map, size=10)\n",
    "plt.title('Multi-Date RGB Backscatter Product')\n",
    "plt.axis('off')\n",
    "plt.show()"
   ]
  },
  {
   "cell_type": "markdown",
   "metadata": {},
   "source": [
    "## Multi-Date Single-Band Threshold Land Change Product\n",
    "The code below selects two dates, a variable (VV or VH) and a threshold range. The final product performs a comparison of the two dates and calculates the change in backscatter between those dates. Pixels with significant reduction in backscatter (e.g., loss of 7 dB) are likely changes from land to water due to flooding. Pixels with significant increases in backscatter (e.g., increase of 7 dB) are likely changes from water to land due to drying or drought."
   ]
  },
  {
   "cell_type": "code",
   "execution_count": null,
   "metadata": {
    "tags": []
   },
   "outputs": [],
   "source": [
    "# MODIFY HERE\n",
    "\n",
    "# Select TWO acquisitions to calculate a change product\n",
    "# Choose from the indices in the table above\n",
    "# first_acq_ind = First time slice acquisition\n",
    "# second_acq_ind = Second time slice acquisition\n",
    "\n",
    "first_acq_ind = 1\n",
    "second_acq_ind = 3\n",
    "\n",
    "# Select the variable to plot: vv or vh\n",
    "\n",
    "threshold_variable = 'block_filter_vh'\n",
    "\n",
    "# The code will calculate the difference of the two images (Second-First)\n",
    "# Define a threshold range to compare the difference of the two acquisitions\n",
    "# GREY = Pixels NOT in the threshold range \n",
    "# RED = Pixels LESS than the low end of the threshold range\n",
    "# GREEN = Pixels MORE than the high end of the threshold range\n",
    "\n",
    "threshold_range = (-4, 8)"
   ]
  },
  {
   "cell_type": "code",
   "execution_count": null,
   "metadata": {
    "tags": []
   },
   "outputs": [],
   "source": [
    "# Set the overlay colors\n",
    "# Calculate the difference in backscatter between the two times\n",
    "# Find the pixels above or below the threshold range (these are significant changes)\n",
    "\n",
    "color_loss = np.array([255,0,0]) # backscatter decrease (RED)\n",
    "color_gain = np.array([0,255,0]) # backscatter increase (GREEN)\n",
    "color_black = np.array([0,0,0]) # low backscatter change, water (BLACK)\n",
    "\n",
    "first_acq = sar_dataset.isel(time=first_acq_ind)\n",
    "second_acq = sar_dataset.isel(time=second_acq_ind)\n",
    "change_product = second_acq[threshold_variable] - first_acq[threshold_variable]\n",
    "\n",
    "below_th = change_product.values < threshold_range[0]\n",
    "above_th = threshold_range[1] < change_product.values"
   ]
  },
  {
   "cell_type": "code",
   "execution_count": null,
   "metadata": {
    "tags": []
   },
   "outputs": [],
   "source": [
    "# Set the water threshold value based on data in the histograms for the selected band\n",
    "# This will \"mask\" the water pixels and not show false change\n",
    "\n",
    "water = first_acq[threshold_variable].values < -21.0"
   ]
  },
  {
   "cell_type": "code",
   "execution_count": null,
   "metadata": {
    "tags": []
   },
   "outputs": [],
   "source": [
    "# Create a custom threshold plot to identify land change\n",
    "# The background image VV backscatter (grey-scale)\n",
    "# RED areas have decreased backscatter or a loss of vegetation\n",
    "# GREEN areas have increased backscatter or an increase in vegetation\n",
    "# BLACK areas have no significant backscatter change or are water\n",
    "\n",
    "first_acq['red'] = first_acq.block_filter_vh\n",
    "first_acq['green'] = first_acq.block_filter_vh\n",
    "first_acq['blue'] = first_acq.block_filter_vh\n",
    "\n",
    "rgb(first_acq, bands=['red', 'green', 'blue'], size=10)\n",
    "    # paint_on_mask=[(below_th, color_loss),(above_th, color_gain),(water, color_black)])\n",
    "plt.title('Multi-Date Single-Band Threshold Land Change Product')\n",
    "plt.axis('off')\n",
    "plt.show()"
   ]
  },
  {
   "cell_type": "code",
   "execution_count": null,
   "metadata": {},
   "outputs": [],
   "source": []
  },
  {
   "cell_type": "code",
   "execution_count": null,
   "metadata": {},
   "outputs": [],
   "source": []
  }
 ],
 "metadata": {
  "kernelspec": {
   "display_name": "Python 3 (ipykernel)",
   "language": "python",
   "name": "python3"
  },
  "language_info": {
   "codemirror_mode": {
    "name": "ipython",
    "version": 3
   },
   "file_extension": ".py",
   "mimetype": "text/x-python",
   "name": "python",
   "nbconvert_exporter": "python",
   "pygments_lexer": "ipython3",
   "version": "3.10.12"
  }
 },
 "nbformat": 4,
 "nbformat_minor": 4
}
