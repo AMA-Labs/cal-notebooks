{
 "cells": [
  {
   "cell_type": "markdown",
   "metadata": {},
   "source": [
    "# Spectral Products\n",
    "Spectral products are created using mathematical combinations of specific bands (wavelength components). These spectral products can be useful for identifying spatial variations in vegetation, water or urbanization. This notebook covers the following spectral products:\n",
    "Fractional Cover, NDBI, NDVI, NDWI, SAVI, EVI"
   ]
  },
  {
   "cell_type": "code",
   "execution_count": null,
   "metadata": {
    "tags": []
   },
   "outputs": [],
   "source": [
    "# Supress Warning \n",
    "import warnings\n",
    "warnings.filterwarnings('ignore')\n",
    "\n",
    "import datacube\n",
    "dc = datacube.Datacube(app='Spectral_Products')\n",
    "\n",
    "import matplotlib.pyplot as plt\n",
    "%matplotlib inline\n",
    "import numpy as np  \n",
    "import xarray as xr  \n",
    "\n",
    "# import utils.data_cube_utilities.data_access_api as dc_api  \n",
    "# api = dc_api.DataAccessApi()\n",
    "\n",
    "from datacube.utils import masking\n",
    "from dea_tools.plotting import rgb, display_map\n",
    "\n",
    "### EASI tools\n",
    "import sys, os\n",
    "sys.path.append(os.path.expanduser('/home/jovyan/hub-notebooks/scripts'))\n",
    "os.environ['USE_PYGEOS'] = '0'\n",
    "from easi_tools import EasiNotebooks\n",
    "import notebook_utils\n",
    "easi = EasiNotebooks()"
   ]
  },
  {
   "cell_type": "code",
   "execution_count": null,
   "metadata": {
    "tags": []
   },
   "outputs": [],
   "source": [
    "cluster, client = notebook_utils.initialize_dask(use_gateway=False)\n",
    "display(cluster if cluster else client)\n",
    "print(notebook_utils.localcluster_dashboard(client, server=easi.hub))"
   ]
  },
  {
   "cell_type": "code",
   "execution_count": null,
   "metadata": {
    "tags": []
   },
   "outputs": [],
   "source": [
    "from datacube.utils.aws import configure_s3_access\n",
    "configure_s3_access(aws_unsigned=False, requester_pays=True, client=client)"
   ]
  },
  {
   "cell_type": "code",
   "execution_count": null,
   "metadata": {
    "tags": []
   },
   "outputs": [],
   "source": [
    "# Select a Product and Platform\n",
    "product = \"s2_l2a\"\n",
    "platform = \"Sentinel-2A\""
   ]
  },
  {
   "cell_type": "code",
   "execution_count": null,
   "metadata": {
    "tags": []
   },
   "outputs": [],
   "source": [
    "# Select an analysis region (Lat-Lon) within the extents listed above. \n",
    "# Select a time period (Min-Max) within the extents listed above (Year-Month-Day)\n",
    "# This region and time period will be used for the cloud assessment\n",
    "\n",
    "# South Santo, Sanma - Main Island, Vanuatu\n",
    "# Path of TS Harold, April 6, 2020\n",
    "# latitude = (-15.682, -15.491) \n",
    "# longitude = (166.736, 166.904) \n",
    "\n",
    "# Efate Island, Vanuatu (near Port Vila)\n",
    "# latitude = (-17.810, -17.691) \n",
    "# longitude = (168.247, 168.349) \n",
    "\n",
    "# South Pentacost - Vanuatu\n",
    "# Path of TS Harold, April 7, 2020\n",
    "# latitude = (-16.040, -15.778) \n",
    "# longitude = (168.158, 168.291) \n",
    "\n",
    "# West Majuro - Marshall Islands\n",
    "# latitude = (7.132, 7.169) \n",
    "# longitude = (171.023, 171.048) \n",
    "\n",
    "# Kumasi, Ghana\n",
    "# latitude = (6.529, 6.8734) \n",
    "# longitude = (-1.7954, -1.4211) \n",
    "\n",
    "# Tonga - Main Island\n",
    "# latitude = (-21.29, -21.03) \n",
    "# longitude = (-175.37, -175.02) \n",
    "\n",
    "# Hornsby, AUS - High Frog Density\n",
    "# latitude = (-33.8, -33.7) \n",
    "# longitude = (151.04, 151.16) \n",
    "\n",
    "# Niue Island\n",
    "# latitude = (-19.1743, -18.9264) \n",
    "# longitude = (-169.9694, -169.7523) \n",
    "\n",
    "latitude = easi.latitude\n",
    "longitude = easi.longitude\n",
    "\n",
    "# Time Period (Year-Mon-Day)\n",
    "time_extents = ('2021-03-01', '2021-06-01')\n"
   ]
  },
  {
   "cell_type": "code",
   "execution_count": null,
   "metadata": {
    "tags": []
   },
   "outputs": [],
   "source": [
    "# The code below renders a map that can be used to view the region.\n",
    "display_map(longitude, latitude)"
   ]
  },
  {
   "cell_type": "markdown",
   "metadata": {},
   "source": [
    "## Load the dataset and the required spectral bands or other parameters"
   ]
  },
  {
   "cell_type": "code",
   "execution_count": null,
   "metadata": {
    "tags": []
   },
   "outputs": [],
   "source": [
    "sentinel_dataset = dc.load(latitude = latitude,\n",
    "                          longitude = longitude,\n",
    "                          time = time_extents,\n",
    "                          product = product,\n",
    "                          group_by='solar_day',\n",
    "                          measurements = ['red', 'green', 'blue', 'nir', 'swir_1', 'swir_2', 'SCL'],\n",
    "                          output_crs = 'EPSG:6933',\n",
    "                          resolution = (-30,30),\n",
    "                          dask_chunks = {'time':1}\n",
    "                          ) "
   ]
  },
  {
   "cell_type": "code",
   "execution_count": null,
   "metadata": {
    "tags": []
   },
   "outputs": [],
   "source": [
    "# Change the names to work with this notebook and other ceos_utils functions\n",
    "sentinel_dataset = sentinel_dataset.rename(\n",
    "    {\n",
    "        'swir_1':'swir1', \n",
    "        'swir_2':'swir2', \n",
    "        'SCL':'scl',\n",
    "    }\n",
    ") "
   ]
  },
  {
   "cell_type": "code",
   "execution_count": null,
   "metadata": {
    "tags": []
   },
   "outputs": [],
   "source": [
    "sentinel_dataset"
   ]
  },
  {
   "cell_type": "markdown",
   "metadata": {},
   "source": [
    "### Mask out clouds and cloud shadows + water (if desired) and create a median mosaic"
   ]
  },
  {
   "cell_type": "code",
   "execution_count": null,
   "metadata": {
    "tags": []
   },
   "outputs": [],
   "source": [
    "cloud_mask = (sentinel_dataset.scl != 0) & (sentinel_dataset.scl != 1) & \\\n",
    "             (sentinel_dataset.scl != 3) & (sentinel_dataset.scl != 8) & \\\n",
    "             (sentinel_dataset.scl != 9) & (sentinel_dataset.scl != 10)\n",
    "land_mask =  ((sentinel_dataset.scl != 6) & cloud_mask)\n",
    "\n",
    "# Land and Water Dataset = Land and Water pixels with NO Clouds and NO Cloud Shadows\n",
    "land_and_water_dataset = sentinel_dataset.where(cloud_mask)\n",
    "\n",
    "# Land Dataset = Land ONLY pixels with NO Clouds, NO Cloud Shadows and NO Water pixels\n",
    "land_dataset = sentinel_dataset.where(land_mask)\n",
    "\n",
    "from ceos_utils.data_cube_utilities.dc_mosaic import create_median_mosaic, create_max_ndvi_mosaic, create_hdmedians_multiple_band_mosaic\n"
   ]
  },
  {
   "cell_type": "code",
   "execution_count": null,
   "metadata": {
    "tags": []
   },
   "outputs": [],
   "source": [
    "# Run a Dask compute() to load the data to memory. This will make the rest of the process quicker.\n",
    "land_dataset = land_dataset.compute()"
   ]
  },
  {
   "cell_type": "code",
   "execution_count": null,
   "metadata": {
    "tags": []
   },
   "outputs": [],
   "source": [
    "# Select a compositing method to create your cloud-filtered mosaic\n",
    "# Remove the comments from the pair of lines under one of the mosaic types\n",
    "# Options are: Median or Max_NDVI \n",
    "\n",
    "# This is the MEDIAN mosaic\n",
    "land_and_water_composite = create_median_mosaic(land_and_water_dataset, cloud_mask)\n",
    "land_composite = create_median_mosaic(land_dataset, land_mask)\n",
    "cloud_mask_composite = cloud_mask.max('time')\n",
    "\n",
    "# This is the MAX_NDVI mosaic\n",
    "# land_and_water_composite = create_max_ndvi_mosaic(land_and_water_dataset, cloud_mask)\n",
    "# land_composite = create_max_ndvi_mosaic(land_dataset, land_mask)\n"
   ]
  },
  {
   "cell_type": "code",
   "execution_count": null,
   "metadata": {
    "tags": []
   },
   "outputs": [],
   "source": [
    "land_composite"
   ]
  },
  {
   "cell_type": "code",
   "execution_count": null,
   "metadata": {
    "tags": []
   },
   "outputs": [],
   "source": [
    "# RGB image options\n",
    "# Standard RGB = 321 = Red, Green, Blue\n",
    "# False Color = 543 = SWIR1, NIR, Red\n",
    "# False Color (Sentinel-2 Mosaic) = 742 = SWIR2, NIR, Green\n",
    "\n",
    "rgb(land_composite, bands=['swir2', 'nir', 'green'], robust=True, size=8)\n",
    "plt.axis('off')\n",
    "plt.show()"
   ]
  },
  {
   "cell_type": "markdown",
   "metadata": {},
   "source": [
    "# Land Spectral Indices"
   ]
  },
  {
   "cell_type": "code",
   "execution_count": null,
   "metadata": {
    "tags": []
   },
   "outputs": [],
   "source": [
    "def NDBI(dataset):\n",
    "        return (dataset.swir1 - dataset.nir)/(dataset.swir1 + dataset.nir)"
   ]
  },
  {
   "cell_type": "code",
   "execution_count": null,
   "metadata": {
    "tags": []
   },
   "outputs": [],
   "source": [
    "def NDVI(dataset):\n",
    "    return (dataset.nir - dataset.red)/(dataset.nir + dataset.red)"
   ]
  },
  {
   "cell_type": "code",
   "execution_count": null,
   "metadata": {
    "tags": []
   },
   "outputs": [],
   "source": [
    "def NDWI(dataset):\n",
    "    return (dataset.green - dataset.nir)/(dataset.green + dataset.nir)"
   ]
  },
  {
   "cell_type": "code",
   "execution_count": null,
   "metadata": {
    "tags": []
   },
   "outputs": [],
   "source": [
    "def SAVI(dataset):\n",
    "        return (dataset.nir - dataset.red)/(dataset.nir + dataset.red + 0.5)*1.5"
   ]
  },
  {
   "cell_type": "code",
   "execution_count": null,
   "metadata": {
    "tags": []
   },
   "outputs": [],
   "source": [
    "def EVI(dataset):\n",
    "        return 2.5*(dataset.nir - dataset.red)/(dataset.nir + 6.0*dataset.red - 7.5*dataset.blue + 1.0)"
   ]
  },
  {
   "cell_type": "code",
   "execution_count": null,
   "metadata": {
    "tags": []
   },
   "outputs": [],
   "source": [
    "# Water pixels masked (land only)\n",
    "ndbi = NDBI(land_composite)  # Normalized Difference Build Up (Urbanization) Index\n",
    "ndvi = NDVI(land_composite)  # Normalized Difference Vegetation Index\n",
    "ndwi = NDWI(land_composite) # Normalized Difference Water Index\n",
    "\n",
    "# Water pixels not masked\n",
    "ndbi2 = NDBI(land_and_water_composite)  # Normalized Difference Build Up (Urbanization) Index\n",
    "ndvi2 = NDVI(land_and_water_composite)  # Normalized Difference Vegetation Index\n",
    "ndwi2 = NDWI(land_and_water_composite) # Normalized Difference Water Index\n",
    "\n",
    "# Other Indices\n",
    "savi = SAVI(land_composite)  # Soil Adjusted Vegetation Index \n",
    "evi = EVI(land_composite) # Enhanced Vegetation Index"
   ]
  },
  {
   "cell_type": "code",
   "execution_count": null,
   "metadata": {
    "tags": []
   },
   "outputs": [],
   "source": [
    "ds_ndvi = ndvi2.to_dataset(name = \"NDVI\")\n",
    "ds_ndwi = ndwi2.to_dataset(name=  \"NDWI\")\n",
    "ds_ndbi = ndbi2.to_dataset(name = \"NDBI\")\n",
    "normalization_dataset = ds_ndvi.merge(ds_ndwi).merge(ds_ndbi)"
   ]
  },
  {
   "cell_type": "markdown",
   "metadata": {},
   "source": [
    "### Land Fractional Cover  \n",
    "\n",
    "Fractional Cover (FC) is used for landcover type estimation (vegetation, non-green vegetation, bare soil) of each pixel. We use a model from CSIRO (Juan Gerschmann) and apply it to a median mosaic where: Bare Soil = bs, Photosynthetic Vegetation = pv, and Non-Photosynthetic Vegetation = npv. The product is a False Color RGB result where RGB = bs/pv/npv."
   ]
  },
  {
   "cell_type": "code",
   "execution_count": null,
   "metadata": {
    "tags": []
   },
   "outputs": [],
   "source": [
    "land_composite = land_composite.rename_dims(\n",
    "    {\n",
    "        'x': 'latitude', # This is wrong because it is in northings/eastings, but the function below requires 'latitude'\n",
    "        'y': 'longitude' # This is wrong because it is in northings/eastings, but the function below requires 'longitude'\n",
    "    }\n",
    ")\n",
    "land_composite"
   ]
  },
  {
   "cell_type": "markdown",
   "metadata": {},
   "source": [
    "<div class='alert alert-danger'>\n",
    "    <strong>NOTE:</strong> for some reason this doesn't work properly and the Fractional cover image gets messed up. There is something going wrong with the handling of arrays. I think it would be better if the function worked in pure xarray rather than numpy arrays as there are too many possiblities for losing the relationships with dimensions.\n",
    "</div>    "
   ]
  },
  {
   "cell_type": "code",
   "execution_count": null,
   "metadata": {
    "tags": []
   },
   "outputs": [],
   "source": [
    "from ceos_utils.data_cube_utilities.dc_fractional_coverage_classifier import frac_coverage_classify \n",
    "# frac_classes = frac_coverage_classify(land_composite, clean_mask = \n",
    "#                                       np.ones(land_composite.scl.shape).astype(np.bool)) \n",
    "\n",
    "# For some reason, the order of the clean_mask shape is incorrect. It has been reversed here just to avoid an error, but there is a deeper issue.\n",
    "frac_classes = frac_coverage_classify(land_composite, clean_mask = \n",
    "                                      np.ones((land_composite.scl.shape[1],land_composite.scl.shape[0])).astype(np.bool)) "
   ]
  },
  {
   "cell_type": "code",
   "execution_count": null,
   "metadata": {
    "tags": []
   },
   "outputs": [],
   "source": [
    "# Plot of Fractional Cover\n",
    "# RED = Bare Soil or Urban Areas\n",
    "# BLUE = Non-Green Vegetation\n",
    "# GREEN = Green Vegetation\n",
    "# BLACK = Water\n",
    "\n",
    "# Plot of RGB = NDBI-NDVI-NDWI\n",
    "# RED = Bare Soil or Urban Areas\n",
    "# GREEN = Vegetation\n",
    "# BLUE = Water\n",
    "\n",
    "fig, ax = plt.subplots(1, 2, figsize=(16, 10))\n",
    "\n",
    "fc_rgb = frac_classes[['bs', 'pv', 'npv']].to_array()\n",
    "ndi_rgb = normalization_dataset[['NDBI','NDVI','NDWI']].to_array()\n",
    "\n",
    "fc_rgb.plot.imshow(ax=ax[0], vmin=0.0, vmax=100.0)\n",
    "ndi_rgb.plot.imshow(ax=ax[1], vmin=-1.0, vmax=1.0)\n",
    "\n",
    "ax[0].set_title('Fractional Cover'), ax[0].xaxis.set_visible(False), ax[0].yaxis.set_visible(False)\n",
    "ax[1].set_title('Normalized Difference RGB'), ax[1].xaxis.set_visible(False), ax[1].yaxis.set_visible(False)\n",
    "plt.show()"
   ]
  },
  {
   "cell_type": "code",
   "execution_count": null,
   "metadata": {
    "tags": []
   },
   "outputs": [],
   "source": [
    "%pylab inline\n",
    "pylab.rcParams['figure.figsize'] = (10, 10)"
   ]
  },
  {
   "cell_type": "code",
   "execution_count": null,
   "metadata": {
    "tags": []
   },
   "outputs": [],
   "source": [
    "# Create a custom colour map for NDVI\n",
    "# Water (blue) = NDVI -1.0 to 0.05\n",
    "# Urban or Bare Soil (brown) = NDVI 0.05 to 0.25\n",
    "# Low Vegetation (tan) = NDVI 0.25 to 0.4\n",
    "# Croplands (light green) = NDVI 0.4 to 0.6\n",
    "# Dense Vegetation / Forests (dark green) = NDVI 0.6 to 1.0\n",
    "\n",
    "ndvi_cmap = mpl.colors.ListedColormap(['blue', '#a52a2a','#ffffcc' ,  '#2eb82e',  '#006600'])\n",
    "ndvi_bounds = [-1, 0.05, 0.25,  0.4,  0.6, 1]\n",
    "ndvi_norm = mpl.colors.BoundaryNorm(ndvi_bounds, ndvi_cmap.N)"
   ]
  },
  {
   "cell_type": "code",
   "execution_count": null,
   "metadata": {
    "tags": []
   },
   "outputs": [],
   "source": [
    "fig, ax = plt.subplots(1, 2, figsize=(14, 8))\n",
    "ax[0].imshow(ndvi2, cmap=\"Greens\", vmin=-1.0, vmax=1.0)\n",
    "ax[1].imshow(ndvi2, cmap=ndvi_cmap, norm = ndvi_norm)\n",
    "ax[0].set_title('NDVI Basic'), ax[0].xaxis.set_visible(False), ax[0].yaxis.set_visible(False)\n",
    "ax[1].set_title('NDVI Custom Colormap'), ax[1].xaxis.set_visible(False), ax[1].yaxis.set_visible(False)\n",
    "plt.show()"
   ]
  },
  {
   "cell_type": "code",
   "execution_count": null,
   "metadata": {
    "tags": []
   },
   "outputs": [],
   "source": [
    "# EVI and SAVI indices using \"land only\" pixels\n",
    "fig, ax = plt.subplots(1, 2, figsize=(18, 8))\n",
    "(evi).plot.imshow(ax=ax[0], cmap=\"Greens\", vmin=0.0, vmax=2.5)\n",
    "(savi).plot.imshow(ax=ax[1], cmap=\"Greens\", vmin=-1.0, vmax=1.0)\n",
    "ax[0].set_title('EVI'), ax[0].xaxis.set_visible(False), ax[0].yaxis.set_visible(False)\n",
    "ax[1].set_title('SAVI'), ax[1].xaxis.set_visible(False), ax[1].yaxis.set_visible(False)\n",
    "plt.show()"
   ]
  },
  {
   "cell_type": "code",
   "execution_count": null,
   "metadata": {
    "tags": []
   },
   "outputs": [],
   "source": [
    "# OTHERS\n",
    "fig, ax = plt.subplots(1, 2, figsize=(18, 8))\n",
    "(ndvi).plot.imshow(ax=ax[0], cmap=\"Greens\", vmin=0.0, vmax=1.0)\n",
    "(savi).plot.imshow(ax=ax[1], cmap=\"viridis\", vmin=0.0, vmax=1.0)\n",
    "ax[0].set_title('NDVI-Greens'), ax[0].xaxis.set_visible(False), ax[0].yaxis.set_visible(False)\n",
    "ax[1].set_title('NDVI-Viridis'), ax[1].xaxis.set_visible(False), ax[1].yaxis.set_visible(False)\n",
    "plt.show()"
   ]
  },
  {
   "cell_type": "markdown",
   "metadata": {},
   "source": [
    "## Create a threshold plot\n",
    "First we will define a minimum threshold and a maximum threshold. Then you will create a plot that colors the region between the threshold a single color (e.g. red) and the region outside the threshold will be BLACK or WHITE. Also, we will calculate the % of pixels and the number of pixels in the threshold range."
   ]
  },
  {
   "cell_type": "code",
   "execution_count": null,
   "metadata": {
    "tags": []
   },
   "outputs": [],
   "source": [
    "from matplotlib.ticker import FuncFormatter\n",
    "\n",
    "def threshold_plot(da, min_threshold, max_threshold, mask = None, width = 10, *args, **kwargs): \n",
    "    color_in    = np.array([255,0,0])\n",
    "    color_out   = np.array([0,0,0])\n",
    "    color_cloud = np.array([255,255,255])\n",
    "    \n",
    "    array = np.zeros((*da.values.shape, 3)).astype(np.int16)\n",
    "    \n",
    "    inside  = np.logical_and(da.values > min_threshold, da.values < max_threshold)\n",
    "    outside = np.invert(inside)\n",
    "    masked  = np.zeros(da.values.shape).astype(bool) if mask is None else mask\n",
    "    \n",
    "    array[inside] =  color_in\n",
    "    array[outside] = color_out\n",
    "    array[masked] =  color_cloud\n",
    "\n",
    "    def figure_ratio(ds, fixed_width = 10):\n",
    "        width = fixed_width\n",
    "        height = len(ds.latitude) * (fixed_width / len(ds.longitude))\n",
    "        return (width, height)\n",
    "\n",
    "\n",
    "    fig, ax = plt.subplots(figsize = figure_ratio(da,fixed_width = width))\n",
    "    \n",
    "    lat_formatter = FuncFormatter(lambda y_val, tick_pos: \"{0:.3f}\".format(da.latitude.values[tick_pos] ))\n",
    "    lon_formatter = FuncFormatter(lambda x_val, tick_pos: \"{0:.3f}\".format(da.longitude.values[tick_pos]))\n",
    "\n",
    "    ax.xaxis.set_major_formatter(lon_formatter)\n",
    "    ax.yaxis.set_major_formatter(lat_formatter)\n",
    "    \n",
    "    plt.title(\"Threshold: {} < x < {}\".format(min_threshold, max_threshold))\n",
    "    plt.xlabel('Longitude')\n",
    "    plt.ylabel('Latitude')\n",
    "    \n",
    "    plt.imshow(array, *args, **kwargs)\n",
    "    plt.axis('off')\n",
    "    plt.show()"
   ]
  },
  {
   "cell_type": "code",
   "execution_count": null,
   "metadata": {
    "tags": []
   },
   "outputs": [],
   "source": [
    "# Select a threshold range for your spectral variable and generate a plot\n",
    "# Remove comments from the set of 3 lines for your desired variable\n",
    "# Variable choices are NDBI, NDVI, EVI, FC-Bare Soil, FC-Photosynthetic Vegetation\n",
    "\n",
    "# NDBI (Buildup Index) = -1.0 to 1.0 (full range)\n",
    "# NDBI 0.0 to 0.2 is typical for urban areas\n",
    "# -----------------------\n",
    "# minimum_threshold = 0.0\n",
    "# maximum_threshold = 0.3\n",
    "# threshold_plot(ndbi, minimum_threshold, maximum_threshold, width = 8)\n",
    "\n",
    "# NDVI (Vegetation Index) = -1.0 to 1.0\n",
    "# NDVI < 0.0 = non-vegetation (bare soil)\n",
    "# NDVI 0.2 to 0.6 = grasslands\n",
    "# NDVI 0.6 to 0.9 = dense vegetation / trees\n",
    "# -----------------------\n",
    "# minimum_threshold = 0.05\n",
    "# maximum_threshold = 0.25\n",
    "# threshold_plot(ndvi, minimum_threshold, maximum_threshold, width = 8)\n",
    "\n",
    "# EVI (Vegetation Index) = -1.0 to 2.5\n",
    "# EVI 2.0 to 2.5 is typical for dense vegetation\n",
    "# -----------------------\n",
    "# minimum_threshold = 2.0\n",
    "# maximum_threshold = 2.5\n",
    "# threshold_plot(evi, minimum_threshold, maximum_threshold, width = 8)\n",
    "\n",
    "# Fractional Cover (pv,npv,bs) = 0 to 100\n",
    "# Bare Soil (bs) >40 = urbanization / bare soil\n",
    "# ----------------------\n",
    "# minimum_threshold = 20.0\n",
    "# maximum_threshold = 100.0\n",
    "# threshold_plot(frac_classes.bs, minimum_threshold, maximum_threshold, width = 8)\n",
    "\n",
    "# Fractional Cover (pv,npv,bs) = 0 to 100\n",
    "# Vegetation (pv) >80 = dense green vegetation\n",
    "# ----------------------\n",
    "minimum_threshold = 80.0\n",
    "maximum_threshold = 100.0\n",
    "threshold_plot(frac_classes.pv, minimum_threshold, maximum_threshold, width = 8)\n"
   ]
  },
  {
   "cell_type": "code",
   "execution_count": null,
   "metadata": {
    "tags": []
   },
   "outputs": [],
   "source": [
    "def threshold_count(da, min_threshold, max_threshold, mask = None):\n",
    "    def count_not_nans(arr):\n",
    "        return np.count_nonzero(~np.isnan(arr))\n",
    "    \n",
    "    in_threshold = np.logical_and( da.values > min_threshold, da.values < max_threshold)\n",
    "    \n",
    "    total_non_cloudy = count_not_nans(da.values) if mask is None else np.sum(mask.values)\n",
    "    \n",
    "    return dict(total = np.size(da.values),\n",
    "                total_non_cloudy = total_non_cloudy,\n",
    "                inside = np.nansum(in_threshold),\n",
    "                outside = total_non_cloudy - np.nansum(in_threshold)\n",
    "               )    \n",
    "    \n",
    "def threshold_percentage(da, min_threshold, max_threshold, mask = None):\n",
    "    counts = threshold_count(da, min_threshold, max_threshold, mask = mask)\n",
    "    return dict(percent_inside_threshold = (counts[\"inside\"]   / counts[\"total\"]) * 100.0,\n",
    "                percent_outside_threshold = (counts[\"outside\"] / counts[\"total\"]) * 100.0,\n",
    "                percent_clouds = ( 100.0-counts[\"total_non_cloudy\"] / counts[\"total\"] * 100.0))\n"
   ]
  },
  {
   "cell_type": "code",
   "execution_count": null,
   "metadata": {
    "tags": []
   },
   "outputs": [],
   "source": [
    "# Select a threshold statistical function that matches your land spectral variable\n",
    "# COUNT = number of pixels in each category\n",
    "# PERCENTAGE = percent of pixels in each category\n",
    "# ---------------------------------\n",
    "\n",
    "# NDBI Threshold\n",
    "# threshold_count(ndbi,minimum_threshold,maximum_threshold, cloud_mask_composite)\n",
    "# threshold_percentage(ndbi,minimum_threshold,maximum_threshold)\n",
    "\n",
    "# NDVI Threshold\n",
    "# threshold_count(ndvi,minimum_threshold,maximum_threshold)\n",
    "# threshold_percentage(ndvi,minimum_threshold,maximum_threshold)\n",
    "\n",
    "# EVI Threshold\n",
    "# threshold_count(evi,minimum_threshold,maximum_threshold)\n",
    "# threshold_percentage(evi,minimum_threshold,maximum_threshold)\n",
    "\n",
    "# Fractional Cover - Bare Soil\n",
    "# threshold_count(frac_classes.bs, minimum_threshold, maximum_threshold)\n",
    "# threshold_percentage(frac_classes.bs, minimum_threshold, maximum_threshold)\n",
    "\n",
    "# Fractional Cover - Photosynthetic Vegetation\n",
    "threshold_count(frac_classes.pv, minimum_threshold, maximum_threshold)\n",
    "# threshold_percentage(frac_classes.pv, minimum_threshold, maximum_threshold)\n"
   ]
  },
  {
   "cell_type": "code",
   "execution_count": null,
   "metadata": {
    "tags": []
   },
   "outputs": [],
   "source": [
    "# threshold_percentage(ndbi,minimum_threshold,maximum_threshold)\n",
    "threshold_percentage(frac_classes.pv, minimum_threshold, maximum_threshold)"
   ]
  },
  {
   "cell_type": "markdown",
   "metadata": {},
   "source": [
    "## GeoTIFF Output Products"
   ]
  },
  {
   "cell_type": "code",
   "execution_count": null,
   "metadata": {
    "tags": []
   },
   "outputs": [],
   "source": [
    "from ceos_utils.data_cube_utilities.dc_utilities import write_geotiff_from_xr\n",
    "\n",
    "# Remove the comment to create a GeoTIFF output product\n",
    "# Change the name of the output file, or it will be overwritten for each run \n",
    "# Change the desired bands at the end of the function\n",
    "\n",
    "# Fractional Coverage\n",
    "# write_geotiff_from_xr(\"geotiffs/frac_classes.tif\", frac_classes, bands=['bs'])\n",
    "\n",
    "# NDVI\n",
    "# write_geotiff_from_xr(\"geotiffs/ndvi_land.tif\", ndvi)\n",
    "\n",
    "# EVI\n",
    "# write_geotiff_from_xr(\"geotiffs/evi.tif\", evi)\n",
    "\n",
    "# WOFS\n",
    "# write_geotiff_from_xr(\"geotiffs/wofs.tif\", water_classification.wofs)"
   ]
  },
  {
   "cell_type": "code",
   "execution_count": null,
   "metadata": {},
   "outputs": [],
   "source": [
    "# !ls -lah geotiffs/*.tif"
   ]
  }
 ],
 "metadata": {
  "kernelspec": {
   "display_name": "Python 3 (ipykernel)",
   "language": "python",
   "name": "python3"
  },
  "language_info": {
   "codemirror_mode": {
    "name": "ipython",
    "version": 3
   },
   "file_extension": ".py",
   "mimetype": "text/x-python",
   "name": "python",
   "nbconvert_exporter": "python",
   "pygments_lexer": "ipython3",
   "version": "3.10.6"
  }
 },
 "nbformat": 4,
 "nbformat_minor": 4
}
