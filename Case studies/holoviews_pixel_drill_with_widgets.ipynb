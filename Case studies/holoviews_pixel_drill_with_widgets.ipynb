{
 "cells": [
  {
   "cell_type": "markdown",
   "metadata": {},
   "source": [
    "# Pixel drill using interactive widgets <img align=\"right\" src=\"../resources/csiro_easi_logo.png\">\n",
    "\n",
    "__What does this notebook do?__\n",
    "\n",
    "This notebook demonstrates how to perform a pixel drill using an interactive widget. A plot is drawn up of a single time slice so the user can select a pixel to interrogate further. Once a pixel is selected, a timeseries is plotted up for that pixel. Users can then select a point in the time series plot to generate a plot showing the corresponding satellite image for that point in time.\n",
    "\n",
    "This notebook is adapted from a Digital Earth Australia example by Claire Krause"
   ]
  },
  {
   "cell_type": "markdown",
   "metadata": {},
   "source": [
    "<div class=\"alert alert-danger\">\n",
    "    <strong>IMPORTANT:</strong> This notebook is still a work in progress and there are some bugs. It should work but please take note of the warning and information boxes.\n",
    "</div>"
   ]
  },
  {
   "cell_type": "code",
   "execution_count": null,
   "metadata": {
    "tags": []
   },
   "outputs": [],
   "source": [
    "# %matplotlib widget"
   ]
  },
  {
   "cell_type": "code",
   "execution_count": null,
   "metadata": {
    "tags": []
   },
   "outputs": [],
   "source": [
    "# import dask\n",
    "# import distributed\n",
    "\n",
    "### EASI tools\n",
    "import sys\n",
    "import os\n",
    "os.environ['USE_PYGEOS'] = '0' # Force the use of Shapely in Geopandas instead of Pygeos\n",
    "sys.path.append('../scripts')\n",
    "from app_utils import display_map\n",
    "from notebook_utils import initialize_dask, localcluster_dashboard\n",
    "from easi_tools import EasiDefaults\n",
    "easi = EasiDefaults()"
   ]
  },
  {
   "cell_type": "code",
   "execution_count": null,
   "metadata": {
    "tags": []
   },
   "outputs": [],
   "source": [
    "cluster, client = initialize_dask(use_gateway=False)\n",
    "display(client)\n",
    "display(cluster)"
   ]
  },
  {
   "cell_type": "code",
   "execution_count": null,
   "metadata": {
    "tags": []
   },
   "outputs": [],
   "source": [
    "# Show the Dask dashboard - click on this to watch how the calculations are progressing\n",
    "print(localcluster_dashboard(client, server=easi.hub))"
   ]
  },
  {
   "cell_type": "markdown",
   "metadata": {
    "tags": []
   },
   "source": [
    "#### AWS configuration\n",
    "We will be using data in public requester-pays buckets, so the following configuration is required:"
   ]
  },
  {
   "cell_type": "code",
   "execution_count": null,
   "metadata": {
    "tags": []
   },
   "outputs": [],
   "source": [
    "\"\"\"This function obtains credentials for S3 access and passes them on to\n",
    "   processing threads, either local or on dask cluster.\n",
    "   Note that AWS credentials may need to be renewed between sessions or\n",
    "   after a period of time.\"\"\"\n",
    "\n",
    "from datacube.utils.aws import configure_s3_access\n",
    "configure_s3_access(aws_unsigned=False, requester_pays=True, client=client)\n",
    "\n",
    "# If not using a dask cluster then remove 'client':\n",
    "# configure_s3_access(aws_unsigned=False, requester_pays=True)"
   ]
  },
  {
   "cell_type": "code",
   "execution_count": null,
   "metadata": {
    "tags": []
   },
   "outputs": [],
   "source": [
    "from datacube import Datacube\n",
    "from datacube.utils import masking\n",
    "import numpy as np\n",
    "from datetime import datetime\n",
    "import holoviews as hv\n",
    "from holoviews import streams\n",
    "from holoviews import opts\n",
    "import warnings\n",
    "warnings.filterwarnings(\"ignore\")\n",
    "\n",
    "# Import widgets for interactive notebook\n",
    "import panel as pn\n",
    "pn.extension()\n",
    "pn.extension(loading_spinner='dots', loading_color='#00aa41', sizing_mode=\"fixed\")\n",
    "hv.extension('bokeh')"
   ]
  },
  {
   "cell_type": "markdown",
   "metadata": {},
   "source": [
    "## Set up the extraction query"
   ]
  },
  {
   "cell_type": "code",
   "execution_count": null,
   "metadata": {
    "tags": []
   },
   "outputs": [],
   "source": [
    "# This configuration is read from the defaults for this system. \n",
    "# Examples are provided in a commented line to show how to set these manually.\n",
    "\n",
    "study_area_lat = easi.latitude\n",
    "# study_area_lat = (39.2, 39.3)\n",
    "\n",
    "study_area_lon = easi.longitude\n",
    "# study_area_lon = (-76.7, -76.6)\n",
    "\n",
    "# product = easi.product('landsat')\n",
    "# product = 'landsat8_c2l2_sr'\n",
    "products = ['landsat7_c2l2_sr','landsat8_c2l2_sr','landsat9_c2l2_sr']\n",
    "\n",
    "set_time = easi.time\n",
    "# set_time = ('2020-08-01', '2020-12-01')\n",
    "\n",
    "set_crs = easi.crs('landsat')\n",
    "# set_crs = 'EPSG:32618'\n",
    "\n",
    "set_resolution = easi.resolution('landsat')\n",
    "# set_resolution = (-30, 30)\n",
    "\n",
    "measurements = ['swir1', 'nir', 'green']"
   ]
  },
  {
   "cell_type": "code",
   "execution_count": null,
   "metadata": {
    "tags": []
   },
   "outputs": [],
   "source": [
    "dc = Datacube(app='pixel_drill')"
   ]
  },
  {
   "cell_type": "markdown",
   "metadata": {},
   "source": [
    "## Plot an image with default values so that we can select a pixel for further interrogation\n",
    "\n",
    "#### *Widgets are also provided to easily view any other region or dates in the desired time frame*"
   ]
  },
  {
   "cell_type": "code",
   "execution_count": null,
   "metadata": {
    "tags": []
   },
   "outputs": [],
   "source": [
    "# Setup the select Widgets\n",
    "prod_widget = pn.widgets.Select(name='Product', \n",
    "                                options=products)\n",
    "\n",
    "# Setup the slider Widgets \n",
    "# lat_widget = pn.widgets.RangeSlider(name='Latitude Range', start=study_area_lat[0], \n",
    "#                                     end=study_area_lat[1], value=(study_area_lat[0],study_area_lat[1]), step=0.01)\n",
    "# lon_widget = pn.widgets.RangeSlider(name='Longitude Range', start=study_area_lon[0], \n",
    "#                                     end=study_area_lon[1], value=(study_area_lon[0],study_area_lon[1]), step=0.01)\n",
    "\n",
    "# Setup the date Selection Widgets\n",
    "start_date = datetime.strptime(set_time[0],'%Y-%m-%d')\n",
    "start_date_widget = pn.widgets.DatePicker(name='Start Date', value=start_date.date())\n",
    "end_date = datetime.strptime(set_time[1],'%Y-%m-%d')\n",
    "end_date_widget = pn.widgets.DatePicker(name='End Date', value=end_date.date())\n",
    "\n",
    "# Set up the function to return the clicked points on the image \n",
    "points = []\n",
    "\n",
    "def record_taps(x, y):\n",
    "    # display(f\"{x} {y}\",display_id=\"debug\")\n",
    "    if 0 not in [x,y]:\n",
    "        points.clear()\n",
    "        points.append((x, y, 1))\n",
    "    return hv.Points(points)\n",
    "\n",
    "# Function to get the retrieve the plots, based on the panel inputs\n",
    "@pn.depends(prod_widget.param.value,\n",
    "            # lat_widget.param.value, lon_widget.param.value,\n",
    "            start_date_widget.param.value, end_date_widget.param.value)\n",
    "def get_input_data(product, #lat, lon,\n",
    "                   start_date, end_date):\n",
    "    global posxy\n",
    "    global data\n",
    "              \n",
    "    # Connect to Datacube\n",
    "    dc = Datacube(app=\"pixel_drill\")\n",
    "    \n",
    "    # Get attributes for loading data\n",
    "    query = {'lat': (study_area_lat[0], study_area_lat[1]),\n",
    "             'lon': (study_area_lon[0], study_area_lon[1]),\n",
    "             'time':(start_date, end_date),\n",
    "             'measurements' : measurements,\n",
    "             'output_crs': set_crs,\n",
    "             'resolution': set_resolution,\n",
    "             'dask_chunks': {'time':1},\n",
    "             'skip_broken_datasets': True}\n",
    "    \n",
    "    # Load data using Datacube api\n",
    "    \n",
    "    data = dc.load(product=product, group_by='solar_day', **query)\n",
    "\n",
    "    # Set all nodata pixels to `NaN`:\n",
    "    data = masking.mask_invalid_data(data)\n",
    "    \n",
    "    # Get data required for visualization and normalize it\n",
    "    swir1 = data.isel(time=0).swir1.values\n",
    "    nir = data.isel(time=0).nir.values\n",
    "    green = data.isel(time=0).green.values\n",
    "\n",
    "    swir1 = swir1/np.nanmax(swir1)\n",
    "    nir = nir/np.nanmax(nir)\n",
    "    green = green/np.nanmax(green)\n",
    "    \n",
    "    xmin, xmax = float(data.x.min().values), float(data.x.max().values)\n",
    "    ymin, ymax = float(data.y.min().values), float(data.y.max().values)\n",
    "\n",
    "    rgb_plot = hv.RGB(np.dstack([swir1,nir,green]), bounds=(xmin, ymin, xmax, ymax)).opts(frame_width=600, aspect='equal')\n",
    "    \n",
    "    # Declare SingleTap stream to capture user clicks and store the selected pixel values\n",
    "    # Clicks (taps) are converted to points and added to a DynamicMap object, which is returned with the rgb_plot\n",
    "    posxy = streams.SingleTap(x=0,y=0)\n",
    "    \n",
    "    # Create the DynamicMap which will show the clicked point\n",
    "    points_dmap = hv.DynamicMap(record_taps, streams=[posxy])\n",
    "    points_dmap.redim.range(x=(data.x.min().values,data.x.max().values),y=(data.y.min().values,data.y.max().values))\n",
    "    points_dmap.opts(color=\"red\", size=10)\n",
    "    \n",
    "    return rgb_plot * points_dmap"
   ]
  },
  {
   "cell_type": "markdown",
   "metadata": {},
   "source": [
    "<div class=\"alert alert-info\">\n",
    "    Note that in Landsat 7 images, you may see that the data has black lines across it. This is due to a failure of the Scan Line Corrector (SLC) in the Landsat 7 satellite in May 2003. The result is a loss of around 22% of pixels, although the remaining data is high quality. There are various methods to fill these gaps, but none are perfect. For more information, see the Landsat 7 Scan Line Corrector (SLC) Failure section at <a href=\"https://www.usgs.gov/landsat-missions/landsat-7\">https://www.usgs.gov/landsat-missions/landsat-7</a>\n",
    "    </div>"
   ]
  },
  {
   "cell_type": "markdown",
   "metadata": {
    "tags": []
   },
   "source": [
    "<div class=\"alert alert-danger\">\n",
    "    <strong>IMPORTANT:</strong> This next cell might need to be run <strong>TWICE</strong> as there is something wrong in the function above. You should get a red dot appear on the map when you click to select a point. If you don't see a red dot, run this cell again and then try to click on the image.\n",
    "</div>"
   ]
  },
  {
   "cell_type": "code",
   "execution_count": null,
   "metadata": {
    "tags": []
   },
   "outputs": [],
   "source": [
    "# TODO: Look into adding a loading spinner. When you change the options below, new data will load but it might take a few seconds to do so.\n",
    "\n",
    "layout = pn.Column(\n",
    "          pn.pane.Markdown('### Adjust the controls below to modify the area of interest and date range'),\n",
    "          pn.Row(prod_widget),\n",
    "          # pn.Row(pn.Row(pn.WidgetBox(lat_widget), pn.WidgetBox(lon_widget))),\n",
    "          # pn.pane.Markdown('___Note that the date range will be used in the next cell___'),\n",
    "          pn.Row(pn.Row(start_date_widget,end_date_widget)),\n",
    "          # pn.pane.Markdown('### Click on the pixel you would like to interrogate and then continue to the next cell'),\n",
    "          get_input_data)\n",
    "layout"
   ]
  },
  {
   "cell_type": "markdown",
   "metadata": {},
   "source": [
    "## Plot up the complete timeseries of data for a single pixel"
   ]
  },
  {
   "cell_type": "code",
   "execution_count": null,
   "metadata": {
    "tags": []
   },
   "outputs": [],
   "source": [
    "hv.opts(\"Scatter [width=600 height=600, tools=['hover']]\")\n",
    "\n",
    "green = list(data.green.sel(y=posxy.contents['y'], x=posxy.contents['x'], method='nearest').values)\n",
    "swir1 = list(data.swir1.sel(y=posxy.contents['y'], x=posxy.contents['x'], method='nearest').values)\n",
    "nir = list(data.nir.sel(y=posxy.contents['y'], x=posxy.contents['x'], method='nearest').values)\n",
    "dates = list(data.time.values)\n",
    "\n",
    "extents = (np.min(dates) - np.timedelta64(1,'D'), np.nanmin([green,swir1,nir]) - 20, np.max(dates) + np.timedelta64(1,'D'), np.nanmax([green,swir1,nir]) + 20)\n",
    "\n",
    "scatter_green = hv.Scatter((dates, green), 'Date', 'Reflectance (x 10000)', extents=extents).opts(\n",
    "          size=10, fill_color=\"green\", color=\"green\", width=800, height=400, title=\"Select a data point to plot up the accompanying satellite image\")\n",
    "\n",
    "scatter_swir1 = hv.Scatter((dates, swir1), 'Date', 'Reflectance (x 10000)', extents=extents).opts(\n",
    "          size=10, fill_color=\"orange\", color=\"orange\", width=800, height=400)\n",
    "\n",
    "scatter_nir = hv.Scatter((dates, nir), 'Date', 'Reflectance (x 10000)', extents=extents).opts(\n",
    "          size=10, fill_color=\"red\", color=\"red\", width=800, height=400)\n",
    "\n",
    "# Declare Tap stream with scatter as source and initial values\n",
    "timeOfInterest = hv.streams.Tap(x=0, y=0)\n",
    "\n",
    "points_green = [(x,y) for x,y in zip(dates, green)]\n",
    "line_green = hv.Curve(points_green, label='green').opts(color='green')\n",
    "points_swir1 = [(x,y) for x,y in zip(dates, swir1)]\n",
    "line_swir1 = hv.Curve(points_swir1, label='swir1').opts(color='orange')\n",
    "points_nir = [(x,y) for x,y in zip(dates, nir)]\n",
    "line_nir = hv.Curve(points_nir, label='nir').opts(color='red')\n",
    "\n",
    "points = []\n",
    "\n",
    "def taps(x, y):\n",
    "\n",
    "    if 0 not in [x,y]:\n",
    "        points.clear()\n",
    "        points.append((x, y, 1))\n",
    "    return hv.Points(points)\n",
    "\n",
    "selected_dmap = hv.DynamicMap(taps, streams=[timeOfInterest]).redim.range(x=(extents[0],extents[2]),y=(extents[1],extents[3]))\n",
    "selected_dmap.opts(color=\"black\", size=10)\n",
    "\n",
    "list_of_curves = [\n",
    "    line_nir,\n",
    "    scatter_nir,\n",
    "    line_swir1,\n",
    "    scatter_swir1,\n",
    "    line_green, \n",
    "    scatter_green\n",
    "]\n",
    "\n",
    "hv.Overlay(list_of_curves)*selected_dmap"
   ]
  },
  {
   "cell_type": "markdown",
   "metadata": {},
   "source": [
    "<div class=\"alert alert-danger\">\n",
    "    <strong>IMPORTANT:</strong> In the image above, the black dot is where you have clicked. The closest date to your selection will be used for the cell below. This needs to be updated to \"snap\" to the points in the graph.\n",
    "</div>"
   ]
  },
  {
   "cell_type": "markdown",
   "metadata": {},
   "source": [
    "<div class=\"alert alert-info\">\n",
    "\n",
    "**Note:** In this example, we have not filtered out clouds. You can see in the above plot that there are some dates with high and low values for reflectance. If you click through these pixels, you will notice that these higher values are actually images where the scene is cloudy - where the reflectance from cloud is very high. The lower values represent the scenes where the sensor had a clear image of the pixel chosen, and so represent actual ground green band values. If we had filtered out the cloud impacted scenes, the scenes with higher values would be removed, as would the values below zero, which represent missing values for the chosen pixel.\n",
    "\n",
    "</div>"
   ]
  },
  {
   "cell_type": "markdown",
   "metadata": {},
   "source": [
    "## Plot the scene that matches the selected time and sensor"
   ]
  },
  {
   "cell_type": "code",
   "execution_count": null,
   "metadata": {
    "tags": []
   },
   "outputs": [],
   "source": [
    "image_array = data[['swir1', 'nir', 'green']].sel(time=timeOfInterest.contents['x'],\n",
    "                                                  method='nearest')\n",
    "date = datetime.strptime(str(image_array.time.values),'%Y-%m-%dT%H:%M:%S.%f000')\n",
    "\n",
    "swir1_time_of_interest = image_array.swir1.values\n",
    "nir_time_of_interest = image_array.nir.values\n",
    "green_time_of_interest = image_array.green.values\n",
    "\n",
    "swir1_time_of_interest = swir1_time_of_interest/np.nanmax(swir1_time_of_interest)\n",
    "nir_time_of_interest = nir_time_of_interest/np.nanmax(nir_time_of_interest)\n",
    "green_time_of_interest = green_time_of_interest/np.nanmax(green_time_of_interest)\n",
    "\n",
    "xmin_img_arr, xmax_img_arr = float(image_array.x.min().values), float(image_array.x.max().values)\n",
    "ymin_img_arr, ymax_img_arr = float(image_array.y.min().values), float(image_array.y.max().values)\n",
    "\n",
    "hv.RGB(np.dstack([swir1_time_of_interest, nir_time_of_interest, green_time_of_interest]),\n",
    "       bounds=(xmin_img_arr, ymin_img_arr, xmax_img_arr, ymax_img_arr)).opts(frame_width=600, aspect='equal', title=f'{prod_widget.value} scene for {date.strftime(\"%d %B %Y\")}')"
   ]
  },
  {
   "cell_type": "code",
   "execution_count": null,
   "metadata": {
    "tags": []
   },
   "outputs": [],
   "source": [
    "client.close()\n",
    "cluster.close()"
   ]
  },
  {
   "cell_type": "code",
   "execution_count": null,
   "metadata": {},
   "outputs": [],
   "source": []
  }
 ],
 "metadata": {
  "celltoolbar": "Raw Cell Format",
  "kernelspec": {
   "display_name": "Python 3 (ipykernel)",
   "language": "python",
   "name": "python3"
  },
  "language_info": {
   "codemirror_mode": {
    "name": "ipython",
    "version": 3
   },
   "file_extension": ".py",
   "mimetype": "text/x-python",
   "name": "python",
   "nbconvert_exporter": "python",
   "pygments_lexer": "ipython3",
   "version": "3.10.6"
  },
  "toc": {
   "base_numbering": 1,
   "nav_menu": {},
   "number_sections": true,
   "sideBar": true,
   "skip_h1_title": false,
   "title_cell": "Table of Contents",
   "title_sidebar": "Contents",
   "toc_cell": false,
   "toc_position": {},
   "toc_section_display": "block",
   "toc_window_display": false
  }
 },
 "nbformat": 4,
 "nbformat_minor": 4
}
