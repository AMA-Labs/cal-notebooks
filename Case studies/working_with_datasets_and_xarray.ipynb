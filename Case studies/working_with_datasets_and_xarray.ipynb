{
 "cells": [
  {
   "cell_type": "markdown",
   "id": "d4cb7e03-8aca-4838-a4e7-2c7921463389",
   "metadata": {},
   "source": [
    "# Working with datasets and xarray in EASI <img align=\"right\" src=\"../resources/csiro_easi_logo.png\">\n",
    "\n",
    "**Contents**\n",
    "\n",
    "  - [Overview](#Overview)\n",
    "  - [Setup](#Setup)\n",
    "  - [Load some data](#Load-some-data)\n",
    "    - [Start a local dask cluster](#Start-a-local-dask-cluster)\n",
    "    - [Get default query parameters](#Get-default-query-parameters)\n",
    "    - [Explore available datasets](#Explore-available-datasets)\n",
    "    - [Load data](#Load-data)\n",
    "    - [Plot data](#Plot-data)\n",
    "    - [Mask data](#Mask-data)\n",
    "  - [Working with xarray](#Working-with-xarray)\n",
    "    - [Data structure](#Data-structure)\n",
    "    - [Indexing and selecting](#Indexing-and-selecting)\n",
    "    - [Xarray calculations (reduction)](#Xarray-calculations-(reduction))\n",
    "    - [Timeseries](#Timeseries)\n",
    "    - [Xarray and Pandas](#Xarray-and-Pandas)\n",
    "  - [Other things to try](#Other-things-to-try)\n",
    "    \n",
    "# Overview\n",
    "\n",
    "This notebook provides a general introduction to working with datasets and xarray, including how to work with, interrogate, filter and visualise xarray data objects.\n",
    "\n",
    "This notebook was adapted from  https://github.com/csiro-easi/eocsi-hackathon-2022/blob/main/tutorials/Datasets_and_xarray.ipynb"
   ]
  },
  {
   "cell_type": "markdown",
   "id": "96417956-51f5-4226-b9f0-066d0401ea30",
   "metadata": {},
   "source": [
    "## Setup\n",
    "Let's start with some basic imports to set up our environment"
   ]
  },
  {
   "cell_type": "code",
   "execution_count": null,
   "id": "de01fd95-f9d9-4bca-8df6-567ade177dde",
   "metadata": {
    "tags": []
   },
   "outputs": [],
   "source": [
    "%matplotlib inline\n",
    "\n",
    "import datacube\n",
    "from datacube.utils import masking\n",
    "import matplotlib\n",
    "import matplotlib.pyplot as plt\n",
    "import numpy as np\n",
    "import pandas as pd\n",
    "import xarray as xr\n",
    "\n",
    "import warnings\n",
    "warnings.filterwarnings(\"ignore\")\n",
    "\n",
    "from dea_tools.plotting import rgb, display_map\n",
    "from dea_tools.bandindices import calculate_indices\n",
    "\n",
    "### EASI tools\n",
    "import sys, os\n",
    "sys.path.append(os.path.expanduser('../scripts'))\n",
    "os.environ['USE_PYGEOS'] = '0'\n",
    "from easi_tools import EasiDefaults\n",
    "import notebook_utils\n",
    "easi = EasiDefaults()"
   ]
  },
  {
   "cell_type": "markdown",
   "id": "e6bc5fd1-001d-471c-8592-36a5732af1dd",
   "metadata": {},
   "source": [
    "## Load some data"
   ]
  },
  {
   "cell_type": "markdown",
   "id": "6d70a492-c3b5-4f15-b604-9107b49e4299",
   "metadata": {},
   "source": [
    "<div class=\"alert alert-info\">To start with, we are going to load some data using some common methods that are in other tutorial notebooks. We will do some basic cloud masking and filtering to get a clean dataset to use in this notebook. For more information on loading, masking or visualising data, please refer to the relevant tutorial notebooks.</div>"
   ]
  },
  {
   "cell_type": "markdown",
   "id": "18c6cb63-47c8-4e00-9ac7-f5c8f135c25e",
   "metadata": {},
   "source": [
    "You can view available products and data coverage at the EASI Explorer. You can get the relevant explorer URL by retrieving the value for `easi.explorer`"
   ]
  },
  {
   "cell_type": "code",
   "execution_count": null,
   "id": "337782a6-39e7-460f-9239-f256cf5528f0",
   "metadata": {
    "tags": []
   },
   "outputs": [],
   "source": [
    "print(easi.explorer)"
   ]
  },
  {
   "cell_type": "markdown",
   "id": "ab75732f-677f-4362-a0a5-895a72a8e1fc",
   "metadata": {
    "tags": []
   },
   "source": [
    "### Start a local dask cluster"
   ]
  },
  {
   "cell_type": "code",
   "execution_count": null,
   "id": "b2af1a9a-0fdf-4de0-9035-7f9943964eea",
   "metadata": {
    "tags": []
   },
   "outputs": [],
   "source": [
    "cluster, client = notebook_utils.initialize_dask(workers=(1,2), use_gateway=False, wait=True)\n",
    "display(cluster if cluster else client)\n",
    "print(notebook_utils.localcluster_dashboard(client, server=easi.hub))"
   ]
  },
  {
   "cell_type": "markdown",
   "id": "dd73bc00-c6cb-4720-9bcd-837940c74bcb",
   "metadata": {},
   "source": [
    "### Get default query parameters"
   ]
  },
  {
   "cell_type": "code",
   "execution_count": null,
   "id": "5f6444bb-9cf5-4687-81df-da6aad7f81cb",
   "metadata": {
    "tags": []
   },
   "outputs": [],
   "source": [
    "# This configuration is read from the defaults for this system. \n",
    "# Examples are provided in a commented line to show how to set these manually.\n",
    "\n",
    "study_area_lat = easi.latitude\n",
    "# study_area_lat = (39.2, 39.3)\n",
    "\n",
    "study_area_lon = easi.longitude\n",
    "# study_area_lon = (-76.7, -76.6)\n",
    "\n",
    "product = easi.product('sentinel-2')\n",
    "# product = 's2_l2a'\n",
    "\n",
    "# set_time = easi.time\n",
    "set_time = ('2022-01-01', '2022-06-01') # We will set a specific time, not just the defaults to make it easier for the examples below\n",
    "\n",
    "# set_crs = easi.crs('sentinel-2')\n",
    "set_crs = 'EPSG:6933' # For compatibility, we will use a global projection \n",
    "\n",
    "set_resolution = easi.resolution('sentinel-2')\n",
    "# set_resolution = (-30, 30)"
   ]
  },
  {
   "cell_type": "markdown",
   "id": "65324ef4-21d0-404a-ab1c-cb349faebdb2",
   "metadata": {},
   "source": [
    "### Explore available datasets\n",
    "\n",
    "A good example for Sentinel-2 https://github.com/csiro-easi/eocsi-hackathon-2022/blob/main/case-studies/Chlorophyll_monitoring.ipynb"
   ]
  },
  {
   "cell_type": "code",
   "execution_count": null,
   "id": "2735c921-e9ef-4f63-9daa-211dc4e74f54",
   "metadata": {
    "tags": []
   },
   "outputs": [],
   "source": [
    "#import datacube\n",
    "\n",
    "dc = datacube.Datacube(app=\"data_avail\")\n",
    "dc.list_products()"
   ]
  },
  {
   "cell_type": "code",
   "execution_count": null,
   "id": "a1b8fab0-f822-4a92-adf9-14c16dd87ace",
   "metadata": {
    "tags": []
   },
   "outputs": [],
   "source": [
    "#dc.list_measurements().loc[\"nasa_aqua_l2_oc\"]\n",
    "dc.list_measurements().loc[product]"
   ]
  },
  {
   "cell_type": "markdown",
   "id": "4606dc6a-45d0-4957-b1b8-59a5f9d57120",
   "metadata": {},
   "source": [
    "Useful figure for Sentinel-2 spectral bands: https://www.usgs.gov/faqs/how-does-data-sentinel-2as-multispectral-instrument-compare-landsat-data"
   ]
  },
  {
   "cell_type": "code",
   "execution_count": null,
   "id": "c6e2520e-f7d1-42b0-9110-a974016c06f5",
   "metadata": {
    "tags": []
   },
   "outputs": [],
   "source": [
    "dc.list_measurements().loc[product].loc[\"scl\"][\"flags_definition\"]"
   ]
  },
  {
   "cell_type": "markdown",
   "id": "09ff715f-22e3-4e25-b155-3ad035b6bd56",
   "metadata": {},
   "source": [
    "### Load data"
   ]
  },
  {
   "cell_type": "code",
   "execution_count": null,
   "id": "c1cf4fb5-a045-4fee-be24-1069b2e968e3",
   "metadata": {
    "tags": []
   },
   "outputs": [],
   "source": [
    "display_map(x=study_area_lon, y=study_area_lat)"
   ]
  },
  {
   "cell_type": "code",
   "execution_count": null,
   "id": "76e0091e-0469-43f3-8369-703941cfe621",
   "metadata": {
    "tags": []
   },
   "outputs": [],
   "source": [
    "# Pass the parameters to the load query\n",
    "query = {\n",
    "    \"x\": study_area_lon,\n",
    "    \"y\": study_area_lat,\n",
    "    \"time\": set_time,\n",
    "    \"group_by\": \"solar_day\", \n",
    "    \"measurements\": [\"red\", \"green\", \"blue\", \"scl\"], # Note that here we have used some band aliases (e.g. \"red\" instead of \"B04\")\n",
    "    \"output_crs\": set_crs, \n",
    "    \"resolution\": set_resolution, \n",
    "    \"dask_chunks\": {\"time\": 1} \n",
    "}\n",
    "\n",
    "# Load the data\n",
    "ds_s2 = dc.load(product=product, **query)"
   ]
  },
  {
   "cell_type": "code",
   "execution_count": null,
   "id": "6349318e-ba9a-4456-bc00-e97f11c35623",
   "metadata": {
    "tags": []
   },
   "outputs": [],
   "source": [
    "ds_s2"
   ]
  },
  {
   "cell_type": "markdown",
   "id": "c0495b9c-ea9b-407a-abd8-0ed8caab21af",
   "metadata": {},
   "source": [
    "### Plot data\n",
    "\n",
    "Some more plotting examples: https://github.com/GeoscienceAustralia/dea-notebooks/blob/develop/Beginners_guide/05_Plotting.ipynb"
   ]
  },
  {
   "cell_type": "code",
   "execution_count": null,
   "id": "16444a9c-6aae-44f1-88d3-d274548432dd",
   "metadata": {
    "tags": []
   },
   "outputs": [],
   "source": [
    "target_date='2022-02-14' # Change this if required to find some data that has some cloud, but not too much"
   ]
  },
  {
   "cell_type": "code",
   "execution_count": null,
   "id": "d1a9a6bd-e708-4b25-a001-37d5bdc883a2",
   "metadata": {
    "tags": []
   },
   "outputs": [],
   "source": [
    "# In this line, we use the `sel()` function to select a single time slice. There is more information on this function below.\n",
    "ds_s2[[\"red\",\"green\",\"blue\"]].sel(time=target_date,method='nearest').to_array().plot.imshow(vmin=500,vmax=5000,size=6,aspect=1);"
   ]
  },
  {
   "cell_type": "markdown",
   "id": "e6669a08-1169-4877-9eca-bb99e7d97f0b",
   "metadata": {},
   "source": [
    "### Mask data"
   ]
  },
  {
   "cell_type": "markdown",
   "id": "5b7be169-d343-49b6-878f-57fb49216938",
   "metadata": {},
   "source": [
    "Let's investigate the Sen2Cor Scene Classification (SCL) classes.\n",
    "\n",
    "We can retrieve the available flag options using the `masking.describe_variable_flags()` function"
   ]
  },
  {
   "cell_type": "code",
   "execution_count": null,
   "id": "421b3d20-7703-48fe-875b-4deab5f01314",
   "metadata": {
    "tags": []
   },
   "outputs": [],
   "source": [
    "masking.describe_variable_flags(ds_s2.scl)"
   ]
  },
  {
   "cell_type": "markdown",
   "id": "5dd1bd4f-be71-4ade-b006-4779ada612d1",
   "metadata": {},
   "source": [
    "We can get more information on individual columns by using `loc` as shown below"
   ]
  },
  {
   "cell_type": "code",
   "execution_count": null,
   "id": "243457c2-a363-42ae-98a8-79861e2dd8ad",
   "metadata": {
    "tags": []
   },
   "outputs": [],
   "source": [
    "masking.describe_variable_flags(ds_s2.scl).loc[\"qa\", \"values\"]"
   ]
  },
  {
   "cell_type": "markdown",
   "id": "75f1a7ba-e1a1-4267-bb9f-5e9698ca2344",
   "metadata": {},
   "source": [
    "Using these flag labels, we can specify one or more flag that we want to keep in our data."
   ]
  },
  {
   "cell_type": "code",
   "execution_count": null,
   "id": "66770df3-cce5-4e5c-a8ae-0c17a36da354",
   "metadata": {
    "tags": []
   },
   "outputs": [],
   "source": [
    "# Multiple flags are combined as logial OR using the | symbol\n",
    "cloud_free_mask = (\n",
    "    masking.make_mask(ds_s2.scl, qa=\"vegetation\") | \n",
    "    masking.make_mask(ds_s2.scl, qa=\"bare soils\") |\n",
    "    masking.make_mask(ds_s2.scl, qa=\"water\") |\n",
    "    masking.make_mask(ds_s2.scl, qa=\"snow or ice\") |\n",
    "    masking.make_mask(ds_s2.scl, qa=\"unclassified\")\n",
    ")"
   ]
  },
  {
   "cell_type": "markdown",
   "id": "bd64c86d-c349-445e-88b9-70e74d67fbf3",
   "metadata": {},
   "source": [
    "We now have a mask which will remove all clouds, shadows and other pixels with other classification which are not in our list above.\n",
    "\n",
    "This is visualised below. Purple areas have a value of 0 (which will be masked out) and yellow have a value of 1 (which will be kept)."
   ]
  },
  {
   "cell_type": "code",
   "execution_count": null,
   "id": "733845dc-1c5f-4d4b-932f-2fdadf7fb459",
   "metadata": {
    "tags": []
   },
   "outputs": [],
   "source": [
    "cloud_free_mask.sel(time=target_date,method='nearest').plot()"
   ]
  },
  {
   "cell_type": "code",
   "execution_count": null,
   "id": "6de02c49-2d84-47d2-8929-45c93aaf2483",
   "metadata": {
    "tags": []
   },
   "outputs": [],
   "source": [
    "# Calculate proportion of good pixels\n",
    "valid_pixel_proportion = cloud_free_mask.sum(dim=(\"x\", \"y\"))/(cloud_free_mask.shape[1] * cloud_free_mask.shape[2])\n",
    "\n",
    "valid_threshold = 0.5\n",
    "observations_to_keep = (valid_pixel_proportion >= valid_threshold)"
   ]
  },
  {
   "cell_type": "code",
   "execution_count": null,
   "id": "85b0a475-d94a-4ece-bd30-2c9c72398e0f",
   "metadata": {
    "tags": []
   },
   "outputs": [],
   "source": [
    "# only keep observations above the good pixel proportion threshold\n",
    "ds_s2 = ds_s2.sel(time=observations_to_keep)"
   ]
  },
  {
   "cell_type": "code",
   "execution_count": null,
   "id": "fd7cf5ae-eaa9-4196-afb3-a8f526f89193",
   "metadata": {
    "tags": []
   },
   "outputs": [],
   "source": [
    "# Mask the data\n",
    "ds_s2 = ds_s2.where(cloud_free_mask)\n",
    "ds_s2.sel(time=target_date,method='nearest')[[\"red\",\"green\",\"blue\"]].to_array().plot.imshow(robust=True,size=6,aspect=1);"
   ]
  },
  {
   "cell_type": "markdown",
   "id": "52df7c5b-9b8b-4aa6-9dfd-172029a860b7",
   "metadata": {},
   "source": [
    "---\n",
    "We now have a masked and filtered dataset"
   ]
  },
  {
   "cell_type": "code",
   "execution_count": null,
   "id": "0a31b23c-c152-4ea1-8301-72c0f25c17a6",
   "metadata": {
    "tags": []
   },
   "outputs": [],
   "source": [
    "ds_s2 = ds_s2.compute() # This will conver the dask array to real numbers. See the Dask tutorials for more information.\n",
    "ds_s2"
   ]
  },
  {
   "cell_type": "code",
   "execution_count": null,
   "id": "25c6d6a4-38c3-42e2-832a-9e7f7a112ff1",
   "metadata": {
    "tags": []
   },
   "outputs": [],
   "source": [
    "# Plot each of the remaining dates as RGB thumbnails\n",
    "ds_s2[[\"red\",\"green\",\"blue\"]].to_array().plot.imshow(col=\"time\",col_wrap=4,robust=True);"
   ]
  },
  {
   "cell_type": "markdown",
   "id": "fd406868-5dda-4da8-bedb-6baa865aab6d",
   "metadata": {},
   "source": [
    "## Working with xarray"
   ]
  },
  {
   "cell_type": "markdown",
   "id": "f96e32b9-242b-4ad4-b1e2-868866a24229",
   "metadata": {},
   "source": [
    "The section below shows various examples of working with xarray, but more information is available online, inlcuding at:\n",
    "\n",
    "- Blog article on Xarray: https://towardsdatascience.com/basic-data-structures-of-xarray-80bab8094efa\n",
    "- Xarray documentation: http://xarray.pydata.org/en/stable/user-guide/data-structures.html"
   ]
  },
  {
   "cell_type": "markdown",
   "id": "e93505e6-8fd4-4f48-8f2a-c7b1f58a92fb",
   "metadata": {},
   "source": [
    "### Data structure\n",
    "\n",
    ">Xarray allows us to work with **labeled multi-dimensional array**\n",
    "\n",
    "\n",
    "A `Dataset` can be seen as a dictionary structure packing up the data, dimensions and attributes. Variables in a `Dataset` object are called `DataArrays` and they share dimensions with the higher level `Dataset`. \n",
    "\n",
    "See also the terminology: https://docs.xarray.dev/en/stable/user-guide/terminology.html\n",
    "\n",
    "<div>\n",
    "    <span style=\"border:solid 1px #888;float:left;padding:10px;\">\n",
    "        <img src=\"https://docs.xarray.dev/en/stable/_images/dataset-diagram.png\" alt=\"Figure 1. Overview of xarray concepts.\"/>\n",
    "        <figcaption><em>Figure 1. Overview of xarray concepts.</em></figcaption>\n",
    "    </span>\n",
    "</div>\n",
    "\n"
   ]
  },
  {
   "cell_type": "markdown",
   "id": "1d243f96-acef-4736-a43d-23117c79832a",
   "metadata": {},
   "source": [
    "<div class=\"alert alert-info\">\n",
    "    <p><strong>Note</strong> that the data loaded via the Open Data Cube will return as an <code>xarray.Dataset</code> which will contain a series of <code>xarray.DataArray</code> objects.</p>\n",
    "    <p>It is important to note when you are working with a DataSet and when you are working with a DataArray. This can be seen at the top of your dataset object as shown in the images below.</p>\n",
    "</div>"
   ]
  },
  {
   "cell_type": "markdown",
   "id": "08c57203-a112-4edb-afc7-03b2c14e9e79",
   "metadata": {},
   "source": [
    "<div>\n",
    "    <span style=\"border:solid 1px #888;float:left;padding:10px;margin-right:25px;width:550px\">\n",
    "        <img src=\"../resources/xarray-dataset.png\" alt=\"Figure 2. An example of an xarray Dataset.\">\n",
    "        <figcaption><em>Figure 2. An example of an xarray Dataset.</em></figcaption>\n",
    "    </span>\n",
    "    <span style=\"border:solid 1px #888;float:left;padding:10px;margin-left:25px;width:550px\">\n",
    "        <img src=\"../resources/xarray-dataarray.png\" alt=\"Figure 3. An example of a single xarray DataArray from inside the DataSet in Figure 2.\">\n",
    "        <figcaption><em>Figure 3. An example of a single xarray DataArray from inside the DataSet in Figure 2.</em></figcaption>\n",
    "    </span>\n",
    "</div>"
   ]
  },
  {
   "cell_type": "markdown",
   "id": "c22c1ba7-97e2-455d-92e3-84c629eb4792",
   "metadata": {},
   "source": [
    "Note that:\n",
    "* Data variables are stored as numpy or dask array\n",
    "* Labels are in the forms of dimensions, coordinates and attributes\n",
    "* xarray uses matplotlib for plotting\n",
    "* ODC API (`datacube.load()`) loads data into a customized xarray dataset\n",
    "\n",
    "See also an intro notebook (including how to construct a xarray dataset): https://github.com/GeoscienceAustralia/dea-notebooks/blob/develop/Beginners_guide/08_Intro_to_xarray.ipynb\n",
    "\n",
    "And a more advanced notebook: https://rabernat.github.io/research_computing/xarray.html"
   ]
  },
  {
   "cell_type": "code",
   "execution_count": null,
   "id": "b8ea5de9-9132-4c95-b9de-ac10cc8d5eea",
   "metadata": {
    "tags": []
   },
   "outputs": [],
   "source": [
    "# Show an xarray.Dataset\n",
    "ds_s2"
   ]
  },
  {
   "cell_type": "code",
   "execution_count": null,
   "id": "0c2c7469-daf1-476d-bef0-f9c459a433a3",
   "metadata": {
    "tags": []
   },
   "outputs": [],
   "source": [
    "# Show a single Data variable - note that this is a DataArray\n",
    "ds_s2.red"
   ]
  },
  {
   "cell_type": "code",
   "execution_count": null,
   "id": "a8168582-ef34-418d-82b9-6d8dd9da122d",
   "metadata": {
    "tags": []
   },
   "outputs": [],
   "source": [
    "# Return the data type of the data inside a DataArray\n",
    "print(type(ds_s2.red.data))"
   ]
  },
  {
   "cell_type": "code",
   "execution_count": null,
   "id": "07cec64f-0bef-40e4-9bc6-3bc6d1bf69d9",
   "metadata": {
    "tags": []
   },
   "outputs": [],
   "source": [
    "# Show a Coordinate of the Dataset - this is also a DataArray\n",
    "ds_s2.time"
   ]
  },
  {
   "cell_type": "code",
   "execution_count": null,
   "id": "9abf2575-c635-4e3d-9284-b737b87aeead",
   "metadata": {
    "tags": []
   },
   "outputs": [],
   "source": [
    "# Get the attributes of the entire Dataset\n",
    "ds_s2.attrs"
   ]
  },
  {
   "cell_type": "code",
   "execution_count": null,
   "id": "d75eda30-3ec8-4b82-a0d6-2552d51d7a7b",
   "metadata": {
    "tags": []
   },
   "outputs": [],
   "source": [
    "# Get the attributes of one of the Data variables\n",
    "ds_s2.red.attrs"
   ]
  },
  {
   "cell_type": "code",
   "execution_count": null,
   "id": "a367cd59-d6cf-4b3a-a9dd-70dbe682fa4f",
   "metadata": {
    "tags": []
   },
   "outputs": [],
   "source": [
    "# Get one attribute of the Dataset directly\n",
    "print(ds_s2.crs)"
   ]
  },
  {
   "cell_type": "code",
   "execution_count": null,
   "id": "61ba0ef2-1d85-473d-96b2-110b780c8f72",
   "metadata": {
    "tags": []
   },
   "outputs": [],
   "source": [
    "# Get the GeoBox - the bounding box polygon for the dataset\n",
    "print(ds_s2.geobox)"
   ]
  },
  {
   "cell_type": "markdown",
   "id": "3dee5863-6ca0-49e3-96b2-ba132be66fe2",
   "metadata": {},
   "source": [
    "### Indexing and selecting"
   ]
  },
  {
   "cell_type": "markdown",
   "id": "dfc59c74-b82d-440e-b2b9-84834de7e0ec",
   "metadata": {},
   "source": [
    "Selections and filtering can be achieved in a number of ways using xarray. the `isel()` and `sel()` functions provide easy ways to select data via an index (`isel()`) or a label (`sel()`).\n",
    "\n",
    "See the xarray documentatio for more information:\n",
    "- https://docs.xarray.dev/en/stable/generated/xarray.DataArray.isel.html\n",
    "- https://docs.xarray.dev/en/stable/generated/xarray.DataArray.sel.html\n",
    "\n",
    "__Note__ that you may need to adjust some of the values below based on the data in your default configuration"
   ]
  },
  {
   "cell_type": "code",
   "execution_count": null,
   "id": "49750f02-bf23-4eb8-b472-48736e406e30",
   "metadata": {
    "tags": []
   },
   "outputs": [],
   "source": [
    "# Get the first time slice by index\n",
    "ds_s2.isel(time=0)"
   ]
  },
  {
   "cell_type": "code",
   "execution_count": null,
   "id": "32aca72c-d235-4278-976b-3cd119caf66e",
   "metadata": {
    "tags": []
   },
   "outputs": [],
   "source": [
    "# Find the time slices for one month - note that more than one time is returned\n",
    "ds_s2.sel(time='2022-01')"
   ]
  },
  {
   "cell_type": "code",
   "execution_count": null,
   "id": "182b9a47-14e9-410e-9b98-96bd69371367",
   "metadata": {
    "tags": []
   },
   "outputs": [],
   "source": [
    "# Find the time slices for one day - note that only one time slice is returned, but the time dimension still exists. Compare this to the isel() result above.\n",
    "ds_s2.sel(time='2022-01-10')"
   ]
  },
  {
   "cell_type": "code",
   "execution_count": null,
   "id": "daab409a-33b9-46ec-87e3-54fe7589b965",
   "metadata": {
    "tags": []
   },
   "outputs": [],
   "source": [
    "# Get one specific time slice - by providing the full datetime value, the time dimension disappears. This is the same result as returned by isel(time=0) above.\n",
    "# If you need to adjust this time to your local example, just copy one datetime value from your data above.\n",
    "ds_s2.sel(time='2022-01-10T16:02:54')"
   ]
  },
  {
   "cell_type": "code",
   "execution_count": null,
   "id": "4c51dd17-c909-4eac-886d-dc0aaf688f12",
   "metadata": {
    "tags": []
   },
   "outputs": [],
   "source": [
    "# Return a single time slice using the .nearest() function - note that the time dimension disappears.\n",
    "ds_s2.sel(time='2022-01-11',method='pad')"
   ]
  },
  {
   "cell_type": "markdown",
   "id": "3974d945-05a5-4385-a2f9-e1453e4d6a6a",
   "metadata": {},
   "source": [
    "<div class=\"alert alert-info\">\n",
    "    <p>Options for the optional <code>method</code> variable include:</p>\n",
    "    <ul>\n",
    "        <li><strong>None</strong> (default): only exact matches</li>\n",
    "        <li><strong>pad / ffill</strong>: propagate last valid index value forward</li>\n",
    "        <li><strong>backfill / bfill</strong>: propagate next valid index value backward</li>\n",
    "        <li><strong>nearest</strong>: use nearest valid index value</li>\n",
    "    </ul>\n",
    "    <p>Note that <strong>pad</strong> and <strong>backfill</strong> will fail if you try to pad or backfill beyond the extent of the dates in the dataset, e.g. it is not possible to propagate a value forward if the date you are looking for is already later than the latest date in the dataset.</p>\n",
    "</div>"
   ]
  },
  {
   "cell_type": "code",
   "execution_count": null,
   "id": "f6f0802c-d36f-403f-be93-d391ed4b9f60",
   "metadata": {
    "tags": []
   },
   "outputs": [],
   "source": [
    "# Return a collection of time slices based on a list of indexes\n",
    "ds_s2.isel(time=[0,2,5,6])"
   ]
  },
  {
   "cell_type": "code",
   "execution_count": null,
   "id": "1516ac61-bfa4-481e-bad2-932ecd42899f",
   "metadata": {
    "tags": []
   },
   "outputs": [],
   "source": [
    "# Get some time slices from across the date range of your data\n",
    "# This can be useful if you just want to show a range of time slices from across your data instead of all of it\n",
    "num_slices = 3\n",
    "time_ind = np.linspace(1, ds_s2.sizes['time'], num_slices, dtype='int') - 1 # This will try to select some index values which are evenly spaced across your data\n",
    "ds_s2.isel(time=time_ind)"
   ]
  },
  {
   "cell_type": "code",
   "execution_count": null,
   "id": "d6c8f815-f6cc-489a-ac87-756d69b8e273",
   "metadata": {
    "tags": []
   },
   "outputs": [],
   "source": [
    "# Find time slices since a specific day\n",
    "ds_s2.isel(time=(ds_s2.time > np.datetime64('2022-03-01')))"
   ]
  },
  {
   "cell_type": "markdown",
   "id": "f2c74e9a-1439-4247-a8cb-3d86f48d773f",
   "metadata": {},
   "source": [
    "### Xarray calculations (reduction)"
   ]
  },
  {
   "cell_type": "markdown",
   "id": "7bdaca8c-45ca-438d-b4f3-fbd8c6dbbf1e",
   "metadata": {},
   "source": [
    "Using xarray functions, you can also apply various mathematical reductions (e.g. mean, median, minimum, maximum, standard devations, etc) to your data."
   ]
  },
  {
   "cell_type": "code",
   "execution_count": null,
   "id": "96467304-95fd-470d-9efd-53c8da77411e",
   "metadata": {
    "tags": []
   },
   "outputs": [],
   "source": [
    "# Calculate the mean of each pixel through time and plot the resulting image\n",
    "# This is now a composite image of all of your data\n",
    "ds_s2.mean(dim=\"time\")[[\"red\",\"green\",\"blue\"]].to_array().plot.imshow(robust=True, size=6, aspect=1);"
   ]
  },
  {
   "cell_type": "code",
   "execution_count": null,
   "id": "919601d5-68ab-4d9c-af8a-22988c5875d5",
   "metadata": {
    "tags": []
   },
   "outputs": [],
   "source": [
    "# Do the same as above but calculate the median (note that this is not a geomedian)\n",
    "ds_s2.median(dim=\"time\")[[\"red\",\"green\",\"blue\"]].to_array().plot.imshow(robust=True, size=6, aspect=1);"
   ]
  },
  {
   "cell_type": "code",
   "execution_count": null,
   "id": "05e9efbd-fcd6-449c-b51d-fb0d5d0ec56c",
   "metadata": {
    "tags": []
   },
   "outputs": [],
   "source": [
    "# Calculate a mean value for each time slice for each variable. This collapses the x and y dimensions and returns a time series of values for each variable at each point in time. \n",
    "# Note that now you only have a single dimension - time\n",
    "ds_s2.mean(dim=[\"x\",\"y\"])"
   ]
  },
  {
   "cell_type": "code",
   "execution_count": null,
   "id": "bed603b2-05b8-49b2-98b3-d093dde9488d",
   "metadata": {
    "tags": []
   },
   "outputs": [],
   "source": [
    "# Plot this timeseries for a single data variable\n",
    "ds_s2.mean(dim=[\"x\",\"y\"]).green.plot();"
   ]
  },
  {
   "cell_type": "code",
   "execution_count": null,
   "id": "0e31c8e3-d009-4756-a1ee-d7c169783369",
   "metadata": {
    "tags": []
   },
   "outputs": [],
   "source": [
    "# Plot the time series for each data variable\n",
    "ds_s2[['red','green','blue']].mean(dim=[\"x\",\"y\"]).to_array().plot.line(x='time');"
   ]
  },
  {
   "cell_type": "markdown",
   "id": "e58d39c6-5dec-4311-8c81-ff72c460d9fd",
   "metadata": {},
   "source": [
    "### Timeseries"
   ]
  },
  {
   "cell_type": "markdown",
   "id": "b51ebf34-fde2-4ad7-862f-a10cff5b8f9c",
   "metadata": {},
   "source": [
    "With xarray, it is possible to resample or re-map your data to other time intervals. This can be useful to upsample or downsample your data to remove noise or align with other data."
   ]
  },
  {
   "cell_type": "code",
   "execution_count": null,
   "id": "9bd640e0-c020-49b1-9938-9018c60d84f2",
   "metadata": {
    "tags": []
   },
   "outputs": [],
   "source": [
    "# Firstly lets look at what happens when we resample to monthly timesteps\n",
    "# As you can see, the 'time' dimension values have now changed. There are fewer time slices, the time values are all \"00:00:00\" and the dates are the last date of each month\n",
    "# When doing this, we have to provide some sort of aggregation function. Here we are using \"nearest()\", which returns the one closest time slice to each date, but we could also use .mean(), .median(), .min(), .max(), .count(), etc\n",
    "ds_s2.resample(time='1M').nearest().time"
   ]
  },
  {
   "cell_type": "code",
   "execution_count": null,
   "id": "2753c61c-99f3-476e-bd5b-d3bbf88fffe6",
   "metadata": {
    "tags": []
   },
   "outputs": [],
   "source": [
    "# Calculate the mean reflectances per time slice and plot them\n",
    "# Note that there are now fewer time steps in this graph compared to the similar plot above which wasn't resampled\n",
    "ds_s2[['red','green','blue']].resample(time='1M').nearest().mean(dim=[\"x\",\"y\"]).to_array().plot.line(x='time');"
   ]
  },
  {
   "cell_type": "code",
   "execution_count": null,
   "id": "f12e72f3-7ff0-4f5e-9ed8-d416ea658122",
   "metadata": {
    "tags": []
   },
   "outputs": [],
   "source": [
    "# You can also calculate rolling aggregates. In this example, we generate a rolling window of 4 timesteps, calculate the mean and then calculate a second mean to convert into a timeseries as above\n",
    "ds_s2[['red','green','blue']].rolling(time=2, min_periods=1).mean().mean(dim=[\"x\",\"y\"]).to_array().plot.line(x='time');"
   ]
  },
  {
   "cell_type": "markdown",
   "id": "c5c1bb86-92ad-417d-8d39-e31c3ac6e308",
   "metadata": {},
   "source": [
    "### Xarray and Pandas"
   ]
  },
  {
   "cell_type": "markdown",
   "id": "2f38f2a9-7a90-4721-8df1-646aaf65f788",
   "metadata": {},
   "source": [
    "If you are familiar working with Pandas, you can also convert an xarray Dataset or DataArray to a pandas dataframe. This can be useful when working with tabular data and some python libraries work better with Pandas than with xarray."
   ]
  },
  {
   "cell_type": "code",
   "execution_count": null,
   "id": "24c1d0d2-9e95-46f7-91f8-563189dddfab",
   "metadata": {
    "tags": []
   },
   "outputs": [],
   "source": [
    "# Convert one fo the timeseries examples to a Pandas dataframe\n",
    "df = ds_s2.mean(dim=[\"x\",\"y\"]).green.to_dataframe()\n",
    "df"
   ]
  },
  {
   "cell_type": "code",
   "execution_count": null,
   "id": "906d4367-73ff-40d4-abb5-e87bac24d31d",
   "metadata": {
    "tags": []
   },
   "outputs": [],
   "source": [
    "# Check that it is really a dataframe\n",
    "type(df)"
   ]
  },
  {
   "cell_type": "code",
   "execution_count": null,
   "id": "31c67df8-d61b-46a5-95e1-f8d9b60b7837",
   "metadata": {
    "tags": []
   },
   "outputs": [],
   "source": [
    "# Export the dataframe to a csv - this will be exported to the same folder where this notebook is located. \n",
    "df.to_csv('test.csv')"
   ]
  },
  {
   "cell_type": "markdown",
   "id": "15f3b402-5040-4d45-8296-235f7b533981",
   "metadata": {},
   "source": [
    "#### Learn more about pandas and geopands\n",
    "\n",
    "pandas: https://pandas.pydata.org/docs/user_guide/10min.html\n",
    "\n",
    "geopandas: https://geopandas.org/en/stable/docs/user_guide.html"
   ]
  },
  {
   "cell_type": "markdown",
   "id": "b0652f87-6f53-460f-9a0d-1d9dfa2d5a2a",
   "metadata": {},
   "source": [
    "## Other things to try"
   ]
  },
  {
   "cell_type": "markdown",
   "id": "3e66df79-c633-4aac-ab21-12a7e5fda943",
   "metadata": {},
   "source": [
    "### Pick another dataset you are interested in. \n",
    "\n",
    "If unsure, try Sentinel-2 for where you live or recently visited. If you have used Sentinel-2 through EASI or ODC, try another dataset.\n",
    "\n",
    "### Explore loading the data and plotting.\n",
    "\n",
    "### Try xarray operations\n",
    "\n",
    "e.g.\n",
    "* Select a timestamp to plot. Trying using .isel() and sel().\n",
    "* Calculate mean values over time for each pixel and plot the result.\n",
    "* Try a different calculation (e.g. sum, median) or try to apply the calculation on a different dimension and plot the results\n",
    "* Resample the data to a monthly (or daily, quarterly) frequency and plot monthly mean values as a line plot\n",
    "* Save the result\n",
    "\n",
    "\n",
    "### Think about\n",
    "\n",
    "* What did you try to achieve and what you've accomplished or learned?\n",
    "* What type of data did you access? Why? E.g. what does this data measure?\n",
    "* What else would you like to do with this dataset?"
   ]
  },
  {
   "cell_type": "code",
   "execution_count": null,
   "id": "2f1dfcaa-2ee5-4adb-90c3-61a1b0c23d99",
   "metadata": {},
   "outputs": [],
   "source": []
  }
 ],
 "metadata": {
  "kernelspec": {
   "display_name": "Python 3 (ipykernel)",
   "language": "python",
   "name": "python3"
  },
  "language_info": {
   "codemirror_mode": {
    "name": "ipython",
    "version": 3
   },
   "file_extension": ".py",
   "mimetype": "text/x-python",
   "name": "python",
   "nbconvert_exporter": "python",
   "pygments_lexer": "ipython3",
   "version": "3.10.6"
  }
 },
 "nbformat": 4,
 "nbformat_minor": 5
}
