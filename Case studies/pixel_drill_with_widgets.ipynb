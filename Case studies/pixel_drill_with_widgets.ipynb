{
 "cells": [
  {
   "cell_type": "markdown",
   "metadata": {},
   "source": [
    "# <u>Pixel drill using interactive widgets</u> <img align=\"right\" src=\"../resources/csiro_easi_logo.png\">\n",
    "\n",
    "**Contents**\n",
    "\n",
    "  - [Overview](#Overview)\n",
    "  - [Notebook setup](#Notebook-setup)\n",
    "  - [Loading up the Sentinel-2 data](#Loading-up-the-Sentinel-2-data)\n",
    "    - [DataCube query](#DataCube-query)\n",
    "    - [Load and pre-process the data](#Load-and-pre-process-the-data)\n",
    "  - [Interactive widget plots](#Interactive-widget-plots)\n",
    "    - [Selecting the pixel drill location](#Selecting-the-pixel-drill-location)\n",
    "    - [Pixel drill plot](#Pixel-drill-plot)\n",
    "    - [Plot the selected image](#Plot-the-selected-image)\n",
    "\n",
    "# Overview\n",
    "\n",
    "This notebook demonstrates the use of interactive widgets in a Jupyter notebook. We will load up a few time slices of Sentinel-2 data over the Australian Capital Territory (ACT) region in Australia, and display a widget allowing the user to interactively select a pixel of interest over the selected area. The time series of remote sensing values for that pixel is then plotted, allowing the user to select a given time index to use for the final display of the Sentinel-2 image acquired at that specific date.\n",
    "\n",
    "This notebook is adapted from a [Digital Earth Australia](https://github.com/GeoscienceAustralia/dea-notebooks) example by Claire Krause.\n",
    "\n",
    "**A note regarding compatibility**\n",
    "\n",
    "As stated above, this notebook makes use of a specific dataset of remote sensing data, and is applied over a given region of interest. The code below will thus not run properly if the EASI deployment used to run this notebook does not also contain a similar dataset.\n",
    "\n",
    "Users can nonetheless investigate the outputs provided in this demonstration notebook, and also modify certain variables in the code below to allow the notebook to run with a different EASI deployment (e.g. different remote sensing data, region of interest, etc.)\n",
    "\n",
    "# Notebook setup\n",
    "\n",
    "In a typical notebook, we would use the built-in \"magic\" command `%matplotlib inline` to set up the inline `matplotlib` backend in the notebook. Because we will here make use of interactive widgets, we need to invoke a different command to use the `widget` GUI backend, as done below:"
   ]
  },
  {
   "cell_type": "code",
   "execution_count": null,
   "metadata": {},
   "outputs": [],
   "source": [
    "%matplotlib widget"
   ]
  },
  {
   "cell_type": "markdown",
   "metadata": {},
   "source": [
    "Then in the cell below, we import the usual Python modules and functions needed in the rest of this notebook. Subsequently, we also open a connection to the EASI datacube."
   ]
  },
  {
   "cell_type": "code",
   "execution_count": null,
   "metadata": {
    "tags": []
   },
   "outputs": [],
   "source": [
    "### System\n",
    "import os, sys\n",
    "\n",
    "### Datacube \n",
    "from datacube import Datacube\n",
    "from datacube.utils import masking\n",
    "from odc.algo import enum_to_bool\n",
    "\n",
    "### Data tools\n",
    "import matplotlib.dates\n",
    "import numpy as np\n",
    "\n",
    "### Plotting\n",
    "import ipywidgets as widgets\n",
    "import matplotlib.pyplot as plt\n",
    "\n",
    "### EASI tools\n",
    "sys.path.append(os.path.expanduser('../scripts'))\n",
    "os.environ['USE_PYGEOS'] = '0'\n",
    "import notebook_utils\n",
    "from app_utils import display_map\n",
    "from easi_tools import EasiDefaults\n",
    "easi = EasiDefaults()"
   ]
  },
  {
   "cell_type": "code",
   "execution_count": null,
   "metadata": {
    "tags": []
   },
   "outputs": [],
   "source": [
    "dc = Datacube(app='pixel_drill')"
   ]
  },
  {
   "cell_type": "code",
   "execution_count": null,
   "metadata": {
    "tags": []
   },
   "outputs": [],
   "source": [
    "cluster, client = notebook_utils.initialize_dask(use_gateway=False)\n",
    "display(client)\n",
    "display(cluster)"
   ]
  },
  {
   "cell_type": "code",
   "execution_count": null,
   "metadata": {},
   "outputs": [],
   "source": [
    "# Show the Dask dashboard - click on this to watch how the calculations are progressing\n",
    "notebook_utils.localcluster_dashboard(client, server=easi.hub)"
   ]
  },
  {
   "cell_type": "markdown",
   "metadata": {},
   "source": [
    "\n",
    "# Loading up the Sentinel-2 data\n",
    "\n",
    "## DataCube query\n",
    "\n",
    "In this notebook, we're interested in a dataset of Sentinel-2 imagery (product labelled `s2a_ard_granule` on the current EASI deployment) centred over the Australian Capital Territory (ACT). We set up the corresponding spatial extent in the query dicitionary below, together with a (small) temporal window.\n",
    "\n",
    "We will use the Sentinel-2 data for false-colour plots of the SWIR, NIR and green bands (in the corresponding RGB channels), so we add these bands to the list of measurements to load up. For the purpose of this demonstration, we will not carry out the typical data clean-up process to mask pixels affected by data quality issues (saturation, clouds, etc.) &ndash; thus, we do not include the `fmask` band here which would otherwise be needed for this QA filtering process.\n",
    "\n",
    "In addition, we don't really care about the projection of the data in the plots further below. So to avoid unnecessary (and time consuming) re-projection of the data, we will here load up the Sentinel-2 dataset in its native projection. In the code below, we use the function `mostcommon_crs()` to work out the dataset's native coordinate reference system (CRS) and set the query parameter `output_crs` accordingly."
   ]
  },
  {
   "cell_type": "code",
   "execution_count": null,
   "metadata": {
    "tags": []
   },
   "outputs": [],
   "source": [
    "# This configuration is read from the defaults for this system. \n",
    "# Examples are provided in a commented line to show how to set these manually.\n",
    "\n",
    "study_area_lat = easi.latitude\n",
    "# study_area_lat = (39.2, 39.3)\n",
    "\n",
    "study_area_lon = easi.longitude\n",
    "# study_area_lon = (-76.7, -76.6)\n",
    "\n",
    "product = easi.product('sentinel-2')\n",
    "# product = 'landsat8_c2l2_sr'\n",
    "\n",
    "set_time = easi.time\n",
    "# set_time = ('2020-08-01', '2020-12-01')\n",
    "\n",
    "# set_crs = easi.crs('sentinel-2')\n",
    "# set_crs = 'EPSG:32618'\n",
    "\n",
    "set_resolution = easi.resolution('sentinel-2')\n",
    "# set_resolution = (-30, 30)"
   ]
  },
  {
   "cell_type": "code",
   "execution_count": null,
   "metadata": {
    "tags": []
   },
   "outputs": [],
   "source": [
    "query = { 'product': product,\n",
    "          'lat': study_area_lat,    # \n",
    "          'lon': study_area_lon,\n",
    "          'measurements': ['green', 'nir_1', 'swir_2', 'SCL'],\n",
    "          'time': set_time,\n",
    "          'group_by': 'solar_day' # scene ordering\n",
    "        }  \n",
    "\n",
    "### Dataset's native projection\n",
    "native_crs = notebook_utils.mostcommon_crs(dc, query)\n",
    "print(f\"The dataset's native CRS is: {native_crs}\")\n",
    "\n",
    "query.update({ 'output_crs': native_crs,    # EPSG code\n",
    "               'resolution': set_resolution, # target resolution\n",
    "               'dask_chunks': {'time': 1}\n",
    "             })  "
   ]
  },
  {
   "cell_type": "markdown",
   "metadata": {},
   "source": [
    "## Load and pre-process the data"
   ]
  },
  {
   "cell_type": "code",
   "execution_count": null,
   "metadata": {
    "tags": []
   },
   "outputs": [],
   "source": [
    "data = dc.load(**query)\n",
    "data"
   ]
  },
  {
   "cell_type": "markdown",
   "metadata": {},
   "source": [
    "Because our dataset is here relatively small, we did not make use of `Dask` (distributed `Xarray` processing on compute clusters) &ndash; the data is thus loaded into the system memory. As usual, we can check the size of the data object we just loaded up: without `Dask`, using a very large dataset could lead to technical and/or computational issues in the code further below in this notebook."
   ]
  },
  {
   "cell_type": "code",
   "execution_count": null,
   "metadata": {
    "tags": []
   },
   "outputs": [],
   "source": [
    "print(f\"The size of 'data' in memory is {data.nbytes/(1024**2):.2f} MB.\")"
   ]
  },
  {
   "cell_type": "markdown",
   "metadata": {},
   "source": [
    "Next, we can do some basic data cleaning / re-formatting to allow for a useful display of the plots further below:"
   ]
  },
  {
   "cell_type": "code",
   "execution_count": null,
   "metadata": {
    "tags": []
   },
   "outputs": [],
   "source": [
    "# \"dark area pixels\" have been included in the mask below just to avoid extra pixels being removed\n",
    "good_pixel_flags = {'water', 'vegetation', 'bare soils', 'unclassified','dark area pixels'} # pixels to retain \n",
    "good_pixel_mask = enum_to_bool(data['SCL'], good_pixel_flags)"
   ]
  },
  {
   "cell_type": "code",
   "execution_count": null,
   "metadata": {
    "tags": []
   },
   "outputs": [],
   "source": [
    "# Find the most cloud-free scene to use in the first image\n",
    "percentage_clear = good_pixel_mask.mean(dim=['x','y'])\n",
    "best_scene = percentage_clear.argmax(dim='time').values"
   ]
  },
  {
   "cell_type": "code",
   "execution_count": null,
   "metadata": {
    "tags": []
   },
   "outputs": [],
   "source": [
    "### Set all 'nodata' pixels to 'NaN'\n",
    "data = masking.mask_invalid_data(data)\n",
    "\n",
    "### Filter out bad pixels (clouds, etc)\n",
    "data = data[['green','nir_1','swir_2']].where(good_pixel_mask)\n",
    "\n",
    "### Set pixels to 'NaN' outside valid range for Sentinel-2 data (GA S2 products)\n",
    "data = data.where((data>=0) & (data<=10000))"
   ]
  },
  {
   "cell_type": "markdown",
   "metadata": {},
   "source": [
    "# Interactive widget plots\n",
    "\n",
    "## Selecting the pixel drill location\n",
    "\n",
    "In the next cell, we (manually) select a time slice from the Sentinel-2 time series, and plot it with a widget allowing the user to click on the plot and select a desired location for the pixel drill.\n",
    "\n",
    "First, we define the callback function `onclick` that specifies what happens when the plot is clicked &ndash; this function here updates the text of the widget `wid` and sets the (global) parameters `pixelx` and `pixely` for the pixel drill location.\n",
    "\n",
    "Subsequently, the plot is displayed and `mpl_connect` is used to bind the `onclick` callback function to the mouse click event."
   ]
  },
  {
   "cell_type": "code",
   "execution_count": null,
   "metadata": {
    "tags": []
   },
   "outputs": [],
   "source": [
    "### Callback function\n",
    "def onclick(event):\n",
    "    global pixelx, pixely\n",
    "    pixelx, pixely = int(event.xdata), int(event.ydata)\n",
    "    wid.value = wid_heading + f'<p>Pixel selected: x = {pixelx}, y = {pixely}</p>'\n",
    "    for collection in fig.axes[0].collections:\n",
    "        collection.remove()  # Remove any existing points\n",
    "    for text in fig.axes[0].texts:\n",
    "        text.remove() # Remove any existing text\n",
    "    plt.scatter(pixelx,pixely,color='yellow',edgecolors='black')  # Plot new point\n",
    "    plt.text(x=pixelx+200, y=pixely+200, s=f\"{pixelx}, {pixely}\",color='black',bbox=dict(facecolor='yellow',alpha=0.7)) # Add text\n",
    "\n",
    "### Display one of the time slices (manually selected)\n",
    "image_array = data[['swir_2', 'nir_1', 'green']].isel(time=best_scene).to_array()\n",
    "image_array.plot.imshow(robust=True, figsize=(7,7))\n",
    "\n",
    "### Widget handling\n",
    "fig = plt.gcf()\n",
    "wid_heading = \"<h3>Click to select a pixel of interest</h3>\"\n",
    "wid_result = \"<p>Pixel selected:</p>\"\n",
    "wid = widgets.HTML(wid_heading+wid_result)\n",
    "cid = fig.canvas.mpl_connect('button_press_event', onclick)\n",
    "display(wid)"
   ]
  },
  {
   "cell_type": "markdown",
   "metadata": {},
   "source": [
    "## Pixel drill plot\n",
    "\n",
    "Once the pixel drill location is selected, the next cell plots the complete timeseries of data for that pixel. \n",
    "\n",
    "For the sake of this demonstration, we here simply plot the `green` spectral band values &ndash; this workflow could easily be updated to display some band arithmetic index, such as NDVI for instance.\n",
    "\n",
    "And similar to the previous example, we make use of the `mpl_connect` function to link the (new) callback function `onclick2` to the mouse-click event on the new plot. Here, the callback function defines the global variable `selected_date` whenever the user clicks on a point on the plot."
   ]
  },
  {
   "cell_type": "markdown",
   "metadata": {},
   "source": [
    "<div class=\"alert alert-danger\">\n",
    "    <strong>IMPORTANT:</strong> The next diagram does not currently show which point you have selected. This is a work in progress and will be added. When you click on the plot, the Date of interest will be shown in text above the plot.\n",
    "</div>"
   ]
  },
  {
   "cell_type": "code",
   "execution_count": null,
   "metadata": {},
   "outputs": [],
   "source": [
    "### Extract the pixel drill data\n",
    "pix_drill_data = data.green.sel(y=pixely, x=pixelx, method='nearest')\n",
    "\n",
    "### Plot the pixel drill time series\n",
    "fig = plt.figure(figsize=(6,6))\n",
    "plt.plot(data.time, pix_drill_data, 'ro-')\n",
    "plt.xlabel('date'); plt.title('pixel drill data')\n",
    "plt.ylabel('surface reflectance (green band)')\n",
    "\n",
    "### Callback function\n",
    "def onclick2(event):\n",
    "    global selected_date\n",
    "    tmp = event.xdata\n",
    "    selected_date = str( matplotlib.dates.num2date(tmp).date() )   # convert the returned (clicked) integer to datetime string\n",
    "    wid2.value = f'Date of interest : {selected_date}'\n",
    "\n",
    "### Widget handling\n",
    "wid2 = widgets.HTML(\"Click on a point to select the date of interest\")\n",
    "cid = fig.canvas.mpl_connect('button_press_event', onclick2)\n",
    "display(wid2)"
   ]
  },
  {
   "cell_type": "markdown",
   "metadata": {},
   "source": [
    "Depending on the selected pixel drill location, and as we have not filtered out clouds, you might see in the above plot a mix of high `green` values (around ~10,000) as well as lower values (perhaps around ~1,000). If you click and select various dates in this time series, you will notice that the higher values correspond to images with clouds (high reflectance) covering the pixel drill location. The collection of lower values likely represent the scenes where the sensor provides a clear (cloud-free) image of the selected pixel, and so represent the `green` values of the actual ground.\n",
    "\n",
    "## Plot the selected image\n",
    "\n",
    "Finally, we can simply extract the selected time slice from the Sentinel-2 time series and plot it."
   ]
  },
  {
   "cell_type": "markdown",
   "metadata": {},
   "source": [
    "<div class=\"alert alert-info\">\n",
    "    <strong>NOTE:</strong> In the following plot, areas of cloud or missing data will appear as areas in black.\n",
    "</div>"
   ]
  },
  {
   "cell_type": "code",
   "execution_count": null,
   "metadata": {},
   "outputs": [],
   "source": [
    "### Convert selected date to datetime format\n",
    "time_slice = np.datetime64(selected_date, 'ns')\n",
    "\n",
    "### Use time stamp to extract and display the selected image\n",
    "image_array = data[['swir_2', 'nir_1', 'green']].sel(time=time_slice, method='nearest').to_array()\n",
    "image_array.plot.imshow(robust=True, figsize=(8,8));\n",
    "ax = plt.gca()\n",
    "ax.set_facecolor(\"black\")"
   ]
  },
  {
   "cell_type": "code",
   "execution_count": null,
   "metadata": {},
   "outputs": [],
   "source": [
    "### End notebook"
   ]
  }
 ],
 "metadata": {
  "celltoolbar": "Raw Cell Format",
  "kernelspec": {
   "display_name": "Python 3 (ipykernel)",
   "language": "python",
   "name": "python3"
  },
  "language_info": {
   "codemirror_mode": {
    "name": "ipython",
    "version": 3
   },
   "file_extension": ".py",
   "mimetype": "text/x-python",
   "name": "python",
   "nbconvert_exporter": "python",
   "pygments_lexer": "ipython3",
   "version": "3.10.6"
  },
  "toc": {
   "base_numbering": 1,
   "nav_menu": {},
   "number_sections": true,
   "sideBar": true,
   "skip_h1_title": false,
   "title_cell": "Table of Contents",
   "title_sidebar": "Contents",
   "toc_cell": false,
   "toc_position": {},
   "toc_section_display": "block",
   "toc_window_display": false
  }
 },
 "nbformat": 4,
 "nbformat_minor": 4
}
