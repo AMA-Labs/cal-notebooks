{
 "cells": [
  {
   "cell_type": "markdown",
   "metadata": {},
   "source": [
    "# Plot netCDF data on a map using matplotlib.basemap\n",
    "\n",
    "Adapted from http://aosc.umd.edu/~cmartin/python/examples/netcdf_example1.html\n",
    "\n",
    "For a comprehensive list of matplotlib options, see\n",
    "Python Data Science Handbook by Jake VanderPlas, Chapter 4. Visualization with Matplotlib\n",
    "https://www.oreilly.com/library/view/python-data-science/9781491912126/ch04.html"
   ]
  },
  {
   "cell_type": "markdown",
   "metadata": {},
   "source": [
    "INFO: matplotlib 3.0.1 and basemap are broken  \n",
    "https://github.com/matplotlib/basemap/issues/435"
   ]
  },
  {
   "cell_type": "markdown",
   "metadata": {},
   "source": [
    "First we need to import netCDF4-python, Numpy, Matplotlib for plotting, and Basemap for the map"
   ]
  },
  {
   "cell_type": "code",
   "execution_count": null,
   "metadata": {},
   "outputs": [],
   "source": [
    "%matplotlib inline\n",
    "from netCDF4 import Dataset \n",
    "import matplotlib.pyplot as plt\n",
    "import numpy as np\n",
    "from mpl_toolkits.basemap import Basemap"
   ]
  },
  {
   "cell_type": "markdown",
   "metadata": {},
   "source": [
    "Load in the netCDF file"
   ]
  },
  {
   "cell_type": "code",
   "execution_count": null,
   "metadata": {},
   "outputs": [],
   "source": [
    "nc = Dataset('/Users/pag064/DATACUBE-DATA/BoM-AGCD-FTP/precip/data/IDCKZRDAT0_precip_total_r005_20180101_20180101.nc')"
   ]
  },
  {
   "cell_type": "markdown",
   "metadata": {},
   "source": [
    "Read the variables from the netCDF file and assign them to Python variables"
   ]
  },
  {
   "cell_type": "code",
   "execution_count": null,
   "metadata": {},
   "outputs": [],
   "source": [
    "lat = nc.variables['lat'][:]\n",
    "lon = nc.variables['lon'][:]\n",
    "time = nc.variables['time'][:]\n",
    "v = nc.variables['precip'][:]"
   ]
  },
  {
   "cell_type": "markdown",
   "metadata": {},
   "source": [
    "Let's create a map centered over Australia"
   ]
  },
  {
   "cell_type": "code",
   "execution_count": null,
   "metadata": {},
   "outputs": [],
   "source": [
    "plt.clf()\n",
    "#plt.figure(figsize=(8,8))\n",
    "fig, ax = plt.subplots()\n",
    "map = Basemap(ax=ax,\n",
    "              projection='cyl',\n",
    "              llcrnrlon=110.,\n",
    "              llcrnrlat=-45.,\n",
    "              urcrnrlon=155.,\n",
    "              urcrnrlat=-5.,\n",
    "              resolution='i')\n",
    "# resolutions: c - crude, l - low, i - intermediate, h - high, f - full"
   ]
  },
  {
   "cell_type": "markdown",
   "metadata": {},
   "source": [
    "Now let's add the states, counties, coasts, national borders and a land-sea colored mask:"
   ]
  },
  {
   "cell_type": "code",
   "execution_count": null,
   "metadata": {},
   "outputs": [],
   "source": [
    "map.drawcoastlines()\n",
    "map.drawstates(a)\n",
    "map.drawcountries()\n",
    "map.drawlsmask(land_color='linen', ocean_color='#CCFFFF') # can use HTML names or codes for colors\n",
    "map.drawcounties() # you can even add counties (and other shapefiles!)"
   ]
  },
  {
   "cell_type": "markdown",
   "metadata": {},
   "source": [
    "If you'd like to add Lat/Lon, you can do that too:"
   ]
  },
  {
   "cell_type": "code",
   "execution_count": null,
   "metadata": {},
   "outputs": [],
   "source": [
    "parallels = np.arange(-45,-5,5.) # make latitude lines ever 5 degrees from 30N-50N\n",
    "meridians = np.arange(110,155,5.) # make longitude lines every 5 degrees from 95W to 70W\n",
    "map.drawparallels(parallels,labels=[1,0,0,0],fontsize=10)\n",
    "map.drawmeridians(meridians,labels=[0,0,0,1],fontsize=10)\n",
    "plt.show()"
   ]
  },
  {
   "cell_type": "markdown",
   "metadata": {},
   "source": [
    "Now, let's prepare the data for the map.\n",
    "We have to transform the lat/lon data to map coordinates."
   ]
  },
  {
   "cell_type": "code",
   "execution_count": null,
   "metadata": {},
   "outputs": [],
   "source": [
    "lons,lats= np.meshgrid(lon,lat)\n",
    "x,y = map(lons,lats)"
   ]
  },
  {
   "cell_type": "markdown",
   "metadata": {},
   "source": [
    "After that, we can then plot the netCDF data on the map."
   ]
  },
  {
   "cell_type": "code",
   "execution_count": null,
   "metadata": {},
   "outputs": [],
   "source": [
    "print(v.min(), v.max(), v.shape)\n",
    "print(x.min(), x.max(), x.shape)\n",
    "print(y.min(), y.max(), y.shape)\n",
    "clevs = np.arange(10,100,10)\n",
    "print(clevs)\n",
    "cs = map.contour(x,y,v[0,:,:],clevs,colors='blue',linewidths=1.)"
   ]
  },
  {
   "cell_type": "markdown",
   "metadata": {},
   "source": [
    "Finally, let's add a title."
   ]
  },
  {
   "cell_type": "code",
   "execution_count": null,
   "metadata": {},
   "outputs": [],
   "source": [
    "plt.clabel(cs, fontsize=9, inline=1) # contour labels\n",
    "plt.title('24 hour rainfall')\n",
    "plt.show()"
   ]
  },
  {
   "cell_type": "markdown",
   "metadata": {},
   "source": [
    "If you'd rather plot precipitation, we can do that too (and with a colorbar)."
   ]
  },
  {
   "cell_type": "code",
   "execution_count": null,
   "metadata": {},
   "outputs": [],
   "source": [
    "data = map.contourf(x,y,v[0,:,:])\n",
    "cb = plt.colorbar(data)\n",
    "cb.set_label('Rainfall (mm)')"
   ]
  }
 ],
 "metadata": {
  "kernelspec": {
   "display_name": "Python 3",
   "language": "python",
   "name": "python3"
  },
  "language_info": {
   "codemirror_mode": {
    "name": "ipython",
    "version": 3
   },
   "file_extension": ".py",
   "mimetype": "text/x-python",
   "name": "python",
   "nbconvert_exporter": "python",
   "pygments_lexer": "ipython3",
   "version": "3.7.0"
  }
 },
 "nbformat": 4,
 "nbformat_minor": 1
}
