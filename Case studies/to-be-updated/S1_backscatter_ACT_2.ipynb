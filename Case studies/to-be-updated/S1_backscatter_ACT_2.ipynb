{
 "cells": [
  {
   "cell_type": "markdown",
   "metadata": {},
   "source": [
    "# Exploring Sentinel-1 over the ACT\n",
    "\n",
    "This notebook provides an example of the European Space Agency (ESA) Sentinel-1 and Sentinel-2 data. Sentinel-1 is a C-band (wavelength of 5.6 cm) Synthetic Aperture Radar (SAR) instrument with a multi-temporal frequency of 12 days. The SAR data are processed into radar backscatter and dual-polarimetric decomposition (described below). Sentinel-2 is an optical instrument, providing information in the visible and infrared bands. These data are compared to show the different responses in an urban environment, as well as the vegetation dynamics in grasslands.\n",
    "\n",
    "Sentinel-1 (in this case it is the dual-pol Radar Vegetation Index (RVI) and Entropy bands) and Sentinel-2 NDVI are compared for multitemporal trends due to their relationships with vegetation biomass. \n"
   ]
  },
  {
   "cell_type": "code",
   "execution_count": null,
   "metadata": {},
   "outputs": [],
   "source": [
    "import dask\n",
    "import distributed\n",
    "from dask_kubernetes import KubeCluster\n",
    "from dask.distributed import Client,LocalCluster\n",
    "from dask.distributed import wait, progress\n",
    "cluster = None\n",
    "# Click on the 'Dashboard link' to monitor calculation progress\n",
    "#cluster = KubeCluster()\n",
    "cluster = LocalCluster()\n",
    "cluster.scale_up(4)\n",
    "#cluster.adapt(minimum=1, maximum=3, scale_factor=2, startup_cost=\"10s\", wait_count=5, target_duration=\"10s\")\n",
    "client = distributed.Client(cluster)"
   ]
  },
  {
   "cell_type": "code",
   "execution_count": null,
   "metadata": {},
   "outputs": [],
   "source": [
    "# Import relevant modules for this Jupyter Notebook and start datacube\n",
    "import sys\n",
    "import datacube\n",
    "import numpy as np\n",
    "import xarray as xr\n",
    "from datacube.storage import masking\n",
    "from datacube.storage.masking import mask_to_dict\n",
    "#from datacube.utils import geometry\n",
    "#from datacube.utils.geometry import CRS\n",
    "from matplotlib import pyplot as plt\n",
    "from IPython.display import display\n",
    "from IPython.display import HTML\n",
    "import ipywidgets as widgets\n",
    "from ipywidgets import interact\n",
    "#from matplotlib import pyplot as plt\n",
    "import matplotlib.image as mplImage\n",
    "import warnings\n",
    "warnings.filterwarnings('ignore', module='datacube')\n",
    "\n",
    "import logging\n",
    "logging.basicConfig(stream=sys.stdout, level=logging.CRITICAL)\n",
    "for logger_name in ('boto', 'boto3', 'botocore', 's3transfer', 'rasterio', 'distributed', 'distributed.client'):\n",
    "    logging.getLogger(logger_name).setLevel(logging.CRITICAL)\n",
    "\n",
    "dc = datacube.Datacube(env='datacube')"
   ]
  },
  {
   "cell_type": "markdown",
   "metadata": {},
   "source": [
    "# View area of interest (Canberra)\n",
    ">  Currently 2019 January to September 2019 around the ACT region <br>"
   ]
  },
  {
   "cell_type": "code",
   "execution_count": null,
   "metadata": {},
   "outputs": [],
   "source": [
    "from ipyleaflet import Map, WMSLayer, LayersControl\n",
    "\n",
    "Year = '2019'\n",
    "myloc = 'San Francisco'\n",
    "query = {\n",
    "\n",
    "# Canberra\n",
    "'y': (37.6749, 37.8749),\n",
    "'x': (-122.5195, -122.3195),\n",
    "\n",
    "'time': (Year + '-01-01', Year + '-02-01'),\n",
    "'crs': 'EPSG:4326',\n",
    "'output_crs': 'EPSG: 3488',\n",
    "'resolution': (20, -20)\n",
    "}\n",
    "\n",
    "m = Map(center=(37.7749, -122.4195), zoom=12, layout=dict(height='600px')) # ACT\n",
    "m"
   ]
  },
  {
   "cell_type": "markdown",
   "metadata": {},
   "source": [
    "# Load Sentinel-2 for the same area and compare the two"
   ]
  },
  {
   "cell_type": "code",
   "execution_count": null,
   "metadata": {},
   "outputs": [],
   "source": [
    "dc_S2 = datacube.Datacube(app='s2a_scene')\n",
    "bands_of_interest = ['B04_20m', 'B03_20m', 'B02_20m','SCL_20m']\n",
    "#ds = dc_S2.load(product = 's2_l2a_scene', group_by='solar_day', measurements = bands_of_interest, **query, dask_chunks={'time': 1})\n",
    "#s2_data = ds.load()\n",
    "#del ds\n",
    "s2_data = dc_S2.load(product = 's2_l2a_scene', group_by='solar_day', measurements = bands_of_interest, **query, dask_chunks={'time': 1})\n",
    "\n",
    "s2 = s2_data.rename({'B04_20m': 'red',\n",
    "                     'B03_20m': 'green',\n",
    "                     'B02_20m': 'blue',\n",
    "                     'SCL_20m': 'SCL'})\n",
    "del s2_data\n",
    "\n",
    "# Identify images that have minimum nulls and remove them\n",
    "# Uses code from https://github.com/fangfy/dea-projects/blob/master/water_interoperability/sentinel1_load_and_classify_nci.ipynb\n",
    "# [mask for clouds [0=no data, 1=saturated, 2=dark pixels, 3=cloud shadow, 4=veg, 5=soil, \n",
    "# 6=water, 7, 8, 9=clouds (low/med/high prob), 10=cirrus, 11= snow]]\n",
    "\n",
    "total_px=s2.dims['x']*s2.dims['y']\n",
    "valid=s2.where(s2.red!=0).where(s2.SCL<=7).where(s2.SCL>=2).where(s2.SCL!=3).count(dim=('x','y'))\n",
    "\n",
    "good=(valid.red/total_px)>0.5\n",
    "\n",
    "s2_good = s2.sel(time=good)\n",
    "del s2\n",
    "\n",
    "# replace 0 with nan\n",
    "s2_good_clean = s2_good.where(s2_good!=0)\n",
    "del s2_good\n",
    "\n",
    "from datacube.storage import masking\n",
    "\n",
    "# Set all nodata pixels to `NaN`:\n",
    "s2_good_clean = masking.mask_invalid_data(s2_good_clean)\n",
    "s2_good_clean = s2_good_clean.where((s2_good_clean >= 0) & (s2_good_clean<=4000))\n",
    "\n",
    "s2_good_clean\n",
    "s2 = s2_good_clean\n",
    "del s2_good_clean\n",
    "\n",
    "print('Sentinel-2 data for ', myloc,': ',s2)"
   ]
  },
  {
   "cell_type": "markdown",
   "metadata": {},
   "source": [
    "## RGB Sentinel-2 scene (left) and Sentinel-1 VV where Red = March, Green = June, Blue =September (right)\n",
    "### The build-up areas show as consistently bright in the Sentinel-1 data, while the water is consistently dark. Forested areas have a medium backscatter, while grassland is relatively low."
   ]
  },
  {
   "cell_type": "code",
   "execution_count": null,
   "metadata": {},
   "outputs": [],
   "source": [
    "# View S1 across multiple dates\n",
    "\n",
    "Red_date_VV, Green_date_VV, Blue_date_VV = smoothed.vv.isel(time=18), smoothed.vv.isel(time=10), smoothed.vv.isel(time=3)\n",
    "s1_RGB=Red_date_VV.to_dataset(name='Red_date_VV')\n",
    "s1_RGB['Green_date_VV'], s1_RGB['Blue_date_VV'] = Green_date_VV, Blue_date_VV\n",
    "s1_RGB = s1_RGB.assign_attrs(bs_attrs)\n",
    "#s1_RGB = s1_RGB.load()\n",
    "\n",
    "# plot RGB images\n",
    "fix, axes = plt.subplots(ncols=2, figsize=(20,10))\n",
    "\n",
    "image_array = s2[['red', 'green', 'blue']].isel(time=8).compute().to_array()\n",
    "image_array.plot.imshow(robust=True, ax=axes[0]);\n",
    "image_array_s1vv = s1_RGB[['Red_date_VV', 'Green_date_VV', 'Blue_date_VV']].to_array()\n",
    "image_array_s1vv.plot.imshow(robust=True, vmin=0, vmax=0.25, ax=axes[1], add_labels=False);\n",
    "\n",
    "plt.tight_layout()\n",
    "plt.draw()"
   ]
  },
  {
   "cell_type": "markdown",
   "metadata": {},
   "source": [
    "# View area of interest (Lake George)\n",
    ">  Currently 2019 January to September 2019 around the ACT region <br>"
   ]
  },
  {
   "cell_type": "code",
   "execution_count": null,
   "metadata": {},
   "outputs": [],
   "source": [
    "from ipyleaflet import Map, WMSLayer, LayersControl\n",
    "\n",
    "Year = '2019'\n",
    "myloc = 'ACT'\n",
    "query = {\n",
    "    \n",
    "# Lake George\n",
    "'y': (-35.15, -35.28),\n",
    "'x': (149.35, 149.48),\n",
    "\n",
    "'time': (Year + '-01-01', Year + '-10-01'),\n",
    "'crs': 'EPSG:4326',\n",
    "'output_crs': 'EPSG: 3577',\n",
    "'resolution': (20, -20)\n",
    "}\n",
    "\n",
    "m = Map(center=(-35.2, 149.4), zoom=12, layout=dict(height='600px')) # Lake George\n",
    "m"
   ]
  },
  {
   "cell_type": "markdown",
   "metadata": {},
   "source": [
    "# Read radar backscatter for area of interest, clean and smooth data"
   ]
  },
  {
   "cell_type": "code",
   "execution_count": null,
   "metadata": {},
   "outputs": [],
   "source": [
    "bs=dc.load(product='s1_intensity_scene', group_by='solar_day', **query, dask_chunks={'time': 1})\n",
    "\n",
    "# Identify images that have minimum nulls\n",
    "# Uses code from https://github.com/fangfy/dea-projects/blob/master/water_interoperability/sentinel1_load_and_classify_nci.ipynb\n",
    "\n",
    "total_px=bs.dims['x']*bs.dims['y']\n",
    "valid=bs.where(bs.vv!=0).where(bs.vh!=0).count(dim=('x','y'))\n",
    "\n",
    "good=(valid.vh/total_px)>0.5\n",
    "\n",
    "bs_good = bs.sel(time=good)\n",
    "# replace 0 with nan\n",
    "bs_clean = bs_good.where(bs_good!=0)\n",
    "\n",
    "# Adapted from https://stackoverflow.com/questions/39785970/speckle-lee-filter-in-python\n",
    "from scipy.ndimage.filters import uniform_filter\n",
    "from scipy.ndimage.measurements import variance\n",
    "\n",
    "def lee_filter(da, size):\n",
    "    img = da.values\n",
    "    img_mean = uniform_filter(img, (size, size))\n",
    "    img_sqr_mean = uniform_filter(img**2, (size, size))\n",
    "    img_variance = img_sqr_mean - img_mean**2\n",
    "\n",
    "    overall_variance = variance(img)\n",
    "\n",
    "    img_weights = img_variance / (img_variance + overall_variance)\n",
    "    img_output = img_mean + img_weights * (img - img_mean)\n",
    "    return img_output\n",
    "\n",
    "# save the nodata mask\n",
    "nodata_mask = bs_clean.isnull().to_array().any(axis=0)\n",
    "# Convert backscatter nans to 0 for lee filter\n",
    "bs_good_zerofilled = bs_good.where(~bs_good.isnull(), 0).compute()\n",
    "\n",
    "# Apply speckle filter\n",
    "smoothed_vv=bs_good_zerofilled.vv.groupby('time').apply(lee_filter, size=7)\n",
    "smoothed_vh=bs_good_zerofilled.vh.groupby('time').apply(lee_filter, size=7)\n",
    "\n",
    "# Create smoothed dataset with Nans and assign attributes\n",
    "smoothed=smoothed_vv.to_dataset(name='vv')\n",
    "smoothed['vh']=smoothed_vh\n",
    "smoothed=smoothed.where(~nodata_mask)\n",
    "\n",
    "# Remove unused data\n",
    "bs_attrs = bs.attrs\n",
    "smoothed = smoothed.assign_attrs(bs_attrs)\n",
    "\n",
    "del bs, bs_good, bs_clean\n",
    "print('Backscatter data for ', myloc,': ',smoothed)"
   ]
  },
  {
   "cell_type": "markdown",
   "metadata": {},
   "source": [
    "## View smoothed images (VV or VH)\n",
    "\n",
    "The VV & VH images show the radar backscattered from the imaged area when: transmitted in the vertical direction and received in the vertical direction (VV); or transmitted in the vertical direction and received in the horizontal direction (VH).\n",
    "\n",
    "Built up areas appear as bright in all images due to strong double-bounce scattering. Surface water appears as dark due to specular scattering. Forested areas have a medium backscatter intensity due to a combination of double-bounce scattering from the ground and tree trunk, and volume scattering within the canopy. Open pastures have a low-medium backscatter intensity depending on the level of vegetation biomass and soil moisture.\n",
    "\n",
    "VV is better at discriminating build-up areas from forest/pasture areas. VH is better related to vegetation biomass.\n"
   ]
  },
  {
   "cell_type": "code",
   "execution_count": null,
   "metadata": {},
   "outputs": [],
   "source": [
    "# View VV and VH scenes\n",
    "ntimes=len(smoothed.time.values)\n",
    "viz = smoothed.compute()\n",
    "viz.vv.isel(time=slice(0,ntimes,4)).plot(col='time',col_wrap=6, vmin=0, vmax=0.18, figsize=(20,3.5));\n",
    "viz.vh.isel(time=slice(0,ntimes,4)).plot(col='time',col_wrap=6, vmin=0, vmax=0.05, figsize=(20,3.5));"
   ]
  },
  {
   "cell_type": "markdown",
   "metadata": {},
   "source": [
    "# Load Sentinel-2 for the same area and show (mostly) cloud-free image"
   ]
  },
  {
   "cell_type": "code",
   "execution_count": null,
   "metadata": {},
   "outputs": [],
   "source": [
    "dc_S2 = datacube.Datacube(app='s2a_scene')\n",
    "bands_of_interest = ['B04_20m', 'B03_20m', 'B02_20m', 'B8A_20m','SCL_20m']\n",
    "s2_data = dc_S2.load(product = 's2_l2a_scene', group_by='solar_day', measurements = bands_of_interest, **query, dask_chunks={'time': 1})\n",
    "#s2_data = ds.load() # Force in memory load\n",
    "#del ds\n",
    "\n",
    "s2 = s2_data.rename({'B04_20m': 'red',\n",
    "                     'B03_20m': 'green',\n",
    "                     'B02_20m': 'blue',\n",
    "                     'B8A_20m': 'nir',\n",
    "                     'SCL_20m': 'SCL'})\n",
    "del s2_data\n",
    "\n",
    "# Identify images that have minimum nulls and remove them\n",
    "# Uses code from https://github.com/fangfy/dea-projects/blob/master/water_interoperability/sentinel1_load_and_classify_nci.ipynb\n",
    "# [mask for clouds [0=no data, 1=saturated, 2=dark pixels, 3=cloud shadow, 4=veg, 5=soil, \n",
    "# 6=water, 7, 8, 9=clouds (low/med/high prob), 10=cirrus, 11= snow]]\n",
    "\n",
    "total_px=s2.dims['x']*s2.dims['y']\n",
    "valid=s2.where(s2.red!=0).where(s2.SCL<=7).where(s2.SCL>=2).where(s2.SCL!=3).count(dim=('x','y'))\n",
    "\n",
    "good=(valid.red/total_px)>0.5\n",
    "\n",
    "s2_good = s2.sel(time=good)\n",
    "del s2\n",
    "\n",
    "# replace 0 with nan\n",
    "s2_good_clean = s2_good.where(s2_good!=0)\n",
    "del s2_good\n",
    "\n",
    "from datacube.storage import masking\n",
    "\n",
    "# Set all nodata pixels to `NaN`:\n",
    "s2_good_clean = masking.mask_invalid_data(s2_good_clean)\n",
    "s2_good_clean = s2_good_clean.where((s2_good_clean >= 0) & (s2_good_clean<=4000))\n",
    "\n",
    "s2_good_clean\n",
    "s2 = s2_good_clean\n",
    "#s2.persist()\n",
    "del s2_good_clean\n",
    "print('Sentinel-2 data for ', myloc,': ',s2)"
   ]
  },
  {
   "cell_type": "markdown",
   "metadata": {},
   "source": [
    "## Sentinel-2 RGB (left) and multi-date Sentinel-1 image for VH (right)\n",
    "\n",
    "RGB = March, June, September\n",
    "\n",
    "Built-up areas show as bright white. Agricultural/irrigated fields show in different colours depending on time of year. Forest shows as grey/white."
   ]
  },
  {
   "cell_type": "code",
   "execution_count": null,
   "metadata": {},
   "outputs": [],
   "source": [
    "fix, axes = plt.subplots(ncols=2, figsize=(20,9))\n",
    "\n",
    "# View S2 RGB and S1 across multiple dates\n",
    "Red_date_VH, Green_date_VH, Blue_date_VH = smoothed.vh.isel(time=19), smoothed.vh.isel(time=10), smoothed.vh.isel(time=3)\n",
    "s1_RGB=Red_date_VH.to_dataset(name='Red_date_VH')\n",
    "s1_RGB['Green_date_VH'], s1_RGB['Blue_date_VH'] = Green_date_VH, Blue_date_VH\n",
    "s1_RGB = s1_RGB.assign_attrs(bs_attrs)\n",
    "#s1_RGB = s1_RGB.load()\n",
    "\n",
    "image_array = s2[['red', 'green', 'blue']].isel(time=8).compute().to_array()\n",
    "image_array.plot.imshow(robust=True, ax=axes[0]);\n",
    "image_array_s1vh = s1_RGB[['Red_date_VH', 'Green_date_VH', 'Blue_date_VH']].to_array()\n",
    "image_array_s1vh.plot.imshow(robust=True, vmin=0, vmax=0.04, ax=axes[1], add_labels=False);\n",
    "\n",
    "plt.tight_layout()\n",
    "plt.draw()"
   ]
  },
  {
   "cell_type": "markdown",
   "metadata": {},
   "source": [
    "## Calculate and view modified dual-pol Radar Vegetation Index images\n",
    "\n",
    "The Radar Vegetation Index (RVI) can be used to look at change in vegetation biomass through time. It is an index based on the VV and VH bands, so is less affected by multi-temporal variation in soil moisture compared to the intensity bands. In this case, the C-band wavelength of Sentinel-1 can show changes in the biomass of grasslands rather than forests.\n"
   ]
  },
  {
   "cell_type": "code",
   "execution_count": null,
   "metadata": {},
   "outputs": [],
   "source": [
    "# View RVI data\n",
    "\n",
    "smoothed['RVI'] = 4*smoothed.vh/(smoothed.vv + smoothed.vh)\n",
    "\n",
    "ntimes=len(smoothed.time.values)\n",
    "viz = smoothed.RVI.compute()\n",
    "viz.isel(time=slice(0,ntimes,4)).plot(col='time',col_wrap=6, vmin=0.2, vmax=1.5, figsize=(20,3.5));"
   ]
  },
  {
   "cell_type": "markdown",
   "metadata": {},
   "source": [
    "# Read in dual-pol decomposition data\n",
    "\n",
    "Dual-polarimetric decomposition helps to describe the scattering behaviour of the radar wave as it interacts with the features in the landscape. The Entropy and Alpha bands can help discriminate forest from non-forest and highlight complex scattering behaviour in urban environments. The Entropy band is also related to vegetation biomass in some circumstances."
   ]
  },
  {
   "cell_type": "code",
   "execution_count": null,
   "metadata": {},
   "outputs": [],
   "source": [
    "#ds=dc.load(product='s1_decomposition_scene', group_by='solar_day', **query, dask_chunks={'time': 1})\n",
    "#dp = ds.load()\n",
    "#del ds\n",
    "dp=dc.load(product='s1_decomposition_scene', group_by='solar_day', **query, dask_chunks={'time': 1})\n",
    "\n",
    "dp = dp.where(dp.entropy!=0)\n",
    "\n",
    "# Identify images that have minimum nulls\n",
    "# Uses code from https://github.com/fangfy/dea-projects/blob/master/water_interoperability/sentinel1_load_and_classify_nci.ipynb\n",
    "\n",
    "total_px=len(dp.x)*len(dp.y)\n",
    "valid=dp.where(dp.entropy!=0).where(dp.anisotropy!=0).count(dim=('x','y'))\n",
    "\n",
    "good=(valid.entropy/total_px)>0.5\n",
    "\n",
    "dp = dp.sel(time=good)\n",
    "# replace 0 with nan\n",
    "dp = dp.where(dp!=0)\n",
    "print('Dual polarimetric decomposition data for ', myloc,': ',dp)"
   ]
  },
  {
   "cell_type": "markdown",
   "metadata": {},
   "source": [
    "## View Alpha or Entropy images"
   ]
  },
  {
   "cell_type": "code",
   "execution_count": null,
   "metadata": {},
   "outputs": [],
   "source": [
    "# View alpha and entropy bands\n",
    "ntimes=len(dp.time.values)\n",
    "viz = dp.compute()\n",
    "viz.alpha.isel(time=slice(0,ntimes,4)).plot(col='time',col_wrap=6, vmin=40, vmax=80.0, figsize=(20,3.5));\n",
    "viz.entropy.isel(time=slice(0,ntimes,4)).plot(col='time',col_wrap=6, vmin=0, vmax=1.0, figsize=(20,3.5));"
   ]
  },
  {
   "cell_type": "markdown",
   "metadata": {},
   "source": [
    "## Extract NDVI time series from Sentinel-2"
   ]
  },
  {
   "cell_type": "code",
   "execution_count": null,
   "metadata": {},
   "outputs": [],
   "source": [
    "# Create NDVI band\n",
    "s2['ndvi']=(s2.nir - s2.red)/(s2.nir + s2.red)\n",
    "\n",
    "# Remove any remaining erroneous values (where NDVI <-1.0 and NDVI > 1.0)\n",
    "#s2['ndvi'] = s2.ndvi.where(s2.ndvi > -1.0).where(s2.ndvi < 1.0)\n",
    "viz = s2['ndvi'].compute() # Force in memory copy for viz\n",
    "# View S2 NDVI time series\n",
    "ntimes=len(s2.ndvi.time.values)\n",
    "viz.plot(cmap='viridis', col='time', col_wrap=5,figsize=(15,20));"
   ]
  },
  {
   "cell_type": "markdown",
   "metadata": {},
   "source": [
    "# Look at RVI, Entropy and NDVI time series over different landcover types"
   ]
  },
  {
   "cell_type": "markdown",
   "metadata": {},
   "source": [
    "## Plots of monthly time series based on selected pixels. Different temporal trends can help distinguish different landcover types"
   ]
  },
  {
   "cell_type": "markdown",
   "metadata": {},
   "source": [
    "### Pasture within Lake George\n",
    "\n",
    "Very similar temporal trends from RVI, Entropy and NDVI"
   ]
  },
  {
   "cell_type": "code",
   "execution_count": null,
   "metadata": {},
   "outputs": [],
   "source": [
    "# plot RVI, Entropy and NDVI through time based on the x,y point selected\n",
    "\n",
    "import ipywidgets as widgets\n",
    "from ipywidgets import interact\n",
    "warnings.filterwarnings('ignore')\n",
    "\n",
    "# expand selected x,y pixel to make a square area of interest\n",
    "#pixelx, pixely = 1577500, -3955000 # Ag field north of town\n",
    "#pixelx, pixely = 1575000, -3949000 # Forest\n",
    "pixelx, pixely = 1579000, -3948000 # Lake George pasture\n",
    "#pixelx, pixely = 1577100, -3960000 # Irrigated crop\n",
    "\n",
    "xp, yp=slice(pixelx+100,pixelx-100), slice(pixely-100,pixely+100)\n",
    "\n",
    "fix, axes = plt.subplots(ncols=3, figsize=(18,5))\n",
    "\n",
    "(smoothed.sel(x=xp,y=yp).RVI.groupby('time.month').mean()).plot(color='r', ax=axes[0]);\n",
    "(dp.sel(x=xp,y=yp).entropy.groupby('time.month').mean()).plot(color='b', ax=axes[1]);\n",
    "(s2.sel(x=xp,y=yp).ndvi.groupby('time.month').mean()).plot(color='g', ax=axes[2]);\n",
    "\n",
    "plt.tight_layout()\n",
    "plt.draw()"
   ]
  },
  {
   "cell_type": "markdown",
   "metadata": {},
   "source": [
    "### Irrigated crop\n",
    "\n",
    "Different temporal trend between RVI, Entropy and NDVI"
   ]
  },
  {
   "cell_type": "code",
   "execution_count": null,
   "metadata": {},
   "outputs": [],
   "source": [
    "# plot RVI, Entropy and NDVI through time based on the x,y point selected\n",
    "\n",
    "import ipywidgets as widgets\n",
    "from ipywidgets import interact\n",
    "warnings.filterwarnings('ignore')\n",
    "\n",
    "# expand selected x,y pixel to make a square area of interest\n",
    "pixelx, pixely = 1577100, -3960000 # Irrigated crop\n",
    "\n",
    "xp, yp=slice(pixelx+100,pixelx-100), slice(pixely-100,pixely+100)\n",
    "\n",
    "fix, axes = plt.subplots(ncols=3, figsize=(18,5))\n",
    "\n",
    "(smoothed.sel(x=xp,y=yp).RVI.groupby('time.month').mean()).plot(color='r', ax=axes[0]);\n",
    "(dp.sel(x=xp,y=yp).entropy.groupby('time.month').mean()).plot(color='b', ax=axes[1]);\n",
    "(s2.sel(x=xp,y=yp).ndvi.groupby('time.month').mean()).plot(color='g', ax=axes[2]);\n",
    "\n",
    "plt.tight_layout()\n",
    "plt.draw()"
   ]
  },
  {
   "cell_type": "markdown",
   "metadata": {},
   "source": [
    "## Forest\n",
    "\n",
    "Different temporal trends between RVI, Entropy and NDVI (although remnant cloud shadow reduces the NDVI for July)"
   ]
  },
  {
   "cell_type": "code",
   "execution_count": null,
   "metadata": {},
   "outputs": [],
   "source": [
    "# plot RVI, Entropy and NDVI through time based on the x,y point selected\n",
    "\n",
    "import ipywidgets as widgets\n",
    "from ipywidgets import interact\n",
    "warnings.filterwarnings('ignore')\n",
    "\n",
    "# expand selected x,y pixel to make a square area of interest\n",
    "pixelx, pixely = 1575000, -3949000 # Forest\n",
    "\n",
    "xp, yp=slice(pixelx+100,pixelx-100), slice(pixely-100,pixely+100)\n",
    "\n",
    "fix, axes = plt.subplots(ncols=3, figsize=(18,5))\n",
    "\n",
    "(smoothed.sel(x=xp,y=yp).RVI.groupby('time.month').mean()).plot(color='r', ax=axes[0]);\n",
    "(dp.sel(x=xp,y=yp).entropy.groupby('time.month').mean()).plot(color='b', ax=axes[1]);\n",
    "(s2.sel(x=xp,y=yp).ndvi.groupby('time.month').mean()).plot(color='g', ax=axes[2]);\n",
    "\n",
    "plt.tight_layout()\n",
    "plt.draw()"
   ]
  },
  {
   "cell_type": "markdown",
   "metadata": {},
   "source": [
    "# Show dynamics Statistics\n",
    "## Maximum multi-temporal difference in RVI, Entropy and NDVI\n",
    "\n",
    "The pasture along the eastern side of Lake George showed greatest variation in RVI and Entropy. Forested areas varied little with Entropy. "
   ]
  },
  {
   "cell_type": "code",
   "execution_count": null,
   "metadata": {},
   "outputs": [],
   "source": [
    "# Calculate annual range (max minus min) for radar backscatter RVI, dul-pol decomposition Entropy, and NDVI\n",
    "from matplotlib import pyplot as plt\n",
    "#pylab.rcParams['font.size']=7\n",
    "\n",
    "smoothed['RVI_range'] = smoothed.RVI.max(dim='time') - smoothed.RVI.min(dim='time')\n",
    "dp['entropy_range'] = dp.entropy.max(dim='time') - dp.entropy.min(dim='time')\n",
    "s2['ndvi_range'] = s2.ndvi.max(dim='time') - s2.ndvi.min(dim='time')\n",
    "\n",
    "fix, axes = plt.subplots(ncols=3, figsize=(15,4))\n",
    "\n",
    "smoothed.RVI_range.plot(vmin=0.2,vmax=1.2, ax=axes[0]);\n",
    "dp.entropy_range.plot(vmin=0.1,vmax=0.5, ax=axes[1]);\n",
    "s2.ndvi_range.plot(vmin=0.0,vmax=1.0, ax=axes[2]);\n",
    "plt.tight_layout()\n",
    "plt.draw()"
   ]
  },
  {
   "cell_type": "markdown",
   "metadata": {},
   "source": [
    "## Annual (nearly) RVI, Entropy and NDVI mean, min, max and std"
   ]
  },
  {
   "cell_type": "code",
   "execution_count": null,
   "metadata": {},
   "outputs": [],
   "source": [
    "# Submit the tasks using Dask futures - will run in parallel if they run for any appreciable amount of time.\n",
    "smoothed_RVI_mean = client.submit(smoothed.RVI.mean, dim='time')\n",
    "smoothed_RVI_min = client.submit(smoothed.RVI.min, dim='time')\n",
    "smoothed_RVI_max = client.submit(smoothed.RVI.max, dim='time')\n",
    "smoothed_RVI_std = client.submit(smoothed.RVI.std, dim='time')\n",
    "dp_entropy_mean = client.submit(dp.entropy.mean, dim='time')\n",
    "dp_entropy_min = client.submit(dp.entropy.min, dim='time')\n",
    "dp_entropy_max = client.submit(dp.entropy.max, dim='time')\n",
    "dp_entropy_std = client.submit(dp.entropy.std, dim='time')\n",
    "s2_ndvi_mean = client.submit(s2.ndvi.mean, dim='time')\n",
    "s2_ndvi_min = client.submit(s2.ndvi.min, dim='time')\n",
    "s2_ndvi_max = client.submit(s2.ndvi.max, dim='time')\n",
    "s2_ndvi_std = client.submit(s2.ndvi.std, dim='time')\n",
    "\n"
   ]
  },
  {
   "cell_type": "code",
   "execution_count": null,
   "metadata": {},
   "outputs": [],
   "source": [
    "# Show RVI, Entropy and NDVI mean, min, max and stand deviation for current year\n",
    "\n",
    "fig, axes = plt.subplots(ncols=4, nrows=3, figsize=(15,8))\n",
    "\n",
    "smoothed_RVI_mean.result().plot(vmin=0.0,vmax=1.0, ax=axes[0,0]);\n",
    "smoothed_RVI_min.result().plot(vmin=0.0,vmax=1.0, ax=axes[0,1]);\n",
    "smoothed_RVI_max.result().plot(vmin=0.0,vmax=2.0, ax=axes[0,2]);\n",
    "smoothed_RVI_std.result().plot(vmin=0.0,vmax=0.3, ax=axes[0,3]);\n",
    "dp_entropy_mean.result().plot(vmin=0.2,vmax=0.9, ax=axes[1,0]);\n",
    "dp_entropy_min.result().plot(vmin=0.0,vmax=0.8, ax=axes[1,1]);\n",
    "dp_entropy_max.result().plot(vmin=0.2,vmax=1.0, ax=axes[1,2]);\n",
    "dp_entropy_std.result().plot(vmin=0.05,vmax=0.15, ax=axes[1,3]);\n",
    "s2_ndvi_mean.result().plot(vmin=0.1,vmax=0.6, ax=axes[2,0]);\n",
    "s2_ndvi_min.result().plot(vmin=0.0,vmax=0.5, ax=axes[2,1]);\n",
    "s2_ndvi_max.result().plot(vmin=0.0,vmax=1.0, ax=axes[2,2]);\n",
    "s2_ndvi_std.result().plot(vmin=0.0,vmax=0.2, ax=axes[2,3]);\n",
    "\n",
    "axes[0,0].set_title('Mean')\n",
    "axes[0,1].set_title('Min')\n",
    "axes[0,2].set_title('Max')\n",
    "axes[0,3].set_title('Std')\n",
    "plt.tight_layout()\n",
    "plt.draw()"
   ]
  },
  {
   "cell_type": "code",
   "execution_count": null,
   "metadata": {},
   "outputs": [],
   "source": [
    "client.close()\n",
    "client = None\n",
    "cluster.close()\n",
    "cluster = None"
   ]
  },
  {
   "cell_type": "code",
   "execution_count": null,
   "metadata": {},
   "outputs": [],
   "source": []
  }
 ],
 "metadata": {
  "kernelspec": {
   "display_name": "Python 3",
   "language": "python",
   "name": "python3"
  },
  "language_info": {
   "codemirror_mode": {
    "name": "ipython",
    "version": 3
   },
   "file_extension": ".py",
   "mimetype": "text/x-python",
   "name": "python",
   "nbconvert_exporter": "python",
   "pygments_lexer": "ipython3",
   "version": "3.6.8"
  }
 },
 "nbformat": 4,
 "nbformat_minor": 4
}
