{
 "cells": [
  {
   "cell_type": "markdown",
   "metadata": {},
   "source": [
    "# SWAMpy Datacube - Great Barrier Reef Example\n",
    "\n",
    "This example demonstrates how to use SWAMpy with the Datacube through the use of an iPython Notebook.  Key steps to the workflow are:\n",
    "\n",
    "1. Query Datacube\n",
    "2. Visualize search results to identify scenes to process\n",
    "3. Load onfiguration files and model paramaters to be used in SWAMpy calculation\n",
    "4. Run SWAMpy algorithm on selected datasets\n",
    "5. Visulize results results through time and across parameters\n",
    "6. Time series analysis\n",
    "\n",
    "SWAMpy can be a **CPU intensive operation** (e.g. 350x350 takes ~20 minutes with 8 CPUS) therefore keep this in mind when defining and area to process"
   ]
  },
  {
   "cell_type": "markdown",
   "metadata": {},
   "source": [
    "## Step A - Once off setup of SWAMpy code base and example configuration files\n",
    "If you have previously run these cells on your host then there is no need to perform these steps again.<br>\n",
    "**Note: Requires a kernel restart (from the menu Kernel>Restart) for the newly installed modules to be recognized**"
   ]
  },
  {
   "cell_type": "code",
   "execution_count": null,
   "metadata": {},
   "outputs": [],
   "source": [
    "!export PIP_IGNORE_INSTALLED=0; pip3 install --user swampy-spatial-datacube"
   ]
  },
  {
   "cell_type": "code",
   "execution_count": null,
   "metadata": {},
   "outputs": [],
   "source": [
    "!git clone https://bitbucket.csiro.au/scm/datacube/swampy-data-cfg-tiles.git"
   ]
  },
  {
   "cell_type": "markdown",
   "metadata": {},
   "source": [
    "__Now restart kernel (from the menu Kernel>Restart) for newly load modules to be recodgnized__ "
   ]
  },
  {
   "cell_type": "markdown",
   "metadata": {},
   "source": [
    "## Step 0 - Display Options"
   ]
  },
  {
   "cell_type": "code",
   "execution_count": null,
   "metadata": {},
   "outputs": [],
   "source": [
    "import warnings\n",
    "warnings.filterwarnings('ignore')"
   ]
  },
  {
   "cell_type": "code",
   "execution_count": null,
   "metadata": {},
   "outputs": [],
   "source": [
    "%%javascript\n",
    "IPython.OutputArea.auto_scroll_threshold = 9999"
   ]
  },
  {
   "cell_type": "code",
   "execution_count": null,
   "metadata": {},
   "outputs": [],
   "source": [
    "%%javascript\n",
    "IPython.OutputArea.prototype._should_scroll = function(lines) {\n",
    "    return false;\n",
    "}"
   ]
  },
  {
   "cell_type": "code",
   "execution_count": null,
   "metadata": {},
   "outputs": [],
   "source": [
    "from IPython.display import HTML\n",
    "\n",
    "HTML('''<script>\n",
    "code_show=true; \n",
    "function code_toggle() {\n",
    " if (code_show){\n",
    " $('div.input').hide();\n",
    " } else {\n",
    " $('div.input').show();\n",
    " }\n",
    " code_show = !code_show\n",
    "} \n",
    "$( document ).ready(code_toggle);\n",
    "</script>\n",
    "<form action=\"javascript:code_toggle()\"><input type=\"submit\" value=\"Click here to toggle on/off the raw code.\"></form>''')"
   ]
  },
  {
   "cell_type": "markdown",
   "metadata": {},
   "source": [
    "## Step 1 - Setup input/output directories"
   ]
  },
  {
   "cell_type": "markdown",
   "metadata": {},
   "source": [
    "If swampy-data-cfg-tile installed to directory other than /home/jovyan/sample-notebooks then datadir will need to be updated.\n",
    "Additionally the pointer in the config files for the sensor and siops databases will need to be updated."
   ]
  },
  {
   "cell_type": "code",
   "execution_count": null,
   "metadata": {},
   "outputs": [],
   "source": [
    "import os\n",
    "datadir = '/home/jovyan/sample-notebooks/swampy-data-cfg-tiles'\n",
    "idir = datadir + '/cfg/gbr/'\n",
    "odir = datadir + '/results/gbr/'\n",
    "os.makedirs(odir, exist_ok=True)"
   ]
  },
  {
   "cell_type": "markdown",
   "metadata": {},
   "source": [
    "## Step 2 - List products in Datacube"
   ]
  },
  {
   "cell_type": "code",
   "execution_count": null,
   "metadata": {},
   "outputs": [],
   "source": [
    "import datacube\n",
    "\n",
    "dc = datacube.Datacube()\n",
    "print(dc.list_products())"
   ]
  },
  {
   "cell_type": "code",
   "execution_count": null,
   "metadata": {},
   "outputs": [],
   "source": [
    "df = dc.list_measurements(with_pandas=True)\n",
    "print(df)"
   ]
  },
  {
   "cell_type": "markdown",
   "metadata": {
    "extensions": {
     "jupyter_dashboards": {
      "version": 1,
      "views": {
       "grid_default": {
        "col": 0,
        "height": 4,
        "hidden": false,
        "row": 0,
        "width": 4
       },
       "report_default": {
        "hidden": false
       }
      }
     }
    }
   },
   "source": [
    "## Step 3 - Query Datacube"
   ]
  },
  {
   "cell_type": "code",
   "execution_count": null,
   "metadata": {
    "extensions": {
     "jupyter_dashboards": {
      "version": 1,
      "views": {
       "grid_default": {
        "hidden": true
       },
       "report_default": {
        "hidden": true
       }
      }
     }
    }
   },
   "outputs": [],
   "source": [
    "# first region is smaller about 220x200 pixels, second roi is around ~350x300 pixels\n",
    "# first region takes ~10 minutes single date using the NCI VDI (8 cores)\n",
    "lat = [(-18.940833,-18.986388), (-18.8333,-18.96472)]\n",
    "lon = [(147.6825,147.72472), (147.68916, 147.81167)]\n",
    "\n",
    "roi_idx = 0\n",
    "\n",
    "query = {\n",
    "    'product': 'ls8_usgs_sr_albers',\n",
    "    'time': ('2000-01-01', '2016-11-02'),\n",
    "    'lat': lat[roi_idx],  \n",
    "    'lon': lon[roi_idx],\n",
    "    'group_by': 'solar_day'\n",
    "}\n",
    "\n",
    "refl_xr = dc.load(measurements=['blue','green','red','nir'], **query, use_threads=True )\n",
    "pqa = dc.load(measurements=['pixel_qa'], **query,  use_threads=True)\n",
    "print(refl_xr.dims)"
   ]
  },
  {
   "cell_type": "markdown",
   "metadata": {},
   "source": [
    "## Step 4 - List the available dates"
   ]
  },
  {
   "cell_type": "code",
   "execution_count": null,
   "metadata": {
    "extensions": {
     "jupyter_dashboards": {
      "version": 1,
      "views": {
       "grid_default": {
        "col": 4,
        "height": 18,
        "hidden": false,
        "row": 0,
        "width": 4
       },
       "report_default": {
        "hidden": false
       }
      }
     }
    }
   },
   "outputs": [],
   "source": [
    "print ('%i dates of imagery found over the search area' % len(refl_xr.coords['time']))\n",
    "print ('Dates of imagery are: ', refl_xr.coords['time'] )"
   ]
  },
  {
   "cell_type": "markdown",
   "metadata": {
    "extensions": {
     "jupyter_dashboards": {
      "version": 1,
      "views": {
       "grid_default": {
        "col": 8,
        "height": 4,
        "hidden": false,
        "row": 0,
        "width": 4
       },
       "report_default": {
        "hidden": false
       }
      }
     }
    }
   },
   "source": [
    "## Step 5 - Visualize the datasets returned in search results"
   ]
  },
  {
   "cell_type": "code",
   "execution_count": null,
   "metadata": {
    "extensions": {
     "jupyter_dashboards": {
      "version": 1,
      "views": {
       "grid_default": {
        "col": 0,
        "height": 11,
        "hidden": false,
        "row": 4,
        "width": 4
       },
       "report_default": {
        "hidden": false
       }
      }
     }
    }
   },
   "outputs": [],
   "source": [
    "%matplotlib inline\n",
    "from swampy_spatial_datacube.swampy_datacube_plotting import do_plot\n",
    "\n",
    "nimage = 3   # change to the number of images returned\n",
    "img_idx_list = list(range(len(refl_xr.time)))\n",
    "img_groups = [ img_idx_list[i:i+nimage] for i in range(0, len(refl_xr.time), nimage) ]\n",
    "for igp in img_groups:\n",
    "    do_plot(refl_xr.isel(time=igp),ncols=nimage, fsize=(10,5), dpi=80)"
   ]
  },
  {
   "cell_type": "markdown",
   "metadata": {
    "extensions": {
     "jupyter_dashboards": {
      "version": 1,
      "views": {
       "grid_default": {
        "col": 8,
        "height": 4,
        "hidden": false,
        "row": 4,
        "width": 4
       },
       "report_default": {
        "hidden": false
       }
      }
     }
    }
   },
   "source": [
    "## Step 6 - Load configuration files and model parameters used for SWAMpy calculation\n",
    "**Remember to modify configuration files so that they point to local installation "
   ]
  },
  {
   "cell_type": "code",
   "execution_count": null,
   "metadata": {
    "extensions": {
     "jupyter_dashboards": {
      "version": 1,
      "views": {
       "grid_default": {
        "hidden": true
       },
       "report_default": {
        "hidden": true
       }
      }
     }
    }
   },
   "outputs": [],
   "source": [
    "import multiprocessing as mp\n",
    "from swampy_spatial_datacube.swampy_spatial_datacube import load_swampy_config_files\n",
    "\n",
    "input_file=idir+'inputs_options.yaml'\n",
    "output_file=idir+'output_options.yaml'\n",
    "siops_datasets=idir+'siops_datasets_sam_par.yaml'\n",
    "sensor_data=idir+'sensor.yaml'\n",
    "model_params=idir+'model_params.yaml'\n",
    "optz_params=idir+'optimization_parameters.yaml'\n",
    "\n",
    "print('Loading config files...')\n",
    "cfg = load_swampy_config_files(input_options=input_file,\n",
    "                                output_options=output_file,\n",
    "                                siops_datasets=siops_datasets,\n",
    "                                sensor_data=sensor_data,\n",
    "                                model_params=model_params,\n",
    "                                optz_params=optz_params)\n",
    "                               \n",
    "ncores = mp.cpu_count()\n",
    "cfg['input_options']['mask_module_file'] = None\n",
    "cfg['output_options']['odir'] = odir\n",
    "cfg['input_options']['mask_pq_func'] = None \n",
    "cfg['input_options']['mask_refl_func'] = None\n",
    "cfg['optz_params']['pool'] = ncores\n",
    "\n",
    "print('Loading of files complete')"
   ]
  },
  {
   "cell_type": "markdown",
   "metadata": {},
   "source": [
    "### Review model parameters for run"
   ]
  },
  {
   "cell_type": "code",
   "execution_count": null,
   "metadata": {},
   "outputs": [],
   "source": [
    "cfg['model_params']['envmeta']['q_factor'] = 4.0"
   ]
  },
  {
   "cell_type": "code",
   "execution_count": null,
   "metadata": {},
   "outputs": [],
   "source": [
    "import pprint\n",
    "pprint.pprint(cfg)"
   ]
  },
  {
   "cell_type": "markdown",
   "metadata": {
    "extensions": {
     "jupyter_dashboards": {
      "version": 1,
      "views": {
       "grid_default": {
        "col": 8,
        "height": 4,
        "hidden": false,
        "row": 8,
        "width": 4
       },
       "report_default": {
        "hidden": false
       }
      }
     }
    }
   },
   "source": [
    "## Step 7 Do SWAMpy Calculation...on selected scenes\n",
    "** Select scenes by setting the images variable.  Use index number left to right then top to bottom starting from zero.  Note SWAMpy can be \n",
    "CPU intensive select a small area to process initially (350 x 350).  Processing status is displayed in standard output."
   ]
  },
  {
   "cell_type": "code",
   "execution_count": null,
   "metadata": {
    "extensions": {
     "jupyter_dashboards": {
      "version": 1,
      "views": {
       "grid_default": {
        "hidden": true
       },
       "report_default": {
        "hidden": true
       }
      }
     }
    }
   },
   "outputs": [],
   "source": [
    "from swampy_spatial_datacube.swampy_spatial_datacube import swampy_spatial_datacube_jpnb\n",
    "# Select image to process\n",
    "print('Doing calculation')\n",
    "# select scenes here\n",
    "image_select = [0,1,2]                                            \n",
    "swampy_spatial_datacube_jpnb(refl_xr.isel(time=image_select),\n",
    "                             cfg['input_options'], \n",
    "                             cfg['output_options'],\n",
    "                             cfg['siops_datasets'], \n",
    "                             cfg['sensor_data'], \n",
    "                             cfg['model_params'],\n",
    "                             cfg['optz_params'],\n",
    "                             pq_xr=None)\n",
    "print('Finished calculation')"
   ]
  },
  {
   "cell_type": "markdown",
   "metadata": {
    "extensions": {
     "jupyter_dashboards": {
      "version": 1,
      "views": {
       "grid_default": {
        "col": 8,
        "height": 4,
        "hidden": false,
        "row": 12,
        "width": 4
       },
       "report_default": {
        "hidden": false
       }
      }
     }
    }
   },
   "source": [
    "## Step 8 - Review SWAMpy outputs for a single date"
   ]
  },
  {
   "cell_type": "code",
   "execution_count": null,
   "metadata": {
    "extensions": {
     "jupyter_dashboards": {
      "version": 1,
      "views": {
       "grid_default": {
        "hidden": true
       },
       "report_default": {
        "hidden": true
       }
      }
     }
    }
   },
   "outputs": [],
   "source": [
    "import xarray as xr\n",
    "from swampy_spatial_datacube.swampy_datacube_plotting import do_plot_swampy_single_result\n",
    "# Load results file\n",
    "# modify to reflect location of local output directory\n",
    "filename=odir+'Landsat8_GBR_2013-08-05_SWAMPYV2.nc' \n",
    "#filename=odir+'Landsat8_GBR_2013-06-18_SWAMPYV2.nc'\n",
    "dt = xr.open_dataset(filename)\n",
    "do_plot_swampy_single_result(dt.isel(time=[0]))"
   ]
  },
  {
   "cell_type": "markdown",
   "metadata": {},
   "source": [
    "## Step 9 - Load multiple output datasets"
   ]
  },
  {
   "cell_type": "code",
   "execution_count": null,
   "metadata": {},
   "outputs": [],
   "source": [
    "dt = xr.open_mfdataset(odir+'*V2.nc')\n",
    "print(dt.dims)"
   ]
  },
  {
   "cell_type": "markdown",
   "metadata": {},
   "source": [
    "## Step 10 - Plot key parameters through time\n",
    "### True colour"
   ]
  },
  {
   "cell_type": "code",
   "execution_count": null,
   "metadata": {},
   "outputs": [],
   "source": [
    "%matplotlib inline\n",
    "from  swampy_spatial_datacube.swampy_datacube_plotting import do_plot\n",
    "image_select = [0,1,2]\n",
    "\n",
    "do_plot(refl_xr.isel(time=image_select),ncols=3, fsize=(10,10), dpi=80)"
   ]
  },
  {
   "cell_type": "markdown",
   "metadata": {},
   "source": [
    "### Coloured Dissolved Organic Particulates"
   ]
  },
  {
   "cell_type": "code",
   "execution_count": null,
   "metadata": {},
   "outputs": [],
   "source": [
    "dt.cdom.plot(x='x',y='y',col='time', col_wrap=3, cmap='rainbow')"
   ]
  },
  {
   "cell_type": "markdown",
   "metadata": {},
   "source": [
    "### Non Algal Particulates"
   ]
  },
  {
   "cell_type": "code",
   "execution_count": null,
   "metadata": {},
   "outputs": [],
   "source": [
    "dt.nap.plot(x='x',y='y',col='time', col_wrap=3, cmap='rainbow')"
   ]
  },
  {
   "cell_type": "markdown",
   "metadata": {},
   "source": [
    "## Depth"
   ]
  },
  {
   "cell_type": "code",
   "execution_count": null,
   "metadata": {},
   "outputs": [],
   "source": [
    "dt.depth.plot(x='x',y='y',col='time', col_wrap=3, cmap='rainbow')"
   ]
  },
  {
   "cell_type": "markdown",
   "metadata": {},
   "source": [
    "## Chlorophyll"
   ]
  },
  {
   "cell_type": "code",
   "execution_count": null,
   "metadata": {},
   "outputs": [],
   "source": [
    "dt.chl.plot(x='x',y='y',col='time', col_wrap=3, cmap='rainbow')"
   ]
  },
  {
   "cell_type": "markdown",
   "metadata": {},
   "source": [
    "## Substrate Fraction - Sand "
   ]
  },
  {
   "cell_type": "code",
   "execution_count": null,
   "metadata": {},
   "outputs": [],
   "source": [
    "dt.sub1_frac_norm.plot(x='x',y='y',col='time', col_wrap=3, cmap='rainbow')"
   ]
  },
  {
   "cell_type": "markdown",
   "metadata": {},
   "source": [
    "## Substrate Fraction - Acropora"
   ]
  },
  {
   "cell_type": "code",
   "execution_count": null,
   "metadata": {},
   "outputs": [],
   "source": [
    "dt.sub2_frac_norm.plot(x='x',y='y',col='time', col_wrap=3, cmap='rainbow')"
   ]
  },
  {
   "cell_type": "markdown",
   "metadata": {},
   "source": [
    "## Substrate Fraction - Turf Algae "
   ]
  },
  {
   "cell_type": "code",
   "execution_count": null,
   "metadata": {},
   "outputs": [],
   "source": [
    "dt.sub3_frac_norm.plot(x='x',y='y',col='time', col_wrap=3, cmap='rainbow')"
   ]
  },
  {
   "cell_type": "markdown",
   "metadata": {
    "collapsed": true
   },
   "source": [
    "# Step 11 - Time series analysis"
   ]
  },
  {
   "cell_type": "markdown",
   "metadata": {},
   "source": [
    "## Setup output directory"
   ]
  },
  {
   "cell_type": "code",
   "execution_count": null,
   "metadata": {},
   "outputs": [],
   "source": [
    "import pprint\n",
    "#setup output directory\n",
    "odirB = odir + 'time-series/'\n",
    "#os.mkdir(odir)\n",
    "os.makedirs(odirB, exist_ok=True)\n",
    "files = list(os.listdir(path=odirB))\n",
    "files.sort()\n",
    "pprint.pprint(files)"
   ]
  },
  {
   "cell_type": "markdown",
   "metadata": {},
   "source": [
    "## Get location of interest"
   ]
  },
  {
   "cell_type": "code",
   "execution_count": null,
   "metadata": {},
   "outputs": [],
   "source": [
    "xmid = refl_xr.x[len(refl_xr.x)//2].values\n",
    "ymid = refl_xr.y[len(refl_xr.y)//2].values\n",
    "print(xmid, ymid)"
   ]
  },
  {
   "cell_type": "code",
   "execution_count": null,
   "metadata": {},
   "outputs": [],
   "source": [
    "ncores = 8"
   ]
  },
  {
   "cell_type": "markdown",
   "metadata": {},
   "source": [
    "## Get profile"
   ]
  },
  {
   "cell_type": "code",
   "execution_count": null,
   "metadata": {},
   "outputs": [],
   "source": [
    "import numpy as np\n",
    "def get_profile(refl_xr, xgeo, ygeo, buf):\n",
    "    xidx=np.argmin(abs(refl_xr.x.values - xgeo))\n",
    "    yidx=np.argmin(abs(refl_xr.y.values - ygeo))\n",
    "    ia = max(xidx-buf//2, 0)\n",
    "    xbuf = list(range(ia,ia+buf))\n",
    "    ia = max(yidx-buf//2, 0)\n",
    "    ybuf = list(range(ia,ia+buf))\n",
    "    \n",
    "    return refl_xr.isel(x=xbuf,y=ybuf).copy(), xbuf, ybuf"
   ]
  },
  {
   "cell_type": "code",
   "execution_count": null,
   "metadata": {},
   "outputs": [],
   "source": [
    "prefl_xr, xbuf, ybuf = get_profile(refl_xr, xmid, ymid, ncores) \n",
    "ppqa_xr = pqa.isel(x=xbuf,y=ybuf).copy()\n"
   ]
  },
  {
   "cell_type": "markdown",
   "metadata": {},
   "source": [
    "## Setup Cloud Masking"
   ]
  },
  {
   "cell_type": "code",
   "execution_count": null,
   "metadata": {},
   "outputs": [],
   "source": [
    "from datacube.storage import masking\n",
    "import pandas\n",
    "#pandas.DataFrame.from_dict(masking.get_flags_def(pq))#, orient='index')\n",
    "import pprint\n",
    "\n",
    "pprint.pprint(masking.get_flags_def(pqa))"
   ]
  },
  {
   "cell_type": "code",
   "execution_count": null,
   "metadata": {},
   "outputs": [],
   "source": [
    "def mask_cloud(pq):\n",
    "    # b0 - fill, b3 - cloud shadow, b5 - cloud\n",
    "    good_data = (pq & 41) == 0    \n",
    "    return good_data.pixel_qa.values"
   ]
  },
  {
   "cell_type": "code",
   "execution_count": null,
   "metadata": {},
   "outputs": [],
   "source": [
    "del(refl_xr)\n",
    "del(pqa)"
   ]
  },
  {
   "cell_type": "markdown",
   "metadata": {},
   "source": [
    "## Run SWAMpy on profile data"
   ]
  },
  {
   "cell_type": "code",
   "execution_count": null,
   "metadata": {},
   "outputs": [],
   "source": [
    "from swampy_spatial_datacube.swampy_spatial_datacube import swampy_spatial_datacube_jpnb\n",
    "\n",
    "# change run options\n",
    "cfg['output_options']['odir'] = odirB\n",
    "cfg['model_params']['free_params']['p_min']['chl'] = 0.0099\n",
    "\n",
    "# setup cloud masking\n",
    "cfg['input_options']['mask_pq_func'] = mask_cloud\n",
    "#cfg['input_options']['mask_refl_func'] = func2\n",
    "\n",
    "print('Doing calculation')\n",
    "# select scenes here                                           \n",
    "swampy_spatial_datacube_jpnb(prefl_xr,\n",
    "                             cfg['input_options'], \n",
    "                             cfg['output_options'],\n",
    "                             cfg['siops_datasets'], \n",
    "                             cfg['sensor_data'], \n",
    "                             cfg['model_params'],\n",
    "                             cfg['optz_params'],\n",
    "                             pq_xr=ppqa_xr)\n",
    "print('Finished calculation')\n"
   ]
  },
  {
   "cell_type": "markdown",
   "metadata": {},
   "source": [
    "## Load output datasets"
   ]
  },
  {
   "cell_type": "code",
   "execution_count": null,
   "metadata": {},
   "outputs": [],
   "source": [
    "import xarray as xr\n",
    "\n",
    "dt = xr.open_mfdataset(odirB+'*V2.nc')\n",
    "print(dt.dims)"
   ]
  },
  {
   "cell_type": "markdown",
   "metadata": {},
   "source": [
    "## Visualize results"
   ]
  },
  {
   "cell_type": "code",
   "execution_count": null,
   "metadata": {},
   "outputs": [],
   "source": [
    "dt.cdom.plot(x='x',y='y',col='time', col_wrap=3, cmap='rainbow')"
   ]
  },
  {
   "cell_type": "code",
   "execution_count": null,
   "metadata": {},
   "outputs": [],
   "source": [
    "dt.cdom.isel(x=0,y=0).plot(aspect=2, size=5)"
   ]
  },
  {
   "cell_type": "code",
   "execution_count": null,
   "metadata": {},
   "outputs": [],
   "source": [
    "dt.depth.isel(x=0,y=0).plot(aspect=2, size=5)"
   ]
  },
  {
   "cell_type": "code",
   "execution_count": null,
   "metadata": {},
   "outputs": [],
   "source": [
    "dt.nap.isel(x=0,y=0).plot(aspect=2, size=5)"
   ]
  },
  {
   "cell_type": "code",
   "execution_count": null,
   "metadata": {},
   "outputs": [],
   "source": [
    "dt.chl.isel(x=0,y=0).plot(aspect=2, size=5)"
   ]
  },
  {
   "cell_type": "code",
   "execution_count": null,
   "metadata": {},
   "outputs": [],
   "source": []
  }
 ],
 "metadata": {
  "extensions": {
   "jupyter_dashboards": {
    "activeView": "report_default",
    "version": 1,
    "views": {
     "grid_default": {
      "cellMargin": 10,
      "defaultCellHeight": 20,
      "maxColumns": 12,
      "name": "grid",
      "type": "grid"
     },
     "report_default": {
      "name": "report",
      "type": "report"
     }
    }
   }
  },
  "kernelspec": {
   "display_name": "Python 3",
   "language": "python",
   "name": "python3"
  },
  "language_info": {
   "codemirror_mode": {
    "name": "ipython",
    "version": 3
   },
   "file_extension": ".py",
   "mimetype": "text/x-python",
   "name": "python",
   "nbconvert_exporter": "python",
   "pygments_lexer": "ipython3",
   "version": "3.6.5"
  }
 },
 "nbformat": 4,
 "nbformat_minor": 2
}
