{
 "cells": [
  {
   "cell_type": "markdown",
   "metadata": {},
   "source": [
    "# Open Datacube\n",
    "## Feature Summary Examples"
   ]
  },
  {
   "cell_type": "markdown",
   "metadata": {},
   "source": [
    "The [Open Datacube](https://www.opendatacube.org/) provides an integrated gridded data analysis environment for decades of analysis-ready earth observation satellite and related data, acquired from multiple satellites and acquisition systems.\n",
    "\n",
    "For instructions on using the Datacube on NCI, see: http://datacube-core.readthedocs.io/en/stable/user/nci_usage.html\n",
    "\n",
    "For instructions on setting up your own instance, see: http://datacube-core.readthedocs.io/en/stable/ops/install.html\n",
    "\n",
    "This notebook touches briefly on some the implemented features of the Datacube module, and is only intended to demonstrate functionality rather than be a tutorial."
   ]
  },
  {
   "cell_type": "code",
   "execution_count": null,
   "metadata": {
    "ExecuteTime": {
     "end_time": "2016-06-09T11:09:06.502514",
     "start_time": "2016-06-09T11:09:04.805211"
    }
   },
   "outputs": [],
   "source": [
    "%matplotlib inline\n",
    "import datacube"
   ]
  },
  {
   "cell_type": "markdown",
   "metadata": {},
   "source": [
    "If you have set up your config correctly, or are using the module on NCI, you should be able to make `Datacube` object that can connects to the configured datacube system."
   ]
  },
  {
   "cell_type": "code",
   "execution_count": null,
   "metadata": {
    "ExecuteTime": {
     "end_time": "2016-06-09T11:09:07.599525",
     "start_time": "2016-06-09T11:09:07.553759"
    }
   },
   "outputs": [],
   "source": [
    "dc = datacube.Datacube(app='dc-example')\n",
    "dc"
   ]
  },
  {
   "cell_type": "markdown",
   "metadata": {},
   "source": [
    "## Datacube products and measurements\n",
    "The Datacube provides pandas.DataFrame representations of the available products and measurements:"
   ]
  },
  {
   "cell_type": "code",
   "execution_count": null,
   "metadata": {
    "ExecuteTime": {
     "end_time": "2016-06-09T11:09:26.791512",
     "start_time": "2016-06-09T11:09:25.511427"
    }
   },
   "outputs": [],
   "source": [
    "dc.list_products()"
   ]
  },
  {
   "cell_type": "markdown",
   "metadata": {},
   "source": [
    "## Datacube Measurements\n",
    "The list of measurements stored in the datacube can also be listed.\n",
    "\n",
    "Measurements are also known as _bands_ in the imagery domain, and _data variables_ when stored in NetCDF files or when working with `xarray.Dataset` objects."
   ]
  },
  {
   "cell_type": "code",
   "execution_count": null,
   "metadata": {
    "ExecuteTime": {
     "end_time": "2016-06-09T11:09:31.349727",
     "start_time": "2016-06-09T11:09:29.858159"
    }
   },
   "outputs": [],
   "source": [
    "dc.list_measurements()"
   ]
  },
  {
   "cell_type": "markdown",
   "metadata": {},
   "source": [
    "## Retrieving data\n"
   ]
  },
  {
   "cell_type": "code",
   "execution_count": null,
   "metadata": {
    "ExecuteTime": {
     "end_time": "2016-06-09T11:09:49.335761",
     "start_time": "2016-06-09T11:09:32.888099"
    }
   },
   "outputs": [],
   "source": [
    "nbar = dc.load(product='ls7_usgs_sr_albers', measurements=['green'], x=(149.25, 149.35), \n",
    "               y=(-35.25, -35.35), time=('2016-01', '2016-06'), use_threads=True)"
   ]
  },
  {
   "cell_type": "markdown",
   "metadata": {},
   "source": [
    "The returned data is an `xarray.Dataset` object, which is a labelled n-dimensional array wrapping a `numpy` array.\n",
    "\n",
    "We can investigate the data to see the variables (measurement bands) and dimensions that were returned:"
   ]
  },
  {
   "cell_type": "code",
   "execution_count": null,
   "metadata": {
    "ExecuteTime": {
     "end_time": "2016-06-09T11:09:49.357399",
     "start_time": "2016-06-09T11:09:49.337132"
    }
   },
   "outputs": [],
   "source": [
    "nbar"
   ]
  },
  {
   "cell_type": "markdown",
   "metadata": {},
   "source": [
    "We can look at the data by name directly, or through the `data_vars` dictionary:"
   ]
  },
  {
   "cell_type": "code",
   "execution_count": null,
   "metadata": {},
   "outputs": [],
   "source": [
    "import numpy as np\n",
    "def mask_temporal(xd_in):\n",
    "    \n",
    "    keys = ['coastal_aerosol', 'blue', 'green', 'red', 'nir', 'swir1', 'swir2', 'pixel_qa']\n",
    "    ds_key = list(xd_in.data_vars)[0]\n",
    "    if ds_key not in keys:\n",
    "        raise RuntimeError(\"Unknown data variable \" + ds_key + \" must be one of \" + ','.join(keys))\n",
    "    null = xd_in[ds_key].attrs['nodata']\n",
    "    if (ds_key == 'pixel_qa'):\n",
    "        null = 1\n",
    "    time = [x.time.data for x in xd_in[ds_key] if np.count_nonzero(x.data != null) != 0 ]  \n",
    "        \n",
    "    return time, xd_in.sel(time=time)\n",
    "    "
   ]
  },
  {
   "cell_type": "code",
   "execution_count": null,
   "metadata": {},
   "outputs": [],
   "source": [
    "time, nbar = mask_temporal(nbar)\n",
    "print(nbar)\n",
    "print(len(time))"
   ]
  },
  {
   "cell_type": "code",
   "execution_count": null,
   "metadata": {},
   "outputs": [],
   "source": [
    "nbar.data_vars"
   ]
  },
  {
   "cell_type": "code",
   "execution_count": null,
   "metadata": {
    "ExecuteTime": {
     "end_time": "2016-06-09T11:09:49.398951",
     "start_time": "2016-06-09T11:09:49.382774"
    }
   },
   "outputs": [],
   "source": [
    "nbar.green"
   ]
  },
  {
   "cell_type": "markdown",
   "metadata": {},
   "source": [
    "## Plotting data\n",
    "We can select the data at a particular time and see what is there. We can use pandas-style labels to select a time period, inclusive of the end label:"
   ]
  },
  {
   "cell_type": "code",
   "execution_count": null,
   "metadata": {
    "ExecuteTime": {
     "end_time": "2016-06-09T11:09:49.408619",
     "start_time": "2016-06-09T11:09:49.400322"
    }
   },
   "outputs": [],
   "source": [
    "autumn = nbar.green.loc['2016-3':'2016-5']\n",
    "autumn.shape"
   ]
  },
  {
   "cell_type": "code",
   "execution_count": null,
   "metadata": {
    "ExecuteTime": {
     "end_time": "2016-06-09T11:09:53.451869",
     "start_time": "2016-06-09T11:09:49.410014"
    }
   },
   "outputs": [],
   "source": [
    "autumn.plot(col='time', col_wrap=3, vmin=0, vmax=2500)"
   ]
  },
  {
   "cell_type": "markdown",
   "metadata": {},
   "source": [
    "## Masking out NO_DATA values\n",
    "When there is no data availaible, such as on the boundaries of a scene, it is filled in with a special value.\n",
    "We can use filter it out, although xarray will convert the data from `int` to `float` so that it can use `NaN` to indicate no data.\n",
    "\n",
    "Now that bad values are no longer represented as `-9999`, the data fits on a much better colour ramp:"
   ]
  },
  {
   "cell_type": "code",
   "execution_count": null,
   "metadata": {
    "ExecuteTime": {
     "end_time": "2016-06-09T11:09:57.499273",
     "start_time": "2016-06-09T11:09:53.453218"
    }
   },
   "outputs": [],
   "source": [
    "autumn_valid = autumn.where(autumn != autumn.attrs['nodata'])\n",
    "autumn_valid.plot(col='time', col_wrap=3, vmin=0, vmax=1000)"
   ]
  },
  {
   "cell_type": "markdown",
   "metadata": {},
   "source": [
    "## Masking out cloud\n",
    "Some of the images are clearly clouds, we should remove them.  There is a product with detected clouds called **PQ** (for Pixel Quality) we can use to mask out the clouds."
   ]
  },
  {
   "cell_type": "code",
   "execution_count": null,
   "metadata": {
    "ExecuteTime": {
     "end_time": "2016-06-09T11:10:05.123746",
     "start_time": "2016-06-09T11:09:57.500816"
    }
   },
   "outputs": [],
   "source": [
    "pq = dc.load(product='ls7_usgs_sr_albers', measurements=['pixel_qa'], x=(149.25, 149.35), y=(-35.25, -35.35), \n",
    "             time=('2016-01', '2016-06'), use_threads=True)\n",
    "pq = pq.sel(time=time)\n",
    "pq_autumn = pq.pixel_qa.loc['2016-3':'2016-5']\n",
    "pq_autumn.plot(col='time', col_wrap=3, vmin=1)"
   ]
  },
  {
   "cell_type": "markdown",
   "metadata": {},
   "source": [
    "The PQ layer stores a bitmask of several values. We can list the information available:"
   ]
  },
  {
   "cell_type": "code",
   "execution_count": null,
   "metadata": {
    "ExecuteTime": {
     "end_time": "2016-06-09T11:10:05.153886",
     "start_time": "2016-06-09T11:10:05.125123"
    }
   },
   "outputs": [],
   "source": [
    "from datacube.storage import masking\n",
    "import pandas\n",
    "#pandas.DataFrame.from_dict(masking.get_flags_def(pq))#, orient='index')\n",
    "import pprint\n",
    "\n",
    "pprint.pprint(masking.get_flags_def(pq))"
   ]
  },
  {
   "cell_type": "code",
   "execution_count": null,
   "metadata": {},
   "outputs": [],
   "source": [
    "CLEAR_DATA = 2\n",
    "good_data = pq & CLEAR_DATA\n",
    "autumn_good_data = good_data.pixel_qa.loc['2016-3':'2016-5']\n",
    "autumn_good_data.plot(col='time', col_wrap=3)"
   ]
  },
  {
   "cell_type": "code",
   "execution_count": null,
   "metadata": {
    "ExecuteTime": {
     "end_time": "2016-06-09T11:10:13.133483",
     "start_time": "2016-06-09T11:10:09.051785"
    }
   },
   "outputs": [],
   "source": [
    "autumn_cloud_free = autumn_valid.where(autumn_good_data)\n",
    "autumn_cloud_free.plot(col='time', col_wrap=3, vmin=0, vmax=1000)"
   ]
  },
  {
   "cell_type": "markdown",
   "metadata": {},
   "source": [
    "## Group by time\n",
    "You may have noticed that some of the days above are repeated, with times less than a minute apart.  this is because of the overlap in LANDSAT scenes.  If we group by solar day (a rough local time based on longitude), we can combine these slices:"
   ]
  },
  {
   "cell_type": "code",
   "execution_count": null,
   "metadata": {
    "ExecuteTime": {
     "end_time": "2016-06-09T11:10:30.606176",
     "start_time": "2016-06-09T11:10:13.134835"
    }
   },
   "outputs": [],
   "source": [
    "nbar_by_solar_day = dc.load(product='ls7_usgs_sr_albers', measurements=['green'], x=(149.25, 149.35), \n",
    "               y=(-35.25, -35.35), time=('2016-01', '2016-06'), group_by='solar_day', use_threads=True)\n",
    "time, nbar_by_solar_day = mask_temporal(nbar_by_solar_day)\n",
    "len(nbar_by_solar_day.time)"
   ]
  },
  {
   "cell_type": "markdown",
   "metadata": {},
   "source": [
    "We have fewer times than we did previously."
   ]
  },
  {
   "cell_type": "code",
   "execution_count": null,
   "metadata": {
    "ExecuteTime": {
     "end_time": "2016-06-09T11:10:30.614646",
     "start_time": "2016-06-09T11:10:30.607538"
    }
   },
   "outputs": [],
   "source": [
    "autumn2 = nbar_by_solar_day.green.loc['2016-3':'2016-5']\n",
    "autumn2.shape"
   ]
  },
  {
   "cell_type": "code",
   "execution_count": null,
   "metadata": {
    "ExecuteTime": {
     "end_time": "2016-06-09T11:10:32.986705",
     "start_time": "2016-06-09T11:10:30.616050"
    }
   },
   "outputs": [],
   "source": [
    "autumn2.plot(col='time', col_wrap=3, vmin=0, vmax=1000)"
   ]
  },
  {
   "cell_type": "markdown",
   "metadata": {},
   "source": [
    "## Some basic band maths\n",
    "We can combine the `red` and `nir` (_near-infrared_) bands to calculate NDVI (_normalised difference vegetation index_)."
   ]
  },
  {
   "cell_type": "code",
   "execution_count": null,
   "metadata": {},
   "outputs": [],
   "source": [
    "nbar = 0\n",
    "two_bands = dc.load(product='ls7_usgs_sr_albers', measurements=['red', 'nir'], x=(149.07, 149.17), \n",
    "                    y=(-35.25, -35.35), time=('2016-01', '2016-06'), group_by='solar_day', use_threads=True)\n",
    "time, two_bands = mask_temporal(two_bands)"
   ]
  },
  {
   "cell_type": "code",
   "execution_count": null,
   "metadata": {},
   "outputs": [],
   "source": [
    "pq = dc.load(product='ls7_usgs_sr_albers', measurements=['pixel_qa'], x=(149.07, 149.17), \n",
    "                    y=(-35.25, -35.35), time=('2016-01', '2016-06'), group_by='solar_day', use_threads=True)\n",
    "pq = pq.sel(time=time)"
   ]
  },
  {
   "cell_type": "code",
   "execution_count": null,
   "metadata": {
    "ExecuteTime": {
     "end_time": "2016-06-09T11:10:38.585678",
     "start_time": "2016-06-09T11:10:32.988327"
    }
   },
   "outputs": [],
   "source": [
    "CLEAR_DATA = 2\n",
    "\n",
    "red = two_bands.red.where(two_bands.red != two_bands.red.attrs['nodata'])\n",
    "nir = two_bands.nir.where(two_bands.nir != two_bands.nir.attrs['nodata'])\n",
    "\n",
    "good_data = pq.pixel_qa & CLEAR_DATA\n",
    "ndvi = ((nir - red) / (nir + red)).where(good_data)"
   ]
  },
  {
   "cell_type": "code",
   "execution_count": null,
   "metadata": {
    "ExecuteTime": {
     "end_time": "2016-06-09T11:10:38.591552",
     "start_time": "2016-06-09T11:10:38.587177"
    }
   },
   "outputs": [],
   "source": [
    "print(ndvi)"
   ]
  },
  {
   "cell_type": "code",
   "execution_count": null,
   "metadata": {
    "ExecuteTime": {
     "end_time": "2016-06-09T11:10:46.470861",
     "start_time": "2016-06-09T11:10:38.593114"
    }
   },
   "outputs": [],
   "source": [
    "ndvi.plot(col='time', col_wrap=5, vmin=-0.25, vmax=0.75)"
   ]
  },
  {
   "cell_type": "code",
   "execution_count": null,
   "metadata": {
    "ExecuteTime": {
     "end_time": "2016-06-09T11:10:50.706983",
     "start_time": "2016-06-09T11:10:46.472405"
    }
   },
   "outputs": [],
   "source": [
    "mostly_cloud_free = good_data.sum(dim=('x','y')) > (0.75 * good_data.size / good_data.time.size)\n",
    "mostly_good_ndvi = ndvi.where(mostly_cloud_free).dropna('time', how='all')\n",
    "mostly_good_ndvi.plot(col='time', col_wrap=5, vmin=-0.25, vmax=0.75)"
   ]
  },
  {
   "cell_type": "markdown",
   "metadata": {},
   "source": [
    "## Some stats"
   ]
  },
  {
   "cell_type": "code",
   "execution_count": null,
   "metadata": {
    "ExecuteTime": {
     "end_time": "2016-06-09T11:10:51.414043",
     "start_time": "2016-06-09T11:10:50.708360"
    }
   },
   "outputs": [],
   "source": [
    "mostly_good_ndvi.median(dim='time').plot()"
   ]
  },
  {
   "cell_type": "code",
   "execution_count": null,
   "metadata": {
    "ExecuteTime": {
     "end_time": "2016-06-09T11:10:52.056648",
     "start_time": "2016-06-09T11:10:51.415398"
    }
   },
   "outputs": [],
   "source": [
    "mostly_good_ndvi.std(dim='time').plot(vmin=0.0, vmax=0.2)"
   ]
  },
  {
   "cell_type": "markdown",
   "metadata": {},
   "source": [
    "## Pixel drill"
   ]
  },
  {
   "cell_type": "code",
   "execution_count": null,
   "metadata": {
    "ExecuteTime": {
     "end_time": "2016-06-09T11:10:52.274380",
     "start_time": "2016-06-09T11:10:52.058037"
    }
   },
   "outputs": [],
   "source": [
    "mostly_good_ndvi.sel(y=-3955361, x=1549813, method='nearest').plot()"
   ]
  },
  {
   "cell_type": "code",
   "execution_count": null,
   "metadata": {
    "ExecuteTime": {
     "end_time": "2016-06-09T11:10:52.492767",
     "start_time": "2016-06-09T11:10:52.275732"
    }
   },
   "outputs": [],
   "source": [
    "mostly_good_ndvi.isel(x=[200], y=[200]).plot()"
   ]
  },
  {
   "cell_type": "code",
   "execution_count": null,
   "metadata": {
    "ExecuteTime": {
     "end_time": "2016-06-09T11:10:52.839143",
     "start_time": "2016-06-09T11:10:52.494095"
    }
   },
   "outputs": [],
   "source": [
    "mostly_good_ndvi.isel(y=250).plot()"
   ]
  },
  {
   "cell_type": "markdown",
   "metadata": {},
   "source": [
    "A line shapefile with pairs of coordinates (using `sel_points` instead of `isel_points`) would be able to be interpolated into something less blocky for the next plot."
   ]
  },
  {
   "cell_type": "code",
   "execution_count": null,
   "metadata": {
    "ExecuteTime": {
     "end_time": "2016-06-09T11:10:53.159556",
     "start_time": "2016-06-09T11:10:52.840495"
    }
   },
   "outputs": [],
   "source": [
    "mostly_good_ndvi.isel_points(x=[0, 100, 200, 300, 300, 400], \n",
    "                             y=[200, 200, 200, 250, 300, 400]).plot(x='points', y='time')"
   ]
  },
  {
   "cell_type": "markdown",
   "metadata": {},
   "source": [
    "## Plotting a multi-band image"
   ]
  },
  {
   "cell_type": "code",
   "execution_count": null,
   "metadata": {
    "ExecuteTime": {
     "end_time": "2016-06-09T11:10:55.454381",
     "start_time": "2016-06-09T11:10:53.160876"
    }
   },
   "outputs": [],
   "source": [
    "rgb = dc.load(product='ls7_usgs_sr_albers', \n",
    "              x=(149.07, 149.17), y=(-35.25, -35.35), \n",
    "              time=('2016-3-1', '2016-6-30'), \n",
    "              measurements=['red', 'green', 'blue'], \n",
    "              group_by='solar_day', use_threads=True).to_array(dim='color').transpose('time', 'y', 'x', 'color')"
   ]
  },
  {
   "cell_type": "code",
   "execution_count": null,
   "metadata": {
    "ExecuteTime": {
     "end_time": "2016-06-09T11:10:55.517753",
     "start_time": "2016-06-09T11:10:55.455736"
    }
   },
   "outputs": [],
   "source": [
    "fake_saturation = 3000\n",
    "clipped_visible = rgb.where(rgb<fake_saturation).fillna(fake_saturation)\n",
    "max_val = clipped_visible.max(['y', 'x'])\n",
    "scaled = (clipped_visible / max_val)"
   ]
  },
  {
   "cell_type": "code",
   "execution_count": null,
   "metadata": {
    "ExecuteTime": {
     "end_time": "2016-06-09T11:10:55.725962",
     "start_time": "2016-06-09T11:10:55.519169"
    }
   },
   "outputs": [],
   "source": [
    "from matplotlib import pyplot as plt\n",
    "plt.imshow(scaled.isel(time=0))"
   ]
  },
  {
   "cell_type": "code",
   "execution_count": null,
   "metadata": {},
   "outputs": [],
   "source": []
  }
 ],
 "metadata": {
  "kernelspec": {
   "display_name": "Python 3",
   "language": "python",
   "name": "python3"
  },
  "language_info": {
   "codemirror_mode": {
    "name": "ipython",
    "version": 3
   },
   "file_extension": ".py",
   "mimetype": "text/x-python",
   "name": "python",
   "nbconvert_exporter": "python",
   "pygments_lexer": "ipython3",
   "version": "3.6.5"
  },
  "toc": {
   "toc_cell": false,
   "toc_number_sections": false,
   "toc_threshold": 6,
   "toc_window_display": true
  },
  "widgets": {
   "state": {},
   "version": "1.1.1"
  }
 },
 "nbformat": 4,
 "nbformat_minor": 1
}
