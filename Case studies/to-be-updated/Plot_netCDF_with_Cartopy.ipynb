{
 "cells": [
  {
   "cell_type": "markdown",
   "metadata": {},
   "source": [
    "# Plot netCDF data on a map using Cartopy\n",
    "\n",
    "For a comprehensive list of matplotlib options, see\n",
    "Python Data Science Handbook by Jake VanderPlas, Chapter 4. Visualization with Matplotlib\n",
    "https://www.oreilly.com/library/view/python-data-science/9781491912126/ch04.html\n",
    "\n",
    "Cartopy examples: https://scitools.org.uk/cartopy/docs/latest/gallery/index.html  \n",
    "Projections: https://scitools.org.uk/cartopy/docs/latest/crs/projections.html#cartopy-projections"
   ]
  },
  {
   "cell_type": "markdown",
   "metadata": {},
   "source": [
    "Import netCDF4-python, Numpy, Matplotlib for plotting, and Cartopy for the map"
   ]
  },
  {
   "cell_type": "code",
   "execution_count": null,
   "metadata": {},
   "outputs": [],
   "source": [
    "%matplotlib inline\n",
    "from netCDF4 import Dataset\n",
    "import matplotlib.pyplot as plt\n",
    "import numpy as np\n",
    "import cartopy.crs as ccrs\n",
    "import cartopy.feature as cfeature"
   ]
  },
  {
   "cell_type": "markdown",
   "metadata": {},
   "source": [
    "Load in the netCDF file"
   ]
  },
  {
   "cell_type": "code",
   "execution_count": null,
   "metadata": {},
   "outputs": [],
   "source": [
    "nc = Dataset('/Users/pag064/DATACUBE-DATA/BoM-AGCD-FTP/precip/data/IDCKZRDAT0_precip_total_r005_20180101_20180101.nc')"
   ]
  },
  {
   "cell_type": "markdown",
   "metadata": {},
   "source": [
    "Read the variables from the netCDF file and assign them to Python variables"
   ]
  },
  {
   "cell_type": "code",
   "execution_count": null,
   "metadata": {},
   "outputs": [],
   "source": [
    "lat = nc.variables['lat'][:]\n",
    "lon = nc.variables['lon'][:]\n",
    "time = nc.variables['time'][:]\n",
    "v = nc.variables['precip'][:]"
   ]
  },
  {
   "cell_type": "markdown",
   "metadata": {},
   "source": [
    "Create a map centered over Australia"
   ]
  },
  {
   "cell_type": "code",
   "execution_count": null,
   "metadata": {},
   "outputs": [],
   "source": [
    "# Allows fig and ax to be used across multiple cells\n",
    "# Figure size is force-scaled by set_extent and crs\n",
    "fig, ax = plt.subplots(1, 1, figsize=(8,8), subplot_kw=dict(\n",
    "    projection=ccrs.PlateCarree(\n",
    "        central_longitude=135,\n",
    "    )\n",
    "))                \n",
    "\n",
    "# The standard, simple way\n",
    "#ax = plt.axes(projection=ccrs.PlateCarree(\n",
    "#            central_longitude=135,\n",
    "#            central_latitude=-30,\n",
    "#))\n",
    "\n",
    "ax.set_extent((110,160,-45,-5))\n",
    "ax.coastlines(resolution='110m')\n",
    "ax.gridlines()"
   ]
  },
  {
   "cell_type": "markdown",
   "metadata": {},
   "source": [
    "Add a Natural Earth background if required"
   ]
  },
  {
   "cell_type": "code",
   "execution_count": null,
   "metadata": {},
   "outputs": [],
   "source": [
    "ax.stock_img()\n",
    "fig"
   ]
  },
  {
   "cell_type": "markdown",
   "metadata": {},
   "source": [
    "Add the states, counties, coasts, national borders and a land-sea colored mask:"
   ]
  },
  {
   "cell_type": "code",
   "execution_count": null,
   "metadata": {},
   "outputs": [],
   "source": [
    "# https://scitools.org.uk/cartopy/docs/latest/matplotlib/feature_interface.html\n",
    "# Each of these will download the data if not already downloaded\n",
    "ax.add_feature(cfeature.LAND)\n",
    "ax.add_feature(cfeature.OCEAN)\n",
    "ax.add_feature(cfeature.COASTLINE)\n",
    "ax.add_feature(cfeature.BORDERS, linestyle=':')\n",
    "ax.add_feature(cfeature.LAKES.with_scale('10m'), alpha=0.5)\n",
    "ax.add_feature(cfeature.RIVERS.with_scale('10m'))\n",
    "ax.add_feature(cfeature.STATES.with_scale('10m'))\n",
    "fig"
   ]
  },
  {
   "cell_type": "markdown",
   "metadata": {},
   "source": [
    "Prepare the data for the map. Transform the lat/lon data to map coordinates.  \n",
    "Plot contoured data."
   ]
  },
  {
   "cell_type": "code",
   "execution_count": null,
   "metadata": {},
   "outputs": [],
   "source": [
    "lons, lats = np.meshgrid(lon, lat)\n",
    "clevs = np.arange(10,100,10)\n",
    "#cs = ax.contourf(lons, lats, v[0,:,:], clevs, transform=ccrs.PlateCarree())\n",
    "cs = ax.pcolormesh(lons, lats, v[0,:,:], transform=ccrs.PlateCarree())\n",
    "fig"
   ]
  },
  {
   "cell_type": "markdown",
   "metadata": {},
   "source": [
    "Add a title."
   ]
  },
  {
   "cell_type": "code",
   "execution_count": null,
   "metadata": {},
   "outputs": [],
   "source": [
    "#ax.clabel(cs, fontsize=9, inline=1) # contour labels\n",
    "ax.set_title('24 hour rainfall')\n",
    "fig"
   ]
  },
  {
   "cell_type": "code",
   "execution_count": null,
   "metadata": {},
   "outputs": [],
   "source": []
  }
 ],
 "metadata": {
  "kernelspec": {
   "display_name": "Python 3",
   "language": "python",
   "name": "python3"
  },
  "language_info": {
   "codemirror_mode": {
    "name": "ipython",
    "version": 3
   },
   "file_extension": ".py",
   "mimetype": "text/x-python",
   "name": "python",
   "nbconvert_exporter": "python",
   "pygments_lexer": "ipython3",
   "version": "3.7.0"
  }
 },
 "nbformat": 4,
 "nbformat_minor": 1
}
