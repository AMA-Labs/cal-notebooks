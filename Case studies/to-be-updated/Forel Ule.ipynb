{
 "cells": [
  {
   "cell_type": "markdown",
   "metadata": {},
   "source": [
    "# Forel Ule\n",
    "\n",
    "_Work in progress_"
   ]
  },
  {
   "cell_type": "code",
   "execution_count": null,
   "metadata": {},
   "outputs": [],
   "source": [
    "from dask.distributed import Client\n",
    "\n",
    "client = Client(\"tcp://10.0.103.154:40209\")\n",
    "client.restart()\n",
    "client"
   ]
  },
  {
   "cell_type": "code",
   "execution_count": null,
   "metadata": {},
   "outputs": [],
   "source": [
    "# Data tools\n",
    "import numpy as np\n",
    "import xarray as xr\n",
    "import pandas as pd\n",
    "from datetime import datetime\n",
    "\n",
    "# Datacube\n",
    "import datacube\n",
    "from datacube.utils import masking  # https://github.com/opendatacube/datacube-core/blob/develop/datacube/utils/masking.py\n",
    "from odc.algo import enum_to_bool   # https://github.com/opendatacube/odc-tools/blob/develop/libs/algo/odc/algo/_masking.py\n",
    "from odc.algo import xr_reproject   # https://github.com/opendatacube/odc-tools/blob/develop/libs/algo/odc/algo/_warp.py\n",
    "from datacube.utils.geometry import GeoBox, box  # https://github.com/opendatacube/datacube-core/blob/develop/datacube/utils/geometry/_base.py\n",
    "from datacube.utils.rio import configure_s3_access\n",
    "\n",
    "# Holoviews, Datashader and Bokeh\n",
    "import hvplot.pandas\n",
    "import hvplot.xarray\n",
    "import holoviews as hv\n",
    "import panel as pn\n",
    "import colorcet as cc\n",
    "import cartopy.crs as ccrs\n",
    "from datashader import reductions\n",
    "from holoviews import opts\n",
    "from holoviews.operation.datashader import rasterize\n",
    "hv.extension(\"bokeh\", logo=False)\n",
    "\n",
    "# Python\n",
    "import sys, os, re\n",
    "import scipy.spatial.distance\n",
    "import scipy.interpolate as interpolate\n",
    "from scipy.interpolate import interp1d\n",
    "import math\n",
    "\n",
    "# Optional EASI tools\n",
    "sys.path.append(os.path.expanduser('~/hub-notebooks/scripts'))\n",
    "import notebook_utils"
   ]
  },
  {
   "cell_type": "markdown",
   "metadata": {},
   "source": [
    "## Load data"
   ]
  },
  {
   "cell_type": "code",
   "execution_count": null,
   "metadata": {},
   "outputs": [],
   "source": [
    "#read in Forel Ule Index FUME file\n",
    "csv = os.path.expanduser('~/data/WQ/FUI_ATAN210.csv')\n",
    "fui = pd.read_csv(sep = \"\\t\", filepath_or_buffer=csv, names = [\"value\", \"atan\"])"
   ]
  },
  {
   "cell_type": "code",
   "execution_count": null,
   "metadata": {},
   "outputs": [],
   "source": [
    "# Connect to datacube database\n",
    "dc = datacube.Datacube()"
   ]
  },
  {
   "cell_type": "code",
   "execution_count": null,
   "metadata": {
    "ExecuteTime": {
     "end_time": "2018-03-09T04:22:05.005935Z",
     "start_time": "2018-03-09T04:22:04.974060Z"
    },
    "extensions": {
     "jupyter_dashboards": {
      "version": 1,
      "views": {
       "grid_default": {
        "hidden": true
       },
       "report_default": {}
      }
     }
    }
   },
   "outputs": [],
   "source": [
    "# Define temporal and spatial extents to pass to `dc.load` for the data extraction:\n",
    "#Lake Burley Griffin\n",
    "#query = {'lat': (-35.2803, -35.3147),\n",
    "#         'lon': (149.0627, 149.157),\n",
    "#         'time':('2018-10-15', '2018-12-31'),\n",
    "#         'crs': 'EPSG:4326'}\n",
    "#Lake Tuggeranong\n",
    "# query = {'lat': (-35.397, -35.429),\n",
    "#         'lon': (149.065, 149.085),\n",
    "#         'time':('2018-12-01', '2019-03-14'),\n",
    "#         'crs': 'EPSG:4326'}\n",
    "#Lake Hume\n",
    "#query = {'lat': (-35.947, -36.27),\n",
    "#         'lon': (147.000, 147.366),\n",
    "#         'time':('2018-12-01', '2019-03-14'),\n",
    "#         'crs': 'EPSG:4326'}\n",
    "#Melbourne Treatment Ponds\n",
    "#query = {'lat': (-37.972, -38.024),\n",
    "#        'lon': (144.558, 144.709),\n",
    "#        'time':('2018-08-01', '2019-03-14'),\n",
    "#        'crs': 'EPSG:4326'}\n",
    "#Burdekin\n",
    "# query = {'lat': (-19.21, -19.88),\n",
    "#         'lon': (147.54, 147.99),\n",
    "#         'time':('2019-02-10', '2019-06-14'),\n",
    "#         'crs': 'EPSG:4326'}\n",
    "#Leo Wetlands\n",
    "#query = {'lat': (-35.9075, -35.968),\n",
    "#         'lon': (144.9033, 145.009),\n",
    "#        'time':('2016-12-11', '2017-01-31'),\n",
    "#         'crs': 'EPSG:4326'}\n",
    "#Menindee\n",
    "#query = {'lat': (-32.2305, -32.3179),\n",
    "#          'lon': (142.3945, 142.5809),\n",
    "#          'time':('2018-10-15', '2019-02-10'),\n",
    "#          'crs': 'EPSG:4326'}\n",
    "#specify bands if needed\n",
    "#bands = ['coastal_aerosol', 'blue', 'green', 'red']\n",
    "# Vietnam - Rach Gia\n",
    "# query = {'lat': (9.5, 10.5),\n",
    "#         'lon': (105.5, 106.5),\n",
    "#         'time':('2019-02-10', '2020-06-14'),\n",
    "#         'crs': 'EPSG:4326'}\n",
    "# Vietnam - Ha Long (small)\n",
    "# query = {'lat': (20.7, 21.1), \n",
    "#         'lon': (106.7, 107.7),\n",
    "#         'time':('2019-01-01', '2021-01-31'),\n",
    "#         }\n",
    "# Vietnam - Ha Long (large)\n",
    "# query = {'lat': (17.5, 23.0), \n",
    "#         'lon': (103.5, 110.0),\n",
    "#         'time':('2019-01-01', '2021-01-31'),\n",
    "#         }\n",
    "# Vietnam - Ha Long (small)\n",
    "query = {'lat': (20.9, 21.1), \n",
    "        'lon': (106.8, 107.3),\n",
    "        'time':('2019-02-01', '2021-01-31'),\n",
    "        }"
   ]
  },
  {
   "cell_type": "code",
   "execution_count": null,
   "metadata": {},
   "outputs": [],
   "source": [
    "# Get data in native projection (UTM)\n",
    "\n",
    "product = 'usgs_espa_ls8c1_sr'\n",
    "measurements = ['red', 'green', 'blue', 'coastal_aerosol', 'swir1', 'nir',  'pixel_qa']\n",
    "\n",
    "# product = 'cophub_s2_sr_sen2cor'\n",
    "# measurements = ['coastal_aerosol', 'blue', 'green', 'red', 'red_edge_1']\n",
    "\n",
    "query.update({\n",
    "    'product': product,                     # Product name\n",
    "    'measurements': measurements,\n",
    "})\n",
    "\n",
    "# Most common CRS\n",
    "native_crs = notebook_utils.mostcommon_crs(dc, query)\n",
    "print(f'Native CRS: {native_crs}')\n",
    "\n",
    "# query.update({\n",
    "#     'output_crs': native_crs,               # EPSG code\n",
    "#     'resolution': (-30, 30),                # Target resolution\n",
    "#     'group_by': 'solar_day',                # Scene ordering\n",
    "#     'dask_chunks': {'x': 2048, 'y': 2048},  # Dask chunks\n",
    "# })\n",
    "\n",
    "query.update({\n",
    "    'output_crs': 'epsg:4326',               # EPSG code\n",
    "    'resolution': (-0.003, 0.003),                # Target resolution\n",
    "    'group_by': 'solar_day',                # Scene ordering\n",
    "    'dask_chunks': {'longitude': 2048, 'latitude': 2048},  # Dask chunks\n",
    "})\n",
    "\n",
    "data = dc.load(**query)\n",
    "\n",
    "notebook_utils.heading(notebook_utils.xarray_object_size(data))\n",
    "display(data)\n",
    "\n",
    "# Calculate valid (not nodata) masks for each layer\n",
    "valid_mask = masking.valid_data_mask(data)"
   ]
  },
  {
   "cell_type": "markdown",
   "metadata": {},
   "source": [
    "## Scaling and masking"
   ]
  },
  {
   "cell_type": "code",
   "execution_count": null,
   "metadata": {},
   "outputs": [],
   "source": [
    "# Add cloud masking\n",
    "\n",
    "good_pixel_flags = {\n",
    "    'snow': 'no_snow',                    # 'no_snow', 'snow'\n",
    "#     'clear': 'clear_land',                # 'no_clear_land', 'clear_land'\n",
    "    'cloud': 'no_cloud',                  # 'no_cloud', 'cloud'\n",
    "#     'water': 'water',                     # 'no_water', 'water'\n",
    "    'nodata': False,                      # False, True\n",
    "    'cloud_shadow': 'no_cloud_shadow',    # 'no_cloud_shadow', 'cloud_shadow'\n",
    "#     'cloud_confidence': 'medium',         # 'none', 'low', 'medium', 'high'\n",
    "#     'cirrus_confidence': 'medium',        # 'none', 'low', 'medium', 'high'\n",
    "#     'terrain_occlusion': 'no_occlusion',  # 'no_occlusion', 'occlusion'\n",
    "}\n",
    "\n",
    "flag_name = 'pixel_qa'\n",
    "good_pixel_mask = masking.make_mask(data[flag_name], **good_pixel_flags)\n",
    "# usgs_espa_ls8c1_sr, usgs_espa_ls8c1_ar\n",
    "scale = 0.0001\n",
    "offset = 0.\n",
    "layer = data.where(valid_mask & good_pixel_mask) * scale + offset"
   ]
  },
  {
   "cell_type": "code",
   "execution_count": null,
   "metadata": {},
   "outputs": [],
   "source": [
    "#convert to remote sensing sub-surface reflectance (surface refl / pi -> lambertian sub-surface)\n",
    "data = layer/math.pi\n",
    "\n",
    "# #mask land using MNDWI\n",
    "mndwi = (data.green - data.swir1) / (data.green + data.swir1)\n",
    "    \n",
    "data = data.where(mndwi > 0)\n",
    "# data = data.where(data.nir < 0.07)"
   ]
  },
  {
   "cell_type": "code",
   "execution_count": null,
   "metadata": {},
   "outputs": [],
   "source": [
    "# Remove time layers that are full of nulls\n",
    "\n",
    "test = data.dropna('time', how='all')"
   ]
  },
  {
   "cell_type": "code",
   "execution_count": null,
   "metadata": {},
   "outputs": [],
   "source": [
    "notebook_utils.heading(notebook_utils.xarray_object_size(test))\n",
    "display(test)\n",
    "data = test"
   ]
  },
  {
   "cell_type": "markdown",
   "metadata": {},
   "source": [
    "## Forel Ule"
   ]
  },
  {
   "cell_type": "code",
   "execution_count": null,
   "metadata": {},
   "outputs": [],
   "source": [
    "# Approximation of tristimulus values from Van der Woerd and Wernard and Lehmann \n",
    "# Landsat\n",
    "\n",
    "if 'ls' in query['product']:\n",
    "    data['Xtris'] = 11.053*data.coastal_aerosol + 6.950*data.blue + 51.135*data.green + 34.457*data.red\n",
    "    data['Ytris'] = 1.32*data.coastal_aerosol + 21.053*data.blue + 66.023*data.green + 18.034*data.red\n",
    "    data['Ztris'] = 58.038*data.coastal_aerosol + 34.931*data.blue + 2.606*data.green + 0.016*data.red\n",
    "    \n",
    "# elif 's2' in query['product']:\n",
    "#     data['Xtris'] = 11.756*Rrs_S2[,1] + 6.423*Rrs_S2[,2] + 53.696*Rrs_S2[,3] + 32.028*Rrs_S2[,4] + 0.529*Rrs_S2[,5]\n",
    "#     data['Ytris'] = 1.744*Rrs_S2[,1] + 22.289*Rrs_S2[,2] + 65.702*Rrs_S2[,3] + 16.808*Rrs_S2[,4] + 0.192*Rrs_S2[,5]\n",
    "#     data['Ztris'] = 62.696*Rrs_S2[,1] + 31.101*Rrs_S2[,2] + 1.778*Rrs_S2[,3] + 0.015*Rrs_S2[,4] + 0.000*Rrs_S2[,5]\n",
    "\n",
    "# Sentinel-2\n",
    "# pending...."
   ]
  },
  {
   "cell_type": "code",
   "execution_count": null,
   "metadata": {},
   "outputs": [],
   "source": [
    "# Calculate Chromacity coordinates\n",
    "\n",
    "data['cx']=data.Xtris/(data.Xtris+data.Ytris+data.Ztris)\n",
    "data['cy']=data.Ytris/(data.Xtris+data.Ytris+data.Ztris)\n",
    "data['cz']=data.Ztris/(data.Xtris+data.Ytris+data.Ztris)\n",
    "\n",
    "# Adjust to whitepoint\n",
    "data['cwx'] = data.cx-(1/3)\n",
    "data['cwy'] = data.cy-(1/3)"
   ]
  },
  {
   "cell_type": "code",
   "execution_count": null,
   "metadata": {},
   "outputs": [],
   "source": [
    "# **HueAngle**______ calculate atan2 **\n",
    "landsat_ds = data\n",
    "landsat_ds['a_i'] = np.arctan2(landsat_ds.cwy, landsat_ds.cwx) * 180 / math.pi\n",
    "landsat_ds['a_i'] = xr.where(landsat_ds.a_i<0,landsat_ds.a_i+360,landsat_ds.a_i)\n",
    "landsat_ds.a_i.max()"
   ]
  },
  {
   "cell_type": "code",
   "execution_count": null,
   "metadata": {},
   "outputs": [],
   "source": [
    "def lookup_func(a):\n",
    "    interp_func = interpolate.interp1d(x=fui.atan, y=fui.value)\n",
    "    return xr.apply_ufunc(interp_func, a, dask='allowed')"
   ]
  },
  {
   "cell_type": "code",
   "execution_count": null,
   "metadata": {},
   "outputs": [],
   "source": [
    "#Create interpolated Forel layer for FUI atan lookup table \n",
    "\n",
    "landsat_ds['forel'] = xr.where(\n",
    "    landsat_ds.a_i >= fui[\"atan\"][0], 1.0,\n",
    "    xr.where(\n",
    "        landsat_ds.a_i <= fui[\"atan\"][200],\n",
    "        21.0,\n",
    "        landsat_ds.a_i\n",
    "    )\n",
    ")\n",
    "\n",
    "landsat_ds['forel'] = xr.where(\n",
    "    landsat_ds.a_i == landsat_ds.forel,\n",
    "    lookup_func(\n",
    "        landsat_ds.forel.where(\n",
    "            landsat_ds.a_i == landsat_ds.forel\n",
    "        )\n",
    "    ), landsat_ds.forel\n",
    ")\n",
    "\n",
    "#Check the xarray dataset\n",
    "landsat_ds"
   ]
  },
  {
   "cell_type": "code",
   "execution_count": null,
   "metadata": {},
   "outputs": [],
   "source": [
    "#Round to nearest FU category \n",
    "landsat_ds['FUi']=np.round(landsat_ds.forel)\n",
    "landsat_ds['FUint']=landsat_ds.FUi.astype(int)\n",
    "landsat_ds['FUint']=xr.where(landsat_ds.FUint<0,0,landsat_ds.FUint)\n",
    "landsat_ds['FU']=landsat_ds.FUint.where(landsat_ds.forel>0)\n",
    "\n",
    "#Plot all the time slices\n",
    "# landsat_ds.FU.plot(col='time',col_wrap=2,robust=True)\n",
    "#landsat_ds.FU.plot()"
   ]
  },
  {
   "cell_type": "markdown",
   "metadata": {},
   "source": [
    "## Reproject (from UTM to 4326)"
   ]
  },
  {
   "cell_type": "code",
   "execution_count": null,
   "metadata": {},
   "outputs": [],
   "source": [
    "layer_name = 'FU'\n",
    "layer = landsat_ds[[layer_name]].persist()\n",
    "layer.latitude.data"
   ]
  },
  {
   "cell_type": "code",
   "execution_count": null,
   "metadata": {},
   "outputs": [],
   "source": [
    "layer"
   ]
  },
  {
   "cell_type": "code",
   "execution_count": null,
   "metadata": {},
   "outputs": [],
   "source": [
    "target_crs = 'epsg:4326'\n",
    "target_res = (0.0003, 0.0003)   # approx. 20 m\n",
    "\n",
    "min_longitude, min_latitude, max_longitude, max_latitude = query['lon'][0], query['lat'][0], query['lon'][1], query['lat'][1]\n",
    "print(min_longitude, min_latitude, max_longitude, max_latitude)\n",
    "\n",
    "target = GeoBox.from_geopolygon(box(min_longitude, min_latitude, max_longitude, max_latitude, target_crs), target_res)\n",
    "layer_geo = xr_reproject(layer, target).persist()\n",
    "layer_geo"
   ]
  },
  {
   "cell_type": "markdown",
   "metadata": {},
   "source": [
    "## Generate a plot"
   ]
  },
  {
   "cell_type": "code",
   "execution_count": null,
   "metadata": {},
   "outputs": [],
   "source": [
    "options = {\n",
    "    'title': f'{query[\"product\"]}: {layer_name}',\n",
    "    'width': 500,\n",
    "    'height': 450,\n",
    "    'aspect': 'equal',\n",
    "    'cmap': cc.rainbow,\n",
    "    'clim': (1, 21),                          # Limit the color range depending on the layer_name\n",
    "#     'clim': (0, 0.5),                          # Limit the color range depending on the layer_name\n",
    "    'colorbar': True,\n",
    "    'tools': ['hover'],\n",
    "}"
   ]
  },
  {
   "cell_type": "code",
   "execution_count": null,
   "metadata": {},
   "outputs": [],
   "source": [
    "# Plot native projection data\n",
    "\n",
    "# Set the Dataset CRS\n",
    "# plot_crs = native_crs\n",
    "plot_crs = 'epsg:4326'\n",
    "if plot_crs == 'epsg:4326':\n",
    "    plot_crs = ccrs.PlateCarree()\n",
    "\n",
    "\n",
    "# Native data and coastline overlay:\n",
    "# - Comment `crs`, `projection`, `coastline` to plot in native_crs coords\n",
    "# TODO: Update the axis labels to 'longitude', 'latitude' if `coastline` is used\n",
    "    \n",
    "layer_plot = layer.hvplot.image(\n",
    "    x = 'longitude', y = 'latitude',                        # Dataset x,y dimension names\n",
    "    rasterize = True,                        # Use Datashader\n",
    "    aggregator = reductions.mean(),          # Datashader selects mean value\n",
    "    precompute = True,                       # Datashader precomputes what it can\n",
    "    crs = plot_crs,                          # Dataset crs\n",
    "    projection = ccrs.PlateCarree(),         # Output projection (use ccrs.PlateCarree() when coastline=True)\n",
    "    coastline='10m',                         # Coastline = '10m'/'50m'/'110m'\n",
    ").options(opts.Image(**options)).hist(bin_range = options['clim'])\n",
    "\n",
    "# display(layer_plot)\n",
    "# Optional: Change the default time slider to a dropdown list, https://stackoverflow.com/a/54912917\n",
    "fig = pn.panel(layer_plot, widgets={'time': pn.widgets.Select})  # widget_location='top_left'\n",
    "display(fig)"
   ]
  },
  {
   "cell_type": "code",
   "execution_count": null,
   "metadata": {},
   "outputs": [],
   "source": [
    "## Plot 4326 projected data\n",
    "\n",
    "# Set the Dataset CRS\n",
    "plot_crs = target_crs\n",
    "if plot_crs == 'epsg:4326':\n",
    "    plot_crs = ccrs.PlateCarree()\n",
    "\n",
    "\n",
    "# Native data and coastline overlay:\n",
    "# - Comment `crs`, `projection`, `coastline` to plot in native_crs coords\n",
    "# TODO: Update the axis labels to 'longitude', 'latitude' if `coastline` is used\n",
    "    \n",
    "layer_plot = layer_geo.hvplot.image(\n",
    "    x = 'longitude', y = 'latitude',         # Dataset x,y dimension names\n",
    "    rasterize = True,                        # Use Datashader\n",
    "    aggregator = reductions.mean(),          # Datashader selects mean value\n",
    "    precompute = True,                       # Datashader precomputes what it can\n",
    "#     crs = plot_crs,                          # Dataset crs\n",
    "#     projection = ccrs.PlateCarree(),         # Output projection (use ccrs.PlateCarree() when coastline=True)\n",
    "#     coastline='10m',                         # Coastline = '10m'/'50m'/'110m'\n",
    ").options(opts.Image(**options)).hist(bin_range = options['clim'])\n",
    "\n",
    "# display(layer_plot)\n",
    "# Optional: Change the default time slider to a dropdown list, https://stackoverflow.com/a/54912917\n",
    "fig = pn.panel(layer_plot, widgets={'time': pn.widgets.Select})  # widget_location='top_left'\n",
    "display(fig)"
   ]
  },
  {
   "cell_type": "code",
   "execution_count": null,
   "metadata": {},
   "outputs": [],
   "source": [
    "\n",
    "# Use CSV into a color palette\n",
    "\n",
    "#read in Forel RGB values\n",
    "# csv = os.path.expanduser('~/data/WQ/FURGB.csv')\n",
    "# fu_rgb = pd.read_csv(csv,header=0)\n",
    "# fu_index=fu_rgb.index\n",
    "# #fu_rgb.loc(index=['1'])\n",
    "# reda=xr.DataArray(fu_rgb.values[:,1])\n",
    "# greena=xr.DataArray(fu_rgb.values[:,2])\n",
    "# bluea=xr.DataArray(fu_rgb.values[:,3])\n",
    "\n",
    "\n"
   ]
  },
  {
   "cell_type": "code",
   "execution_count": null,
   "metadata": {},
   "outputs": [],
   "source": [
    "#index RGB values to Forel Integers with Xarray****needs work\n",
    "# landsat_ds['red_r']=reda[landsat_ds.FUint].where(landsat_ds.FUint>0)\n",
    "# landsat_ds['green_r']=greena[landsat_ds.FUint].where(landsat_ds.FUint>0)\n",
    "# landsat_ds['blue_r']=bluea[landsat_ds.FUint].where(landsat_ds.FUint>0)\n"
   ]
  },
  {
   "cell_type": "code",
   "execution_count": null,
   "metadata": {},
   "outputs": [],
   "source": [
    "#PLOT THE Forel Ule in RGB \n",
    "\n",
    "# ds=landsat_ds.where(landsat_ds.FUint!=0)\n",
    "# #figure height\n",
    "# #x=np.array(landsat_ds.sizes['time']/2)\n",
    "\n",
    "# #Plot One Time Slice\n",
    "# #DEAPlotting.rgb(ds=landsat_ds.where(landsat_ds.FUint!=0), bands=['red_r', 'green_r', 'blue_r'], index=5,  robust=True)\n",
    "\n",
    "# #Plot them all in a badly contrained way\n",
    "# ds[['red_r', 'green_r', 'blue_r']].to_array().plot.imshow(col='time', figsize=(20,6*np.ceil(landsat_ds.sizes['time']/2)),col_wrap=2, robust=True)\n",
    "\n"
   ]
  },
  {
   "cell_type": "code",
   "execution_count": null,
   "metadata": {},
   "outputs": [],
   "source": [
    "#Create Float datasets (Forel Ule, Forel Ule RGB) to export to tiff\n",
    "\n",
    "# FUrgb=xr.Dataset({'red_r':landsat_ds.red_r,'green_r':landsat_ds.green_r,'blue_r':landsat_ds.blue_r}, attrs={'crs': landsat_ds.crs})\n",
    "# FUrgbfloat=FUrgb.astype(float)\n",
    "FU=xr.Dataset({'FU':landsat_ds.FU}, attrs={'crs': landsat_ds.crs})\n"
   ]
  },
  {
   "cell_type": "code",
   "execution_count": null,
   "metadata": {},
   "outputs": [],
   "source": [
    "#Export Forel Ule RGB from time slice - RGB\n",
    "# ds=FUrgbfloat.isel(time=5)\n",
    "# write_geotiff(filename='MenindeeFUrgb.tif', dataset=ds)"
   ]
  },
  {
   "cell_type": "code",
   "execution_count": null,
   "metadata": {},
   "outputs": [],
   "source": [
    "#Export Forel Ule Index for time slice - data\n",
    "from datacube.utils.cog import write_cog\n",
    "ds=FU.isel(time=5)\n",
    "display(ds)\n",
    "write_cog(fname='MekongDelta.tif', geo_im=ds.FU.load())"
   ]
  },
  {
   "cell_type": "code",
   "execution_count": null,
   "metadata": {},
   "outputs": [],
   "source": []
  }
 ],
 "metadata": {
  "kernelspec": {
   "display_name": "Python 3",
   "language": "python",
   "name": "python3"
  },
  "language_info": {
   "codemirror_mode": {
    "name": "ipython",
    "version": 3
   },
   "file_extension": ".py",
   "mimetype": "text/x-python",
   "name": "python",
   "nbconvert_exporter": "python",
   "pygments_lexer": "ipython3",
   "version": "3.6.9"
  },
  "toc": {
   "base_numbering": 1,
   "nav_menu": {},
   "number_sections": true,
   "sideBar": true,
   "skip_h1_title": false,
   "title_cell": "Table of Contents",
   "title_sidebar": "Contents",
   "toc_cell": false,
   "toc_position": {},
   "toc_section_display": true,
   "toc_window_display": false
  },
  "toc-autonumbering": true,
  "toc-showcode": false,
  "toc-showmarkdowntxt": true
 },
 "nbformat": 4,
 "nbformat_minor": 4
}
