{
 "cells": [
  {
   "cell_type": "markdown",
   "metadata": {},
   "source": [
    "# Masking and Scaling <img align=\"right\" src=\"../resources/csiro_easi_logo.png\"> \n",
    "\n",
    "#### Index\n",
    "- [Overview](#Overview)\n",
    "- [Setup](#Setup)\n",
    "   - [Imports](#Imports)\n",
    "   - [Dask](#Dask)\n",
    "   - [Example query](#Example-query)\n",
    "- [Mask by no-data](#Mask-by-no-data)\n",
    "- [Apply the mask](#Apply-the-mask)\n",
    "- [Flag definition](#Flag-definition)\n",
    "- [Mask by \"on/off\" values](#Mask-by-\"on/off\"-values)\n",
    "- [Mask by enumeration values](#Mask-by-enumeration-values)\n",
    "- [Mask by measurement value](#Mask-by-measurement-value)\n",
    "- [Mask by shapefile](#Mask-by-shapefile)"
   ]
  },
  {
   "cell_type": "markdown",
   "metadata": {},
   "source": [
    "## Overview\n",
    "\n",
    "The ODC has methods for handling bit-mask layers and associated flag descriptions (e.g,. quality information). Flag descriptions are defined in the product document for any bit-mask layers. There are functions for creating a binary array mask from a selected set of flag values or from a `nodata` value. The binary mask can then be applied to the measurement layers.\n",
    "\n",
    "A binary mask is an array with `True` values where data values are to be kept and `False` values where data values are to be replaced. The binary mask is the same size as a data array that it will be applied to.\n",
    "\n",
    "\n",
    "Notes:\n",
    "- A `nodata` value for _invalid_ or _missing_ data should be defined for each measurement layer as this is part of the [product document](https://datacube-core.readthedocs.io/en/latest/ops/product.html). The `nodata` value will correspond to the data type of the measurement layer (data array).\n",
    "- The `nodata` values in an array can be replaced with \\\"Not a Number (NaN)\\\" (`np.nan`), in which case the array will change data type to `float64`. This may have implications for memory usage or for further calculations.\n",
    "- Many `Xarray` and `Numpy` functions handle `NaN` values \\\"naturally\\\" (appropriately ignored). Likewise the plotting libraries will tend to ignore `NaN`s natively.\n",
    "- If using a `nodata` value other than `NaN` then this may need to be handled specifically in your code (e.g., passed to the `xarray`/`numpy` or plotting routines).\n",
    "\n",
    "\n",
    "Further information:\n",
    "\n",
    "- https://xarray.pydata.org/en/stable/user-guide/data-structures.html\n",
    "- https://xarray.pydata.org/en/stable/user-guide/computation.html#missing-values\n",
    "- https://numpy.org/doc/stable/reference/generated/numpy.where.html"
   ]
  },
  {
   "cell_type": "markdown",
   "metadata": {},
   "source": [
    "## Setup"
   ]
  },
  {
   "cell_type": "markdown",
   "metadata": {},
   "source": [
    "#### Imports\n",
    "These are a standard set of imports that we use across many notebooks"
   ]
  },
  {
   "cell_type": "code",
   "execution_count": null,
   "metadata": {},
   "outputs": [],
   "source": [
    "# Data tools\n",
    "import numpy as np\n",
    "import xarray as xr\n",
    "import pandas as pd\n",
    "from datetime import datetime\n",
    "\n",
    "# Datacube\n",
    "import datacube\n",
    "from datacube.utils import masking  # https://github.com/opendatacube/datacube-core/blob/develop/datacube/utils/masking.py\n",
    "from odc.algo import enum_to_bool   # https://github.com/opendatacube/odc-tools/blob/develop/libs/algo/odc/algo/_masking.py\n",
    "from datacube.utils.rio import configure_s3_access\n",
    "\n",
    "# Holoviews, Datashader and Bokeh\n",
    "import hvplot.pandas\n",
    "import hvplot.xarray\n",
    "import holoviews as hv\n",
    "import colorcet as cc\n",
    "hv.extension(\"bokeh\", logo=False)\n",
    "\n",
    "# Python\n",
    "import sys, os, re\n",
    "os.environ['USE_PYGEOS'] = '0'\n",
    "\n",
    "# Optional EASI tools\n",
    "sys.path.append(os.path.expanduser('../scripts'))\n",
    "from easi_tools import EasiDefaults\n",
    "import notebook_utils\n",
    "easi = EasiDefaults()"
   ]
  },
  {
   "cell_type": "markdown",
   "metadata": {},
   "source": [
    "#### Dask\n",
    "We have now put the Dask cluster code into a [_notebook_utils_](../scripts/notebook_utils.py) function."
   ]
  },
  {
   "cell_type": "code",
   "execution_count": null,
   "metadata": {},
   "outputs": [],
   "source": [
    "cluster, client = notebook_utils.initialize_dask(use_gateway=False)\n",
    "display(cluster if cluster else client)\n",
    "print(notebook_utils.localcluster_dashboard(client, server=easi.hub))"
   ]
  },
  {
   "cell_type": "markdown",
   "metadata": {},
   "source": [
    "#### AWS configuration\n",
    "To use data in public requester-pays buckets, run the following code (once per dask cluster):"
   ]
  },
  {
   "cell_type": "code",
   "execution_count": null,
   "metadata": {},
   "outputs": [],
   "source": [
    "configure_s3_access(aws_unsigned=False, requester_pays=True, client=client)"
   ]
  },
  {
   "cell_type": "markdown",
   "metadata": {},
   "source": [
    "#### Example query"
   ]
  },
  {
   "cell_type": "code",
   "execution_count": null,
   "metadata": {
    "tags": []
   },
   "outputs": [],
   "source": [
    "# This configuration is read from the defaults for this system. \n",
    "# Examples are provided in a commented line to show how to set these manually.\n",
    "\n",
    "study_area_lat = easi.latitude\n",
    "# study_area_lat = (39.2, 39.3)\n",
    "\n",
    "study_area_lon = easi.longitude\n",
    "# study_area_lon = (-76.7, -76.6)\n",
    "\n",
    "product = easi.product('landsat')\n",
    "# product = 'landsat8_c2l2_sr'\n",
    "\n",
    "set_time = easi.time\n",
    "# set_time = ('2020-08-01', '2020-12-01')\n",
    "\n",
    "set_crs = easi.crs('landsat')\n",
    "# set_crs = 'EPSG:32618'\n",
    "\n",
    "set_resolution = easi.resolution('landsat')\n",
    "# set_resolution = (-30, 30)"
   ]
  },
  {
   "cell_type": "code",
   "execution_count": null,
   "metadata": {},
   "outputs": [],
   "source": [
    "query = {\n",
    "    'product': product,\n",
    "    'x': study_area_lon,\n",
    "    'y': study_area_lat,\n",
    "    'time': set_time,\n",
    "    'output_crs': set_crs,\n",
    "    'resolution': set_resolution,\n",
    "    'group_by': 'solar_day',\n",
    "    'dask_chunks': {'x': 2048, 'y': 2048}\n",
    "}\n",
    "\n",
    "dc = datacube.Datacube()\n",
    "data = dc.load(**query)\n",
    "data"
   ]
  },
  {
   "cell_type": "markdown",
   "metadata": {},
   "source": [
    "## Datacube masking library\n",
    "There are two datacube masking libraries that we use (both included in the imports above):\n",
    "- [datacube masking library](https://github.com/opendatacube/datacube-core/blob/develop/datacube/utils/masking.py) > Primary masking functions\n",
    "- [odc_tools masking library](https://github.com/opendatacube/odc-tools/blob/develop/libs/algo/odc/algo/_masking.py) > Enumeration and morphological operators\n",
    "\n",
    "The datacube masking functions can be used to identify, describe and create masks from `flags_definition` measurements and from `nodata` attributes.\n",
    "\n",
    "When applied to a Dataset the datacube masking functions select and use the first measurement with the `flags_definition` property. Let's be more specific for cases where there may be multiple `flags_definition` measurements in a dataset.\n"
   ]
  },
  {
   "cell_type": "code",
   "execution_count": null,
   "metadata": {},
   "outputs": [],
   "source": [
    "# Measurements for the selected product\n",
    "measurements = dc.list_measurements().loc[query['product']]\n",
    "\n",
    "# Separate lists of measurement data names and flag names\n",
    "data_names = measurements[pd.isnull(measurements.flags_definition)].index\n",
    "flag_names = measurements[pd.notnull(measurements.flags_definition)].index\n",
    "\n",
    "# Select one for use below\n",
    "flag_name = flag_names[0]"
   ]
  },
  {
   "cell_type": "markdown",
   "metadata": {},
   "source": [
    "## Mask by no-data\n",
    "\n",
    "There are two convenience functions that create a mask from the `nodata` attribute of each measurement. These can be applied to a Dataset but if so then they apply to each layer (including any bit-masks!)."
   ]
  },
  {
   "cell_type": "code",
   "execution_count": null,
   "metadata": {},
   "outputs": [],
   "source": [
    "# Apply to measurement layers\n",
    "\n",
    "# Under the hood: data.where(data != data.nodata) -> replace False with NaN -> float64\n",
    "valid_data = masking.mask_invalid_data(data[data_names], keep_attrs=True)\n",
    "\n",
    "# Under the hood: data != data.nodata -> bool\n",
    "valid_mask = masking.valid_data_mask(data[data_names])"
   ]
  },
  {
   "cell_type": "markdown",
   "metadata": {
    "tags": []
   },
   "source": [
    "## Apply the mask\n",
    "\n",
    "Use [numpy.where()](https://numpy.org/doc/stable/reference/generated/numpy.where.html) to apply a mask array to measurement arrays. Shown here are two ways to apply a mask to the measurement arrays. The first replaces the `False` values with `NaN` and changes the data type to `float64`. The second replaces the `False` values with a given value and retains the data type if possible."
   ]
  },
  {
   "cell_type": "code",
   "execution_count": null,
   "metadata": {},
   "outputs": [],
   "source": [
    "# Apply to measurement layers: Change dtype to float64\n",
    "\n",
    "data_masked = data[data_names].where(valid_mask)  # Default: Where False replace with NaN -> convert dtype to float64\n",
    "display(data_masked)  # Type: float64\n",
    "\n",
    "# Equivalent to valid_data above\n",
    "# data_masked.equals(valid_data)\n",
    "\n",
    "data_masked[data_names[0]].plot(col='time', robust=True, col_wrap=4)"
   ]
  },
  {
   "cell_type": "code",
   "execution_count": null,
   "metadata": {},
   "outputs": [],
   "source": [
    "# Apply to measurement layers: Retain the data type (dtype) - note that the data type stays as int32\n",
    "\n",
    "nodata = -9999  # A new nodata value\n",
    "data_masked = data[data_names].where(valid_mask, nodata)  # Where False values are replaced with the nodata -> retain dtype if compatible\n",
    "\n",
    "# Update the nodata value in the data variable attributes\n",
    "for var in data_masked.data_vars:\n",
    "    data_masked[var].attrs['nodata'] = nodata\n",
    "    \n",
    "display(data_masked)\n",
    "\n",
    "data_masked[data_names[0]].plot(col='time', robust=True, col_wrap=4)"
   ]
  },
  {
   "cell_type": "markdown",
   "metadata": {},
   "source": [
    "## Flag definition\n",
    "\n",
    "There are two ways that bit-values can be defined and used in a `flag_definition`:\n",
    "- \\\"On/Off\\\" values and labels for each binary bit(s)\n",
    "- A combination of bit names and values creates the mask. See [Mask by \\\"on/off\\\" values](#Mask-by-\\\"on/off\\\"-values)\n",
    "- List of discrete integer values and labels (enumeration)\n",
    "- A combination of integer values creates a mask. See [Mask by enumeration values](#Mask-by-enumeration-values)\n",
    "\n",
    "The following `flag_definition`s have flag names (_index_ column), bit values (_bits_ column), \\\"on/off\\\" values and labels (_values_ column), and an optional description (_description_ column).\n",
    " "
   ]
  },
  {
   "cell_type": "code",
   "execution_count": null,
   "metadata": {},
   "outputs": [],
   "source": [
    "# Pandas table. First flags_definition measurement found\n",
    "masking.describe_variable_flags(data)"
   ]
  },
  {
   "cell_type": "code",
   "execution_count": null,
   "metadata": {},
   "outputs": [],
   "source": [
    "# Pandas table. Select a different flags_definition measurement\n",
    "masking.describe_variable_flags(data.qa_aerosol)"
   ]
  },
  {
   "cell_type": "code",
   "execution_count": null,
   "metadata": {},
   "outputs": [],
   "source": [
    "# Simple dictionary. Select a flags_definition attribute\n",
    "flags_def = data[flag_name].flags_definition\n",
    "flags_def"
   ]
  },
  {
   "cell_type": "markdown",
   "metadata": {},
   "source": [
    "## Mask by \"on/off\" values\n",
    "\n",
    "The `make_mask()` returns a mask where `True` corresponds to the selected bits and values. These may considered as _good_ or _bad_ pixel flag selections depending on the application and the `flag_definition`.\n",
    "\n",
    "Define a dictionary of ___good___ pixel flags using values shown in the variable flags above `{'flag': 'value'}`.\n",
    "\n",
    ">__NOTE:__ The examples below are designed to work with the Landsat flags. Other products will have different flag definitions."
   ]
  },
  {
   "cell_type": "code",
   "execution_count": null,
   "metadata": {},
   "outputs": [],
   "source": [
    "good_pixel_flags = {\n",
    "    'nodata': False,\n",
    "    'cloud': 'not_high_confidence',\n",
    "    'cloud_shadow': 'not_high_confidence',\n",
    "}"
   ]
  },
  {
   "cell_type": "markdown",
   "metadata": {},
   "source": [
    "Make a mask corresponding to the `good_pixel_flags` and plot the result."
   ]
  },
  {
   "cell_type": "code",
   "execution_count": null,
   "metadata": {},
   "outputs": [],
   "source": [
    "mask = masking.make_mask(data[flag_name], **good_pixel_flags)  # expand dictionary of pixel flags\n",
    "\n",
    "good_data = data[data_names[0]].where(mask)\n",
    "good_data.plot(col='time', robust=True, col_wrap=4)"
   ]
  },
  {
   "cell_type": "markdown",
   "metadata": {},
   "source": [
    "The sum of the mask gives the number good pixels for each time layer."
   ]
  },
  {
   "cell_type": "code",
   "execution_count": null,
   "metadata": {},
   "outputs": [],
   "source": [
    "pixels = mask.shape[1] * mask.shape[2]\n",
    "percent = mask.sum(axis=[1,2]) / pixels *100\n",
    "list(map('{:.2f}%'.format,percent.values))"
   ]
  },
  {
   "cell_type": "markdown",
   "metadata": {},
   "source": [
    "The `create_mask_value()` function can be used to verify how the pixel flags are combined to create the mask."
   ]
  },
  {
   "cell_type": "code",
   "execution_count": null,
   "metadata": {},
   "outputs": [],
   "source": [
    "# make_mask: variable & bitmask == bitvalue\n",
    "bitmask, bitvalue = masking.create_mask_value(data[flag_name].flags_definition, **good_pixel_flags)\n",
    "display(bin(bitmask), bitvalue)"
   ]
  },
  {
   "cell_type": "markdown",
   "metadata": {},
   "source": [
    "## Mask by enumeration values\n",
    "\n",
    "_Work in progress_\n",
    "\n",
    "Enumerated masks contain discrete integer values in the `flags_definition`. Examples include:\n",
    "- Sentinel-2 \\\"SCL\\\" quality layer\n",
    "- Geoscience Australia's Landsat and Sentinel-2 ARD products ('ga_ls5t_ard_3', 'ga_ls7e_ard_3', 'ga_ls8c_ard_3', 's2a_ard_granule', 's2b_ard_granule', 's2a_nrt_granule', 's2b_nrt_granule')\n",
    "   "
   ]
  },
  {
   "cell_type": "code",
   "execution_count": null,
   "metadata": {},
   "outputs": [],
   "source": [
    "# Load data from an enumeration product\n",
    "\n",
    "# Select a list of pixel flags"
   ]
  },
  {
   "cell_type": "code",
   "execution_count": null,
   "metadata": {},
   "outputs": [],
   "source": [
    "# enum_mask = enum_to_bool(data[flag_name], enum_pixel_flags)  # tuple or list of pixel flags\n",
    "\n",
    "# good_data = data[data_names[0]].where(enum_mask)\n",
    "# good_data.plot(col='time', robust=True, col_wrap=4)"
   ]
  },
  {
   "cell_type": "markdown",
   "metadata": {},
   "source": [
    "## Mask by measurement value\n",
    "\n",
    "_Work in progress_\n",
    "\n",
    "Use xarray functions, e.g. http://xarray.pydata.org/en/stable/api.html#id5"
   ]
  },
  {
   "cell_type": "code",
   "execution_count": null,
   "metadata": {},
   "outputs": [],
   "source": [
    "# TODO: Update this example\n",
    "\n",
    "# # Set all invalid to `NaN` - the valid range for Landsat Collection 2 reflectance bands is 1 to 65455\n",
    "# mask_by_value = (data[data_names] >= 1) & (data[measurement_names] <= 65455)\n",
    "# display(mask_by_value)  # Type: bool\n",
    "\n",
    "# # TODO: confirm that 'where' applies each boolean array variable-wise\n",
    "# valid_data = data[measurement_names].where(mask_by_value)\n",
    "# valid_data"
   ]
  },
  {
   "cell_type": "markdown",
   "metadata": {},
   "source": [
    "## Mask by shapefile\n",
    "\n",
    "_Work in progress_\n",
    "\n",
    "**Please refer to the [time_series_masking_with_shapefile.ipynb](../Case%20studies/time_series_masking_with_shapefile.ipynb) notebook in the `/Case studies` folder for an example of masking using a shapefile**\n",
    "\n",
    "Available masks\n",
    "- Aust inland waters\n",
    "- Aust coast\n",
    "- VNSC coastlines\n",
    "- Catchments (Aust, VN)\n",
    "- https://www.soest.hawaii.edu/pwessel/gshhg/"
   ]
  },
  {
   "cell_type": "markdown",
   "metadata": {},
   "source": [
    "***More details to come***"
   ]
  },
  {
   "cell_type": "code",
   "execution_count": null,
   "metadata": {},
   "outputs": [],
   "source": []
  }
 ],
 "metadata": {
  "kernelspec": {
   "display_name": "Python 3 (ipykernel)",
   "language": "python",
   "name": "python3"
  },
  "language_info": {
   "codemirror_mode": {
    "name": "ipython",
    "version": 3
   },
   "file_extension": ".py",
   "mimetype": "text/x-python",
   "name": "python",
   "nbconvert_exporter": "python",
   "pygments_lexer": "ipython3",
   "version": "3.10.6"
  }
 },
 "nbformat": 4,
 "nbformat_minor": 4
}
