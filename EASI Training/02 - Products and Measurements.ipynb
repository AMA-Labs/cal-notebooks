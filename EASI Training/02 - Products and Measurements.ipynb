{
 "cells": [
  {
   "cell_type": "markdown",
   "metadata": {},
   "source": [
    "# Products and Measurements <img align=\"right\" src=\"../resources/csiro_easi_logo.png\">\n",
    "\n",
    "This notebook will show you different ways to find __Products__ and their __Measurements__ in an Open Data Cube (ODC) database.\n",
    " \n",
    "Index\n",
    "- [ODC definitions](#ODC-definitions)\n",
    "- [List products](#List-products)\n",
    "- [List measurements](#List-measurements)\n",
    "- [Datacube Explorer](#Datacube-Explorer)\n",
    "   - [Datacube Explorer interfaces](#Datacube-Explorer-interfaces)\n",
    "   - [Datacube Explorer screenshots](#Datacube-Explorer-screenshots)\n",
    "- [Appendix](#Appendix)\n",
    "   - [Explorer API in notebooks](#Explorer-API-in-notebooks)"
   ]
  },
  {
   "cell_type": "markdown",
   "metadata": {},
   "source": [
    "## ODC definitions\n",
    "\n",
    "Product\n",
    "> A product is a collection of `Datasets`. An ODC product is described by a [\"product definition\"](https://datacube-core.readthedocs.io/en/latest/ops/product.html) document. Broadly, the product document defines the product name, a description string, and the `Measurements` associated with the product.\n",
    "\n",
    "Dataset\n",
    "> A Dataset is one acquisition of data within a product; that is, a dataset is a scene or a collection of files representing the same time and space acquisition. An ODC dataset is described by a [\"dataset document\"](https://datacube-core.readthedocs.io/en/latest/ops/dataset_documents.html). Dataset documents are normally created by scripts that parse relevant metadata and information from the source metadata and data files. The [eodatasets3 library](https://github.com/GeoscienceAustralia/eo-datasets) helps to manage many of the common dataset document operations. \n",
    "\n",
    "Measurements\n",
    "> A Measurement is a single band or data layer within a dataset. The set of measurements is the same for all datasets within a product. Measurements are defined in the product definition document, and are linked to data files in the dataset document."
   ]
  },
  {
   "cell_type": "markdown",
   "metadata": {},
   "source": [
    "## List products\n",
    "\n",
    "Import datacube and pandas (for table selections and formatting) libraries."
   ]
  },
  {
   "cell_type": "code",
   "execution_count": null,
   "metadata": {},
   "outputs": [],
   "source": [
    "import pandas\n",
    "import datacube\n",
    "dc = datacube.Datacube()"
   ]
  },
  {
   "cell_type": "markdown",
   "metadata": {},
   "source": [
    "Get the list of products. It is a pandas data frame."
   ]
  },
  {
   "cell_type": "code",
   "execution_count": null,
   "metadata": {},
   "outputs": [],
   "source": [
    "products = dc.list_products()\n",
    "type(products)"
   ]
  },
  {
   "cell_type": "code",
   "execution_count": null,
   "metadata": {},
   "outputs": [],
   "source": [
    "print(f'Number of products: {len(products)}')\n",
    "\n",
    "# The output of list_products() changed between datacube versions 1.8.4 and 1.8.6\n",
    "selected_columns = products.columns\n",
    "if 'default_crs' not in selected_columns:\n",
    "    selected_columns = [\"name\", \"description\", \"platform\", \"crs\", \"resolution\"]\n",
    "\n",
    "# pandas.set_option(\"display.max_rows\", None)  # Uncomment to show all rows\n",
    "products[selected_columns].sort_index()"
   ]
  },
  {
   "cell_type": "markdown",
   "metadata": {},
   "source": [
    "## List measurements\n",
    "\n",
    "The [Hello EASI](01%20-%20Hello%20EASI.ipynb) notebook showed that the `dc.list_measurements()` function returns a pandas table of all measurements for all products.\n",
    "\n",
    "We can summarise the set of measurements using pandas functions.\n",
    "\n"
   ]
  },
  {
   "cell_type": "code",
   "execution_count": null,
   "metadata": {},
   "outputs": [],
   "source": [
    "measurements = dc.list_measurements()\n",
    "print(f'Object type: {type(measurements)}')\n",
    "print(f'Number of measurements: {len(measurements)}')\n",
    "measurements.apply(lambda x: x.count())  # Counts the non-NaN values for each column"
   ]
  },
  {
   "cell_type": "markdown",
   "metadata": {},
   "source": [
    "We can get the measurements for a particular product."
   ]
  },
  {
   "cell_type": "code",
   "execution_count": null,
   "metadata": {},
   "outputs": [],
   "source": [
    "measurements.loc['s2_l2a']"
   ]
  },
  {
   "cell_type": "markdown",
   "metadata": {},
   "source": [
    "The [Loading Data](03%20-%20Loading%20Data.ipynb) notebook will show how to load a product into an `Xarray` data object. Each measurement becomes a data array in the data object. An `alias` can be used instead of the measurement `name`.\n",
    "\n",
    "The [Masking Data](04%20-%20Masking%20Data.ipynb) notebook will show how to use the `nodata` and `flags_definition` properties.\n",
    "\n",
    "The `spectral_definition` properties can be used to help compare or convolve radiometric response functions between similar measurements in different products. There are no notebooks (yet) to demonstrate this as its rarely used."
   ]
  },
  {
   "cell_type": "markdown",
   "metadata": {},
   "source": [
    "## Datacube Explorer\n",
    "\n",
    "The Datacube Explorer is a web application that shows the spatial and temporal coverage of products and datasets in the database. Explorer can show overview information for:\n",
    "- coverage of products and datasets\n",
    "- product definitions\n",
    "- dataset documents\n",
    "- STAC endpoint for products and datasets\n",
    "- summary information about recent updates and product status.\n",
    "\n",
    "Explorer is a good way to see which products are available and view or access their metadata.\n",
    "\n",
    "### Datacube Explorer interfaces\n",
    "\n",
    "EASI family\n",
    "- CSIRO: https://explorer.csiro.easi-eo.solutions\n",
    "- CEOS EAIL: https://explorer.eail.easi-eo.solutions\n",
    "- Chile Data Observatory: https://explorer.earth.dataobservatory.net\n",
    "- Singapore:\n",
    "\n",
    "Digital Earth Australia\n",
    "- https://explorer.dea.ga.gov.au\n",
    "- https://explorer.sandbox.dea.ga.gov.au\n",
    "\n",
    "Digital Earth Africa\n",
    "- https://explorer.digitalearth.africa"
   ]
  },
  {
   "cell_type": "markdown",
   "metadata": {},
   "source": [
    "### Datacube Explorer screenshots"
   ]
  },
  {
   "cell_type": "markdown",
   "metadata": {},
   "source": [
    "<center>\n",
    "    <a href=\"https://explorer.eail.easi-eo.solutions/s2_l2a\">\n",
    "        https://explorer.eail.easi-eo.solutions/s2_l2a\n",
    "    </a>\n",
    "</center>\n",
    "<img src=\"../resources/explorer-screenshot-1.jpg\">"
   ]
  },
  {
   "cell_type": "markdown",
   "metadata": {},
   "source": [
    "<hr>\n",
    "<center>\n",
    "    <a href=\"https://explorer.eail.easi-eo.solutions/s2_l2a/2020/12/15\">\n",
    "        https://explorer.eail.easi-eo.solutions/s2_l2a/2020/12/15\n",
    "    </a>\n",
    "</center>\n",
    "<img src=\"../resources/explorer-screenshot-2.jpg\">"
   ]
  },
  {
   "cell_type": "markdown",
   "metadata": {},
   "source": [
    "<hr>\n",
    "<center>\n",
    "    <a href=\"https://explorer.eail.easi-eo.solutions/datasets/s2_l2a/2020/12/15\">\n",
    "        https://explorer.eail.easi-eo.solutions/datasets/s2_l2a/2020/12/15\n",
    "    </a>\n",
    "</center>\n",
    "<img src=\"../resources/explorer-screenshot-3.jpg\">"
   ]
  },
  {
   "cell_type": "markdown",
   "metadata": {},
   "source": [
    "<hr>\n",
    "<center>\n",
    "    <a href=\"https://explorer.eail.easi-eo.solutions/dataset/e92c0582-0bf5-52c8-b55e-5e9d2c11b8b4\">\n",
    "        https://explorer.eail.easi-eo.solutions/dataset/e92c0582-0bf5-52c8-b55e-5e9d2c11b8b4\n",
    "    </a>\n",
    "</center>\n",
    "<img src=\"../resources/explorer-screenshot-4.jpg\">"
   ]
  },
  {
   "cell_type": "markdown",
   "metadata": {},
   "source": [
    "## Appendix\n",
    "\n",
    "### Explorer API in notebooks\n",
    "_Work in progress_\n",
    "1. Ronnie's UI\n",
    "2. from odc.ui import DcViewer"
   ]
  },
  {
   "cell_type": "code",
   "execution_count": null,
   "metadata": {},
   "outputs": [],
   "source": [
    "from odc.ui import DcViewer\n",
    "DcViewer(dc=dc, \n",
    "         time='2015', \n",
    "         width='800px',\n",
    "         center=(39,-76),\n",
    "         zoom=7)"
   ]
  },
  {
   "cell_type": "code",
   "execution_count": null,
   "metadata": {},
   "outputs": [],
   "source": []
  }
 ],
 "metadata": {
  "kernelspec": {
   "display_name": "Python 3 (ipykernel)",
   "language": "python",
   "name": "python3"
  },
  "language_info": {
   "codemirror_mode": {
    "name": "ipython",
    "version": 3
   },
   "file_extension": ".py",
   "mimetype": "text/x-python",
   "name": "python",
   "nbconvert_exporter": "python",
   "pygments_lexer": "ipython3",
   "version": "3.10.6"
  }
 },
 "nbformat": 4,
 "nbformat_minor": 4
}
