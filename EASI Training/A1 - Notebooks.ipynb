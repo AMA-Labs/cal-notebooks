{
 "cells": [
  {
   "cell_type": "markdown",
   "metadata": {},
   "source": [
    "# Using notebooks <img align=\"right\" src=\"../resources/csiro_easi_logo.png\"> \n",
    "\n",
    "We use notebooks to document and demonstrate how to use data products, libraries and do analysis. Notebooks can be worked on in your own EASI home directory, and can be shared with colleagues by email and Git.\n",
    "\n",
    "Notebooks can also be shared and used with other groups in the Open Data Cube community, and from other sources.\n",
    "\n",
    "This notebook provides recommendations for managing notebooks in your EASI home directory, and some recommendations for other ODC notebooks to experiment with."
   ]
  },
  {
   "cell_type": "markdown",
   "metadata": {
    "slideshow": {
     "slide_type": "slide"
    }
   },
   "source": [
    "## Downloading a set of notebooks\n",
    "\n",
    "This EASI \"hub-notebooks\" set is available from our EASI Hub Public repository.\n",
    "\n",
    "- Use the Git icon (diamond or square standing on a corner) in the left hand panel, or open a Terminal tab (File > New > Terminal).\n",
    "- Navigate to the top of your EASI home directory: Folder icon in the left hand panel and smaller folder icon again, or ``cd`` in Terminal.\n",
    "- Next you would clone the hub-notebooks repository to your EASI home directory. (You have likely already done this!).\n",
    "\n",
    "```git clone https://csiro-easi@dev.azure.com/csiro-easi/easi-hub-public/_git/hub-notebooks```\n",
    "\n",
    "The same pattern applies to other sets of notebooks available from a Git repository."
   ]
  },
  {
   "cell_type": "markdown",
   "metadata": {},
   "source": [
    "## Sets of ODC notebooks\n",
    "\n",
    "Here are some recommended sets of notebooks you can try in EASI. Use the pattern above to clone/copy to your EASI home directory.\n",
    "\n",
    "#### ANU-DEA training materials\n",
    "\n",
    "Introduction course to Python, Jupyter Lab, Cloud computing, remote sensing and Open Data Cube examples (via Digital Earth Australia).\n",
    "- https://anu-wald.github.io/dea_course \n",
    "- https://github.com/ANU-WALD/dea_course/tree/master/dea_materials\n",
    "\n",
    "#### Digital Earth Australia and Africa\n",
    "\n",
    "Both managed by Geoscience Australia with lots of commonality between the two.\n",
    "- https://github.com/GeoscienceAustralia/dea-notebooks\n",
    "- https://github.com/digitalearthafrica/deafrica-sandbox-notebooks\n",
    "\n",
    "#### CEOS Systems Engineering Office\n",
    "\n",
    "- https://github.com/ceos-seo/data_cube_notebooks\n",
    "\n",
    "#### Switzerland Data Cube\n",
    "\n",
    "- https://github.com/GRIDgva/SwissDataCube"
   ]
  },
  {
   "cell_type": "markdown",
   "metadata": {},
   "source": [
    "## Using other ODC notebooks in EASI\n",
    "\n",
    "Each ODC notebook will have its own assumptions and dependencies. The most common is the ODC product name. Each ODC deployment (i.e., associated with each group managing their notebooks) has its own database and its products are named and indexed by the group managing the deployment.\n",
    "\n",
    "> It is very likely that you will need to change product names, and sometimes measurements and quality flags, when moving notebooks between different groups in the ODC community.\n",
    "\n",
    "For the most part, this requires checking for and substituting in a corresponding product name in the EAIL datacube explorer (see https://explorer.eail.easi-eo.solutions/).\n",
    "\n",
    "ODC community notebooks can also be be used as examples and guides from which to develop your own notebooks in EASI."
   ]
  },
  {
   "cell_type": "markdown",
   "metadata": {},
   "source": [
    "## Updating notebooks with Git\n",
    "\n",
    "- Downloading latest changes will overwrite any local changes you have made\n",
    "  - So make a copy of any local changes you would like to keep.\n",
    "- If you would like to propose an update, submit a Git \"pull request\" to the source repository.\n"
   ]
  },
  {
   "cell_type": "markdown",
   "metadata": {},
   "source": [
    "## Sharing notebooks with Git\n",
    "\n",
    "- Same pattern as for updating notebooks with Git, excepyt that you likely have ownership or membership of the source Git repository (i.e., a project repository)"
   ]
  },
  {
   "cell_type": "markdown",
   "metadata": {},
   "source": [
    "## Sharing notebooks by email\n",
    "\n",
    "Download the notebook to your desktop computer, then attach the file to an email.\n",
    "\n",
    "- Got to the folder icon left hand panel\n",
    "- Select the notebook and right click\"\n",
    "- Select \"Download\""
   ]
  }
 ],
 "metadata": {
  "kernelspec": {
   "display_name": "Python 3 (ipykernel)",
   "language": "python",
   "name": "python3"
  },
  "language_info": {
   "codemirror_mode": {
    "name": "ipython",
    "version": 3
   },
   "file_extension": ".py",
   "mimetype": "text/x-python",
   "name": "python",
   "nbconvert_exporter": "python",
   "pygments_lexer": "ipython3",
   "version": "3.10.6"
  }
 },
 "nbformat": 4,
 "nbformat_minor": 4
}
