{
 "cells": [
  {
   "cell_type": "markdown",
   "metadata": {},
   "source": [
    "# GEDI <img align=\"right\" src=\"../../resources/easi_logo.jpg\">\n",
    "\n",
    "### Index\n",
    "- [Overview](#Overview)\n",
    "- [Setup (imports, dask, query parameters)](#Setup)\n",
    "- [Example query (2D product)](#Example-query-for-the-2D-product)\n",
    "- [Product definition (measurements, flags)](#Product-definition)\n",
    "- [Create a mask](#Create-a-mask)\n",
    "- [Visualisation](#Visualisation)\n",
    "- [Loading DEM layer from GEDI](#Loading-DEM-layer-from-GEDI)\n",
    "- [Load GEDI 3D datasets](#Load-GEDI-3D-datasets)"
   ]
  },
  {
   "cell_type": "markdown",
   "metadata": {},
   "source": [
    "## Overview\n",
    "\n",
    "The Global Ecosystem Dynamics Investigation (GEDI) produces high resolution laser ranging observations of the 3D structure of the Earth. GEDI's precise measurements of forest canopy height, canopy vertical structure, and surface elevation greatly advance our ability to characterize important carbon and water cycling processes, biodiversity, and habitat.\n",
    "\n",
    "The GEDI instrument is a geodetic-class, light detection and ranging (lidar) laser system comprised of 3 lasers that produce 8 parallel tracks of observations. Each laser fires 242 times per second and illuminates a 25 m spot (a footprint) on the surface over which 3D structure is measured. Each footprint is separated by 60 m along track, with an across-track distance of about 600 m between each of the 8 tracks. GEDI expected to produce about 10 billion cloud-free observations during its nominal 24-month mission length.\n",
    "\n",
    "### Data source and documentation\n",
    "\n",
    "- [Official GEDI web site](https://gedi.umd.edu)\n",
    "- [Information about the GEDI products](https://gedi.umd.edu/data/products/)\n",
    "\n",
    "Some Level 2B data has been indexed in EASI, as demonstrated in this notebook.\n",
    "\n",
    "### EASI pipeline\n",
    "\n",
    "| Task | Summary \n",
    "|------|---------\n",
    "| Source | https://lpdaacsvc.cr.usgs.gov/services/gedifinder\n",
    "| Download | https://e4ftl01.cr.usgs.gov/GEDI\n",
    "| Preprocess | \n",
    "| Format | Convert to COGs \n",
    "| Prepare | Y \n",
    "| TODO | "
   ]
  },
  {
   "cell_type": "markdown",
   "metadata": {},
   "source": [
    "## Setup\n",
    "\n",
    "### Imports"
   ]
  },
  {
   "cell_type": "code",
   "execution_count": null,
   "metadata": {},
   "outputs": [],
   "source": [
    "# Data tools\n",
    "import numpy as np\n",
    "import pandas as pd\n",
    "\n",
    "# Datacube\n",
    "import datacube\n",
    "\n",
    "# Visualisation tools\n",
    "# Ignore shapely deprecation warnings. To be removed at next image update\n",
    "import warnings\n",
    "warnings.filterwarnings(\"ignore\", category=FutureWarning) \n",
    "\n",
    "from holoviews import opts\n",
    "from holoviews.operation.datashader import regrid\n",
    "import geoviews as gv\n",
    "from geoviews import tile_sources as gvts\n",
    "\n",
    "# EASI tools\n",
    "import sys\n",
    "sys.path.append('../../scripts')\n",
    "import notebook_utils"
   ]
  },
  {
   "cell_type": "markdown",
   "metadata": {},
   "source": [
    "### Dask"
   ]
  },
  {
   "cell_type": "code",
   "execution_count": null,
   "metadata": {},
   "outputs": [],
   "source": [
    "cluster, client = notebook_utils.initialize_dask(workers=(1,2), use_gateway=True)\n",
    "display(cluster)\n",
    "display(client)"
   ]
  },
  {
   "cell_type": "markdown",
   "metadata": {},
   "source": [
    "### ODC database"
   ]
  },
  {
   "cell_type": "code",
   "execution_count": null,
   "metadata": {},
   "outputs": [],
   "source": [
    "# Template code for development database\n",
    "# CONF = \"\"\"\n",
    "# [datacube]\n",
    "# db_hostname:\n",
    "# db_database:\n",
    "# db_username:\n",
    "# db_password:\n",
    "# \"\"\"\n",
    "# from datacube.config import read_config, LocalConfig\n",
    "# dc = datacube.Datacube(config=LocalConfig(read_config(CONF)), env='datacube')\n",
    "\n",
    "dc = datacube.Datacube()  # Comment if using a development database"
   ]
  },
  {
   "cell_type": "markdown",
   "metadata": {},
   "source": [
    "### Show GEDI products indexed in ODC\n",
    " There should be one 2D product (`gedi_l2b`) and three 3D products (`cover_z`, `pai_z`, `pavd_z`)."
   ]
  },
  {
   "cell_type": "code",
   "execution_count": null,
   "metadata": {},
   "outputs": [],
   "source": [
    "# Available products\n",
    "dc.list_products().filter(like=\"gedi\", axis=0)"
   ]
  },
  {
   "cell_type": "markdown",
   "metadata": {},
   "source": [
    "### Area of interest and common query parameters\n",
    "We define an area of interest around Litchfield National Park, and set the projection (CRS) and spatial resolution we will use to fetch data in this notebook.\n",
    "\n",
    "Change any of these parameters, using the Explorer interface to check the temporal and spatial coverage for each product:\n",
    "- https://explorer.csiro.easi-eo.solutions  + /product"
   ]
  },
  {
   "cell_type": "code",
   "execution_count": null,
   "metadata": {},
   "outputs": [],
   "source": [
    "query = {\n",
    "    'latitude': (-14.006031459249373, -12.980471333463804),  # \"x\" axis bounds\n",
    "    'longitude': (130.1715087890625, 131.22894287109375),    # \"y\" axis bounds\n",
    "    'output_crs': 'EPSG:4236',                               # EPSG code\n",
    "    'resolution': (-1/3600, 1/3600),                         # Target resolution\n",
    "}"
   ]
  },
  {
   "cell_type": "markdown",
   "metadata": {},
   "source": [
    "## Example query for the 2D product\n",
    "Load the `beam` data from the 2D GEDI product `gedi_l2b`."
   ]
  },
  {
   "cell_type": "code",
   "execution_count": null,
   "metadata": {},
   "outputs": [],
   "source": [
    "product = 'gedi_l2b'\n",
    "measurements = ['beam']\n",
    "\n",
    "data = dc.load(\n",
    "    product=product,            # Product name\n",
    "    measurements=measurements,  # Measurements to load\n",
    "    **query\n",
    ")\n",
    "\n",
    "notebook_utils.heading(notebook_utils.xarray_object_size(data))\n",
    "data"
   ]
  },
  {
   "cell_type": "markdown",
   "metadata": {},
   "source": [
    "## Product definition\n",
    "\n",
    "Display the measurement definitions for the selected product.\n",
    "\n",
    "Use `list_measurements` to show the details for a product, and `masking.describe_variable_flags` to show the flag definitions."
   ]
  },
  {
   "cell_type": "code",
   "execution_count": null,
   "metadata": {},
   "outputs": [],
   "source": [
    "# Measurement definitions for the selected product\n",
    "measurement_info = dc.list_measurements().loc[product]\n",
    "notebook_utils.heading(f'Measurement table for product: {product}')\n",
    "notebook_utils.display_table(measurement_info)\n",
    "\n",
    "# Separate lists of measurement names and flag names\n",
    "measurement_names = measurement_info[ pd.isnull(measurement_info.flags_definition)].index\n",
    "flag_names        = measurement_info[pd.notnull(measurement_info.flags_definition)].index\n",
    "\n",
    "notebook_utils.heading('Selected Measurement and Flag names')\n",
    "notebook_utils.display_table(pd.DataFrame({\n",
    "    'group': ['Measurement names', 'Flag names'],\n",
    "    'names': [', '.join(measurement_names), ', '.join(flag_names)]\n",
    "}))\n",
    "\n",
    "# Flag definitions\n",
    "for flag in flag_names:\n",
    "    notebook_utils.heading(f'Flag definition table for flag name: {flag}')\n",
    "    notebook_utils.display_table(masking.describe_variable_flags(data[flag]))"
   ]
  },
  {
   "cell_type": "markdown",
   "metadata": {},
   "source": [
    "## Create a mask\n",
    "\n",
    "Pixels to keep have `beam` data different from `no-data` for at least one time slice. So we start by fusing the beam data into a single layer, keeping any non-`no-data`."
   ]
  },
  {
   "cell_type": "code",
   "execution_count": null,
   "metadata": {},
   "outputs": [],
   "source": [
    "def func_combine_dates(da, dask=False):\n",
    "    \"\"\"Fuse different dates of GEDI data into single layer.\"\"\"\n",
    "    dx = None\n",
    "    for itime in da.time:\n",
    "        if (dask):\n",
    "            dt = da.sel({'time':itime}).compute()\n",
    "        else:\n",
    "            dt = da.sel({'time':itime})\n",
    "        if dx is None:\n",
    "            dx = dt\n",
    "        else:\n",
    "            idx = np.where(dt.values != da.attrs['nodata'])\n",
    "            dx.values[idx] = dt.values[idx]\n",
    "    return dx"
   ]
  },
  {
   "cell_type": "code",
   "execution_count": null,
   "metadata": {},
   "outputs": [],
   "source": [
    "beam = func_combine_dates(data['beam'])\n",
    "beam"
   ]
  },
  {
   "cell_type": "markdown",
   "metadata": {},
   "source": [
    "Pull the beam values, replacing `no-data` pixels by `NaN` for visualisation purposes."
   ]
  },
  {
   "cell_type": "code",
   "execution_count": null,
   "metadata": {},
   "outputs": [],
   "source": [
    "mask = beam.values == beam.attrs[\"nodata\"]\n",
    "beam_vals = beam.values.astype(np.float32)  # Convert to float to support NaN values\n",
    "beam_vals[mask] = np.nan"
   ]
  },
  {
   "cell_type": "markdown",
   "metadata": {},
   "source": [
    "## Visualisation\n",
    "Plot the GEDI  beam data over Open Street Map. The map is zoomable."
   ]
  },
  {
   "cell_type": "code",
   "execution_count": null,
   "metadata": {},
   "outputs": [],
   "source": [
    "opts.defaults(\n",
    "    opts.Curve(xaxis=None, yaxis=None, show_grid=False, show_frame=False,\n",
    "               color='orangered', framewise=True, width=100),\n",
    "    opts.Image(width=800, height=400, shared_axes=False, colorbar=True,\n",
    "               xaxis=True, yaxis=True, axiswise=True, bgcolor='white'),\n",
    "    opts.HLine(color='white', line_width=1),\n",
    "    opts.Layout(shared_axes=False),\n",
    "    opts.VLine(color='white', line_width=1))"
   ]
  },
  {
   "cell_type": "code",
   "execution_count": null,
   "metadata": {},
   "outputs": [],
   "source": [
    "gvts.OSM * regrid(\n",
    "    gv.Image((beam.longitude, beam.latitude, beam_vals))\n",
    ").opts(\n",
    "    cmap='jet',\n",
    "    clim=(0,13),\n",
    "    width=800,\n",
    "    height=800\n",
    ")"
   ]
  },
  {
   "cell_type": "markdown",
   "metadata": {},
   "source": [
    "## Loading DEM layer from GEDI\n",
    "The DEM can be loaded and displayed in a similar way."
   ]
  },
  {
   "cell_type": "code",
   "execution_count": null,
   "metadata": {},
   "outputs": [],
   "source": [
    "product = 'gedi_l2b'\n",
    "measurements=['digital_elevation_model']\n",
    "\n",
    "data2 = dc.load(\n",
    "    product=product,            # Product name\n",
    "    measurements=measurements,  # Measurements to load\n",
    "    **query\n",
    ")\n",
    "dem = func_combine_dates(data2['digital_elevation_model'])"
   ]
  },
  {
   "cell_type": "code",
   "execution_count": null,
   "metadata": {},
   "outputs": [],
   "source": [
    "dem_vals = dem.values\n",
    "dem_vals[mask] = np.nan\n",
    "gvts.OSM * regrid(\n",
    "        gv.Image((dem.longitude, dem.latitude, dem_vals))\n",
    "    ).opts(\n",
    "        title='DEM - Litchfield', \n",
    "        clim=(0,400), \n",
    "        cmap='jet', \n",
    "        colorbar=True, \n",
    "        width=800, \n",
    "        height=800\n",
    "    ).hist()"
   ]
  },
  {
   "cell_type": "markdown",
   "metadata": {},
   "source": [
    "### Unload some data before continuing"
   ]
  },
  {
   "cell_type": "code",
   "execution_count": null,
   "metadata": {},
   "outputs": [],
   "source": [
    "del beam, dem, dem_vals, data, data2"
   ]
  },
  {
   "cell_type": "markdown",
   "metadata": {},
   "source": [
    "## Load GEDI 3D datasets\n",
    "There are three 3D datasets: `cover_z`, `pai_z` and `pavd_z` available as separate products. Here we load `cover_z` as an example."
   ]
  },
  {
   "cell_type": "code",
   "execution_count": null,
   "metadata": {},
   "outputs": [],
   "source": [
    "product='gedi_l2b_cover_z'\n",
    "# Measurements are the different altitudes, we load them all.\n",
    "data = dc.load(\n",
    "    product=product,            # Product name\n",
    "    dask_chunks={'time': 1},    # Use dask chunks\n",
    "    **query\n",
    ")\n",
    "data"
   ]
  },
  {
   "cell_type": "code",
   "execution_count": null,
   "metadata": {},
   "outputs": [],
   "source": [
    "# Display the second time slice (t=1)\n",
    "print(\"Expand Data variables to see the data at each altitude\")\n",
    "data.isel(time=1).load()"
   ]
  }
 ],
 "metadata": {
  "kernelspec": {
   "display_name": "Python 3 (ipykernel)",
   "language": "python",
   "name": "python3"
  },
  "language_info": {
   "codemirror_mode": {
    "name": "ipython",
    "version": 3
   },
   "file_extension": ".py",
   "mimetype": "text/x-python",
   "name": "python",
   "nbconvert_exporter": "python",
   "pygments_lexer": "ipython3",
   "version": "3.8.10"
  }
 },
 "nbformat": 4,
 "nbformat_minor": 4
}
