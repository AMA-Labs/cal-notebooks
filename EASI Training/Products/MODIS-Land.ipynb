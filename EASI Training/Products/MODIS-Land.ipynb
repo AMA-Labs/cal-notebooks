{
 "cells": [
  {
   "cell_type": "markdown",
   "metadata": {},
   "source": [
    "# MODIS Land products <img align=\"right\" src=\"../../resources/easi_logo.jpg\">\n",
    "\n",
    "_Work in progress_\n",
    "\n",
    "#### Index\n",
    "- [Overview](#Overview)\n",
    "- [Setup (dask, imports, query)](#Setup)\n",
    "- [Product definition (measurements, flags)](#Product-definition)\n",
    "- [Quality layer (mask)](#Quality-layer)\n",
    "- [Scaling and nodata](#Scaling-and-nodata)\n",
    "- [Visualisation](#Visualisation)\n",
    "- [Appendix](#Appendix)"
   ]
  },
  {
   "cell_type": "markdown",
   "metadata": {},
   "source": [
    "## Overview\n",
    "\n",
    "MDOSI Land products are produced and managed by Land Processes DAAC (LPDAAC) hosted by USGS, https://lpdaac.usgs.gov.\n",
    "\n",
    "#### Data source and documentation\n",
    "\n",
    "Selected MODIS land products are ordered and downloaded from the AppEEARS API, https://lpdaacsvc.cr.usgs.gov/appeears. The AppEEARS MODIS products are merged from the hXXvYY HDF tiles, for a given bounding box, and converted to Geotiff. The original sinusoidal projection is retained.\n",
    "\n",
    "Not all MODIS land products are available via AppEEARS, e.g. MCD43A2, so we expect to supplement the AppEEARS workflow with direct access to the LPDAAC data pool. We do not anticipate any differences in the EASI products from the two sources (but we'll cross that bridge when we come to it).\n",
    "\n",
    "| Name | Product | Information |\n",
    "|--|--|--|\n",
    "| MOD11A1.006 Land surface temperature & emmissivity | lpdaac_mod11a1c6_lste | https://doi.org/10.5067/MODIS/MOD11A1.006 |\n",
    "| MCD12Q1.006 Land cover type | lpdaac_mcd12q1c6_lctype | https://doi.org/10.5067/MODIS/MCD12Q1.006 |\n",
    "| MOD13Q1.006 Vegetation indicies | lpdaac_mod13q1c6_vi | https://doi.org/10.5067/MODIS/MOD13Q1.006 |\n",
    "| MCD43A4.006 NBAR | lpdaac_mcd43a4c6_nbar | https://doi.org/10.5067/MODIS/MCD43A4.006 |\n",
    "\n",
    "#### EASI pipeline\n",
    "\n",
    "| Task | Summary |\n",
    "|------|---------|\n",
    "| Source | AppEEARS|\n",
    "| Download | Merged sinusoidal geotiff|\n",
    "| Preprocess | |\n",
    "| Format | Convert to COGs|\n",
    "| Prepare | Y|\n",
    "| TODO | |"
   ]
  },
  {
   "cell_type": "markdown",
   "metadata": {},
   "source": [
    "### Product details\n",
    "Used below in various places.\n",
    "\n",
    "TODO:\n",
    "- Move this to a function to simplify the notebook\n",
    "- Add details for `lpdaac_mod11a1c6_lste` and `\tlpdaac_mcd43a4c6_nbar`"
   ]
  },
  {
   "cell_type": "code",
   "execution_count": null,
   "metadata": {},
   "outputs": [],
   "source": [
    "product_map = {}\n",
    "\n",
    "# lpdaac_mod13q1c6_ndvi\n",
    "\n",
    "product_map['lpdaac_mod13q1c6_vi'] = {\n",
    "    'ndvi': {'scale': 0.0001, 'offset': 0, 'clim': (0,1)},\n",
    "    'evi': {'scale': 0.0001, 'offset': 0, 'clim': (0,1)},\n",
    "    'surf_refl_red': {'scale': 0.0001, 'offset': 0, 'clim': (0,1)},\n",
    "    'surf_refl_nir': {'scale': 0.0001, 'offset': 0, 'clim': (0,1)},\n",
    "    'surf_refl_blue': {'scale': 0.0001, 'offset': 0, 'clim': (0,1)},\n",
    "    'surf_refl_mir': {'scale': 0.0001, 'offset': 0, 'clim': (0,1)},\n",
    "    'view_zenith': {'scale': 0.01, 'offset': 0, 'clim': (0,180)},\n",
    "    'sun_zenith': {'scale': 0.01, 'offset': 0, 'clim': (0,180)},\n",
    "    'relative_azimuth': {'scale': 0.01, 'offset': 0, 'clim': (-180,180)},\n",
    "    'composite_doy': {'scale': 1, 'offset': 0, 'clim': (1,366)},\n",
    "    'quality': {'scale': 1, 'offset': 0, 'clim': (0,65534)},\n",
    "    'pixel_reliability': {'scale': 1, 'offset': 0, 'clim': (0,3)},\n",
    "    'flag': {\n",
    "        'name': 'pixel_reliability',\n",
    "        'good': ('good_data', 'marginal_data'),\n",
    "        'bad': None,\n",
    "    },\n",
    "    'load': {\n",
    "#         'crs': 'native',\n",
    "#         'resolution': (231.656358263888990, 231.656358263888990),  # sinusoidal, 250 m\n",
    "        'crs': 'epsg:4326',\n",
    "        'resolution': (0.0025, 0.0025),  # wgs84, 250 m\n",
    "    },\n",
    "}\n",
    "\n",
    "# lpdaac_mcd12q1c6_lctype\n",
    "\n",
    "product_map['lpdaac_mcd12q1c6_lctype'] = {\n",
    "    'lc_type1': {'scale': 1, 'offset': 0, 'clim': (1,17)},\n",
    "    'lc_type2': {'scale': 1, 'offset': 0, 'clim': (0,15)},\n",
    "    'lc_type3': {'scale': 1, 'offset': 0, 'clim': (0,10)},\n",
    "    'lc_type4': {'scale': 1, 'offset': 0, 'clim': (0,8)},\n",
    "    'lc_type5': {'scale': 1, 'offset': 0, 'clim': (0,11)},\n",
    "    'lc_prop1': {'scale': 1, 'offset': 0, 'clim': (1,43)},\n",
    "    'lc_prop2': {'scale': 1, 'offset': 0, 'clim': (1,40)},\n",
    "    'lc_prop3': {'scale': 1, 'offset': 0, 'clim': (1,51)},\n",
    "    'lc_prop1_assessment': {'scale': 1, 'offset': 0, 'clim': (0,100)},\n",
    "    'lc_prop2_assessment': {'scale': 1, 'offset': 0, 'clim': (0,100)},\n",
    "    'lc_prop3_assessment': {'scale': 1, 'offset': 0, 'clim': (0,100)},\n",
    "    'quality': {'scale': 1, 'offset': 0, 'clim': (0,10)},\n",
    "    'lw_mask': {'scale': 1, 'offset': 0, 'clim': (1,2)},\n",
    "    'flag': {\n",
    "        'name': 'quality',\n",
    "        'good': ('classified_land',),\n",
    "        'bad': None,\n",
    "    },\n",
    "    'load': {\n",
    "#         'crs': 'native',\n",
    "#         'resolution': (),  # sinusoidal, 500 m\n",
    "        'crs': 'epsg:4326',\n",
    "        'resolution': (0.005, 0.005),  # wgs84, 500 m\n",
    "    },\n",
    "}"
   ]
  },
  {
   "cell_type": "markdown",
   "metadata": {},
   "source": [
    "## Setup\n",
    "\n",
    "#### Dask"
   ]
  },
  {
   "cell_type": "code",
   "execution_count": null,
   "metadata": {},
   "outputs": [],
   "source": [
    "from dask.distributed import Client\n",
    "\n",
    "client = Client(\"tcp://10.0.35.181:40115\")\n",
    "client"
   ]
  },
  {
   "cell_type": "markdown",
   "metadata": {},
   "source": [
    "#### Imports"
   ]
  },
  {
   "cell_type": "code",
   "execution_count": null,
   "metadata": {},
   "outputs": [],
   "source": [
    "# Data tools\n",
    "import numpy as np\n",
    "import xarray as xr\n",
    "import pandas as pd\n",
    "from datetime import datetime\n",
    "\n",
    "# Datacube\n",
    "import datacube\n",
    "from datacube.utils import masking  # https://github.com/opendatacube/datacube-core/blob/develop/datacube/utils/masking.py\n",
    "from odc.algo import enum_to_bool   # https://github.com/opendatacube/odc-tools/blob/develop/libs/algo/odc/algo/_masking.py\n",
    "from odc.algo import xr_reproject   # https://github.com/opendatacube/odc-tools/blob/develop/libs/algo/odc/algo/_warp.py\n",
    "from datacube.utils.geometry import GeoBox, box  # https://github.com/opendatacube/datacube-core/blob/develop/datacube/utils/geometry/_base.py\n",
    "from datacube.utils.rio import configure_s3_access\n",
    "\n",
    "# Holoviews, Datashader and Bokeh\n",
    "import hvplot.pandas\n",
    "import hvplot.xarray\n",
    "import holoviews as hv\n",
    "import panel as pn\n",
    "import colorcet as cc\n",
    "import cartopy.crs as ccrs\n",
    "from datashader import reductions\n",
    "from holoviews import opts\n",
    "# import geoviews as gv\n",
    "# from holoviews.operation.datashader import rasterize\n",
    "hv.extension('bokeh', logo=False)\n",
    "\n",
    "# Python\n",
    "import sys, os, re\n",
    "\n",
    "# Optional EASI tools\n",
    "sys.path.append(os.path.expanduser('~/hub-notebooks/scripts'))\n",
    "import notebook_utils"
   ]
  },
  {
   "cell_type": "markdown",
   "metadata": {},
   "source": [
    "#### ODC database"
   ]
  },
  {
   "cell_type": "code",
   "execution_count": null,
   "metadata": {},
   "outputs": [],
   "source": [
    "# For development products:\n",
    "#  - This is a development ODC database while we test and demo this product.\n",
    "CONF = \"\"\"\n",
    "[datacube]\n",
    "db_hostname: v2-db-easihub-csiro-eks.cluster-ro-cvaedcg0qvwd.ap-southeast-2.rds.amazonaws.com\n",
    "db_database: user_dev_odc\n",
    "db_username: user\n",
    "db_password: secretpassword\n",
    "\"\"\"\n",
    "from datacube.config import read_config, LocalConfig\n",
    "dc = datacube.Datacube(config=LocalConfig(read_config(CONF)), env='datacube')\n",
    "\n",
    "# dc = datacube.Datacube()"
   ]
  },
  {
   "cell_type": "markdown",
   "metadata": {},
   "source": [
    "#### Example query\n",
    "\n",
    "Change any of the parameters in the query object below to adjust the location, time, projection, or spatial resolution of the returned datasets.\n",
    "\n",
    "Use the Explorer interface to check the temporal and spatial coverage for each product:\n",
    "- https://explorer.csiro.easi-eo.solutions  + /product (when available)"
   ]
  },
  {
   "cell_type": "code",
   "execution_count": null,
   "metadata": {},
   "outputs": [],
   "source": [
    "# Area name\n",
    "min_longitude, max_longitude = (100, 120)\n",
    "min_latitude, max_latitude = (-5, 10)\n",
    "min_date = '2000-01-01'\n",
    "max_date = '2022-12-31'\n",
    "\n",
    "# Select product\n",
    "# product = 'lpdaac_mod11a1c6_lste'\n",
    "# product = 'lpdaac_mcd12q1c6_lctype'\n",
    "product = 'lpdaac_mod13q1c6_vi'\n",
    "# product = 'lpdaac_mcd43a4c6_nbar'\n",
    "\n",
    "# Form an initial query object\n",
    "query = {\n",
    "    'product': product,                     # Product name\n",
    "    'x': (min_longitude, max_longitude),    # \"x\" axis bounds\n",
    "    'y': (min_latitude, max_latitude),      # \"y\" axis bounds\n",
    "    'time': (min_date, max_date),           # Any parsable date strings\n",
    "}\n",
    "\n",
    "# CRS\n",
    "native_crs = product_map[product]['load']['crs']\n",
    "if native_crs == 'native':\n",
    "    pass\n",
    "    # TODO: Sinusoidal (first try) introduced an eastward shift of a few kms\n",
    "    # Most common CRS\n",
    "    # native_crs = notebook_utils.mostcommon_crs(dc, query)\n",
    "    # display(native_crs)\n",
    "    # query.update({\n",
    "    #     'output_crs': native_crs,               # EPSG code\n",
    "    #     'resolution': (-231.656358263888990, 231.656358263888990), # Target resolution\n",
    "    #     'group_by': 'solar_day',                # Scene ordering\n",
    "    #     'dask_chunks': {'x': 2048, 'y': 2048},  # Dask chunks\n",
    "    # })\n",
    "\n",
    "# Finalise query object\n",
    "query.update({\n",
    "    'output_crs': native_crs,               # EPSG code\n",
    "    'resolution': product_map[product]['load']['resolution'], # Target resolution\n",
    "    'group_by': 'solar_day',                # Scene ordering\n",
    "    'dask_chunks': {'longitude': 2048, 'latitude': 2048},  # Dask chunks\n",
    "})"
   ]
  },
  {
   "cell_type": "code",
   "execution_count": null,
   "metadata": {},
   "outputs": [],
   "source": [
    "# Optional. Some products require AWS S3 credentials to supplied\n",
    "\n",
    "# S3 credentials - required for s2_l2a\n",
    "# configure_s3_access(aws_unsigned=True,requester_pays=False,client=client)\n",
    "# print(\"Configured s3 requester pays data access\")"
   ]
  },
  {
   "cell_type": "code",
   "execution_count": null,
   "metadata": {},
   "outputs": [],
   "source": [
    "# Load data\n",
    "data = dc.load(**query)\n",
    "\n",
    "notebook_utils.heading(notebook_utils.xarray_object_size(data))\n",
    "display(data)\n",
    "\n",
    "# Calculate valid (not nodata) masks for each layer\n",
    "valid_mask = masking.valid_data_mask(data)\n",
    "notebook_utils.heading('Valid data masks for each variable')\n",
    "display(valid_mask)"
   ]
  },
  {
   "cell_type": "markdown",
   "metadata": {},
   "source": [
    "## Product definition\n",
    "\n",
    "Display the measurement definitions for the selected product.\n",
    "\n",
    "Use `list_measurements` to show the details for a product, and `masking.describe_variable_flags` to show the flag definitions."
   ]
  },
  {
   "cell_type": "code",
   "execution_count": null,
   "metadata": {},
   "outputs": [],
   "source": [
    "# Measurement definitions for the selected product\n",
    "measurement_info = dc.list_measurements().loc[query['product']]\n",
    "notebook_utils.heading(f'Measurement table for product: {query[\"product\"]}')\n",
    "notebook_utils.display_table(measurement_info)\n",
    "\n",
    "# Separate lists of measurement names and flag names\n",
    "measurement_names = measurement_info[ pd.isnull(measurement_info.flags_definition)].index\n",
    "flag_names        = measurement_info[pd.notnull(measurement_info.flags_definition)].index\n",
    "\n",
    "notebook_utils.heading('Selected Measurement and Flag names')\n",
    "notebook_utils.display_table(pd.DataFrame({\n",
    "    'group': ['Measurement names', 'Flag names'],\n",
    "    'names': [', '.join(measurement_names), ', '.join(flag_names)]\n",
    "}))\n",
    "\n",
    "# Flag definitions\n",
    "for flag in flag_names:\n",
    "    notebook_utils.heading(f'Flag definition table for flag name: {flag}')\n",
    "    notebook_utils.display_table(masking.describe_variable_flags(data[flag]))"
   ]
  },
  {
   "cell_type": "markdown",
   "metadata": {},
   "source": [
    "## Quality layer"
   ]
  },
  {
   "cell_type": "code",
   "execution_count": null,
   "metadata": {},
   "outputs": [],
   "source": [
    "# Make flags image\n",
    "flag_name = product_map[product]['flag']['name']\n",
    "flag_data = data[[flag_name]].persist() #.where(valid_mask[flag_name]).persist()   # Dataset\n",
    "display(flag_data)"
   ]
  },
  {
   "cell_type": "code",
   "execution_count": null,
   "metadata": {},
   "outputs": [],
   "source": [
    "# These options manipulate the color map and colorbar to show the categories for this product\n",
    "options = {\n",
    "    'title': f'Flag data for: {query[\"product\"]} ({flag_name})',\n",
    "    'cmap': cc.rainbow,\n",
    "    'colorbar': True,\n",
    "    'width': 800,\n",
    "    'height': 450,\n",
    "    'aspect': 'equal',\n",
    "    'tools': ['hover'],\n",
    "}\n",
    "\n",
    "# Set the Dataset CRS\n",
    "if native_crs == 'epsg:4326':\n",
    "    plot_crs = ccrs.PlateCarree()\n",
    "    x_dim, y_dim = ('longitude', 'latitude')\n",
    "else:\n",
    "    plot_crs = ccrs.Sinusoidal()\n",
    "    x_dim, y_dim = ('x', 'y')\n",
    "\n",
    "\n",
    "# Native data and coastline overlay:\n",
    "# - Comment `crs`, `projection`, `coastline` to plot in native_crs coords\n",
    "# TODO: Update the axis labels to 'longitude', 'latitude' if `coastline` is used\n",
    "\n",
    "quality_plot = flag_data.hvplot.image(\n",
    "    x = x_dim, y = y_dim,         # Dataset x,y dimension names\n",
    "    rasterize = True,                        # Use Datashader\n",
    "    aggregator = reductions.mode(),          # Datashader selects mode value, requires 'hv.Image'\n",
    "    precompute = True,                       # Datashader precomputes what it can\n",
    "    crs = plot_crs,                          # Dataset CRS\n",
    "    projection = ccrs.PlateCarree(),         # Output Projection (ccrs.PlateCarree() when coastline=True)\n",
    "    coastline = '10m',                       # Coastline = '10m'/'50m'/'110m'\n",
    ").options(opts.Image(**options)).hist()\n",
    "\n",
    "# display(quality_plot)\n",
    "# Optional: Change the default time slider to a dropdown list, https://stackoverflow.com/a/54912917\n",
    "fig = pn.panel(quality_plot, widgets={'time': pn.widgets.Select})  # widget_location='top_left'\n",
    "display(fig)"
   ]
  },
  {
   "cell_type": "code",
   "execution_count": null,
   "metadata": {},
   "outputs": [],
   "source": [
    "# Create mask layer\n",
    "\n",
    "if product_map[product]['flag']['good']:\n",
    "    good_pixel_flags = product_map[product]['flag']['good']\n",
    "    pixel_mask = enum_to_bool(data[flag_name], good_pixel_flags)  # -> bool array\n",
    "    display(f'Using good pixel flags: {good_pixel_flags}')\n",
    "    \n",
    "elif product_map[product]['flag']['bad']:\n",
    "    bad_pixel_flags = product_map[product]['flag']['bad']\n",
    "    pixel_mask = enum_to_bool(data[flag_name], bad_pixel_flags, invert=True)  # -> bool array\n",
    "    display(f'Using bad pixel flags: {bad_pixel_flags}')\n",
    "    \n",
    "else:\n",
    "    print('Define the \"good\" or \"bad\" flag set in Product details')\n",
    "\n",
    "display(pixel_mask)  # Type: bool"
   ]
  },
  {
   "cell_type": "markdown",
   "metadata": {},
   "source": [
    "## Masking and Scaling"
   ]
  },
  {
   "cell_type": "code",
   "execution_count": null,
   "metadata": {},
   "outputs": [],
   "source": [
    "# Select a layer and apply masking and scaling, then persist in dask\n",
    "\n",
    "layer_name = 'ndvi' # NDVI\n",
    "# layer_name = 'lc_type1'  # LC Type\n",
    "\n",
    "scale = 1\n",
    "offset = 0\n",
    "if 'scale' in product_map[product][layer_name]:\n",
    "    scale = product_map[product][layer_name]['scale']\n",
    "if 'offset' in product_map[product][layer_name]:\n",
    "    offset = product_map[product][layer_name]['offset']\n",
    "\n",
    "# Apply valid mask and good pixel mask\n",
    "layer = data[[layer_name]].where(valid_mask[layer_name] & pixel_mask) * scale + offset\n",
    "layer = layer.persist()"
   ]
  },
  {
   "cell_type": "markdown",
   "metadata": {},
   "source": [
    "## Visualisation"
   ]
  },
  {
   "cell_type": "code",
   "execution_count": null,
   "metadata": {},
   "outputs": [],
   "source": [
    "# Generate a plot\n",
    "\n",
    "# Colour limit\n",
    "clim = (0,1)\n",
    "if 'clim' in product_map[product][layer_name]:\n",
    "    clim = product_map[product][layer_name]['clim']\n",
    "\n",
    "options = {\n",
    "    'title': f'{query[\"product\"]}: {layer_name}',\n",
    "    'width': 800,\n",
    "    'height': 450,\n",
    "    'aspect': 'equal',\n",
    "    'cmap': cc.rainbow,\n",
    "    'clim': clim,                          # Limit the color range depending on the layer_name\n",
    "    'colorbar': True,\n",
    "    'tools': ['hover'],\n",
    "}\n",
    "\n",
    "# Set the Dataset CRS\n",
    "if native_crs == 'epsg:4326':\n",
    "    plot_crs = ccrs.PlateCarree()\n",
    "    x_dim, y_dim = ('longitude', 'latitude')\n",
    "else:\n",
    "    plot_crs = ccrs.Sinusoidal()\n",
    "    x_dim, y_dim = ('x', 'y')\n",
    "\n",
    "\n",
    "# Native data and coastline overlay:\n",
    "# - Comment `crs`, `projection`, `coastline` to plot in native_crs coords\n",
    "# TODO: Update the axis labels to 'longitude', 'latitude' if `coastline` is used\n",
    "\n",
    "layer_plot = layer.hvplot.image(\n",
    "    x = x_dim, y = y_dim,                        # Dataset x,y dimension names\n",
    "    rasterize = True,                        # Use Datashader\n",
    "    aggregator = reductions.mode(),          # Datashader selects mean value\n",
    "    precompute = True,                       # Datashader precomputes what it can\n",
    "    crs = plot_crs,                        # Dataset crs\n",
    "    projection = ccrs.PlateCarree(),         # Output projection (use ccrs.PlateCarree() when coastline=True)\n",
    "    coastline='10m',                         # Coastline = '10m'/'50m'/'110m'\n",
    ").options(opts.Image(**options)).hist(bin_range = options['clim'])\n",
    "\n",
    "# display(layer_plot)\n",
    "# Optional: Change the default time slider to a dropdown list, https://stackoverflow.com/a/54912917\n",
    "fig = pn.panel(layer_plot, widgets={'time': pn.widgets.Select})  # widget_location='top_left'\n",
    "display(fig)"
   ]
  },
  {
   "cell_type": "markdown",
   "metadata": {},
   "source": [
    "## Appendix"
   ]
  },
  {
   "cell_type": "code",
   "execution_count": null,
   "metadata": {},
   "outputs": [],
   "source": []
  }
 ],
 "metadata": {
  "kernelspec": {
   "display_name": "Python 3",
   "language": "python",
   "name": "python3"
  },
  "language_info": {
   "codemirror_mode": {
    "name": "ipython",
    "version": 3
   },
   "file_extension": ".py",
   "mimetype": "text/x-python",
   "name": "python",
   "nbconvert_exporter": "python",
   "pygments_lexer": "ipython3",
   "version": "3.8.5"
  }
 },
 "nbformat": 4,
 "nbformat_minor": 4
}
