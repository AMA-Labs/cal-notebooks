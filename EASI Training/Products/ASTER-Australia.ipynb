{
 "cells": [
  {
   "cell_type": "markdown",
   "metadata": {},
   "source": [
    "# National ASTER Map of Australia <img align=\"right\" src=\"../../resources/easi_logo.jpg\">\n",
    "\n",
    "#### Index\n",
    "- [Overview](#Overview)\n",
    "- [Setup (dask, imports, query)](#Setup)\n",
    "- [Product definition (measurements, flags)](#Product-definition)\n",
    "- [Quality layer (mask)](#Quality-layer)\n",
    "- [Scaling and nodata](#Scaling-and-nodata)\n",
    "- [Visualisation](#Visualisation)\n",
    "- [Appendix](#Appendix)"
   ]
  },
  {
   "cell_type": "markdown",
   "metadata": {},
   "source": [
    "## Overview\n",
    "\n",
    "National ASTER Map of Australia comprises a set of 17 geoscience products made up of mosaiced ASTER (Advanced Spaceborne Thermal Emission and Reflection Radiometer) scenes across Australia. The individual geoscience products are a combination of bands and band ratios to highlight different mineral groups and parameters.\n",
    "\n",
    "- CSIRO publication reference: https://doi.org/10.4225/08/584d948f9bbd1\n",
    "- CSIRO data reference: https://doi.org/10.4225/08/51400D6F7B335\n",
    "- Geoscience Australia catalogue: https://ecat.ga.gov.au/geonetwork/srv/eng/catalog.search#/metadata/74347\n",
    "- NCI catalogue: https://geonetwork.nci.org.au/geonetwork/srv/eng/catalog.search#/metadata/f7754_6464_7646_8363\n",
    "\n",
    "#### Data source and documentation\n",
    "\n",
    "| Product name | Name and Metadata link | Interpretation |\n",
    "|--|--|--|\n",
    "| aster_aloh_group_composition | [AlOH group composition](https://geonetwork.nci.org.au/geonetwork/srv/eng/catalog.search#/metadata/f1823_6337_2787_1326) | Blue is well ordered kaolinite, Al-rich white mica (muscovite, illite, paragonite), pyrophyllite, beidellite<br>Red is Al-poor (Si-rich) white mica (phengite), montmorillonite |\n",
    "| aster_aloh_group_content | [AlOH group content](https://geonetwork.nci.org.au/geonetwork/srv/eng/catalog.search#/metadata/f1168_3523_3375_4697) | Blue is low content<br>Red is high content |\n",
    "| aster_false_colour | | Non-geological differences within and between ASTER scenes caused by green vegetation (red), fire scars, thin and thick cloud and cloud shadows. Use band 2 only for a gray-scale background to the content, composition and index colour products.\n",
    "| aster_feoh_group_content | [FeOH group content](https://geonetwork.nci.org.au/geonetwork/srv/eng/catalog.search#/metadata/f8711_1072_0979_6939) | Blue is low content<br>Red is high content |\n",
    "| aster_ferric_oxide_composition | [Ferric oxide composition](https://geonetwork.nci.org.au/geonetwork/srv/eng/catalog.search#/metadata/f7401_6489_2308_2725) | Blue-cyan is non-hematitie, i.e. goethite-rich<br>Red-yellow is hematite-rich |\n",
    "| aster_ferric_oxide_content | [Ferric oxide content](https://geonetwork.nci.org.au/geonetwork/srv/eng/catalog.search#/metadata/f0613_6306_9085_9820) | Blue is low abundance<br>Red is high abundance |\n",
    "| aster_ferrous_iron_content_in_mgoh | [Ferrous iron content in MgOH/carbonate](https://geonetwork.nci.org.au/geonetwork/srv/eng/catalog.search#/metadata/f2024_0154_4178_4072) | Blue is low ferrous iron content in carbonate and MgOH minerals like talc and tremolite<br>Red is high ferrous iron content in carbonate and MgOH minerals like chlorite and actinolite |\n",
    "| aster_ferrous_iron_index | [Ferrous iron index](https://geonetwork.nci.org.au/geonetwork/srv/eng/catalog.search#/metadata/f3532_2246_1929_4927) | Blue is low abundance<br>Red is high abundance |\n",
    "| aster_green_vegetation | [Green vegetation content](https://geonetwork.nci.org.au/geonetwork/srv/eng/catalog.search#/metadata/f7232_3072_6209_7100) | Blue is low content<br>Red is high content |\n",
    "| aster_gypsum_index |\n",
    "| aster_kaolin_group_index | [Kaolin group index](https://geonetwork.nci.org.au/geonetwork/srv/eng/catalog.search#/metadata/f9063_0048_5432_4205) | Blue is low content<br>Red is high content |\n",
    "| aster_mgoh_group_composition | [MgOH group composition](https://geonetwork.nci.org.au/geonetwork/srv/eng/catalog.search#/metadata/f4127_0310_8856_3869) | Blue-cyan is magnesite-dolomite, amphibole, chlorite<br>Red is calcite, epidote, amphibole |\n",
    "| aster_mgoh_group_content | [MgOH group content](https://geonetwork.nci.org.au/geonetwork/srv/eng/catalog.search#/metadata/f1734_9663_3557_9883) | Blue is low content<br>Red is high content |\n",
    "| aster_opaque_index | [Opaque index](https://geonetwork.nci.org.au/geonetwork/srv/eng/catalog.search#/metadata/f3401_6961_4148_6080) | Blue is low content<br>Red is high content |\n",
    "| aster_quartz_index | [TIR Quartz index](https://geonetwork.nci.org.au/geonetwork/srv/eng/catalog.search#/metadata/f1011_7875_7538_2807)\n",
    "| aster_regolith_ratios |\n",
    "| aster_silica_index | [TIR Silica index](https://geonetwork.nci.org.au/geonetwork/srv/eng/catalog.search#/metadata/f2150_3654_7441_8491)\n",
    "\n",
    "#### EASI pipeline\n",
    "\n",
    "| Task | Summary |\n",
    "|------|---------|\n",
    "| Source | Index from https://data.dea.ga.gov.au/?prefix=ASTER_Geoscience_Map_of_Australia |\n",
    "| Download | n/a |\n",
    "| Preprocess | n/a |\n",
    "| Format | n/a |\n",
    "| Prepare | n/a |\n",
    "| TODO | Consider reformatting the files and copying to EASI |\n",
    "\n",
    "#### To Do\n",
    "- [ ] Visualisation is very slow. Consider reformatting the files and copying to EASI\n",
    "   - Closest issue/discussion https://discourse.holoviz.org/t/canvas-raster-failing-when-reading-with-dask/736\n",
    "- [ ] Update colour limits for each product. Current limits from the CSIRO report do not seem to match the range in the GA files."
   ]
  },
  {
   "cell_type": "markdown",
   "metadata": {},
   "source": [
    "## Setup\n",
    "\n",
    "#### Dask"
   ]
  },
  {
   "cell_type": "code",
   "execution_count": null,
   "metadata": {},
   "outputs": [],
   "source": [
    "from dask.distributed import Client\n",
    "\n",
    "client = Client(\"tcp://10.0.92.156:36285\")\n",
    "client"
   ]
  },
  {
   "cell_type": "markdown",
   "metadata": {},
   "source": [
    "#### Imports"
   ]
  },
  {
   "cell_type": "code",
   "execution_count": null,
   "metadata": {},
   "outputs": [],
   "source": [
    "# Data tools\n",
    "import numpy as np\n",
    "import xarray as xr\n",
    "import pandas as pd\n",
    "from datetime import datetime\n",
    "\n",
    "# Datacube\n",
    "import datacube\n",
    "from datacube.utils import masking  # https://github.com/opendatacube/datacube-core/blob/develop/datacube/utils/masking.py\n",
    "from odc.algo import enum_to_bool   # https://github.com/opendatacube/odc-tools/blob/develop/libs/algo/odc/algo/_masking.py\n",
    "from odc.algo import xr_reproject   # https://github.com/opendatacube/odc-tools/blob/develop/libs/algo/odc/algo/_warp.py\n",
    "from datacube.utils.geometry import GeoBox, box  # https://github.com/opendatacube/datacube-core/blob/develop/datacube/utils/geometry/_base.py\n",
    "from datacube.utils.rio import configure_s3_access\n",
    "\n",
    "# Holoviews, Datashader and Bokeh\n",
    "import hvplot.pandas\n",
    "import hvplot.xarray\n",
    "import holoviews as hv\n",
    "import panel as pn\n",
    "import colorcet as cc\n",
    "import cartopy.crs as ccrs\n",
    "from datashader import reductions\n",
    "from holoviews import opts\n",
    "# import geoviews as gv\n",
    "# from holoviews.operation.datashader import rasterize\n",
    "hv.extension('bokeh', logo=False)\n",
    "\n",
    "# Python\n",
    "import sys, os, re\n",
    "\n",
    "# Optional EASI tools\n",
    "sys.path.append(os.path.expanduser('~/hub-notebooks/scripts'))\n",
    "import notebook_utils"
   ]
  },
  {
   "cell_type": "markdown",
   "metadata": {},
   "source": [
    "#### ODC database"
   ]
  },
  {
   "cell_type": "code",
   "execution_count": null,
   "metadata": {},
   "outputs": [],
   "source": [
    "# For development products:\n",
    "#  - This is a development ODC database while we test and demo this product.\n",
    "# CONF = \"\"\"\n",
    "# [datacube]\n",
    "# db_hostname: v2-db-easihub-csiro-eks.cluster-ro-cvaedcg0qvwd.ap-southeast-2.rds.amazonaws.com\n",
    "# db_database: \n",
    "# db_username: \n",
    "# db_password: \n",
    "# \"\"\"\n",
    "# from datacube.config import read_config, LocalConfig\n",
    "# dc = datacube.Datacube(config=LocalConfig(read_config(CONF)), env='datacube')\n",
    "\n",
    "dc = datacube.Datacube()"
   ]
  },
  {
   "cell_type": "markdown",
   "metadata": {},
   "source": [
    "#### Example query\n",
    "\n",
    "Change any of the parameters in the query object below to adjust the location, time, projection, or spatial resolution of the returned datasets.\n",
    "\n",
    "Use the Explorer interface to check the temporal and spatial coverage for each product:\n",
    "- https://explorer.csiro.easi-eo.solutions  + /product (when available)"
   ]
  },
  {
   "cell_type": "code",
   "execution_count": null,
   "metadata": {},
   "outputs": [],
   "source": [
    "# Area name\n",
    "# min_longitude, max_longitude = (112.9172755, 153.6400543)   # Full coverage - very slow visualisation!\n",
    "# min_latitude, max_latitude = (-43.7806434, -10.2856586)\n",
    "# min_longitude, max_longitude = (112.5, 125)  # SW WA\n",
    "# min_latitude, max_latitude = (-35, -25.5)\n",
    "min_longitude, max_longitude = (119.5, 124)  # SW WA - mini test area\n",
    "min_latitude, max_latitude = (-34, -31)\n",
    "\n",
    "min_date = ''\n",
    "max_date = ''\n",
    "# product = 'aster_aloh_group_composition'\n",
    "# product = 'aster_aloh_group_content'\n",
    "# product = 'aster_false_colour'\n",
    "# product = 'aster_feoh_group_content'\n",
    "# product = 'aster_ferric_oxide_composition'\n",
    "# product = 'aster_ferric_oxide_content'\n",
    "product = 'aster_ferrous_iron_content_in_mgoh'\n",
    "# product = 'aster_ferrous_iron_index'\n",
    "# product = 'aster_green_vegetation'\n",
    "# product = 'aster_gypsum_index'\n",
    "# product = 'aster_kaolin_group_index'\n",
    "# product = 'aster_mgoh_group_composition'\n",
    "# product = 'aster_mgoh_group_content'\n",
    "# product = 'aster_opaque_index'\n",
    "# product = 'aster_quartz_index'\n",
    "# product = 'aster_regolith_ratios'\n",
    "# product = 'aster_silica_index'\n",
    "\n",
    "query = {\n",
    "    'product': product,                     # Product name\n",
    "    'x': (min_longitude, max_longitude),    # \"x\" axis bounds\n",
    "    'y': (min_latitude, max_latitude),      # \"y\" axis bounds\n",
    "#     'time': (min_date, max_date),           # Any parsable date strings\n",
    "}\n",
    "\n",
    "native_res = (-0.000277777784500, 0.000277777784500)\n",
    "native_crs = notebook_utils.mostcommon_crs(dc, query)\n",
    "print(f'Native CRS: {native_crs}')\n",
    "\n",
    "query.update({\n",
    "    'output_crs': native_crs,               # EPSG code\n",
    "    'resolution': native_res,             # Target resolution\n",
    "    'group_by': 'solar_day',                # Scene ordering\n",
    "    'dask_chunks': {'latitude': 2048, 'longitude': 2048},  # Dask chunks\n",
    "})"
   ]
  },
  {
   "cell_type": "code",
   "execution_count": null,
   "metadata": {},
   "outputs": [],
   "source": [
    "# Optional. Some products require AWS S3 credentials to supplied\n",
    "\n",
    "# S3 credentials - required for s2_l2a\n",
    "# configure_s3_access(aws_unsigned=True,requester_pays=False,client=client)\n",
    "# print(\"Configured s3 requester pays data access\")"
   ]
  },
  {
   "cell_type": "code",
   "execution_count": null,
   "metadata": {},
   "outputs": [],
   "source": [
    "# Load data\n",
    "data = dc.load(**query).astype('float')  # Convert to float64 to support NaNs\n",
    "\n",
    "notebook_utils.heading(notebook_utils.xarray_object_size(data))\n",
    "display(data)\n",
    "\n",
    "# Calculate valid (not nodata) masks for each layer\n",
    "valid_mask = masking.valid_data_mask(data)\n",
    "notebook_utils.heading('Valid data masks for each variable')"
   ]
  },
  {
   "cell_type": "markdown",
   "metadata": {},
   "source": [
    "## Product definition\n",
    "\n",
    "Display the measurement definitions for the selected product.\n",
    "\n",
    "Use `list_measurements` to show the details for a product, and `masking.describe_variable_flags` to show the flag definitions."
   ]
  },
  {
   "cell_type": "code",
   "execution_count": null,
   "metadata": {},
   "outputs": [],
   "source": [
    "# Measurement definitions for the selected product\n",
    "measurement_info = dc.list_measurements().loc[query['product']]\n",
    "notebook_utils.heading(f'Measurement table for product: {query[\"product\"]}')\n",
    "notebook_utils.display_table(measurement_info)\n",
    "\n",
    "# Separate lists of measurement names and flag names\n",
    "measurement_names = measurement_info[ pd.isnull(measurement_info.flags_definition)].index\n",
    "flag_names        = measurement_info[pd.notnull(measurement_info.flags_definition)].index\n",
    "\n",
    "notebook_utils.heading('Selected Measurement and Flag names')\n",
    "notebook_utils.display_table(pd.DataFrame({\n",
    "    'group': ['Measurement names', 'Flag names'],\n",
    "    'names': [', '.join(measurement_names), ', '.join(flag_names)]\n",
    "}))\n",
    "\n",
    "# Flag definitions\n",
    "for flag in flag_names:\n",
    "    notebook_utils.heading(f'Flag definition table for flag name: {flag}')\n",
    "    notebook_utils.display_table(masking.describe_variable_flags(data[flag]))"
   ]
  },
  {
   "cell_type": "markdown",
   "metadata": {},
   "source": [
    "## Quality layer"
   ]
  },
  {
   "cell_type": "code",
   "execution_count": null,
   "metadata": {},
   "outputs": [],
   "source": [
    "# No quality layer in the ASTER data"
   ]
  },
  {
   "cell_type": "markdown",
   "metadata": {},
   "source": [
    "## Masking and Scaling"
   ]
  },
  {
   "cell_type": "code",
   "execution_count": null,
   "metadata": {},
   "outputs": [],
   "source": [
    "# No scaling to be applied.\n",
    "\n",
    "layer_name = 'Band_1'  # Applies to most products\n",
    "if product == 'aster_false_colour':\n",
    "    # Red: B3 361-4241\n",
    "    # Green: B2 309-2913\n",
    "    # Blue: B1 1-1961\n",
    "    # Or Band 2 for grey scale\n",
    "    layer_name = 'Band_2'  # Recommended band for grey scale. Alternatively, create a RGB image\n",
    "    \n",
    "\n",
    "# Apply valid mask and good pixel mask\n",
    "layer = data[[layer_name]].where(valid_mask[layer_name])\n",
    "layer = layer.persist()"
   ]
  },
  {
   "cell_type": "markdown",
   "metadata": {},
   "source": [
    "## Visualisation"
   ]
  },
  {
   "cell_type": "code",
   "execution_count": null,
   "metadata": {},
   "outputs": [],
   "source": [
    "# Generate a plot\n",
    "\n",
    "options = {\n",
    "    'title': f'{query[\"product\"]}: {layer_name}',\n",
    "    'width': 800,\n",
    "    'height': 450,\n",
    "    'aspect': 'equal',\n",
    "    'cmap': cc.rainbow,\n",
    "    'clim': (0, 255),                          # All products are scaled to 0-255\n",
    "    'colorbar': True,\n",
    "    'tools': ['hover'],\n",
    "}\n",
    "\n",
    "# Set the Dataset CRS\n",
    "plot_crs = native_crs\n",
    "if plot_crs in ('epsg:4326', 'EPSG:4283'):\n",
    "    plot_crs = ccrs.PlateCarree()\n",
    "\n",
    "\n",
    "# Native data and coastline overlay:\n",
    "# - Comment `crs`, `projection`, `coastline` to plot in native_crs coords\n",
    "# TODO: Update the axis labels to 'longitude', 'latitude' if `coastline` is used\n",
    "\n",
    "layer_plot = layer.hvplot.image(\n",
    "    x = 'longitude', y = 'latitude',                        # Dataset x,y dimension names\n",
    "    rasterize = True,                        # Use Datashader\n",
    "    aggregator = reductions.mean(),          # Datashader selects mean value\n",
    "    precompute = True,                       # Datashader precomputes what it can\n",
    "    crs = plot_crs,                        # Dataset crs\n",
    "    projection = ccrs.PlateCarree(),         # Output projection (use ccrs.PlateCarree() when coastline=True)\n",
    "    coastline='10m',                         # Coastline = '10m'/'50m'/'110m'\n",
    ").options(opts.Image(**options)).hist(bin_range = options['clim'])\n",
    "\n",
    "# display(layer_plot)\n",
    "# Optional: Change the default time slider to a dropdown list, https://stackoverflow.com/a/54912917\n",
    "fig = pn.panel(layer_plot, widgets={'time': pn.widgets.Select})  # widget_location='top_left'\n",
    "display(fig)"
   ]
  },
  {
   "cell_type": "markdown",
   "metadata": {},
   "source": [
    "## Appendix"
   ]
  },
  {
   "cell_type": "code",
   "execution_count": null,
   "metadata": {},
   "outputs": [],
   "source": []
  }
 ],
 "metadata": {
  "kernelspec": {
   "display_name": "Python 3",
   "language": "python",
   "name": "python3"
  },
  "language_info": {
   "codemirror_mode": {
    "name": "ipython",
    "version": 3
   },
   "file_extension": ".py",
   "mimetype": "text/x-python",
   "name": "python",
   "nbconvert_exporter": "python",
   "pygments_lexer": "ipython3",
   "version": "3.8.5"
  }
 },
 "nbformat": 4,
 "nbformat_minor": 4
}
