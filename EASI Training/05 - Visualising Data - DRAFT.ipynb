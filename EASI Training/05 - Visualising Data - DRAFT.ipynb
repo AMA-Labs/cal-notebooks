{
 "cells": [
  {
   "cell_type": "markdown",
   "metadata": {},
   "source": [
    "# Visualising and plotting data <img align=\"right\" src=\"../resources/csiro_easi_logo.png\">\n",
    "\n",
    "_Work in progress_ \n",
    "\n",
    "#### Index\n",
    "- [Overview](#Overview)\n",
    "- [Performance considerations](#Performance-considerations)\n",
    "- [Setup](#Setup)\n",
    "   - [Dask](#Dask)\n",
    "   - [Imports](#Imports)\n",
    "   - [Example query](#Example-query)\n",
    "- [Display a map with area of interest](#Display-a-map-with-area-of-interest)\n",
    "- [HoloViews example](#HoloViews-example)\n",
    "- [More examples](#More-examples)\n",
    "- [Help for plot functions](#Help-for-plot-functions)\n",
    "- [Options for hvPlot and Holoviews](#Options-for-hvPlot-and-Holoviews)\n",
    "- [Options for Bokeh](#Options-for-Bokeh)\n",
    "- [GeoViews](#GeoViews)\n",
    "- [Appendix](#Appendix)"
   ]
  },
  {
   "cell_type": "markdown",
   "metadata": {},
   "source": [
    "<div class=\"alert alert-warning\">\n",
    "    <p>This notebook is under development</p>\n",
    "</div>"
   ]
  },
  {
   "cell_type": "markdown",
   "metadata": {},
   "source": [
    "## Overview\n",
    "\n",
    "Broadly, there are two plotting \"backends\" available to python notebooks. Backends refer to the library that will render the plots.\n",
    "- Matplotlib: static plots\n",
    "- Bokeh: dynamic plots\n",
    "\n",
    "Static vs dynamic plots relate to the data zoom level and extent seen in the plot. Static plots require the plot code to be re-run to change the zoom or extent, while dynamic plots allow the user to zoom and scroll within the available data range.\n",
    "\n",
    "Matplotlib is widely used both directly (e.g., `import matplotlib.pyplot as plt`) and indirectly (via another plotting library). Bokeh is usually used indirectly (via another plotting library).\n",
    "\n",
    "> The EASI Training notebooks and many other python notebooks use matplotlib.\n",
    "> This notebook introduces dynamic data plotting with the HoloVis set of libraries.\n",
    "\n",
    "Plotting libraries follow this pattern:\n",
    "1. Create a figure to annotate and attach axes, lables, colorbars etc.\n",
    "1. Map a data set to the figure viewport pixel space and render a colour for each pixel.\n",
    "1. Send the figure to the screen or browser.\n",
    "\n",
    "Large data arrays can challenge this pattern by requiring the data to be in-memory on the JupyterLab node in order to calculate (2).\n",
    "\n",
    "## HoloViz\n",
    "\n",
    "[HoloViz.org](https://holoviz.org) is a set of python libraries that address this challenge. The website has information and tutorials for the Holoviz family of libraries.\n",
    "\n",
    "HoloViews and Datashader visualisation libraries have been designed work with xarray, pandas and dask data libraries.\n",
    " - http://holoviews.org/user_guide/Large_Data.html - How HoloViews works with Datashader and Bokeh\n",
    "\n",
    "The HoloViz libraries provide a visualisation workflow that efficiently scales with data size.\n",
    "- __[HoloViz.org](https://holoviz.org)__ - Information and tutorials for a set of browser-based Python visualisation tools\n",
    "  - [PyHEP2019_slides.pdf](https://indico.cern.ch/event/833895/contributions/3577846/attachments/1928191/3205023/PyHEP2019_slides.pdf) - Summary presentation from an Anaconda developer\n",
    "- __Panel__ - Create apps and dashboards from any supported plotting library\n",
    "- __[hvPlot](https://hvplot.pyviz.org)__ - High-level plotting and layouts interface for holoviews objects, renders with Bokeh\n",
    "- __[HoloViews](https://holoviews.org)__ - High-level library adds semantic 'intuition' to create and label plots and layouts. Uses datashader, and renders with either Bokeh or Matplotlib\n",
    "- __[GeoViews](http://geoviews.org)__ - Extends HoloViews for geographic data using Cartopy\n",
    "- __[Datashader](https://datashader.org/getting_started/Introduction.html)__ - Manages large datasets with dask, and fast 2D histograming/binning prior to the data being rendered\n",
    "- __Param__ - Create declarative user-configurable objects\n",
    "- __Colorcet__ - Provide perceptually uniform colormaps\n",
    "- __[Bokeh](https://docs.bokeh.org/en/latest/docs/user_guide.html)__. Interactive plotting library (javascript)\n",
    "- __Matplotlib__. The standard Python Numpy plotting library\n",
    "\n",
    "> _Panel_ and _Param_ are not used in this tutorial (yet), and _Bokeh_ is preferred over _Matplotlib_.\n",
    "\n",
    "## We recommend:\n",
    "- Use Datashader and Bokeh for all plots to provide scalability and interactivity.\n",
    "- Any combination of hvPlot, HoloViews and GeoViews depending on the task.\n",
    "- Use ```hv.rasterize()``` as a convienent wrapper for Datashader."
   ]
  },
  {
   "cell_type": "markdown",
   "metadata": {},
   "source": [
    "## Setup"
   ]
  },
  {
   "cell_type": "markdown",
   "metadata": {},
   "source": [
    "#### Imports"
   ]
  },
  {
   "cell_type": "code",
   "execution_count": null,
   "metadata": {
    "tags": []
   },
   "outputs": [],
   "source": [
    "# Data tools\n",
    "import numpy as np\n",
    "import xarray as xr\n",
    "import pandas as pd\n",
    "from datetime import datetime\n",
    "\n",
    "# Datacube\n",
    "import datacube\n",
    "from datacube.utils import masking  # https://github.com/opendatacube/datacube-core/blob/develop/datacube/utils/masking.py\n",
    "from odc.algo import enum_to_bool   # https://github.com/opendatacube/odc-tools/blob/develop/libs/algo/odc/algo/_masking.py\n",
    "from datacube.utils.rio import configure_s3_access\n",
    "\n",
    "# Holoviews, Datashader and Bokeh\n",
    "import hvplot.pandas\n",
    "import hvplot.xarray\n",
    "import holoviews as hv\n",
    "import panel as pn\n",
    "import colorcet as cc\n",
    "import cartopy.crs as ccrs\n",
    "from datashader import reductions\n",
    "from holoviews import opts\n",
    "# import geoviews as gv\n",
    "from holoviews.operation.datashader import rasterize\n",
    "hv.extension('bokeh', logo=False)\n",
    "\n",
    "# Python\n",
    "import sys, os, re\n",
    "os.environ['USE_PYGEOS'] = '0'\n",
    "\n",
    "# Optional EASI tools\n",
    "sys.path.append(os.path.expanduser('../scripts'))\n",
    "from easi_tools import EasiDefaults\n",
    "import notebook_utils\n",
    "easi = EasiDefaults()\n",
    "from app_utils import display_map"
   ]
  },
  {
   "cell_type": "markdown",
   "metadata": {},
   "source": [
    "#### Dask"
   ]
  },
  {
   "cell_type": "code",
   "execution_count": null,
   "metadata": {
    "tags": []
   },
   "outputs": [],
   "source": [
    "cluster, client = notebook_utils.initialize_dask(use_gateway=False)\n",
    "display(cluster if cluster else client)\n",
    "print(notebook_utils.localcluster_dashboard(client, server=easi.hub))"
   ]
  },
  {
   "cell_type": "markdown",
   "metadata": {},
   "source": [
    "#### Example query"
   ]
  },
  {
   "cell_type": "code",
   "execution_count": null,
   "metadata": {
    "tags": []
   },
   "outputs": [],
   "source": [
    "# This configuration is read from the defaults for this system. \n",
    "# Examples are provided in a commented line to show how to set these manually.\n",
    "\n",
    "study_area_lat = easi.latitude\n",
    "# study_area_lat = (39.2, 39.3)\n",
    "\n",
    "study_area_lon = easi.longitude\n",
    "# study_area_lon = (-76.7, -76.6)\n",
    "\n",
    "product = easi.product('landsat')\n",
    "# product = 'landsat8_c2l2_sr'\n",
    "\n",
    "set_time = easi.time\n",
    "# set_time = ('2020-08-01', '2020-12-01')\n",
    "\n",
    "set_crs = easi.crs('landsat')\n",
    "# set_crs = 'EPSG:32618'\n",
    "\n",
    "set_resolution = easi.resolution('landsat')\n",
    "# set_resolution = (-30, 30)"
   ]
  },
  {
   "cell_type": "code",
   "execution_count": null,
   "metadata": {
    "tags": []
   },
   "outputs": [],
   "source": [
    "query = {\n",
    "    'product': product,\n",
    "    'longitude': study_area_lon,\n",
    "    'latitude': study_area_lat,\n",
    "    'time': set_time,\n",
    "    'output_crs': set_crs,\n",
    "    'resolution': set_resolution,\n",
    "    'group_by': 'solar_day',\n",
    "    'dask_chunks': {'x': 2048, 'y': 2048}\n",
    "}\n",
    "\n",
    "dc = datacube.Datacube()\n",
    "data = dc.load(**query)\n",
    "data"
   ]
  },
  {
   "cell_type": "code",
   "execution_count": null,
   "metadata": {
    "tags": []
   },
   "outputs": [],
   "source": [
    "# Masking\n",
    "\n",
    "# Measurements for the selected product\n",
    "measurements = dc.list_measurements().loc[query['product']]\n",
    "\n",
    "# Separate lists of measurement data names and flag names\n",
    "data_names = measurements[ pd.isnull(measurements.flags_definition)].index\n",
    "flag_names = measurements[pd.notnull(measurements.flags_definition)].index\n",
    "\n",
    "# Select one for use below\n",
    "flag_name = flag_names[0]\n",
    "\n",
    "# Simple masking by nodata value\n",
    "# valid_data = masking.mask_invalid_data(data[data_names], keep_attrs=True)\n",
    "\n",
    "good_pixel_flags = {\n",
    "    'nodata': False,\n",
    "    'cloud': 'not_high_confidence',\n",
    "    'cloud_shadow': 'not_high_confidence',\n",
    "}\n",
    "\n",
    "mask = masking.make_mask(data[flag_name], **good_pixel_flags)  # expand dictionary of pixel flags\n",
    "\n",
    "good_data = data[data_names].where(mask)\n",
    "# good_data.plot(col='time', robust=True, col_wrap=4)\n",
    "\n",
    "display(good_data)"
   ]
  },
  {
   "cell_type": "markdown",
   "metadata": {},
   "source": [
    "## Display a map with area of interest\n",
    "\n",
    "The [DEA notebooks](https://github.com/GeoscienceAustralia/dea-notebooks) include a convenient area of interest map display tool. The background is the \"Google Maps\" satellite imagery. The Red square show the bounding box area of interest.\n",
    "\n",
    "Other [dea-notebooks plotting tools](https://github.com/GeoscienceAustralia/dea-notebooks/blob/develop/Scripts/dea_plotting.py) include:\n",
    "- ```rgb()``` - uses ```xarray.plot.imshow```\n",
    "- ```display_map()``` - uses ```Folium].Map``` (leaflet.js) and Google Maps imagery\n",
    "- ```map_shapefile()``` - uses ```ipyleaflet.Map``` and [Geopandas](https://geopandas.org)\n",
    "- ```xr_animation()``` - uses ```matplotlib.animation``` to animate an xarray dataset by time and save the result to mp4\n",
    "\n",
    "These functions should be sufficiently generic to use directly. Note however that ```rgb()``` and ```xr_animation()``` could potentially send a large amount of data to the user node for rendering, which could be partly mitigated by using a dask-enabled xarray. We can expect to define comparable HoloViews versions of these functions as required."
   ]
  },
  {
   "cell_type": "code",
   "execution_count": null,
   "metadata": {
    "tags": []
   },
   "outputs": [],
   "source": [
    "map = display_map(x=query['longitude'], y=query['latitude'])\n",
    "map\n",
    "\n",
    "# Optionally change the display size\n",
    "# from https://github.com/python-visualization/folium/issues/229#issuecomment-162010967\n",
    "import folium\n",
    "width = '80%'  # Scale or number of pixels. Height as well but then scaling is relatively slow\n",
    "fig = folium.Figure(width=width)\n",
    "fig.add_child(map)\n",
    "fig"
   ]
  },
  {
   "cell_type": "markdown",
   "metadata": {},
   "source": [
    "## HoloViews example\n",
    "\n",
    "_Work in progress_: Adapt examples from the Products notebooks.\n",
    "\n",
    "Xarray dataset. Use this as a reference example.\n",
    "1. Create an xarray dataset in your own notebook. You can subset and preprocess your data any way you like to get to a `selected_data` dataset. The xarray data can be a [Dataset or a DataArray](http://xarray.pydata.org/en/stable/data-structures.html).\n",
    "1. Use `persist()` because you are likely to be re-running the visualisation part (editing layout etc).\n",
    "1. Wrap a HoloViews `hv.Dataset` around your data.\n",
    "1. `rasterize()` is a [HoloViews wrapper for Datashader](http://holoviews.org/user_guide/Large_Data.html).\n",
    "1. Pass to `rasterize()` a HoloViews object to be applied to your data. Specify the:\n",
    "  - HoloViews object type `hv.Image()`\n",
    "  - `x` and `y` dimension names (data dimension names to map to Image `x` and `y` dimensions)\n",
    "  - Layer name (DataArray name), even if only one.\n",
    "  - `z` dimension name (e.g., time), if applicable.\n",
    "1. Set plotting options, including special options passed to the HoloViews element, datashader and bokeh. Options can also be added separately.\n",
    "1. `pre_compute=True` instructs Datashader to pre-compute what it can.\n",
    "1. `hist()` optionally adds a dynamic histogram linked to the image.\n",
    "1. If the `z` dimension is time, `rasterize()` will add a Bokeh time slider to the layout.\n",
    "\n",
    "The data limits and units are passed through from xarray dataset. Colors are mapped dynamically by Bokeh for each image in the viewport to match the viewport data range.\n",
    "\n",
    "Use the toolbar to scroll, zoom and hover etc."
   ]
  },
  {
   "cell_type": "code",
   "execution_count": null,
   "metadata": {
    "tags": []
   },
   "outputs": [],
   "source": [
    "### THIS SECTION NEEDS FURTHER WORK ###"
   ]
  },
  {
   "cell_type": "code",
   "execution_count": null,
   "metadata": {},
   "outputs": [],
   "source": [
    "good_data.coastal.isel(time=0).plot(robust=True)"
   ]
  },
  {
   "cell_type": "code",
   "execution_count": null,
   "metadata": {
    "tags": []
   },
   "outputs": [],
   "source": [
    "good_data"
   ]
  },
  {
   "cell_type": "code",
   "execution_count": null,
   "metadata": {},
   "outputs": [],
   "source": [
    "# Just select 5 time slices to make things quicker\n",
    "time_ind = np.linspace(1, good_data.sizes['time'], 5, dtype='int') - 1   # select some time slices to display\n",
    "selected_data = good_data.isel(time=time_ind)\n",
    "selected_data = selected_data.dropna('time',how=\"all\") # drop any scenes that have no data"
   ]
  },
  {
   "cell_type": "code",
   "execution_count": null,
   "metadata": {
    "tags": []
   },
   "outputs": [],
   "source": [
    "layer_name = 'nir08'\n",
    "plot_data = selected_data[layer_name]\n",
    "options = {\n",
    "    'title': f'{query[\"product\"]}: {layer_name}',\n",
    "    'width': 600,\n",
    "    'height': 600,\n",
    "    'aspect': 'equal',\n",
    "    'cmap': cc.rainbow,\n",
    "    'clim': (5000, 20000),                          # Limit the color range depending on the layer_name\n",
    "    'colorbar': True,\n",
    "    'tools': ['hover'],\n",
    "}\n",
    "\n",
    "# Set the Dataset CRS\n",
    "plot_crs = set_crs\n",
    "\n",
    "# Native data and coastline overlay:\n",
    "# - Comment `crs`, `projection`, `coastline` to plot in native_crs coords\n",
    "# TODO: Update the axis labels to 'longitude', 'latitude' if `coastline` is used\n",
    "    \n",
    "layer_plot = plot_data.hvplot.image(\n",
    "    x = 'x', y = 'y',                        # Dataset x,y dimension names\n",
    "    rasterize = True,                        # Use Datashader\n",
    "    # aggregator = reductions.mean(),          # Datashader selects mean value\n",
    "    precompute = True,                       # Datashader precomputes what it can\n",
    "    # crs = plot_crs,                          # Dataset crs\n",
    "    # projection = ccrs.PlateCarree(),         # Output projection (use ccrs.PlateCarree() when coastline=True)\n",
    "    # coastline='50m',                         # Coastline = '10m'/'50m'/'110m'\n",
    ").options(opts.Image(**options)).hist(bin_range = options['clim'])\n",
    "\n",
    "# display(layer_plot)\n",
    "# Optional: Change the default time slider to a dropdown list, https://stackoverflow.com/a/54912917\n",
    "fig = pn.panel(layer_plot, widgets={'time': pn.widgets.Select})  # widget_location='top_left'\n",
    "display(fig)"
   ]
  },
  {
   "cell_type": "code",
   "execution_count": null,
   "metadata": {
    "tags": []
   },
   "outputs": [],
   "source": [
    "# Compute the data fully...\n",
    "# Use a slider instead of a dropdown\n",
    "# Convert data to a hv.Dataset\n",
    "\n",
    "plot_data = selected_data.compute()\n",
    "hv_ds = hv.Dataset(plot_data)\n",
    "\n",
    "rasterize(\n",
    "    hv_ds.to(\n",
    "        hv.Image,     # hv element\n",
    "        [\"x\", \"y\"],   # x, y dimension names (key dimensions)\n",
    "        layer_name,   # array name\n",
    "        [\"time\"]      # z dimension name (value dimensions)\n",
    "    ).opts(\n",
    "        **options\n",
    "    ),\n",
    "    precompute=True\n",
    ").hist()"
   ]
  },
  {
   "cell_type": "markdown",
   "metadata": {},
   "source": [
    "## More examples\n",
    "\n",
    "_Work in progress_\n",
    "\n",
    "Consider an adapted version of https://examples.pyviz.org/landsat/landsat.html"
   ]
  },
  {
   "cell_type": "markdown",
   "metadata": {},
   "source": [
    "## Help for plot functions"
   ]
  },
  {
   "cell_type": "markdown",
   "metadata": {},
   "source": [
    "Find help for HoloViews functions (uncomment as desired)"
   ]
  },
  {
   "cell_type": "code",
   "execution_count": null,
   "metadata": {},
   "outputs": [],
   "source": [
    "# Show the primary options for an Element, using HoloViews hv.help()\n",
    "# hv.help(hv.Image)\n",
    "hv.help(rasterize)\n",
    "\n",
    "# Show the full options and methods for an Element, using Python help()\n",
    "# help(hv.Image)\n",
    "# help(rasterize)"
   ]
  },
  {
   "cell_type": "markdown",
   "metadata": {},
   "source": [
    "## Options for hvPlot and Holoviews\n",
    "\n",
    "Add options to functions. There are two ways to pass options to elements, which can be used interchangably:\n",
    "1. Pass `'option': 'value' pairs to the `.opts()` method. Pairs can be stored in a dict and passed with the `\\**dict` notation.\n",
    "1. Pass `opts._Element_()` objects to the `.opts()` method. This gives finer-grained control applying options to elements. "
   ]
  },
  {
   "cell_type": "code",
   "execution_count": null,
   "metadata": {},
   "outputs": [],
   "source": [
    "# These examples are not meant to run\n",
    "\n",
    "# Add options to an element\n",
    "hv.Image().opts(option='value', ...)\n",
    "\n",
    "# Specify options for elements with a compound object\n",
    "hv.Image().opts(\n",
    "    opts.Image(option='value', ...),\n",
    "    ...\n",
    ")"
   ]
  },
  {
   "cell_type": "markdown",
   "metadata": {},
   "source": [
    "## Options for Bokeh\n",
    "\n",
    "Dive into Bokeh's options for fine-grained control\n",
    "\n",
    "The Python interface is imported by HoloViews (edit for element of interest)\n",
    "- https://github.com/bokeh/bokeh/blob/main/bokeh/models/widgets/tables.py\n",
    "\n",
    "Which in turn calls (typed) javascript (edit for element of interest)\n",
    "- https://github.com/bokeh/bokeh/blob/main/bokehjs/src/lib/models/widgets/tables/data_table.ts\n",
    "\n",
    "Selected configuration modules\n",
    "- https://github.com/bokeh/bokeh/blob/main/examples/integration/widgets/data_table_customization.py - Column formatters\n",
    "- https://github.com/bokeh/bokeh/blob/main/bokeh/core/enums.py - Options validator"
   ]
  },
  {
   "cell_type": "markdown",
   "metadata": {},
   "source": [
    "## GeoViews\n",
    "\n",
    "_Work in progress_\n",
    "\n",
    "If reprojecting data onto a GeoViews grid, consider ```gv.operation.project``` to pre-project data before GeoViews/Datashader"
   ]
  },
  {
   "cell_type": "markdown",
   "metadata": {},
   "source": [
    "## Appendix"
   ]
  },
  {
   "cell_type": "markdown",
   "metadata": {},
   "source": [
    "#### hvPlot\n",
    "\n",
    "- Create Holoviews and Geoviews Layouts."
   ]
  },
  {
   "cell_type": "markdown",
   "metadata": {},
   "source": [
    "#### HoloViews\n",
    "\n",
    "- Data is wrapped into HoloViews _Elements_ that can be combined into a _Layout_. Elements are passed to Datashader or Bokeh/Matplotlib for plotting\n",
    "- ```hv.rasterize()``` sends the data object to Datashader and instructs Bokeh to render each image.\n",
    "- ```hv.datashade()``` sends the data object to Datashader and instructs Datashader to render each image (== ```shade(rasterize()```).\n",
    "- Finer-grained plotting options can (mostly) be passed through to Datashader and Bokeh."
   ]
  },
  {
   "cell_type": "markdown",
   "metadata": {},
   "source": [
    "#### Datashader\n",
    "\n",
    "- How Datashader works - https://datashader.org/getting_started/Pipeline.html\n",
    "- How Datashader works with HoloViews and Bokeh - https://datashader.org/getting_started/Interactivity.html\n",
    "- Techniques for making plots that better represent that data - https://datashader.org/user_guide/Plotting_Pitfalls.html\n",
    "- Data are binned to viewport pixels.\n",
    "- Fine-grained control of the binning calculation is available, as well as the option to render the bins into an image."
   ]
  },
  {
   "cell_type": "markdown",
   "metadata": {},
   "source": [
    "#### Dask\n",
    "\n",
    "- Use `persist()` on data that will used multiple times in your following analyses, including running a plot multiple times"
   ]
  },
  {
   "cell_type": "markdown",
   "metadata": {},
   "source": [
    "#### Bokeh\n",
    "\n",
    "- https://docs.bokeh.org/en/latest/docs/user_guide.html\n",
    "- Explore the user guide for customisations. Follow examples to see how options can be passed through from HoloViews or Datashader."
   ]
  }
 ],
 "metadata": {
  "kernelspec": {
   "display_name": "Python 3 (ipykernel)",
   "language": "python",
   "name": "python3"
  },
  "language_info": {
   "codemirror_mode": {
    "name": "ipython",
    "version": 3
   },
   "file_extension": ".py",
   "mimetype": "text/x-python",
   "name": "python",
   "nbconvert_exporter": "python",
   "pygments_lexer": "ipython3",
   "version": "3.10.6"
  }
 },
 "nbformat": 4,
 "nbformat_minor": 4
}
