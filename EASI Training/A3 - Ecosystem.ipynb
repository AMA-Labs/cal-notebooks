{
 "cells": [
  {
   "cell_type": "markdown",
   "metadata": {},
   "source": [
    "# Python data science ecosystem <img width=\"260px\" align=\"right\" src=\"../resources/csiro_easi_logo.png\">\n",
    " \n",
    "#### Index\n",
    "- [Numpy, Pandas, Scipy](#Numpy,-Pandas,-Scipy)\n",
    "- [Dask](#Dask)\n",
    "- [Xarray](#Xarray)\n",
    "- [HoloViews, GeoViews and DataShader](#HoloViews,-GeoViews-and-DataShader)\n",
    "    - [HoloViews](#HoloViews)\n",
    "    - [GeoViews](#GeoViews)\n",
    "    - [DataShader](#DataShader)\n",
    "    - [Using HoloViews and Bokeh](#Using-HoloViews-and-Bokeh)"
   ]
  },
  {
   "cell_type": "markdown",
   "metadata": {},
   "source": [
    "### Numpy, Pandas, Scipy\n",
    "\n",
    "Core Python data analysis libraries\n",
    "\n",
    "See:\n",
    "- https://numpy.org/doc/stable/\n",
    "- https://pandas.pydata.org/docs/user_guide/\n",
    "- https://www.scipy.org/"
   ]
  },
  {
   "cell_type": "markdown",
   "metadata": {},
   "source": [
    "### Dask\n",
    "\n",
    "Dask scales python libraries for multi-processing across a cluster.\n",
    "\n",
    "See:\n",
    "- https://docs.dask.org/\n",
    "- https://docs.dask.org/en/latest/array-best-practices.html (Chunk size considerations)"
   ]
  },
  {
   "cell_type": "markdown",
   "metadata": {},
   "source": [
    "### Xarray\n",
    "\n",
    "Datacube.load() returns an Xarray object. Datacube objects contain addition context for use with datacube operations but most if not all of the Xarray operations will work with datacube objects.\n",
    "\n",
    "http://xarray.pydata.org/\n",
    "- Xarray wraps around Dask. Switch between Dask Array and NumPy with a consistent API\n",
    "\n",
    "http://xarray.pydata.org/en/stable/dask.html#what-is-a-dask-array\n",
    "\n",
    "-  Dask uses a lazy computation model that divides large arrays into smaller blocks called chunks. Performing an operation on a dask array queues up a series of lazy computations that map across each chunk. These computations aren’t actually performed until values from a chunk are accessed. (http://stephanhoyer.com/2015/06/11/xray-dask-out-of-core-labeled-arrays/)\n",
    "\n",
    "http://xarray.pydata.org/en/stable/dask.html#using-dask-with-xarray\n",
    "\n",
    "Convert an xarray data structure from lazy Dask arrays into eager, in-memory NumPy arrays\n",
    "- `ds.load()`\n",
    "\n",
    "Load into distributed memory and keep as as Dask arrays distributed across a cluster\n",
    "- `ds.persist()`\n",
    "\n",
    "As a NumPy array\n",
    "- `ds.variable.values` .. Always a NumPy array\n",
    "- `np.asarray(ds.variable)` .. Explicit conversion by wrapping a DataArray with np.asarray\n",
    "\n",
    "Optimisation tips\n",
    "- http://xarray.pydata.org/en/stable/dask.html#optimization-tips"
   ]
  },
  {
   "cell_type": "markdown",
   "metadata": {},
   "source": [
    "### HoloViews, GeoViews and DataShader\n",
    "\n",
    "HoloViews, GeoViews and DataShader are all part of the HoloViz suite of tools - https://holoviz.org/\n",
    "\n",
    "<img width=\"600px\" src=\"../resources/holoviz-tools.jpg\">\n",
    "\n",
    "These tools provide a range of visualisation options for working with scientific data and several are particularly useful for working with the datacube.\n",
    "\n",
    "See the notebook [05 - Visualising Data](05%20-%20Visualising%20Data%20-%20DRAFT.ipynb) for examples of working with these libraries."
   ]
  },
  {
   "cell_type": "markdown",
   "metadata": {},
   "source": [
    "#### HoloViews\n",
    "\n",
    "https://holoviews.org/getting_started/Introduction.html\n",
    "- HoloViews supports numpy, xarray, and dask arrays when working with array data\n",
    "\n",
    "HoloViews integrates several common data analysis and visualisation libraries so that it is easier to do both. This means that the data objects contain all of the information required for visualisation rather than having to provide that information separately to a visualisation library. Holoviews integrates directly with plotting libraries such as [Bokeh](https://bokeh.org/), [Plotly](https://plotly.com/python/) and [Matplotlib](https://matplotlib.org/). See https://holoviews.org/getting_started/Introduction.html for an introduction to Holoviews.\n",
    "\n",
    "HoloViews examples (https://holoviews.org/gallery/):\n",
    "\n",
    "<img width=\"400px\" src=\"../resources/holoviews-examples.jpg\">\n",
    "\n",
    "To learn more about using HoloViews to visualise gridded datasets, see: \n",
    "https://holoviews.org/getting_started/Gridded_Datasets.html\n",
    "\n",
    "> **Bokeh** is a powerful data visualisation tool which can be used via HoloViews. It enables the creation of interactive data visualisations. Bokeh contains a wide variety of plot types for both tabular and gridded data as shown below. \n",
    "> \n",
    "> See https://bokeh.org/ and https://docs.bokeh.org/en/latest/docs/gallery.html"
   ]
  },
  {
   "cell_type": "markdown",
   "metadata": {},
   "source": [
    "#### GeoViews\n",
    "GeoViews is a geograhpic visualisation tool. It can plot geospatial, gridded and multidimensional data as geographic plots. As with HoloViews, GeoViews leverages plotting libraries like [Bokeh](https://bokeh.org/) and [Matplotlib](https://matplotlib.org/).\n",
    "\n",
    "<img width=\"600px\" src=\"../resources/geoviews-examples.jpg\">"
   ]
  },
  {
   "cell_type": "markdown",
   "metadata": {},
   "source": [
    "#### DataShader\n",
    "DataShader is designed to handle very large datasets. DataShader is designed to \"rasterize\" or \"aggregate\" datasets into regular grids that can then be analysed or visualised. DataShader can also work in conjunction with [Bokeh](https://bokeh.org/) and [GeoViews](http://geoviews.org/) for interactive plots and maps.\n",
    "\n",
    "See https://datashader.org/ for more information and examples.\n",
    "\n",
    "<img width=\"400px\" src=\"../resources/datashader-examples.jpg\">"
   ]
  },
  {
   "cell_type": "markdown",
   "metadata": {},
   "source": [
    "### Using HoloViews and Bokeh"
   ]
  },
  {
   "cell_type": "code",
   "execution_count": null,
   "metadata": {},
   "outputs": [],
   "source": [
    "# Basic imports for HoloViews\n",
    "\n",
    "import holoviews as hv\n",
    "from holoviews import opts\n",
    "hv.extension('bokeh')"
   ]
  },
  {
   "cell_type": "code",
   "execution_count": null,
   "metadata": {},
   "outputs": [],
   "source": []
  }
 ],
 "metadata": {
  "kernelspec": {
   "display_name": "Python 3 (ipykernel)",
   "language": "python",
   "name": "python3"
  },
  "language_info": {
   "codemirror_mode": {
    "name": "ipython",
    "version": 3
   },
   "file_extension": ".py",
   "mimetype": "text/x-python",
   "name": "python",
   "nbconvert_exporter": "python",
   "pygments_lexer": "ipython3",
   "version": "3.10.6"
  }
 },
 "nbformat": 4,
 "nbformat_minor": 4
}
